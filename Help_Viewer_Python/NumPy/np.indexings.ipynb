{
 "cells": [
  {
   "cell_type": "code",
   "execution_count": 1,
   "id": "324464ab",
   "metadata": {},
   "outputs": [],
   "source": [
    "import numpy as np"
   ]
  },
  {
   "cell_type": "markdown",
   "id": "1b2fb1d3",
   "metadata": {},
   "source": [
    "<div align=center>\n",
    "\n",
    "# 生成索引数组\n",
    "</div>\n",
    "\n",
    "　|　\n",
    ":-|:-\n",
    "c_|Translates slice objects to concatenation along the second axis.\n",
    "r_|Translates slice objects to concatenation along the first axis.\n",
    "s_|A nicer way to build up index tuples for arrays.\n",
    "nonzero(a)|Return the indices of the elements that are non-zero.\n",
    "where(condition, [x, y], /)|Return elements chosen from x or y depending on condition.\n",
    "indices(dimensions[, dtype, sparse])|Return an array representing the indices of a grid.\n",
    "ix_(\\*args)|Construct an open mesh from multiple sequences.\n",
    "ogrid|nd_grid instance which returns an open multi-dimensional \"meshgrid\".\n",
    "ravel_multi_index(multi_index, dims[, mode, ...])|Converts a tuple of index arrays into an array of flat indices, applying boundary modes to the multi-index.\n",
    "unravel_index(indices, shape[, order])|Converts a flat index or array of flat indices into a tuple of coordinate arrays.\n",
    "diag_indices(n[, ndim])|Return the indices to access the main diagonal of an array.\n",
    "diag_indices_from(arr)|Return the indices to access the main diagonal of an n-dimensional array.\n",
    "mask_indices(n, mask_func[, k])|Return the indices to access (n, n) arrays, given a masking function.\n",
    "tril_indices(n[, k, m])|Return the indices for the lower-triangle of an (n, m) array.\n",
    "tril_indices_from(arr[, k])|Return the indices for the lower-triangle of arr.\n",
    "triu_indices(n[, k, m])|Return the indices for the upper-triangle of an (n, m) array.\n",
    "triu_indices_from(arr[, k])|Return the indices for the upper-triangle of arr."
   ]
  },
  {
   "cell_type": "markdown",
   "id": "c42ff05a",
   "metadata": {},
   "source": [
    "# "
   ]
  },
  {
   "cell_type": "markdown",
   "id": "8c1ee800",
   "metadata": {},
   "source": [
    "## np.where()\n",
    "\n",
    "`np.where(condition, [x, y])`\n",
    "\n",
    "根据所提供的`condition`，满足时返回`x`，不满足时返回`y`\n",
    "\n",
    "**Args**\n",
    "- condition: 布尔型数组，当`condition=True`时返回`x`，否则返回`y`\n",
    "- x, y: 任意类型数组，`x`, `y`和`condition`在形状上应符合广播机制。如果所有数组都是一维的，则`where`函数等价于`[xv if c else yv for c, xv, yv in zip(condition, x, y)]`\n",
    "\n",
    "**Examples**\n",
    "\n",
    "最简单的情况，根据所提供的`condition`，满足时返回`x`，不满足时返回`y`："
   ]
  },
  {
   "cell_type": "code",
   "execution_count": 7,
   "id": "fc29a9e6",
   "metadata": {
    "collapsed": true,
    "jupyter": {
     "outputs_hidden": true
    }
   },
   "outputs": [
    {
     "name": "stdout",
     "output_type": "stream",
     "text": [
      "[  1   2   3   4   5  60  70  80  90 100]\n"
     ]
    }
   ],
   "source": [
    "a = np.arange(1, 11)\n",
    "idx = np.where(a <= 5, a, 10*a)\n",
    "print(idx)"
   ]
  },
  {
   "cell_type": "markdown",
   "id": "a51f20c9",
   "metadata": {},
   "source": [
    "如果只提供`condition`参数，但没提供`x`、`y`，该函数等价于`np.asarray(condition).nonzero()`，如下面的例子，这里输出元祖的第一个数组表示`a`中符合条件的元素所在的行号，第二个数组表示`a`中符合条件的元素所在的列号。"
   ]
  },
  {
   "cell_type": "code",
   "execution_count": 11,
   "id": "533e5683",
   "metadata": {
    "collapsed": true,
    "jupyter": {
     "outputs_hidden": true
    }
   },
   "outputs": [
    {
     "name": "stdout",
     "output_type": "stream",
     "text": [
      "(array([0, 1, 2, 2], dtype=int64), array([2, 0, 0, 2], dtype=int64))\n",
      "(array([0, 1, 2, 2], dtype=int64), array([2, 0, 0, 2], dtype=int64))\n"
     ]
    }
   ],
   "source": [
    "a = np.array([[1, 2, 3, 4], [3, 2, 1, 2], [3, 4, 3, 2]])\n",
    "idx = np.where(a == 3)\n",
    "print(idx)\n",
    "print(np.asarray(a == 3).nonzero())"
   ]
  },
  {
   "cell_type": "markdown",
   "id": "a04e8a2b",
   "metadata": {},
   "source": [
    "对于多维数组，`x`, `y`和`condition`在形状上或者相同："
   ]
  },
  {
   "cell_type": "code",
   "execution_count": 23,
   "id": "8dc8b104",
   "metadata": {
    "collapsed": true,
    "jupyter": {
     "outputs_hidden": true
    }
   },
   "outputs": [
    {
     "data": {
      "text/plain": [
       "array([[ 1, -2,  3, -4],\n",
       "       [ 5,  6, -7, -8]])"
      ]
     },
     "execution_count": 23,
     "metadata": {},
     "output_type": "execute_result"
    }
   ],
   "source": [
    "np.where([[True, False, True, False], [True, True, False, False]],\n",
    "         [[1, 2, 3, 4], [5, 6, 7, 8]],\n",
    "         [[-1, -2, -3, -4], [-5, -6, -7, -8]])"
   ]
  },
  {
   "cell_type": "markdown",
   "id": "bd5f0146",
   "metadata": {},
   "source": [
    "或者三者的形状应符合广播机制，例如下面的例子中，自动将`x`、`y`拓展成 $3\\times4$ 的数组，再进行比较"
   ]
  },
  {
   "cell_type": "code",
   "execution_count": 2,
   "id": "56a5fcb6",
   "metadata": {
    "collapsed": true,
    "jupyter": {
     "outputs_hidden": true
    }
   },
   "outputs": [
    {
     "name": "stdout",
     "output_type": "stream",
     "text": [
      "[[0]\n",
      " [1]\n",
      " [2]]\n",
      "[[0 1 2 3]]\n",
      "[[False  True  True  True]\n",
      " [False False  True  True]\n",
      " [False False False  True]]\n",
      "[['x>=y' 'x<y' 'x<y' 'x<y']\n",
      " ['x>=y' 'x>=y' 'x<y' 'x<y']\n",
      " ['x>=y' 'x>=y' 'x>=y' 'x<y']]\n"
     ]
    }
   ],
   "source": [
    "x, y = np.ogrid[:3, :4]\n",
    "print(x)\n",
    "print(y)\n",
    "print(x < y)\n",
    "idx = np.where(x < y, \"x<y\", \"x>=y\")  # both x and 10+y are broadcast\n",
    "print(idx)"
   ]
  },
  {
   "cell_type": "code",
   "execution_count": 7,
   "id": "446c90c3",
   "metadata": {},
   "outputs": [
    {
     "data": {
      "text/plain": [
       "[array([[0, 1, 2],\n",
       "        [0, 1, 2],\n",
       "        [0, 1, 2]]),\n",
       " array([[0, 0, 0],\n",
       "        [1, 1, 1],\n",
       "        [2, 2, 2]])]"
      ]
     },
     "execution_count": 7,
     "metadata": {},
     "output_type": "execute_result"
    }
   ],
   "source": [
    "np.meshgrid(range(3), range(3))"
   ]
  },
  {
   "cell_type": "markdown",
   "id": "f7d06eec",
   "metadata": {},
   "source": [
    "# "
   ]
  },
  {
   "cell_type": "markdown",
   "id": "6076b48b",
   "metadata": {},
   "source": [
    "## np.indices()\n",
    "`np.indices(dimensions, dtype=<class 'int'>, sparse=False)`\n",
    "\n",
    "返回一个表示网格索引的数组、或数组所组成的元祖。\n",
    "\n",
    "Compute an array where the subarrays contain index values 0, 1, ... varying only along the corresponding axis.\n",
    "\n",
    "**Args**\n",
    "- dimensions: 整型数组成的数组，代表网格的形状\n",
    "- dtype : 指返回结果的数据类型\n",
    "- sparse : 布尔值，是否返回网格的稀疏表示；默认假，即返回是稠密表示，此时返回一个网格索引所组成的数组，形状为`(len(dimensions),) + tuple(dimensions)`；当 `sparse` 被设为真时，返回一个数组组成的元祖，其第 i 个元素的形状为`(1, ..., dimensions[i], ..., 1)`，这里`dimensions[i]`在第 i 个位置\n",
    "\n",
    "**See Also**：mgrid, ogrid, meshgrid\n",
    "\n",
    "Notes\n",
    "\n",
    "The output shape in the dense case is obtained by prepending the number\n",
    "of dimensions in front of the tuple of dimensions, i.e. if `dimensions`\n",
    "is a tuple `(r0, ..., rN-1)` of length `N`, the output shape is\n",
    "`(N, r0, ..., rN-1)`.\n",
    "\n",
    "The subarrays `grid[k]` contains the N-D array of indices along the\n",
    "`k-th` axis. Explicitly::\n",
    "\n",
    "    grid[k, i0, i1, ..., iN-1] = ik\n",
    "\n",
    "**Examples**"
   ]
  },
  {
   "cell_type": "code",
   "execution_count": 8,
   "id": "163f4d8e",
   "metadata": {},
   "outputs": [
    {
     "name": "stdout",
     "output_type": "stream",
     "text": [
      "[[0 0 0 0 0]\n",
      " [1 1 1 1 1]\n",
      " [2 2 2 2 2]] \n",
      "\n",
      " [[0 1 2 3 4]\n",
      " [0 1 2 3 4]\n",
      " [0 1 2 3 4]]\n"
     ]
    }
   ],
   "source": [
    "grid = np.indices([3, 5])\n",
    "print(grid[0],\"\\n\\n\", grid[1])"
   ]
  },
  {
   "cell_type": "markdown",
   "id": "3d07baf8",
   "metadata": {},
   "source": [
    "返回的网格索引也可以用作数组的索引："
   ]
  },
  {
   "cell_type": "code",
   "execution_count": 9,
   "id": "20693dd6",
   "metadata": {},
   "outputs": [
    {
     "name": "stdout",
     "output_type": "stream",
     "text": [
      "[[0 0 0 0 0]\n",
      " [1 1 1 1 1]\n",
      " [2 2 2 2 2]]\n",
      "[[0 1 2 3 4]\n",
      " [0 1 2 3 4]\n",
      " [0 1 2 3 4]]\n",
      "[[ 0  1  2  3  4]\n",
      " [ 6  7  8  9 10]\n",
      " [12 13 14 15 16]]\n"
     ]
    }
   ],
   "source": [
    "row, col = np.indices((3, 5))\n",
    "print(row)\n",
    "print(col)\n",
    "x = np.arange(30).reshape(5, 6)\n",
    "print(x[row, col])"
   ]
  },
  {
   "cell_type": "markdown",
   "id": "0d6082d6",
   "metadata": {},
   "source": [
    "当 `sparse` 为真的情况 is set to true, the grid will be returned in a sparse\n",
    "representation."
   ]
  },
  {
   "cell_type": "code",
   "execution_count": 58,
   "id": "1d30ea47",
   "metadata": {},
   "outputs": [
    {
     "name": "stdout",
     "output_type": "stream",
     "text": [
      "[[0]\n",
      " [1]]\n",
      "[[0 1 2]]\n"
     ]
    }
   ],
   "source": [
    "i, j = np.indices((2, 3), sparse=True)\n",
    "print(i)\n",
    "print(j)"
   ]
  },
  {
   "cell_type": "markdown",
   "id": "34e7282e",
   "metadata": {},
   "source": [
    "# "
   ]
  },
  {
   "cell_type": "markdown",
   "id": "8319ab52",
   "metadata": {},
   "source": [
    "<div align=center>\n",
    "\n",
    "# 类索引操作\n",
    "</div>"
   ]
  },
  {
   "cell_type": "markdown",
   "id": "c017a2c6",
   "metadata": {},
   "source": [
    "## np.take()\n",
    "`np.take(a, indices, axis=None, out=None, mode='raise')`\n",
    "\n",
    "Take elements from an array along an axis.\n",
    "\n",
    "`axis`不为`None`时，这个函数和用列表对对数组进行切片、索引一样；但在沿给定`axis`获取元素时，用这个函数会更加地方便。形如`np.take(arr, indices, axis=3)`的调用等价于`arr[:,:,:,indices,...]`。\n",
    "\n",
    "Explained without fancy indexing, this is equivalent to the following use\n",
    "of `ndindex`, which sets each of `ii`, `jj`, and `kk` to a tuple of\n",
    "indices::\n",
    "\n",
    "    Ni, Nk = a.shape[:axis], a.shape[axis+1:]\n",
    "    Nj = indices.shape\n",
    "    for ii in ndindex(Ni):\n",
    "        for jj in ndindex(Nj):\n",
    "            for kk in ndindex(Nk):\n",
    "                out[ii + jj + kk] = a[ii + (indices[jj],) + kk]\n",
    "\n",
    "**Args**\n",
    "\n",
    "a : array_like (Ni..., M, Nk...)\n",
    "    The source array.\n",
    "indices : array_like (Nj...)\n",
    "    The indices of the values to extract.\n",
    "    Also allow scalars for indices.\n",
    "axis : int, optional\n",
    "    The axis over which to select values. By default, the flattened\n",
    "    input array is used.\n",
    "out : ndarray, optional (Ni..., Nj..., Nk...)\n",
    "    If provided, the result will be placed in this array. It should\n",
    "    be of the appropriate shape and dtype. Note that `out` is always\n",
    "    buffered if `mode='raise'`; use other modes for better performance.\n",
    "mode : {'raise', 'wrap', 'clip'}, optional\n",
    "    Specifies how out-of-bounds indices will behave.\n",
    "\n",
    "    * 'raise' -- raise an error (default)\n",
    "    * 'wrap' -- wrap around\n",
    "    * 'clip' -- clip to the range\n",
    "\n",
    "    'clip' mode means that all indices that are too large are replaced\n",
    "    by the index that addresses the last element along that axis. Note\n",
    "    that this disables indexing with negative numbers.\n",
    "\n",
    "Returns\n",
    "\n",
    "out : ndarray (Ni..., Nj..., Nk...)\n",
    "    The returned array has the same type as `a`.\n",
    "\n",
    "**See Also**\n",
    "- compress : Take elements using a boolean mask\n",
    "- ndarray.take : equivalent method\n",
    "- take_along_axis : Take elements by matching the array and the index arrays\n",
    "\n",
    "Notes\n",
    "\n",
    "By eliminating the inner loop in the description above, and using `s_` to\n",
    "build simple slice objects, `take` can be expressed  in terms of applying\n",
    "fancy indexing to each 1-d slice::\n",
    "\n",
    "    Ni, Nk = a.shape[:axis], a.shape[axis+1:]\n",
    "    for ii in ndindex(Ni):\n",
    "        for kk in ndindex(Nj):\n",
    "            out[ii + s_[...,] + kk] = a[ii + s_[:,] + kk][indices]\n",
    "\n",
    "For this reason, it is equivalent to (but faster than) the following use\n",
    "of `apply_along_axis`::\n",
    "\n",
    "    out = np.apply_along_axis(lambda a_1d: a_1d[indices], axis, a)\n",
    "\n",
    "**Examples**"
   ]
  },
  {
   "cell_type": "code",
   "execution_count": null,
   "id": "23f8b198",
   "metadata": {},
   "outputs": [],
   "source": [
    "a = [4, 3, 5, 7, 6, 8]\n",
    "indices = [0, 1, 4]\n",
    "print(np.take(a, indices))"
   ]
  },
  {
   "cell_type": "markdown",
   "id": "2f467676",
   "metadata": {},
   "source": [
    "\n",
    "\n",
    "If `indices` is not one dimensional, the output also has these dimensions.\n",
    "np.take(a, [[0, 1], [2, 3]])\n",
    "array([[4, 3],\n",
    "       [5, 7]])"
   ]
  },
  {
   "cell_type": "code",
   "execution_count": null,
   "id": "7c4bdb72",
   "metadata": {},
   "outputs": [],
   "source": [
    "np.mgrid()"
   ]
  },
  {
   "cell_type": "markdown",
   "id": "a61d7169-f421-4e8f-9227-eae7260d251d",
   "metadata": {},
   "source": [
    "# "
   ]
  },
  {
   "cell_type": "markdown",
   "id": "561d4145-154b-4a2b-b70c-01ede1669191",
   "metadata": {},
   "source": [
    "# "
   ]
  },
  {
   "cell_type": "markdown",
   "id": "218eda16-046c-472a-aac8-cef6a250a239",
   "metadata": {},
   "source": [
    "<center>\n",
    "\n",
    "# 在数组中插入数据"
   ]
  },
  {
   "cell_type": "markdown",
   "id": "bb638a4b-6002-411d-bf1f-3dbc091e14a8",
   "metadata": {},
   "source": [
    "## `np.fill_diagonal(a, val, wrap=False)`\n",
    "\n",
    "对维度不小于 2 维的数组`a`的主对角线用`val`进行赋值，这里对于大于 2 维的数组，主对角元为`a[i, ..., i]`。该函数是 in-place 进行的，无返回值。\n",
    "\n",
    "##### Args\n",
    "- a : 维数不小于 2 维的数组\n",
    "- val : 标量或类数组类型；若为标量，则对`a`整个对角线填充相同的元素；若为类数组类型，则`a`会先被拉直，再填充在对角线上，并在必要时对元素进行重复\n",
    "- wrap : 布尔型，\n",
    "  For tall matrices in NumPy version up to 1.6.2, the diagonal \"wrapped\" after N columns. You can have this behavior with this option. This affects only tall matrices.\n",
    "\n",
    "##### See also\n",
    "diag_indices, diag_indices_from\n",
    "\n",
    "This functionality can be obtained via `diag_indices`, but internally this version uses a much faster implementation that never constructs the indices and uses simple slicing.\n",
    "\n",
    "##### Examples"
   ]
  },
  {
   "cell_type": "markdown",
   "id": "d822c6fa-e131-4376-be74-65c757687e44",
   "metadata": {},
   "source": [
    ">>> a = np.zeros((3, 3), int)\n",
    ">>> np.fill_diagonal(a, 5)\n",
    ">>> a\n",
    "\n",
    "\n",
    "The same function can operate on a 4-D array:\n",
    "\n",
    ">>> a = np.zeros((3, 3, 3), int)\n",
    ">>> np.fill_diagonal(a, 4)\n",
    ">>> a[0, 0]\n",
    ">>> a[1, 1]\n",
    ">>> a[2, 2]\n",
    "\n",
    "\n",
    "The wrap option affects only tall matrices:\n",
    "\n",
    ">>> # tall matrices no wrap\n",
    ">>> a = np.zeros((5, 3), int)\n",
    ">>> np.fill_diagonal(a, 4)\n",
    ">>> a\n",
    "array([[4, 0, 0],\n",
    "       [0, 4, 0],\n",
    "       [0, 0, 4],\n",
    "       [0, 0, 0],\n",
    "       [0, 0, 0]])\n",
    "\n",
    ">>> # tall matrices wrap\n",
    ">>> a = np.zeros((5, 3), int)\n",
    ">>> np.fill_diagonal(a, 4, wrap=True)\n",
    ">>> a\n",
    "array([[4, 0, 0],\n",
    "       [0, 4, 0],\n",
    "       [0, 0, 4],\n",
    "       [0, 0, 0],\n",
    "       [4, 0, 0]])\n",
    "\n",
    ">>> # wide matrices\n",
    ">>> a = np.zeros((3, 5), int)\n",
    ">>> np.fill_diagonal(a, 4, wrap=True)\n",
    ">>> a\n",
    "array([[4, 0, 0, 0, 0],\n",
    "       [0, 4, 0, 0, 0],\n",
    "       [0, 0, 4, 0, 0]])\n",
    "\n",
    "The anti-diagonal can be filled by reversing the order of elements\n",
    "using either `numpy.flipud` or `numpy.fliplr`.\n",
    "\n",
    ">>> a = np.zeros((3, 3), int);\n",
    ">>> np.fill_diagonal(np.fliplr(a), [1,2,3])  # Horizontal flip\n",
    ">>> a\n",
    "array([[0, 0, 1],\n",
    "       [0, 2, 0],\n",
    "       [3, 0, 0]])\n",
    ">>> np.fill_diagonal(np.flipud(a), [1,2,3])  # Vertical flip\n",
    ">>> a\n",
    "array([[0, 0, 3],\n",
    "       [0, 2, 0],\n",
    "       [1, 0, 0]])\n",
    "\n",
    "Note that the order in which the diagonal is filled varies depending\n",
    "on the flip function.\n",
    "File:      d:\\programfiles\\miniconda3\\lib\\site-packages\\numpy\\lib\\index_tricks.py\n",
    "Type:      function"
   ]
  }
 ],
 "metadata": {
  "kernelspec": {
   "display_name": "Python 3",
   "language": "python",
   "name": "python3"
  },
  "language_info": {
   "codemirror_mode": {
    "name": "ipython",
    "version": 3
   },
   "file_extension": ".py",
   "mimetype": "text/x-python",
   "name": "python",
   "nbconvert_exporter": "python",
   "pygments_lexer": "ipython3",
   "version": "3.8.5"
  }
 },
 "nbformat": 4,
 "nbformat_minor": 5
}
