{
 "cells": [
  {
   "cell_type": "code",
   "execution_count": 1,
   "id": "b2212e5f-df55-4a58-993e-ae651476a299",
   "metadata": {},
   "outputs": [],
   "source": [
    "import numpy as np"
   ]
  },
  {
   "cell_type": "markdown",
   "id": "cbe44282-449e-41be-b8b4-63f1ca26b305",
   "metadata": {},
   "source": [
    "<center>\n",
    "    <font size=9>\n",
    "        数据类型"
   ]
  },
  {
   "cell_type": "markdown",
   "id": "9b8dfabb-eb1e-4fdd-bb84-4485fb14a25d",
   "metadata": {
    "jp-MarkdownHeadingCollapsed": true,
    "tags": []
   },
   "source": [
    "## np.int_()\n",
    "\n",
    "\n",
    "`np.int_(self, /, *args, **kwargs)`\n",
    "\n",
    "带符号的整型，与 Python 的`int`、C 的`long`、`np.int32`兼容；其字符代码 (Character code) 为`'l'`，规范名称 (Canonical name) 为`np.int_`"
   ]
  },
  {
   "cell_type": "code",
   "execution_count": 21,
   "id": "c5c8b191-e771-4eb1-a5c2-1172be8deb9f",
   "metadata": {},
   "outputs": [
    {
     "data": {
      "text/plain": [
       "(numpy.int32, 3)"
      ]
     },
     "execution_count": 21,
     "metadata": {},
     "output_type": "execute_result"
    }
   ],
   "source": [
    "type(np.int_()), np.int_(3)"
   ]
  },
  {
   "cell_type": "markdown",
   "id": "61ef0eff-d1ed-4333-8e80-906647bbaf2d",
   "metadata": {
    "jp-MarkdownHeadingCollapsed": true,
    "tags": []
   },
   "source": [
    "## np.int16()\n",
    "\n",
    "\n",
    "`np.int16(self, /, *args, **kwargs)`\n",
    "\n",
    "带符号的整型，范围为 -32768 到 32767；与 C 语言的`short`兼容；其字符代码为`'h'`，规范名称为`numpy.short`；"
   ]
  },
  {
   "cell_type": "code",
   "execution_count": 20,
   "id": "0141de74-9f9f-4ebf-adee-9515dfad22fc",
   "metadata": {},
   "outputs": [
    {
     "data": {
      "text/plain": [
       "(numpy.int16, 3)"
      ]
     },
     "execution_count": 20,
     "metadata": {},
     "output_type": "execute_result"
    }
   ],
   "source": [
    "type(np.int16()), np.int16(3)"
   ]
  },
  {
   "cell_type": "markdown",
   "id": "3ad539ea-d3e5-4719-a4d0-920081f56f0a",
   "metadata": {
    "jp-MarkdownHeadingCollapsed": true,
    "tags": []
   },
   "source": [
    "## np.int0()\n",
    "\n",
    "\n",
    "`np.int0(self, /, *args, **kwargs)`\n",
    "\n",
    "带符号的整型，与 C 语言的`long long`、`intptr_t`，以及`numpy.intp`兼容；其字符代码为`'q'`，规范名称为`numpy.longlong`；"
   ]
  },
  {
   "cell_type": "code",
   "execution_count": 19,
   "id": "879e7022-8274-453e-b9a1-af54d66830cd",
   "metadata": {},
   "outputs": [
    {
     "data": {
      "text/plain": [
       "(numpy.int64, 3)"
      ]
     },
     "execution_count": 19,
     "metadata": {},
     "output_type": "execute_result"
    }
   ],
   "source": [
    "type(np.int0(3)), np.int0(3)"
   ]
  },
  {
   "cell_type": "markdown",
   "id": "1580738a-575c-46a2-a482-771033c49492",
   "metadata": {},
   "source": [
    "## np.intc()\n",
    "\n",
    "\n",
    "`np.intc(self, /, *args, **kwargs)`\n",
    "\n",
    "带符号的整型，与 C 语言的`int`兼容；其字符代码为`'i'`"
   ]
  },
  {
   "cell_type": "markdown",
   "id": "fd56f171-9b67-4d18-bace-68caa1dc6f30",
   "metadata": {},
   "source": [
    "## np.uint()\n",
    "\n",
    "\n",
    "`np.uint(self, /, *args, **kwargs)`\n",
    "\n",
    "不带符号整型，范围为 0 到 4,294,967,295，与 C 语言的`unsigned long`、`np.uint32`兼容；其字符代码为`'L'`，规范名称`numpy.uint`"
   ]
  },
  {
   "cell_type": "markdown",
   "id": "841dcaec-06d3-42e8-a605-a59c1823e182",
   "metadata": {},
   "source": [
    "## np.uint16()\n",
    "\n",
    "\n",
    "`np.uint16(self, /, *args, **kwargs)`\n",
    "\n",
    "不带符号整型，范围为 0 到 65,535；与 C 语言的`unsigned short`；其字符代码为`'H'`，规范名称`np.ushort`；"
   ]
  },
  {
   "cell_type": "markdown",
   "id": "3b7e34a7-2bbf-4890-82cb-58837e63f314",
   "metadata": {},
   "source": [
    "# 数据类型转换"
   ]
  },
  {
   "cell_type": "code",
   "execution_count": 13,
   "id": "b77aae9a-a8e7-4ab4-85f8-4a17c85f08b4",
   "metadata": {},
   "outputs": [
    {
     "name": "stdout",
     "output_type": "stream",
     "text": [
      "[10  1  2  3  4  5  6  7  8  9 10 11]\n",
      "[[-3  1  2  3  4  5  6  7  8  9 10 11]\n",
      " [ 0  1  2  3  4  5  6  7  8  9 10 11]\n",
      " [ 0  1  2  3  4  5  6  7  8  9 10 11]\n",
      " [ 0  1  2  3  4  5  6  7  8  9 10 11]]\n"
     ]
    }
   ],
   "source": [
    "x = np.arange(12)\n",
    "y = np.tile(x, (4, 1))\n",
    "x[0] = 10\n",
    "y[0, 0] = -3\n",
    "print(x)\n",
    "print(y)"
   ]
  },
  {
   "cell_type": "code",
   "execution_count": null,
   "id": "8f105b5e-f774-4978-994f-b5460e562176",
   "metadata": {},
   "outputs": [],
   "source": []
  }
 ],
 "metadata": {
  "kernelspec": {
   "display_name": "Python 3 (ipykernel)",
   "language": "python",
   "name": "python3"
  },
  "language_info": {
   "codemirror_mode": {
    "name": "ipython",
    "version": 3
   },
   "file_extension": ".py",
   "mimetype": "text/x-python",
   "name": "python",
   "nbconvert_exporter": "python",
   "pygments_lexer": "ipython3",
   "version": "3.9.7"
  }
 },
 "nbformat": 4,
 "nbformat_minor": 5
}
