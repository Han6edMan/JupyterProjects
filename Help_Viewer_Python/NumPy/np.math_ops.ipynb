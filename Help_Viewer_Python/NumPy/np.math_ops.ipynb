{
 "cells": [
  {
   "cell_type": "code",
   "execution_count": 1,
   "id": "8c71a450",
   "metadata": {},
   "outputs": [],
   "source": [
    "import numpy as np"
   ]
  },
  {
   "cell_type": "markdown",
   "id": "ae034903",
   "metadata": {},
   "source": [
    "<h2>\n",
    "    <pre>\n",
    "np.mean(\n",
    "    a,\n",
    "    axis=None,\n",
    "    dtype=None,\n",
    "    out=None,\n",
    "    keepdims=np._NoValue,\n",
    "    *,\n",
    "    where=np._NoValue,\n",
    ")\n",
    "    </pre>\n",
    "</h2>\n",
    "\n",
    "\n",
    "\n",
    "对整个数组`a`或沿指定`axis`计算数组切片的算术平均值，其中\n",
    "\n",
    "- a : 应是类数组类型；\n",
    "- axis : 应是`None`、整型、或整型组成的元祖：\n",
    "    - 默认`None`时对整个数组计算\n",
    "    - 当`axis`为整型数时，操作会**在指定的坐标轴上**进行；例如对于一个 3 维数组，`axis=1`的数学表达式如下，示例参见例 1：\n",
    "        $$out[x_0, z_0] = N_y^{-1} \\sum_{y} a[x_0, y, z_0]$$\n",
    "    - 当`axis`为整型元祖时，操作会**在所有指定的坐标轴上**进行；例如对于一个 3 维数组，`axis=(1, 2)`，的数学表达式如下，示例参见例 2：\n",
    "        $$out[x_0] = N_y^{-1}N_z^{-1} \\sum_{y, z} a[x_0, y, z]$$\n",
    "- dtype : 输出数组的数据类型，若输入数组为整型，则输出为 float64；对于浮点型数组，输出数组的数据类型与输入相同；但需要说明的是，精度低的输入类型可能会导致结果不准确，特别是`float32`（例3）；默认情况下，指定`float16`输出结果时会使用`float32`作为中间值来提高精度；\n",
    "- out : 若为`None`，则返回一个新的数组；否则返回指向输出数组的一个引用，此时该数组的形状必须与预期计算结果相同，数据类型可以不同\n",
    "- keepdims : 布尔型，如果设为 True，则输出数组的`axis`轴仍会保留为长度 1；如果传递的默认值`np._NoValue`，则`keepdims`不会传递给`ndarray`子类的`mean`方法，如果该子类方法没有实现`keepdims`，这将有可能会引发异常；\n",
    "- where : 布尔型组成的类数组，指定哪些元素在计算均值时会被包括在内，详情参见`numpy.ufunc.reduce`\n",
    "\n",
    "\n",
    "\n",
    "#### See Also\n",
    "\n",
    "- average : Weighted average\n",
    "- std, var, nanmean, nanstd, nanvar\n",
    "\n",
    "\n",
    "#### Examples\n",
    "1. `axis`取整型数时，在相应的轴上计算结果，公式见上"
   ]
  },
  {
   "cell_type": "code",
   "execution_count": 2,
   "id": "b538ef2c",
   "metadata": {
    "collapsed": true,
    "jupyter": {
     "outputs_hidden": true,
     "source_hidden": true
    },
    "tags": []
   },
   "outputs": [
    {
     "name": "stdout",
     "output_type": "stream",
     "text": [
      "[[0. 0. 0.]\n",
      " [0. 0. 0.]]\n",
      "[[ 2.5  3.5  4.5]\n",
      " [-2.5 -3.5 -4.5]]\n",
      "[[ 2.  5.]\n",
      " [-2. -5.]]\n"
     ]
    }
   ],
   "source": [
    "a = np.array(\n",
    "    [[[1, 2, 3], [4, 5, 6]],\n",
    "    \n",
    "    [[-1, -2, -3], [-4, -5, -6]]]\n",
    ")\n",
    "assert np.mean(a, axis=0)[1, 2] == np.mean(a[:, 1, 2])\n",
    "print(np.mean(a, axis=0))\n",
    "\n",
    "assert np.mean(a, axis=1)[1, 2] == np.mean(a[1, :, 2])\n",
    "print(np.mean(a, axis=1))\n",
    "\n",
    "assert np.mean(a, axis=2)[1, 0] == np.mean(a[1, 0, :])\n",
    "print(np.mean(a, axis=2))"
   ]
  },
  {
   "cell_type": "markdown",
   "id": "2b02fbe8",
   "metadata": {},
   "source": [
    "2. 当`axis`为整型元祖时，计算均值时会在元祖指定的轴上都计算均值："
   ]
  },
  {
   "cell_type": "code",
   "execution_count": 3,
   "id": "b56056a4",
   "metadata": {
    "collapsed": true,
    "jupyter": {
     "outputs_hidden": true,
     "source_hidden": true
    },
    "scrolled": true,
    "tags": []
   },
   "outputs": [
    {
     "name": "stdout",
     "output_type": "stream",
     "text": [
      "[ 3.5 -3.5]\n"
     ]
    }
   ],
   "source": [
    "assert np.mean(a, axis=(2, 1))[1] == np.mean(a[1, :, :])\n",
    "print(np.mean(a, axis=(2, 1)))"
   ]
  },
  {
   "cell_type": "markdown",
   "id": "61a94df6",
   "metadata": {},
   "source": [
    "3. 对于在单精度浮点数，`mean`函数计算结果可能会不准确"
   ]
  },
  {
   "cell_type": "code",
   "execution_count": null,
   "id": "2d43d828",
   "metadata": {
    "jupyter": {
     "source_hidden": true
    },
    "tags": []
   },
   "outputs": [],
   "source": [
    "a = np.ones((2, 512*512), dtype=np.float32)\n",
    "a[1, :] = 0.1\n",
    "print(np.mean(a))\n",
    "print(np.mean(a, dtype=np.float64))"
   ]
  },
  {
   "cell_type": "markdown",
   "id": "162da94b",
   "metadata": {},
   "source": [
    "4. 利用`where`参数来指定计算均值时所包括的元素，例如将第 0、2 行考虑在内，以及将第 0、3 列考虑在内："
   ]
  },
  {
   "cell_type": "code",
   "execution_count": null,
   "id": "94bc3971",
   "metadata": {
    "jupyter": {
     "source_hidden": true
    },
    "tags": []
   },
   "outputs": [],
   "source": [
    "a = np.array([[5, 1, 3, 5],\n",
    "              [4, 2, 8, 2],\n",
    "              [1, 3, 9, 6]])\n",
    "print(np.mean(a, where=[[True], [False], [True]]))\n",
    "assert np.mean(a, where=[[True], [False], [True]]) == np.mean(a[[0, 2], :])\n",
    "\n",
    "print(np.mean(a, where=[True, False, False, True]))\n",
    "assert np.mean(a, where=[True, False, False, True]) == np.mean(a[:, [0, 3]])"
   ]
  },
  {
   "cell_type": "markdown",
   "id": "1a572f8d",
   "metadata": {
    "tags": []
   },
   "source": [
    "# "
   ]
  },
  {
   "cell_type": "markdown",
   "id": "3b95f924-9b45-487c-911c-d60d19d05238",
   "metadata": {},
   "source": [
    "## `np.dot(a, b, out=None)`\n",
    "\n",
    "\n",
    "\n",
    "对`a`和`b`执行两个数组的点积，这里`a`和`b`应是类数组类型；具体来说：\n",
    "\n",
    "- 若`a`和`b`都是 1D 数组，则执行向量内积，但这里对于复向量**不**取共轭\n",
    "- 若`a`和`b`都是 2D 数组，则通过函数`matmul`或`a @ b`执行矩阵乘法\n",
    "- 若`a`或`b`其中一个是标量，则执行标量积\n",
    "- 若`a`都是 k-D 数组，`b`是 1D 数组，则对`a`和`b`的最后一个维度进行诸元素的相乘核求和，即\n",
    "\n",
    "\n",
    "\n",
    "\n",
    "\n",
    "$${dot(a, b)}[n_1, \\cdots, n_{k-1}] = \\sum_{i} a[n_1, \\cdots, n_{k-1}, i] \\cdot b[i]$$\n",
    "- 若`a`都是 k-D 数组，`b`是 m-D 数组，其中 M≥2，则对`a`的最后一个维度和`b`的倒数第二个维度进行诸元素的相乘核求和，即\n",
    "\n",
    "$$dot(a, b)[n_1, \\cdots, n_{k-1}, n_1', \\cdots, n_{l-2}', n_l'] = \\sum_i (a[n_1, \\cdots, n_{k-1}, i] \\cdot b[n_1', \\cdots, n_{l-2}', i, n_l'])$$\n",
    "\n",
    "\n",
    "这里`out`指输出数组，若默认为`None`，则返回一个新的数组；否则返回指向输出数组的一个引用，此时该数组的形状、数据类型必须与预期计算结果相同，而且应当是 C-连续的\n",
    "\n",
    "##### See Also\n",
    "\n",
    "- vdot : Complex-conjugating dot product.\n",
    "- tensordot : Sum products over arbitrary axes.\n",
    "- einsum : Einstein summation convention.\n",
    "- matmul : '@' operator as method with out parameter.\n",
    "- linalg.multi_dot : Chained dot product.\n",
    "\n",
    "##### Examples"
   ]
  },
  {
   "cell_type": "code",
   "execution_count": 5,
   "id": "76431c96-8aff-4ba6-b222-a35342107175",
   "metadata": {},
   "outputs": [
    {
     "data": {
      "text/plain": [
       "array([[ 2, -1],\n",
       "       [14,  5]])"
      ]
     },
     "execution_count": 5,
     "metadata": {},
     "output_type": "execute_result"
    }
   ],
   "source": [
    "a = [[1, -1], [3, 1]]\n",
    "b = [[4, 1], [2, 2]]\n",
    "np.dot(a, b)"
   ]
  },
  {
   "cell_type": "code",
   "execution_count": 7,
   "id": "db914292-b8fc-47dc-93d4-9367052419d4",
   "metadata": {},
   "outputs": [
    {
     "name": "stdout",
     "output_type": "stream",
     "text": [
      "499128\n",
      "499128\n"
     ]
    }
   ],
   "source": [
    "a = np.arange(3*4*5*6).reshape((3,4,5,6))\n",
    "b = np.arange(3*4*5*6)[::-1].reshape((5,4,6,3))\n",
    "print(np.dot(a, b)[2,3,2,1,2,2])\n",
    "print(sum(a[2,3,2,:] * b[1,2,:,2]))"
   ]
  },
  {
   "cell_type": "markdown",
   "id": "8e162a3c",
   "metadata": {},
   "source": [
    "# "
   ]
  },
  {
   "cell_type": "code",
   "execution_count": null,
   "id": "92b9b3da-2f30-4104-9e76-0a97f2ff04a2",
   "metadata": {},
   "outputs": [],
   "source": []
  }
 ],
 "metadata": {
  "kernelspec": {
   "display_name": "Python 3 (ipykernel)",
   "language": "python",
   "name": "python3"
  },
  "language_info": {
   "codemirror_mode": {
    "name": "ipython",
    "version": 3
   },
   "file_extension": ".py",
   "mimetype": "text/x-python",
   "name": "python",
   "nbconvert_exporter": "python",
   "pygments_lexer": "ipython3",
   "version": "3.9.7"
  }
 },
 "nbformat": 4,
 "nbformat_minor": 5
}
