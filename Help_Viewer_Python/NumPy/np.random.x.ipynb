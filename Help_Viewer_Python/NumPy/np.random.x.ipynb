{
 "cells": [
  {
   "cell_type": "code",
   "execution_count": 1,
   "metadata": {},
   "outputs": [],
   "source": [
    "import time\n",
    "import random\n",
    "import numpy as np\n",
    "import matplotlib.pyplot as plt"
   ]
  },
  {
   "cell_type": "markdown",
   "metadata": {},
   "source": [
    "**说明**：由于官方 Numpy 代码调整，大部分`np.ramdom.x`函数建议通过`np.random.default_rng()`、`np.random.Generator`的实例化对象调用，但目前直接仍可调用`np.ramdom.x`"
   ]
  },
  {
   "cell_type": "markdown",
   "metadata": {},
   "source": [
    "<center>\n",
    "\n",
    "# Numpy v.s. random\n"
   ]
  },
  {
   "cell_type": "markdown",
   "metadata": {},
   "source": [
    "### 单个随机数的生成\n",
    "\n",
    "##### 1. U(0, 1) 浮点数："
   ]
  },
  {
   "cell_type": "code",
   "execution_count": 38,
   "metadata": {},
   "outputs": [
    {
     "name": "stdout",
     "output_type": "stream",
     "text": [
      "NumPy:\t 0.42685461044311523\n",
      "random:\t 0.09079265594482422\n"
     ]
    }
   ],
   "source": [
    "nloop = 1000000\n",
    "\n",
    "t0 = time.time()\n",
    "for i in range(nloop):\n",
    "    np.random.rand()\n",
    "t1 = time.time()\n",
    "print(\"NumPy:\\t\", t1-t0)\n",
    "\n",
    "t0 = time.time()\n",
    "for i in range(nloop):\n",
    "    random.random()\n",
    "t1 = time.time()\n",
    "print(\"random:\\t\", t1-t0)"
   ]
  },
  {
   "cell_type": "markdown",
   "metadata": {},
   "source": [
    "##### 2. U(a, b) 整数："
   ]
  },
  {
   "cell_type": "code",
   "execution_count": 53,
   "metadata": {},
   "outputs": [
    {
     "name": "stdout",
     "output_type": "stream",
     "text": [
      "NumPy:\t 2.2469849586486816\n",
      "random:\t 0.811866044998169\n"
     ]
    }
   ],
   "source": [
    "nloop = 1000000\n",
    "a, b = 0, 10\n",
    "\n",
    "t0 = time.time()\n",
    "for i in range(nloop):\n",
    "    np.random.randint(a, b+1)\n",
    "t1 = time.time()\n",
    "print(\"NumPy:\\t\", t1-t0)\n",
    "\n",
    "t0 = time.time()\n",
    "for i in range(nloop):\n",
    "    random.randrange(a, b+1)\n",
    "t1 = time.time()\n",
    "print(\"random:\\t\", t1-t0)"
   ]
  },
  {
   "cell_type": "markdown",
   "metadata": {},
   "source": [
    "##### 3. N(0, 1)："
   ]
  },
  {
   "cell_type": "code",
   "execution_count": 52,
   "metadata": {},
   "outputs": [
    {
     "name": "stdout",
     "output_type": "stream",
     "text": [
      "NumPy:\t 0.4747278690338135\n",
      "random:\t 0.7250597476959229\n"
     ]
    }
   ],
   "source": [
    "nloop = 1000000\n",
    "mu, sigma = 0, 1\n",
    "\n",
    "t0 = time.time()\n",
    "for i in range(nloop):\n",
    "    np.random.randn()\n",
    "t1 = time.time()\n",
    "print(\"NumPy:\\t\", t1-t0)\n",
    "\n",
    "t0 = time.time()\n",
    "for i in range(nloop):\n",
    "    random.gauss(mu, sigma)\n",
    "t1 = time.time()\n",
    "print(\"random:\\t\", t1-t0)"
   ]
  },
  {
   "cell_type": "markdown",
   "metadata": {},
   "source": [
    "<div align=center>\n",
    "\n",
    "# 正态分布\n",
    "\n",
    "</div>"
   ]
  },
  {
   "cell_type": "markdown",
   "metadata": {},
   "source": [
    "## np.random.randn()\n",
    "`np.random.randn(d0, d1, ..., dn)`\n",
    "\n",
    "无参时返回服从 $N(0, 1)$ 的一个浮点数，有参时返回每个元素均服从 $N(0, 1)$ 的 ndarray，数组维数与传参个数相同，只提供一个参数`x`时返回形状为`(x,)`；**注意所传参数不需要加括号！！**"
   ]
  },
  {
   "cell_type": "code",
   "execution_count": 4,
   "metadata": {},
   "outputs": [
    {
     "name": "stdout",
     "output_type": "stream",
     "text": [
      "<class 'numpy.ndarray'> (1,)\n"
     ]
    }
   ],
   "source": [
    "x = np.random.randn(1)\n",
    "print(type(x),x.shape)"
   ]
  },
  {
   "cell_type": "markdown",
   "metadata": {},
   "source": [
    "## np.random.standard_normal()\n",
    "`np.random.standard_normal(size=None)`\n",
    "\n",
    "`size=None`时返回服从正态分布的浮点数，或根据`size`返回浮点数组。"
   ]
  },
  {
   "cell_type": "markdown",
   "metadata": {
    "tags": []
   },
   "source": [
    "## np.random.normal()\n",
    "\n",
    "`np.random.normal(loc=0.0, scale=1.0, size=None)`\n",
    "\n",
    "**Args**\n",
    "\n",
    "loc: float or array_like of floats\n",
    "\n",
    "scale : float or array_like of floats\n",
    "    Standard deviation (spread or \"width\") of the distribution. Must be\n",
    "    non-negative.\n",
    "size: 整数或由整数构成的元组，\n",
    "    Output shape.  If the given shape is, e.g., ``(m, n, k)``, then\n",
    "    ``m * n * k`` samples are drawn.  If size is ``None`` (default),\n",
    "    a single value is returned if ``loc`` and ``scale`` are both scalars.\n",
    "    Otherwise, ``np.broadcast(loc, scale).size`` samples are drawn.\n",
    "\n",
    "\n",
    "\n",
    ".. note::\n",
    "    New code should use the ``normal`` method of a ``default_rng()``\n",
    "    instance instead; see `random-quick-start`.\n",
    "\n",
    "Returns\n",
    "\n",
    "out : ndarray or scalar\n",
    "    Drawn samples from the parameterized normal distribution.\n",
    "\n",
    "See Also\n",
    "\n",
    "scipy.stats.norm : probability density function, distribution or\n",
    "    cumulative density function, etc.\n",
    "Generator.normal: which should be used for new code.\n",
    "\n",
    "\n",
    "\n",
    "\n",
    "**Type**\n",
    "\n",
    "builtin_function_or_method"
   ]
  },
  {
   "cell_type": "markdown",
   "metadata": {},
   "source": [
    "#  "
   ]
  },
  {
   "cell_type": "markdown",
   "metadata": {},
   "source": [
    "#  "
   ]
  },
  {
   "cell_type": "code",
   "execution_count": 7,
   "metadata": {},
   "outputs": [],
   "source": [
    "rng = np.random.Generator(np.random.PCG64())"
   ]
  },
  {
   "cell_type": "markdown",
   "metadata": {
    "tags": []
   },
   "source": [
    "## Generator.standard_normal()\n",
    "\n",
    "`rng.standard_normal(size=None, dtype=np.float64, out=None)`\n",
    "\n",
    "**Docstring**\n",
    "\n",
    "返回服从标准正态分布的浮点数或浮点数组\n",
    "\n",
    "**Args**\n",
    "\n",
    "- size: 略\n",
    "\n",
    "- dtype: 仅支持`float64` and `float32`，字节顺序必须是本地的\n",
    "\n",
    "- out : ndarray, optional\n",
    "    Alternative output array in which to place the result. If size is not None, it must have the same shape as the provided size and must match the type of the output values.\n",
    "\n",
    "\n",
    "\n",
    "##### Examples"
   ]
  },
  {
   "cell_type": "code",
   "execution_count": null,
   "metadata": {},
   "outputs": [],
   "source": [
    ">>> rng = np.random.default_rng()\n",
    ">>> rng.standard_normal()\n",
    "2.1923875335537315 #random\n",
    "\n",
    ">>> s = rng.standard_normal(8000)\n",
    ">>> s\n",
    "array([ 0.6888893 ,  0.78096262, -0.89086505, ...,  0.49876311,  # random\n",
    "       -0.38672696, -0.4685006 ])                                # random\n",
    ">>> s.shape\n",
    "(8000,)\n",
    ">>> s = rng.standard_normal(size=(3, 4, 2))\n",
    ">>> s.shape\n",
    "(3, 4, 2)"
   ]
  },
  {
   "cell_type": "code",
   "execution_count": 60,
   "metadata": {},
   "outputs": [
    {
     "name": "stdout",
     "output_type": "stream",
     "text": [
      "[ 1 -1 -1 -1 -1  1  1 -1 -1 -1]\n",
      "[-1  1  1 -1  1  1 -1 -1  1  1]\n",
      "[-1 -1  1 -1  1 -1 -1 -1 -1 -1]\n"
     ]
    }
   ],
   "source": [
    "seed = 82298\n",
    "# np.random.seed(seed)\n",
    "rng = np.random.default_rng(seed=seed)\n",
    "for i in range(3):\n",
    "    print(rng.integers(0, 2, 10)*2-1)"
   ]
  },
  {
   "cell_type": "markdown",
   "metadata": {},
   "source": [
    "#  "
   ]
  },
  {
   "cell_type": "markdown",
   "metadata": {},
   "source": [
    "#  "
   ]
  },
  {
   "cell_type": "markdown",
   "metadata": {},
   "source": [
    "# np.random.uniform()\n",
    "\n",
    "`uniform(low=0.0, high=1.0, size=None)`\n",
    "\n",
    "新代码应通过``np.random.default_rng()``的实例化对象调用``uniform``函数\n",
    "\n",
    "**Args**\n",
    "\n",
    "- low, high: 均为浮点或浮点型数组，`high=low`时返回`low`\n",
    "\n",
    "- size: ``None``时会自动调用``np.broadcast(low, high).size``生成结果，否则按照给定参数输出\n",
    "\n",
    "**Type**\n",
    "\n",
    "buildin_functions_or_methods\n",
    "\n",
    "\n",
    "\n",
    "**see also**\n",
    "\n",
    "random_integers : Discrete uniform distribution over the closed\n",
    "                  interval ``[low, high]``.\n",
    "random_sample : Floats uniformly distributed over ``[0, 1)``.\n",
    "random : Alias for `random_sample`.\n",
    "rand : Convenience function that accepts dimensions as input, e.g.,\n",
    "       ``rand(2,2)`` would generate a 2-by-2 array of floats,\n",
    "       uniformly distributed over ``[0, 1)``.\n",
    "Generator.uniform: which should be used for new code.\n",
    "\n",
    "\n",
    "\n"
   ]
  },
  {
   "cell_type": "code",
   "execution_count": 99,
   "metadata": {},
   "outputs": [
    {
     "name": "stdout",
     "output_type": "stream",
     "text": [
      "[0.64064014 0.9460009  0.6840569 ]\n",
      "[[0.93503656 0.19949061 0.77188791]]\n"
     ]
    }
   ],
   "source": [
    "x = np.random.uniform(size=3)\n",
    "y = np.random.uniform(size=[1, 3])\n",
    "print(x, y, sep=\"\\n\")"
   ]
  },
  {
   "cell_type": "markdown",
   "metadata": {},
   "source": [
    "## rand v.s random v.s uniform\n",
    "\n",
    "- 速度上，rand > random > uniform"
   ]
  },
  {
   "cell_type": "code",
   "execution_count": 36,
   "metadata": {},
   "outputs": [
    {
     "name": "stdout",
     "output_type": "stream",
     "text": [
      "rand:\t 0.44082045555114746\n",
      "random:\t 0.4777510166168213\n",
      "uniform: 1.9836783409118652\n"
     ]
    }
   ],
   "source": [
    "nloop = 1000000\n",
    "\n",
    "t0 = time.time()\n",
    "for i in range(nloop):\n",
    "    np.random.rand()\n",
    "t1 = time.time()\n",
    "print(\"rand:\\t\", t1-t0)\n",
    "\n",
    "t0 = time.time()\n",
    "for i in range(nloop):\n",
    "    np.random.random()\n",
    "t1 = time.time()\n",
    "print(\"random:\\t\", t1-t0)\n",
    "\n",
    "t0 = time.time()\n",
    "for i in range(nloop):\n",
    "    np.random.uniform()\n",
    "t1 = time.time()\n",
    "print(\"uniform:\", t1-t0)"
   ]
  },
  {
   "cell_type": "markdown",
   "metadata": {},
   "source": [
    "#  "
   ]
  },
  {
   "cell_type": "markdown",
   "metadata": {},
   "source": [
    "#  "
   ]
  },
  {
   "cell_type": "markdown",
   "metadata": {},
   "source": [
    "## np.random.randint()\n",
    "`np.random.randint(low, high=None, size=None, dtype=int)`\n",
    "\n",
    "**Args**\n",
    "\n",
    "- low, high: 均为整数或整数组成的数组，`high`为`None`时则生成服从离散 $U\\left[0, low\\right)$ 的随机整数，为`high`单一整数则生成服从离散 $U\\left[low, high\\right)$ 的随机整数，为数组时，`low`与`high`应以一定程度匹配，并返回数组形状为由`low`与`high`维度匹配的结果，推断得到的形状与`size`不同时会报错，详见下例\n",
    "\n",
    "- size: `None`时返回单一整数或根据`low`与`high`列表推断的形状，否则返回参数设定形状的数组\n",
    "\n",
    "- dtype: 字节顺序(Byteorder)必须是本地的\n",
    "\n",
    "**Type**: builtin_function_or_method"
   ]
  },
  {
   "cell_type": "code",
   "execution_count": null,
   "metadata": {
    "scrolled": true
   },
   "outputs": [],
   "source": [
    "# x = [x1, x2, x3], where x1~U[1, 2], x2~U[3, 4], x1~U[5, 6]\n",
    "x = np.random.randint(low=[1, 3, 5], high=[3, 5, 7])\n",
    "# x = [x1, x2, x3], where x1~U[1, 5], x2~U[3, 5], x1~U[5, 5]\n",
    "x = np.random.randint(low=[1, 3, 5], high=6)\n",
    "# x = [[x1, x2], [x3, x4]],\n",
    "# where x1~U[1, 3], x2~U[3, 3], x3~U[1, 3], x4~U[3, 4]\n",
    "x = np.random.randint(low=[1, 3], high=[[4], [5]])\n",
    "print(x)"
   ]
  },
  {
   "cell_type": "code",
   "execution_count": 19,
   "metadata": {},
   "outputs": [
    {
     "data": {
      "image/png": "[encoded data removed]",
      "text/plain": [
       "<Figure size 432x288 with 1 Axes>"
      ]
     },
     "metadata": {
      "needs_background": "light"
     },
     "output_type": "display_data"
    }
   ],
   "source": [
    "bw = np.random.randint(1, 9, [1000])\n",
    "dist = []\n",
    "cnt = 0\n",
    "for i in range(1, 9):\n",
    "    num = np.sum(bw == i)\n",
    "    dist += [num]\n",
    "\n",
    "plt.plot(range(1, 9), np.array(dist))\n",
    "plt.ylim(-1, np.max(dist) + 1)\n",
    "plt.show()"
   ]
  },
  {
   "cell_type": "code",
   "execution_count": 51,
   "metadata": {
    "scrolled": true
   },
   "outputs": [
    {
     "data": {
      "image/png": "[encoded data removed]",
      "text/plain": [
       "<Figure size 432x288 with 1 Axes>"
      ]
     },
     "metadata": {
      "needs_background": "light"
     },
     "output_type": "display_data"
    }
   ],
   "source": [
    "bw = np.random.uniform(1, 8, [1000])\n",
    "bw = np.round(bw)\n",
    "dist = []\n",
    "\n",
    "for i in range(1, 9):\n",
    "    num = np.sum(bw == i)\n",
    "    dist += [num]\n",
    "\n",
    "plt.plot(range(1, 9), np.array(dist))\n",
    "plt.ylim(-1, np.max(dist) + 1)\n",
    "plt.show()"
   ]
  },
  {
   "cell_type": "markdown",
   "metadata": {},
   "source": [
    "尽管该函数可以一次生成随机数组，但当数组长度较短时 (约 ≤ 5)，单独生成逐个元素耗时更短"
   ]
  },
  {
   "cell_type": "code",
   "execution_count": 24,
   "metadata": {},
   "outputs": [
    {
     "name": "stdout",
     "output_type": "stream",
     "text": [
      "together:\t 0.11469173431396484\n",
      "one by one:\t 0.14361572265625\n"
     ]
    }
   ],
   "source": [
    "n = 6\n",
    "param = 7\n",
    "nloop = 10000\n",
    "\n",
    "t0 = time.time()\n",
    "for i in range(nloop):\n",
    "    x = np.random.randint(param, size=n)\n",
    "t1 = time.time()\n",
    "print(\"together:\\t\", t1-t0)\n",
    "\n",
    "t0 = time.time()\n",
    "x = []\n",
    "for i in range(nloop):\n",
    "    for j in range(n):\n",
    "        x += [np.random.randint(param)]\n",
    "x = np.asarray(x)\n",
    "t1 = time.time()\n",
    "print(\"one by one:\\t\", t1-t0)"
   ]
  },
  {
   "cell_type": "markdown",
   "metadata": {},
   "source": [
    "#  "
   ]
  },
  {
   "cell_type": "markdown",
   "metadata": {},
   "source": [
    "#  "
   ]
  },
  {
   "cell_type": "markdown",
   "metadata": {},
   "source": [
    "# np.random.choice()\n",
    "\n",
    "`np.random.choice(a, size=None, replace=True, p=None)`\n",
    "\n",
    "**Docstring**\n",
    "\n",
    "返回由给定的 1 维数组元素随机采样得到的数组或整数，新代码应通过``np.random.default_rng()``的实例化对象调用``choice``函数\n",
    "\n",
    "\n",
    "**Args**\n",
    "\n",
    "- a: 一维数组或整数；若为`ndarray`(即任何数据形式的`ndarray`)，则随机采样数据来自该数组；若为整数，则等效于`np.arange(a)`\n",
    "\n",
    "- size: `None`时只产生单个数据\n",
    "\n",
    "- replace: `True`时代表有放回采样\n",
    "\n",
    "- p: `a`各元素被采样的所遵从的概率分布，长度应与`a`所表示数组的长度相同，默认均匀分布\n",
    "\n",
    "\n",
    "**Type**\n",
    "\n",
    "builtin_function_or_method"
   ]
  },
  {
   "cell_type": "code",
   "execution_count": null,
   "metadata": {},
   "outputs": [],
   "source": [
    "x = np.random.choice(5, 4, p=[0.1, 0.1, 0.1, 0.1, 0.6], replace=False)\n",
    "x = np.random.choice([2.27, 4.48, -6.23, 6.623, 8.4, -0.442, 4], 3)\n",
    "x = np.random.choice(12, 3)\n",
    "print(x)"
   ]
  },
  {
   "cell_type": "code",
   "execution_count": 21,
   "metadata": {},
   "outputs": [
    {
     "data": {
      "text/plain": [
       "array([[ 0,  1,  2,  3,  4,  5],\n",
       "       [ 6,  7,  8,  9, 10, 11],\n",
       "       [12, 13, 14, 15, 16, 17],\n",
       "       [18, 19, 20, 21, 22, 23]])"
      ]
     },
     "execution_count": 21,
     "metadata": {},
     "output_type": "execute_result"
    }
   ],
   "source": [
    "x = np.arange(0, 24).reshape(4, 6)\n",
    "x"
   ]
  },
  {
   "cell_type": "code",
   "execution_count": 25,
   "metadata": {},
   "outputs": [
    {
     "data": {
      "text/plain": [
       "array([ 6, 13, 20])"
      ]
     },
     "execution_count": 25,
     "metadata": {},
     "output_type": "execute_result"
    }
   ],
   "source": [
    "idx = [[1, 3], [2, 4], [3, 1], [0, 5]]\n",
    "x[[1, 2, 3], [0, 1, 2]]"
   ]
  },
  {
   "cell_type": "markdown",
   "metadata": {},
   "source": [
    "#  "
   ]
  },
  {
   "cell_type": "markdown",
   "metadata": {},
   "source": [
    "#  "
   ]
  },
  {
   "cell_type": "markdown",
   "metadata": {},
   "source": [
    "# np.random.gamma()\n",
    "\n",
    "`np.random.gamma(shape, scale=1.0, size=None)`\n",
    "\n",
    "**Docstring**\n",
    "\n",
    "返回服从 $Gamma$ 分布的浮点数或浮点数组，新代码应通过``np.random.default_rng()``的实例化对象调用``gamma``函数。\n",
    "\n",
    "在 $Ga(\\alpha, \\lambda)$ 分布\n",
    "\n",
    "$$p(x) = \\frac{\\lambda^{\\alpha} x^{\\alpha-1}}{\\Gamma(\\alpha)}e^{-\\lambda x}$$\n",
    "\n",
    "中，令 $\\lambda = 1/\\theta$，则\n",
    "\n",
    "$$p(x) = \\frac{x^{\\alpha-1}e^{-x/\\theta}}{\\Gamma(\\alpha)\\,\\theta^{\\alpha}}$$\n",
    "\n",
    "当 $X\\sim Ga(\\alpha, \\lambda)$，即 $X\\sim Ga(\\alpha, 1/\\theta)$ 时，\n",
    "\n",
    "$$E(X) = \\alpha \\theta\\,,\\,Var(X) = \\alpha \\theta^2$$\n",
    "\n",
    "即 $\\alpha$ *一定程度上*反映了分布曲线的中心位置，$\\theta = 1/\\lambda$ 反映了分布的集中程度，进而`shape`指分布中参数 $\\alpha$，`scale`指分布中参数 $\\theta$。\n",
    "\n",
    "伽玛分布通常用于模拟电子元件的失效时间，并在泊松分布事件之间的等待时间相关的过程中自然出现\n",
    "\n",
    "\n",
    "**Args**\n",
    "\n",
    "- shape, scale: 浮点数或浮点数组\n",
    "\n",
    "- size: \n",
    "\n",
    "    - ``size``为``None``且``shape``和``scale``均为标量时，返回标量\n",
    "    \n",
    "    - ``size``为``None``且``shape``和``scale``**不全为**标量时，返回数组大小由``shape``和``scale``的形状推断而得，即等价于调用``np.broadcast(shape, scale).size``来采样\n",
    "    \n",
    "    - ``size``**不**为``None``且``shape``和``scale``**不全为**标量时，`size`不得与`broadcast`结果相冲突\n",
    "    \n",
    "    - 当``shape``和``scale``均为标量且``size``为指定形状时，略\n",
    "\n",
    "\n",
    "\n",
    "**See Also**\n",
    "\n",
    "scipy.stats.gamma : probability density function, distribution or\n",
    "    cumulative density function, etc.\n",
    "\n",
    "Generator.gamma: which should be used for new code.\n",
    "\n",
    "**Type**\n",
    "\n",
    "builtin_function_or_method"
   ]
  },
  {
   "cell_type": "code",
   "execution_count": 7,
   "metadata": {},
   "outputs": [
    {
     "name": "stdout",
     "output_type": "stream",
     "text": [
      "[[0.10175351 0.34007877]\n",
      " [0.16798366 0.66287823]]\n"
     ]
    }
   ],
   "source": [
    "x = np.random.gamma([1, 2], [[0.1], [0.2]])\n",
    "print(x)"
   ]
  },
  {
   "cell_type": "code",
   "execution_count": 16,
   "metadata": {
    "scrolled": true
   },
   "outputs": [
    {
     "data": {
      "image/png": "[encoded data removed]",
      "text/plain": [
       "<Figure size 432x288 with 1 Axes>"
      ]
     },
     "metadata": {
      "needs_background": "light"
     },
     "output_type": "display_data"
    }
   ],
   "source": [
    "import scipy.special as sps\n",
    "shape, scale = 1.28, 0.1\n",
    "s = np.random.gamma(shape, scale, 1000)\n",
    "count, bins, ignored = plt.hist(s, 50, density=True)\n",
    "y = bins**(shape-1)*(np.exp(-bins/scale) * (sps.gamma(shape)*scale**shape))\n",
    "plt.plot(bins, y, linewidth=2, color='r')\n",
    "# plt.xlim(0, 1)\n",
    "plt.show()"
   ]
  },
  {
   "cell_type": "markdown",
   "metadata": {},
   "source": [
    "#  "
   ]
  },
  {
   "cell_type": "markdown",
   "metadata": {},
   "source": [
    "#  "
   ]
  },
  {
   "cell_type": "markdown",
   "metadata": {},
   "source": [
    "## np.random.permutation()\n",
    "`np.random.permutation(x)`\n",
    "\n",
    "若`x`为一整数，则该函数等价于随机排列`range(x)`；若`x`是一个多维数组，则先对该数组进行复制，再随机打乱元素，返回值只沿其第一维随机排列；建议通过`default_rng()`方法的实例化对象使用此函数\n",
    "\n",
    "\n",
    "##### Examples"
   ]
  },
  {
   "cell_type": "code",
   "execution_count": 8,
   "metadata": {
    "scrolled": true
   },
   "outputs": [
    {
     "name": "stdout",
     "output_type": "stream",
     "text": [
      "[[ 4  5  6  7]\n",
      " [ 0  1  2  3]\n",
      " [ 8  9 10 11]]\n"
     ]
    }
   ],
   "source": [
    "x = np.arange(12).reshape(-1, 4)\n",
    "print(np.random.permutation(x))"
   ]
  },
  {
   "cell_type": "markdown",
   "metadata": {},
   "source": [
    "#  "
   ]
  },
  {
   "cell_type": "markdown",
   "metadata": {
    "tags": []
   },
   "source": [
    "#  "
   ]
  },
  {
   "cell_type": "markdown",
   "metadata": {},
   "source": [
    "## np.random.shuffle()\n",
    "`np.random.shuffle(x)`\n",
    "\n",
    "in-place 地对数组`x`的第一维进行重排，进而该函数没有返回值；其中`x`可以是任意可修改的类数组类型\n",
    "\n",
    "##### Examples"
   ]
  },
  {
   "cell_type": "code",
   "execution_count": 10,
   "metadata": {},
   "outputs": [
    {
     "name": "stdout",
     "output_type": "stream",
     "text": [
      "[[3 4 5]\n",
      " [6 7 8]\n",
      " [0 1 2]]\n"
     ]
    }
   ],
   "source": [
    "arr = np.arange(9).reshape((3, 3))\n",
    "np.random.shuffle(arr)\n",
    "print(arr)"
   ]
  },
  {
   "cell_type": "markdown",
   "metadata": {},
   "source": [
    "# "
   ]
  },
  {
   "cell_type": "code",
   "execution_count": 5,
   "metadata": {},
   "outputs": [],
   "source": [
    "def randomize(spin_vec, frac1=None):\n",
    "    if frac1 is None:\n",
    "        spin_vec = np.random.randint(0, 2, self.N)*2-1\n",
    "    else:\n",
    "        ups = int(len(spin_vec)*frac1)\n",
    "        spin_vec = np.array([1]*ups+[0]*(len(spin_vec)-ups))\n",
    "        np.random.shuffle(spin_vec)\n",
    "        print(self.spin_vec)"
   ]
  },
  {
   "cell_type": "code",
   "execution_count": null,
   "metadata": {},
   "outputs": [],
   "source": [
    "N = 20\n",
    "spin_vec = \n",
    "randomize"
   ]
  }
 ],
 "metadata": {
  "kernelspec": {
   "display_name": "Python 3 (ipykernel)",
   "language": "python",
   "name": "python3"
  },
  "language_info": {
   "codemirror_mode": {
    "name": "ipython",
    "version": 3
   },
   "file_extension": ".py",
   "mimetype": "text/x-python",
   "name": "python",
   "nbconvert_exporter": "python",
   "pygments_lexer": "ipython3",
   "version": "3.9.7"
  },
  "latex_envs": {
   "LaTeX_envs_menu_present": true,
   "autoclose": false,
   "autocomplete": true,
   "bibliofile": "biblio.bib",
   "cite_by": "apalike",
   "current_citInitial": 1,
   "eqLabelWithNumbers": true,
   "eqNumInitial": 1,
   "hotkeys": {
    "equation": "Ctrl-E",
    "itemize": "Ctrl-I"
   },
   "labels_anchors": false,
   "latex_user_defs": false,
   "report_style_numbering": false,
   "user_envs_cfg": false
  }
 },
 "nbformat": 4,
 "nbformat_minor": 4
}
