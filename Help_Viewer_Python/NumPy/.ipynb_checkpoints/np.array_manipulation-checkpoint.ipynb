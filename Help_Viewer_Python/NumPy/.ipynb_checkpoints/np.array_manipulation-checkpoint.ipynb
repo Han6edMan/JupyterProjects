{
 "cells": [
  {
   "cell_type": "code",
   "execution_count": 1,
   "id": "e0e03e03",
   "metadata": {},
   "outputs": [],
   "source": [
    "import numpy as np"
   ]
  },
  {
   "cell_type": "markdown",
   "id": "4dfb5fdc",
   "metadata": {},
   "source": [
    "<center>\n",
    "\n",
    "# 数组堆叠"
   ]
  },
  {
   "cell_type": "markdown",
   "id": "20e43f62",
   "metadata": {
    "tags": []
   },
   "source": [
    "## np.tile()\n",
    "\n",
    "`np.tile(A, reps)`\n",
    "\n",
    "#### Doctrings\n",
    "根据`reps`对`A`进行重复、堆叠并构造出一个新数组，其中\n",
    "- A : 类数组型，即被重复的数组；\n",
    "- reps : 类数组型，其第 i 个元素代表在`A`在第 i 个坐标轴上重复的次数。记`reps`长度为 d，返回数组的维度为`max(d, A.ndim)`：\n",
    "    - 若`A.ndim < d`，则`A`会通过添加新的坐标轴来扩充至 d 维；例如形状为 (3,) 的数组会被扩充为 (1, 3) 的 2D 数组，或形状为 (1, 1, 3) 的 3D 数组。如果需要扩充的维度并非上面提到的这种，例如希望扩充后形状为 (3, 1) ，应在调用此函数之前提前将`A`扩种至 d 维（例2）\n",
    "    - 若``A.ndim > d``，则`reps`会通过在其前面添加 1 来扩充至`A.ndim`的维数，例如`A`形状为 (2, 3, 4, 5)，则形状为 (2, 2) 的`reps`会被视为 (1, 1, 2, 2)（例1）\n",
    "\n",
    "官方建议，尽管此函数可以用于广播，但强烈建议使用`numpy`内置的广播操作和函数。\n",
    "\n",
    "#### See Also\n",
    "- repeat : Repeat elements of an array.\n",
    "- broadcast_to : Broadcast an array to a new shape\n",
    "\n",
    "\n",
    "#### Examples\n",
    "1. 在 axis=0 的维度上重复 2 次，`A.ndim > d`："
   ]
  },
  {
   "cell_type": "code",
   "execution_count": 19,
   "id": "a5978e53",
   "metadata": {
    "tags": []
   },
   "outputs": [
    {
     "name": "stdout",
     "output_type": "stream",
     "text": [
      "[[0 1 2 0 1 2]\n",
      " [3 4 5 3 4 5]]\n"
     ]
    }
   ],
   "source": [
    "A = np.array(\n",
    "    [[0, 1, 2],\n",
    "     [3, 4, 5]]\n",
    ")\n",
    "B = np.tile(A, reps=2)\n",
    "print(B)"
   ]
  },
  {
   "cell_type": "markdown",
   "id": "8943e878",
   "metadata": {},
   "source": [
    "2. `2=A.ndim < d=3` 时，`A`会先扩充为`[1, 2, 3]`的形状，再进行堆叠；例如在 axis=0 的维度上重复 3 次、axis=1 的维度上重复 2 次、在 axis=2 的维度上重复 1 次，："
   ]
  },
  {
   "cell_type": "code",
   "execution_count": 28,
   "id": "80248c15",
   "metadata": {
    "collapsed": true,
    "jupyter": {
     "outputs_hidden": true,
     "source_hidden": true
    },
    "tags": []
   },
   "outputs": [
    {
     "name": "stdout",
     "output_type": "stream",
     "text": [
      "[[[0 1 2]\n",
      "  [3 4 5]\n",
      "  [0 1 2]\n",
      "  [3 4 5]]\n",
      "\n",
      " [[0 1 2]\n",
      "  [3 4 5]\n",
      "  [0 1 2]\n",
      "  [3 4 5]]\n",
      "\n",
      " [[0 1 2]\n",
      "  [3 4 5]\n",
      "  [0 1 2]\n",
      "  [3 4 5]]]\n"
     ]
    }
   ],
   "source": [
    "print(np.tile(A, (3, 2, 1)))"
   ]
  },
  {
   "cell_type": "markdown",
   "id": "d9333001-39fc-4319-883c-58caf506c82a",
   "metadata": {},
   "source": [
    "3. 如果想让`A`第一个维度大小保持不变，仅在第二个维度重复，需要利用`np.newaxis`："
   ]
  },
  {
   "cell_type": "code",
   "execution_count": 19,
   "id": "bcbab2bf-5044-4dd8-a285-3a8d002dc59a",
   "metadata": {
    "collapsed": true,
    "jupyter": {
     "outputs_hidden": true,
     "source_hidden": true
    },
    "tags": []
   },
   "outputs": [
    {
     "name": "stdout",
     "output_type": "stream",
     "text": [
      "[[[0 1 2]\n",
      "  [0 1 2]\n",
      "  [0 1 2]]\n",
      "\n",
      " [[3 4 5]\n",
      "  [3 4 5]\n",
      "  [3 4 5]]]\n"
     ]
    }
   ],
   "source": [
    "A_ = A[:, np.newaxis, :]\n",
    "\n",
    "print(np.tile(A_, reps=[1, 3, 1]))"
   ]
  },
  {
   "cell_type": "markdown",
   "id": "a37834a8-d2eb-4bb3-8a98-05af63dbe0fd",
   "metadata": {
    "tags": []
   },
   "source": [
    "## "
   ]
  },
  {
   "cell_type": "markdown",
   "id": "990957d2",
   "metadata": {},
   "source": [
    "## np.repeat()\n",
    "`np.repeat(a, repeats, axis=None)`\n",
    "\n",
    "#### Docstring\n",
    "\n",
    "根据`repeats`对`a`中的元素，返回数组的形状除了在`axis`轴之外，其余与`a`相同。其中\n",
    "- `a`应为类数组类型；\n",
    "- `repeats`应为整型或整型数组，即每个元素重复的次数；当其为整型数组时，`axis`不能为`None`，`repeats`的第 i 个元素代表`a`在`axis`轴上第 i 个切片重复的次数（例3、4）\n",
    "- `axis`应为整型，用于指定在哪个维度上对元素进行重复操作；默认将输入数组拉直再对元素进行重复（例1）\n",
    "\n",
    "\n",
    "\n",
    "#### See Also\n",
    "\n",
    "- tile : Tile an array.\n",
    "- unique : Find the unique elements of an array.\n",
    "\n",
    "\n",
    "#### Examples\n",
    "\n",
    "1. `repeats`为整型且不指定`axis`时，默认先拉直再重复："
   ]
  },
  {
   "cell_type": "code",
   "execution_count": 6,
   "id": "f990dc84",
   "metadata": {
    "collapsed": true,
    "jupyter": {
     "outputs_hidden": true
    },
    "scrolled": true,
    "tags": []
   },
   "outputs": [
    {
     "name": "stdout",
     "output_type": "stream",
     "text": [
      "[1 1 2 2 3 3 3 3 4 4 5 5]\n"
     ]
    }
   ],
   "source": [
    "a = np.array(\n",
    "    [[1, 2, 3],\n",
    "     [3, 4, 5]]\n",
    ")\n",
    "print(np.repeat(a, 2))"
   ]
  },
  {
   "cell_type": "markdown",
   "id": "5821839e",
   "metadata": {},
   "source": [
    "2. `repeats`为整型，对数组在指定坐标轴上进行重复："
   ]
  },
  {
   "cell_type": "code",
   "execution_count": 7,
   "id": "705f10c6",
   "metadata": {
    "collapsed": true,
    "jupyter": {
     "outputs_hidden": true
    },
    "tags": []
   },
   "outputs": [
    {
     "name": "stdout",
     "output_type": "stream",
     "text": [
      "[[1 2 3]\n",
      " [1 2 3]\n",
      " [3 4 5]\n",
      " [3 4 5]]\n",
      "[[1 1 2 2 3 3]\n",
      " [3 3 4 4 5 5]]\n"
     ]
    }
   ],
   "source": [
    "print(np.repeat(a, 2, axis=0))\n",
    "print(np.repeat(a, 2, axis=1))"
   ]
  },
  {
   "cell_type": "markdown",
   "id": "aa0ee71a",
   "metadata": {},
   "source": [
    "3. `repeats`为整型数组，对 a 第一行元素重复 4 次、第二行元素重复 2 次"
   ]
  },
  {
   "cell_type": "code",
   "execution_count": 8,
   "id": "663d0a4b",
   "metadata": {
    "collapsed": true,
    "jupyter": {
     "outputs_hidden": true
    },
    "scrolled": true,
    "tags": []
   },
   "outputs": [
    {
     "data": {
      "text/plain": [
       "array([[1, 2, 3],\n",
       "       [1, 2, 3],\n",
       "       [1, 2, 3],\n",
       "       [1, 2, 3],\n",
       "       [3, 4, 5],\n",
       "       [3, 4, 5]])"
      ]
     },
     "execution_count": 8,
     "metadata": {},
     "output_type": "execute_result"
    }
   ],
   "source": [
    "np.repeat(a, [4, 2], axis=0)"
   ]
  },
  {
   "cell_type": "markdown",
   "id": "328f82a3",
   "metadata": {},
   "source": [
    "4. `repeats`为整型数组，对 a 第一列元素重复 4 次、第二列元素重复 2 次、第三列元素重复 3 次"
   ]
  },
  {
   "cell_type": "code",
   "execution_count": 9,
   "id": "6db45551",
   "metadata": {
    "collapsed": true,
    "jupyter": {
     "outputs_hidden": true
    },
    "tags": []
   },
   "outputs": [
    {
     "data": {
      "text/plain": [
       "array([[1, 1, 1, 1, 2, 2, 3, 3, 3],\n",
       "       [3, 3, 3, 3, 4, 4, 5, 5, 5]])"
      ]
     },
     "execution_count": 9,
     "metadata": {},
     "output_type": "execute_result"
    }
   ],
   "source": [
    "np.repeat(a, [4, 2, 3], axis=1)"
   ]
  },
  {
   "cell_type": "markdown",
   "id": "c1224c0d",
   "metadata": {},
   "source": [
    "5. `np.repeat`与`np.tile`的区别：前者是逐元素/逐切片重复的，而后者是整个复制的。从可视化角度来看，前者对每个像素点的范围进行放大，后者对整个图片进行堆叠"
   ]
  },
  {
   "cell_type": "code",
   "execution_count": 56,
   "id": "05cabb1d",
   "metadata": {
    "collapsed": true,
    "jupyter": {
     "outputs_hidden": true
    }
   },
   "outputs": [
    {
     "name": "stdout",
     "output_type": "stream",
     "text": [
      "[[1 1 2 2 3 3]\n",
      " [3 3 4 4 5 5]]\n",
      "[[1 2 3 1 2 3]\n",
      " [3 4 5 3 4 5]]\n",
      "[[1 2 3]\n",
      " [1 2 3]\n",
      " [3 4 5]\n",
      " [3 4 5]]\n",
      "[[1 2 3]\n",
      " [3 4 5]\n",
      " [1 2 3]\n",
      " [3 4 5]]\n"
     ]
    }
   ],
   "source": [
    "a = np.array([[1, 2, 3], [3, 4, 5]])\n",
    "print(np.repeat(a, 2, axis=1))\n",
    "print(np.tile(a, 2))\n",
    "\n",
    "print(np.repeat(a, 2, axis=0))\n",
    "print(np.tile(a, [2, 1]))"
   ]
  },
  {
   "cell_type": "markdown",
   "id": "f37c4efa-ef12-41da-b21f-f756b01b0c70",
   "metadata": {},
   "source": [
    "## "
   ]
  },
  {
   "cell_type": "markdown",
   "id": "79ba6c1d-146b-4f0a-91dd-971fdd739cc6",
   "metadata": {
    "tags": []
   },
   "source": [
    "# "
   ]
  },
  {
   "cell_type": "markdown",
   "id": "1cc8c2a2-afd0-4a77-8a9a-d7409c605a5d",
   "metadata": {},
   "source": [
    "# "
   ]
  },
  {
   "cell_type": "markdown",
   "id": "eb0331b5-8271-467c-a195-18e769ec210f",
   "metadata": {},
   "source": [
    "<center>\n",
    "\n",
    "# 变维、转置 etc."
   ]
  },
  {
   "cell_type": "markdown",
   "id": "c5892cb1-c8a9-4a74-982e-b26ae9b21510",
   "metadata": {
    "tags": []
   },
   "source": [
    "## `np.broadcast(self, /, *args, **kwargs)`\n",
    "\n",
    "对输入的参数`in1`、`in2`使用传播机制进行组合，并返回一个封装了结果的对象，该对象具有`shape`和`nd`属性，并可以用作迭代器；其中\n",
    "\n",
    "#### See Also\n",
    "- broadcast_arrays\n",
    "- broadcast_to\n",
    "- broadcast_shapes\n",
    "\n",
    "#### Examples\n",
    "1. 广播后返回的对象："
   ]
  },
  {
   "cell_type": "code",
   "execution_count": 40,
   "id": "f22372e9-3872-4182-95a1-dd485e2c5642",
   "metadata": {
    "collapsed": true,
    "jupyter": {
     "outputs_hidden": true,
     "source_hidden": true
    },
    "tags": []
   },
   "outputs": [
    {
     "name": "stdout",
     "output_type": "stream",
     "text": [
      "(1, 4)\n",
      "(1, 5)\n",
      "(1, 6)\n",
      "(2, 4)\n",
      "(2, 5)\n",
      "(2, 6)\n",
      "(3, 4)\n",
      "(3, 5)\n",
      "(3, 6)\n"
     ]
    }
   ],
   "source": [
    "# Manually adding two vectors, using broadcasting:\n",
    "\n",
    "x = np.array([[1], [2], [3]])\n",
    "y = np.array([4, 5, 6])\n",
    "b = np.broadcast(x, y)\n",
    "for i in b:\n",
    "    print(i)"
   ]
  },
  {
   "cell_type": "markdown",
   "id": "04dfb693-c56c-49dd-87de-5452d22c0e8b",
   "metadata": {},
   "source": [
    "手动广播机制与内置广播机制对比："
   ]
  },
  {
   "cell_type": "code",
   "execution_count": 41,
   "id": "59c6bb56-d926-4773-b96c-d79b018ae0ea",
   "metadata": {
    "collapsed": true,
    "jupyter": {
     "outputs_hidden": true
    },
    "tags": []
   },
   "outputs": [
    {
     "name": "stdout",
     "output_type": "stream",
     "text": [
      "[[2.12199579e-314 9.88131292e-324 4.24399158e-314]\n",
      " [2.12199579e-314 6.36598737e-314 1.06099790e-313]\n",
      " [8.48798317e-314 6.36598738e-314 1.06099790e-313]]\n",
      "[[5 6 7]\n",
      " [6 7 8]\n",
      " [7 8 9]]\n"
     ]
    }
   ],
   "source": [
    "out = np.empty(b.shape)\n",
    "out.flat = [u+v for (u,v) in b]\n",
    "print(out)\n",
    "print(x + y)"
   ]
  },
  {
   "cell_type": "markdown",
   "id": "c49c5d0a-b103-41d6-9aa5-5743918e11cc",
   "metadata": {
    "tags": []
   },
   "source": [
    "## np.broadcast_to()\n",
    "`np.broadcast_to(array, shape, subok=False)`\n",
    "\n",
    "对数组进行广播，以得到指定形状的数组；返回数组是只读的，且其多个元素可能会指向同一个内存位置；\n",
    "\n",
    "##### Args\n",
    "- array : 类数组类型；\n",
    "- shape : 元祖类型；新的形状必须与原数组形状在广播机制下兼容，否则会抛出异常；\n",
    "- subok : 布尔型；如果为 True，则会传递子类；否则默认返回基类类型的数组；\n",
    "\n",
    "##### See Also\n",
    "- broadcast\n",
    "- broadcast_arrays\n",
    "- broadcast_shapes\n",
    "\n",
    "##### Examples"
   ]
  },
  {
   "cell_type": "code",
   "execution_count": 13,
   "id": "05895a32-3484-4431-bcac-867d40e26572",
   "metadata": {
    "tags": []
   },
   "outputs": [
    {
     "name": "stdout",
     "output_type": "stream",
     "text": [
      "[[[ 0  1  2  3]\n",
      "  [ 4  5  6  7]\n",
      "  [ 8  9 10 11]]\n",
      "\n",
      " [[ 0  1  2  3]\n",
      "  [ 4  5  6  7]\n",
      "  [ 8  9 10 11]]]\n"
     ]
    }
   ],
   "source": [
    "x = [[ 0,  1,  2,  3],\n",
    "     [ 4,  5,  6,  7],\n",
    "     [ 8,  9, 10, 11]]\n",
    "print(np.broadcast_to(x, (2, 3, 4)))"
   ]
  },
  {
   "cell_type": "markdown",
   "id": "e00175a9-bd07-4121-aee5-61423bdca8db",
   "metadata": {},
   "source": [
    "## "
   ]
  },
  {
   "cell_type": "markdown",
   "id": "d0e7f15d-36a3-4ca4-92b5-dc7ef681b36e",
   "metadata": {},
   "source": [
    "## np.expand_dims()\n",
    "`np.expand_dims(a, axis)`\n",
    "\n",
    "在`axis`位置插入一个新坐标轴，并返回原数组的一个视图 (即 in-place 操作的)；这里`axis`可以是整型或整型元祖；\n",
    "\n",
    "    .. deprecated:: 1.13.0\n",
    "        Passing an axis where ``axis > a.ndim`` will be treated as ``axis == a.ndim``, and passing ``axis < -a.ndim - 1`` will be treated as ``axis == 0``. This behavior is deprecated.\n",
    "\n",
    "    .. versionchanged:: 1.18.0\n",
    "        A tuple of axes is now supported.  Out of range axes as described above are now forbidden and raise an `AxisError`.\n",
    "\n",
    "Returns\n",
    "-------\n",
    "result : ndarray\n",
    "    View of `a` with the number of dimensions increased.\n",
    "\n",
    "##### See Also\n",
    "- squeeze : The inverse operation, removing singleton dimensions\n",
    "- reshape : Insert, remove, and combine dimensions, and resize existing ones\n",
    "- doc.indexing, atleast_1d, atleast_2d, atleast_3d\n",
    "\n",
    "##### Examples\n",
    "1. 该函数是 inplace 的"
   ]
  },
  {
   "cell_type": "code",
   "execution_count": 15,
   "id": "81b98a2a-eaa1-485b-b4f0-967049bdddd9",
   "metadata": {},
   "outputs": [
    {
     "name": "stdout",
     "output_type": "stream",
     "text": [
      "[ True  True]\n"
     ]
    }
   ],
   "source": [
    "x = np.array([1, 2])\n",
    "y = np.expand_dims(x, axis=0)\n",
    "y[0, 0] = 3\n",
    "print(x == y[0])"
   ]
  },
  {
   "cell_type": "code",
   "execution_count": null,
   "id": "a26ebada-2a9c-4ed7-a078-bb6639e4abe2",
   "metadata": {},
   "outputs": [],
   "source": [
    "``axis`` may also be a tuple:\n",
    "\n",
    ">>> y = np.expand_dims(x, axis=(0, 1))\n",
    ">>> y\n",
    "array([[[1, 2]]])\n",
    "\n",
    ">>> y = np.expand_dims(x, axis=(2, 0))\n",
    ">>> y\n",
    "array([[[1],\n",
    "        [2]]])\n",
    "\n",
    "Note that some examples may use ``None`` instead of ``np.newaxis``.  These\n",
    "are the same objects:\n",
    "\n",
    ">>> np.newaxis is None\n",
    "True\n",
    "File:      d:\\programfiles\\miniconda3\\lib\\site-packages\\numpy\\lib\\shape_base.py\n",
    "Type:      function"
   ]
  },
  {
   "cell_type": "markdown",
   "id": "04f01d6c-6d37-4ddb-8386-d8e909dcd616",
   "metadata": {},
   "source": [
    "## "
   ]
  },
  {
   "cell_type": "markdown",
   "id": "7afe1ed9-b556-4d49-b584-efed76b06f00",
   "metadata": {},
   "source": [
    "## np.reshape()\n",
    "\n",
    "`np.reshape(a, newshape, order='C')`\n",
    "`ndarray.reshape(shape, order='C')`\n",
    "\n",
    "##### Args\n",
    "- a : 类数组型\n",
    "- newshape : 整型或整型元祖，应与原数组的形状兼容；当该参数为单个整数时，原数组会被拉直；当该参数中含有 -1 时，相应维度上的维数会根据原数组形状自行推断得到\n",
    "- order : 可以是`'C'`、`'F'`、`'A'`；以 C 顺序还是 Fortran 顺序读取原数组以及写入新数组，其中 C 顺序对数组最后一个维度的操作最快，而对第一个操作最慢，F 相反；注意`C`和`F`不会改变底层数组的内存布局，改变索引顺序；`A`则表示，如果`a`在内存中是 Fortran 连续的，则以类似 Fortran 的索引顺序读取，否则按照 C 顺序；\n",
    "\n",
    "\n",
    "##### Examples\n",
    "1. `reshape`常用情景："
   ]
  },
  {
   "cell_type": "code",
   "execution_count": 22,
   "id": "e5cbde9b-e17b-4f87-b183-fde501cffc70",
   "metadata": {
    "collapsed": true,
    "jupyter": {
     "outputs_hidden": true
    },
    "tags": []
   },
   "outputs": [
    {
     "name": "stdout",
     "output_type": "stream",
     "text": [
      "[[1 2]\n",
      " [3 4]\n",
      " [5 6]]\n"
     ]
    }
   ],
   "source": [
    "a = np.array([[1,2,3], [4,5,6]])\n",
    "print(np.reshape(a, (3,-1)))"
   ]
  },
  {
   "cell_type": "markdown",
   "id": "3a7a02ae-9e98-4a9c-bfd5-bea7e6b3b869",
   "metadata": {},
   "source": [
    "2. `reshape`可以看作先根据给定的索引顺序分解数组，再使用与分解相同的索引顺序将元素插入到新数组中，这可以通过设定读取和写入的顺序看出来："
   ]
  },
  {
   "cell_type": "code",
   "execution_count": 24,
   "id": "6d853ab1-03f9-4ea7-8487-aac95ee73283",
   "metadata": {},
   "outputs": [
    {
     "name": "stdout",
     "output_type": "stream",
     "text": [
      "[[ 0 -4 -3]\n",
      " [-2 -1 -5]]\n",
      "[ 0 -2 -4 -1 -3 -5]\n",
      "[[ 0 -4 -3]\n",
      " [-2 -1 -5]]\n"
     ]
    }
   ],
   "source": [
    "a = -np.arange(0, 6).reshape((3, 2))\n",
    "a_F = a.reshape((2, 3), order=\"F\")\n",
    "print(a_F)\n",
    "\n",
    "# is equivalent to\n",
    "a_ravel = np.ravel(a, order=\"F\")\n",
    "a_reshape = np.reshape(a_ravel, (2, 3), order=\"F\")\n",
    "print(a_ravel)\n",
    "print(a_reshape)"
   ]
  },
  {
   "cell_type": "markdown",
   "id": "a1a60130-619b-4307-877a-7b8231e6cd4d",
   "metadata": {},
   "source": [
    "3. 在不对数据进行复制的情况下改变数组形状并非总是可行的；如果希望在复制数据时引发错误，需要应将新形状赋值给数组的`shape`属性"
   ]
  },
  {
   "cell_type": "code",
   "execution_count": 25,
   "id": "aa559167-c1bc-43b0-9ccc-be64dfb4114d",
   "metadata": {
    "tags": []
   },
   "outputs": [
    {
     "name": "stdout",
     "output_type": "stream",
     "text": [
      "[[0. 0.]\n",
      " [0. 0.]\n",
      " [0. 0.]\n",
      " [0. 0.]\n",
      " [0. 0.]\n",
      " [0. 0.]\n",
      " [0. 0.]\n",
      " [0. 0.]\n",
      " [0. 0.]\n",
      " [0. 0.]]\n"
     ]
    }
   ],
   "source": [
    "a = np.zeros(20)\n",
    "a.shape = (10, 2)  #\n",
    "print(a)\n",
    "# A transpose makes the array non-contiguous\n",
    "b = a.T\n",
    "# Taking a view makes it possible to modify the shape without modifying the initial object.\n",
    "c = b.view()\n",
    "# c.shape  # will raise an error"
   ]
  },
  {
   "cell_type": "markdown",
   "id": "b81fbfa7-5229-441e-8109-079f7ceb9052",
   "metadata": {},
   "source": [
    "# "
   ]
  },
  {
   "cell_type": "markdown",
   "id": "def1c742-76c0-414a-be38-34d43fdcc7da",
   "metadata": {},
   "source": [
    "# "
   ]
  },
  {
   "cell_type": "markdown",
   "id": "4a910c30-6cf0-4344-a78c-cb9518ab2b0e",
   "metadata": {},
   "source": [
    "## np.dstack()\n",
    "`np.dstack(tup)`\n",
    "将一个由数组构成的序列沿第三个坐标轴进行拼接。其等价于先将 2D 数组\n",
    "Stack arrays in sequence depth wise (along third axis).\n",
    "\n",
    "This is equivalent to concatenation along the third axis after 2-D arrays of shape `(M,N)` have been reshaped to `(M,N,1)` and 1-D arrays of shape `(N,)` have been reshaped to `(1,N,1)`. Rebuilds arrays divided by `dsplit`.\n",
    "\n",
    "This function makes most sense for arrays with up to 3 dimensions. For\n",
    "instance, for pixel-data with a height (first axis), width (second axis),\n",
    "and r/g/b channels (third axis). The functions `concatenate`, `stack` and\n",
    "`block` provide more general stacking and concatenation operations.\n",
    "\n",
    "Parameters\n",
    "\n",
    "tup : sequence of arrays\n",
    "    The arrays must have the same shape along all but the third axis.\n",
    "    1-D or 2-D arrays must have the same shape.\n",
    "\n",
    "Returns\n",
    "\n",
    "stacked : ndarray\n",
    "    The array formed by stacking the given arrays, will be at least 3-D.\n",
    "\n",
    "##### See Also\n",
    "- concatenate : Join a sequence of arrays along an existing axis.\n",
    "- stack : Join a sequence of arrays along a new axis.\n",
    "- block : Assemble an nd-array from nested lists of blocks.\n",
    "- vstack : Stack arrays in sequence vertically (row wise).\n",
    "- hstack : Stack arrays in sequence horizontally (column wise).\n",
    "- column_stack : Stack 1-D arrays as columns into a 2-D array.\n",
    "- dsplit : Split array along third axis.\n",
    "\n",
    "##### Examples"
   ]
  },
  {
   "cell_type": "code",
   "execution_count": 2,
   "id": "495f7750-aa57-43d1-8d5a-895a77bafc5c",
   "metadata": {},
   "outputs": [
    {
     "data": {
      "text/plain": [
       "array([[[1, 2]],\n",
       "\n",
       "       [[2, 3]],\n",
       "\n",
       "       [[3, 4]]])"
      ]
     },
     "execution_count": 2,
     "metadata": {},
     "output_type": "execute_result"
    }
   ],
   "source": [
    ">>> a = np.array((1,2,3))\n",
    ">>> b = np.array((2,3,4))\n",
    ">>> np.dstack((a,b))\n",
    "\n",
    "\n",
    ">>> a = np.array([[1],[2],[3]])\n",
    ">>> b = np.array([[2],[3],[4]])\n",
    ">>> np.dstack((a,b))\n"
   ]
  },
  {
   "cell_type": "markdown",
   "id": "b85eea67-7f49-4075-8bc1-9e39f8e6fd64",
   "metadata": {},
   "source": [
    "## np.stack()\n",
    "`np.stack(arrays, axis=0, out=None)`\n",
    "\n",
    "将一个由类数组组成的序列`arrays`沿新的坐标轴`axis`拼接起来，其中`arrays`的每个类数组应具有相同的形状\n",
    "\n",
    "##### See Also\n",
    "- concatenate : Join a sequence of arrays along an existing axis.\n",
    "- block : Assemble an nd-array from nested lists of blocks.\n",
    "- split : Split array into a list of multiple sub-arrays of equal size.\n",
    "\n",
    "##### Examples"
   ]
  },
  {
   "cell_type": "code",
   "execution_count": 14,
   "id": "ad49a9ad-73ba-48e3-a0a2-2a85ece253a7",
   "metadata": {},
   "outputs": [
    {
     "name": "stdout",
     "output_type": "stream",
     "text": [
      "[[[0 1 2]\n",
      "  [3 4 5]]\n",
      "\n",
      " [[1 2 3]\n",
      "  [4 5 6]]]\n",
      "[[[0 1 2]\n",
      "  [1 2 3]]\n",
      "\n",
      " [[3 4 5]\n",
      "  [4 5 6]]]\n",
      "[[[0 1]\n",
      "  [1 2]\n",
      "  [2 3]]\n",
      "\n",
      " [[3 4]\n",
      "  [4 5]\n",
      "  [5 6]]]\n"
     ]
    }
   ],
   "source": [
    "arrays = [np.arange(6).reshape((2, 3))+i for i in range(2)]\n",
    "print(np.stack(arrays, axis=0))\n",
    "print(np.stack(arrays, axis=1))\n",
    "print(np.stack(arrays, axis=2))"
   ]
  },
  {
   "cell_type": "code",
   "execution_count": null,
   "id": "1ce660bd-3baf-4b78-9469-5ce80e738d42",
   "metadata": {},
   "outputs": [],
   "source": [
    ">>> np.stack(arrays, axis=2).shape\n",
    "(3, 4, 10)\n",
    "\n",
    ">>> a = np.array([1, 2, 3])\n",
    ">>> b = np.array([4, 5, 6])\n",
    ">>> np.stack((a, b))\n",
    "array([[1, 2, 3],\n",
    "       [4, 5, 6]])\n",
    "\n",
    ">>> np.stack((a, b), axis=-1)\n",
    "array([[1, 4],\n",
    "       [2, 5],\n",
    "       [3, 6]])\n",
    "File:      d:\\programfiles\\miniconda3\\lib\\site-packages\\numpy\\core\\shape_base.py\n",
    "Type:      function"
   ]
  },
  {
   "cell_type": "code",
   "execution_count": 23,
   "id": "8958e395-fc67-40f4-ab2a-93b7cc035a34",
   "metadata": {},
   "outputs": [
    {
     "name": "stdout",
     "output_type": "stream",
     "text": [
      "[[[ 0  1  2  3  4  5]\n",
      "  [ 6  7  8  9 10 11]\n",
      "  [12 13 14 15 16 17]\n",
      "  [18 19 20 21 22 23]]\n",
      "\n",
      " [[24 25 26 27 28 29]\n",
      "  [30 31 32 33 34 35]\n",
      "  [36 37 38 39 40 41]\n",
      "  [42 43 44 45 46 47]]]\n",
      "[11.5 35.5]\n",
      "[[[ 0  1  2  3  4  5]\n",
      "  [ 6  7  8  9 10 11]\n",
      "  [12 13 14 15 16 17]\n",
      "  [18 19 20 21 22 23]]\n",
      "\n",
      " [[24 25 26 27 28 29]\n",
      "  [30 31 32 33 34 35]\n",
      "  [36 37 38 39 40 41]\n",
      "  [42 43 44 45 46 47]]]\n"
     ]
    }
   ],
   "source": [
    "a = np.arange(2*4*6).reshape((2, 4, 6))\n",
    "print(a)\n",
    "print(a.mean(axis=(-1, -2)))\n",
    "print(a)"
   ]
  },
  {
   "cell_type": "code",
   "execution_count": 25,
   "id": "c106c8a6-4068-4d01-96d2-0a08e6c3b887",
   "metadata": {},
   "outputs": [
    {
     "data": {
      "text/plain": [
       "4.5"
      ]
     },
     "execution_count": 25,
     "metadata": {},
     "output_type": "execute_result"
    }
   ],
   "source": [
    "54/2/6"
   ]
  }
 ],
 "metadata": {
  "kernelspec": {
   "display_name": "Python 3 (ipykernel)",
   "language": "python",
   "name": "python3"
  },
  "language_info": {
   "codemirror_mode": {
    "name": "ipython",
    "version": 3
   },
   "file_extension": ".py",
   "mimetype": "text/x-python",
   "name": "python",
   "nbconvert_exporter": "python",
   "pygments_lexer": "ipython3",
   "version": "3.9.7"
  }
 },
 "nbformat": 4,
 "nbformat_minor": 5
}
