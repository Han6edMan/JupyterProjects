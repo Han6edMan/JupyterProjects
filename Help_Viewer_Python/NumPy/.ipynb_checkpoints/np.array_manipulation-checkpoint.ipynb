{
 "cells": [
  {
   "cell_type": "code",
   "execution_count": 1,
   "id": "e0e03e03",
   "metadata": {},
   "outputs": [],
   "source": [
    "import numpy as np"
   ]
  },
  {
   "cell_type": "markdown",
   "id": "4dfb5fdc",
   "metadata": {},
   "source": [
    "<center>\n",
    "\n",
    "# 数组堆叠"
   ]
  },
  {
   "cell_type": "markdown",
   "id": "20e43f62",
   "metadata": {
    "tags": []
   },
   "source": [
    "## `np.tile(A, reps)`\n",
    "\n",
    "#### Doctrings\n",
    "根据`reps`对`A`进行重复、堆叠并构造出一个新数组，其中\n",
    "- A : 类数组型，即被重复的数组；\n",
    "- reps : 类数组型，其第 i 个元素代表在`A`在第 i 个坐标轴上重复的次数。记`reps`长度为 d，返回数组的维度为`max(d, A.ndim)`：\n",
    "    - 若`A.ndim < d`，则`A`会通过添加新的坐标轴来扩充至 d 维；例如形状为 (3,) 的数组会被扩充为 (1, 3) 的 2D 数组，或形状为 (1, 1, 3) 的 3D 数组。如果需要扩充的维度并非上面提到的这种，例如希望扩充后形状为 (3, 1) ，应在调用此函数之前提前将`A`扩种至 d 维（例2）\n",
    "    - 若``A.ndim > d``，则`reps`会通过在其前面添加 1 来扩充至`A.ndim`的维数，例如`A`形状为 (2, 3, 4, 5)，则形状为 (2, 2) 的`reps`会被视为 (1, 1, 2, 2)（例1）\n",
    "\n",
    "官方建议，尽管此函数可以用于广播，但强烈建议使用`numpy`内置的广播操作和函数。\n",
    "\n",
    "#### See Also\n",
    "- repeat : Repeat elements of an array.\n",
    "- broadcast_to : Broadcast an array to a new shape\n",
    "\n",
    "\n",
    "#### Examples\n",
    "1. 在 axis=0 的维度上重复 2 次，`A.ndim > d`："
   ]
  },
  {
   "cell_type": "code",
   "execution_count": 18,
   "id": "a5978e53",
   "metadata": {
    "tags": []
   },
   "outputs": [
    {
     "name": "stdout",
     "output_type": "stream",
     "text": [
      "[[0 1 2 0 1 2]\n",
      " [3 4 5 3 4 5]]\n"
     ]
    }
   ],
   "source": [
    "A = np.array(\n",
    "    [[0, 1, 2],\n",
    "     [3, 4, 5]]\n",
    ")\n",
    "print(np.tile(A, reps=2))"
   ]
  },
  {
   "cell_type": "markdown",
   "id": "8943e878",
   "metadata": {},
   "source": [
    "2. `A.ndim`=2 < `d`=3 时，`A`会先扩充为`[1, 2, 3]`的形状，再进行堆叠；例如在 axis=0 的维度上重复 3 次、axis=1 的维度上重复 2 次、在 axis=2 的维度上重复 1 次，："
   ]
  },
  {
   "cell_type": "code",
   "execution_count": 28,
   "id": "80248c15",
   "metadata": {
    "collapsed": true,
    "jupyter": {
     "outputs_hidden": true
    },
    "tags": []
   },
   "outputs": [
    {
     "name": "stdout",
     "output_type": "stream",
     "text": [
      "[[[0 1 2]\n",
      "  [3 4 5]\n",
      "  [0 1 2]\n",
      "  [3 4 5]]\n",
      "\n",
      " [[0 1 2]\n",
      "  [3 4 5]\n",
      "  [0 1 2]\n",
      "  [3 4 5]]\n",
      "\n",
      " [[0 1 2]\n",
      "  [3 4 5]\n",
      "  [0 1 2]\n",
      "  [3 4 5]]]\n"
     ]
    }
   ],
   "source": [
    "print(np.tile(A, (3, 2, 1)))"
   ]
  },
  {
   "cell_type": "markdown",
   "id": "d9333001-39fc-4319-883c-58caf506c82a",
   "metadata": {},
   "source": [
    "如果想让`A`第一个维度大小保持不变，仅在第二个维度重复，需要利用`np.newaxis`："
   ]
  },
  {
   "cell_type": "code",
   "execution_count": 19,
   "id": "bcbab2bf-5044-4dd8-a285-3a8d002dc59a",
   "metadata": {},
   "outputs": [
    {
     "name": "stdout",
     "output_type": "stream",
     "text": [
      "[[[0 1 2]\n",
      "  [0 1 2]\n",
      "  [0 1 2]]\n",
      "\n",
      " [[3 4 5]\n",
      "  [3 4 5]\n",
      "  [3 4 5]]]\n"
     ]
    }
   ],
   "source": [
    "A_ = A[:, np.newaxis, :]\n",
    "\n",
    "print(np.tile(A_, reps=[1, 3, 1]))"
   ]
  },
  {
   "cell_type": "markdown",
   "id": "a37834a8-d2eb-4bb3-8a98-05af63dbe0fd",
   "metadata": {},
   "source": [
    "# "
   ]
  },
  {
   "cell_type": "markdown",
   "id": "990957d2",
   "metadata": {},
   "source": [
    "## `np.repeat(a, repeats, axis=None)`\n",
    "\n",
    "\n",
    "#### Docstring\n",
    "\n",
    "根据`repeats`对`a`中的元素，返回数组的形状除了在`axis`轴之外，其余与`a`相同。其中\n",
    "- `a`应为类数组类型；\n",
    "- `repeats`应为整型或整型数组，即每个元素重复的次数；当其为整型数组时，`axis`不能为`None`，`repeats`的第 i 个元素代表`a`在`axis`轴上第 i 个切片重复的次数（例3、4）\n",
    "- `axis`应为整型，用于指定在哪个维度上对元素进行重复操作；默认将输入数组拉直再对元素进行重复（例1）\n",
    "\n",
    "\n",
    "\n",
    "#### See Also\n",
    "\n",
    "- tile : Tile an array.\n",
    "- unique : Find the unique elements of an array.\n",
    "\n",
    "\n",
    "#### Examples\n",
    "\n",
    "1. `repeats`为整型且不指定`axis`时，默认先拉直再重复："
   ]
  },
  {
   "cell_type": "code",
   "execution_count": 6,
   "id": "f990dc84",
   "metadata": {
    "collapsed": true,
    "jupyter": {
     "outputs_hidden": true
    },
    "scrolled": true,
    "tags": []
   },
   "outputs": [
    {
     "name": "stdout",
     "output_type": "stream",
     "text": [
      "[1 1 2 2 3 3 3 3 4 4 5 5]\n"
     ]
    }
   ],
   "source": [
    "a = np.array(\n",
    "    [[1, 2, 3],\n",
    "     [3, 4, 5]]\n",
    ")\n",
    "print(np.repeat(a, 2))"
   ]
  },
  {
   "cell_type": "markdown",
   "id": "5821839e",
   "metadata": {},
   "source": [
    "2. `repeats`为整型，对数组在指定坐标轴上进行重复："
   ]
  },
  {
   "cell_type": "code",
   "execution_count": 7,
   "id": "705f10c6",
   "metadata": {
    "collapsed": true,
    "jupyter": {
     "outputs_hidden": true
    },
    "tags": []
   },
   "outputs": [
    {
     "name": "stdout",
     "output_type": "stream",
     "text": [
      "[[1 2 3]\n",
      " [1 2 3]\n",
      " [3 4 5]\n",
      " [3 4 5]]\n",
      "[[1 1 2 2 3 3]\n",
      " [3 3 4 4 5 5]]\n"
     ]
    }
   ],
   "source": [
    "print(np.repeat(a, 2, axis=0))\n",
    "print(np.repeat(a, 2, axis=1))"
   ]
  },
  {
   "cell_type": "markdown",
   "id": "aa0ee71a",
   "metadata": {},
   "source": [
    "3. `repeats`为整型数组，对 a 第一行元素重复 4 次、第二行元素重复 2 次"
   ]
  },
  {
   "cell_type": "code",
   "execution_count": 8,
   "id": "663d0a4b",
   "metadata": {
    "collapsed": true,
    "jupyter": {
     "outputs_hidden": true
    },
    "scrolled": true,
    "tags": []
   },
   "outputs": [
    {
     "data": {
      "text/plain": [
       "array([[1, 2, 3],\n",
       "       [1, 2, 3],\n",
       "       [1, 2, 3],\n",
       "       [1, 2, 3],\n",
       "       [3, 4, 5],\n",
       "       [3, 4, 5]])"
      ]
     },
     "execution_count": 8,
     "metadata": {},
     "output_type": "execute_result"
    }
   ],
   "source": [
    "np.repeat(a, [4, 2], axis=0)"
   ]
  },
  {
   "cell_type": "markdown",
   "id": "328f82a3",
   "metadata": {},
   "source": [
    "4. `repeats`为整型数组，对 a 第一列元素重复 4 次、第二列元素重复 2 次、第三列元素重复 3 次"
   ]
  },
  {
   "cell_type": "code",
   "execution_count": 9,
   "id": "6db45551",
   "metadata": {
    "collapsed": true,
    "jupyter": {
     "outputs_hidden": true
    },
    "tags": []
   },
   "outputs": [
    {
     "data": {
      "text/plain": [
       "array([[1, 1, 1, 1, 2, 2, 3, 3, 3],\n",
       "       [3, 3, 3, 3, 4, 4, 5, 5, 5]])"
      ]
     },
     "execution_count": 9,
     "metadata": {},
     "output_type": "execute_result"
    }
   ],
   "source": [
    "np.repeat(a, [4, 2, 3], axis=1)"
   ]
  },
  {
   "cell_type": "markdown",
   "id": "c1224c0d",
   "metadata": {},
   "source": [
    "5. `np.repeat`与`np.tile`的区别：前者是逐元素/逐切片重复的，而后者是整个复制的。从可视化角度来看，前者对每个像素点的范围进行放大，后者对整个图片进行堆叠"
   ]
  },
  {
   "cell_type": "code",
   "execution_count": 56,
   "id": "05cabb1d",
   "metadata": {
    "collapsed": true,
    "jupyter": {
     "outputs_hidden": true
    }
   },
   "outputs": [
    {
     "name": "stdout",
     "output_type": "stream",
     "text": [
      "[[1 1 2 2 3 3]\n",
      " [3 3 4 4 5 5]]\n",
      "[[1 2 3 1 2 3]\n",
      " [3 4 5 3 4 5]]\n",
      "[[1 2 3]\n",
      " [1 2 3]\n",
      " [3 4 5]\n",
      " [3 4 5]]\n",
      "[[1 2 3]\n",
      " [3 4 5]\n",
      " [1 2 3]\n",
      " [3 4 5]]\n"
     ]
    }
   ],
   "source": [
    "a = np.array([[1, 2, 3], [3, 4, 5]])\n",
    "print(np.repeat(a, 2, axis=1))\n",
    "print(np.tile(a, 2))\n",
    "\n",
    "print(np.repeat(a, 2, axis=0))\n",
    "print(np.tile(a, [2, 1]))"
   ]
  },
  {
   "cell_type": "markdown",
   "id": "79ba6c1d-146b-4f0a-91dd-971fdd739cc6",
   "metadata": {},
   "source": [
    "# "
   ]
  },
  {
   "cell_type": "markdown",
   "id": "1cc8c2a2-afd0-4a77-8a9a-d7409c605a5d",
   "metadata": {},
   "source": [
    "# "
   ]
  },
  {
   "cell_type": "markdown",
   "id": "eb0331b5-8271-467c-a195-18e769ec210f",
   "metadata": {},
   "source": [
    "<center>\n",
    "\n",
    "# 改变维数"
   ]
  },
  {
   "cell_type": "markdown",
   "id": "c5892cb1-c8a9-4a74-982e-b26ae9b21510",
   "metadata": {
    "jp-MarkdownHeadingCollapsed": true,
    "tags": []
   },
   "source": [
    "## `np.broadcast(self, /, *args, **kwargs)`\n",
    "\n",
    "对输入的参数`in1`、`in2`使用传播机制进行组合，并返回一个封装了结果的对象，该对象具有`shape`和`nd`属性，并可以用作迭代器；其中\n",
    "\n",
    "#### See Also\n",
    "- broadcast_arrays\n",
    "- broadcast_to\n",
    "- broadcast_shapes\n",
    "\n",
    "#### Examples\n",
    "1. 广播后返回的对象："
   ]
  },
  {
   "cell_type": "code",
   "execution_count": 40,
   "id": "f22372e9-3872-4182-95a1-dd485e2c5642",
   "metadata": {
    "collapsed": true,
    "jupyter": {
     "outputs_hidden": true,
     "source_hidden": true
    },
    "tags": []
   },
   "outputs": [
    {
     "name": "stdout",
     "output_type": "stream",
     "text": [
      "(1, 4)\n",
      "(1, 5)\n",
      "(1, 6)\n",
      "(2, 4)\n",
      "(2, 5)\n",
      "(2, 6)\n",
      "(3, 4)\n",
      "(3, 5)\n",
      "(3, 6)\n"
     ]
    }
   ],
   "source": [
    "# Manually adding two vectors, using broadcasting:\n",
    "\n",
    "x = np.array([[1], [2], [3]])\n",
    "y = np.array([4, 5, 6])\n",
    "b = np.broadcast(x, y)\n",
    "for i in b:\n",
    "    print(i)"
   ]
  },
  {
   "cell_type": "markdown",
   "id": "04dfb693-c56c-49dd-87de-5452d22c0e8b",
   "metadata": {},
   "source": [
    "手动广播机制与内置广播机制对比："
   ]
  },
  {
   "cell_type": "code",
   "execution_count": 41,
   "id": "59c6bb56-d926-4773-b96c-d79b018ae0ea",
   "metadata": {
    "collapsed": true,
    "jupyter": {
     "outputs_hidden": true,
     "source_hidden": true
    },
    "tags": []
   },
   "outputs": [
    {
     "name": "stdout",
     "output_type": "stream",
     "text": [
      "[[2.12199579e-314 9.88131292e-324 4.24399158e-314]\n",
      " [2.12199579e-314 6.36598737e-314 1.06099790e-313]\n",
      " [8.48798317e-314 6.36598738e-314 1.06099790e-313]]\n",
      "[[5 6 7]\n",
      " [6 7 8]\n",
      " [7 8 9]]\n"
     ]
    }
   ],
   "source": [
    "out = np.empty(b.shape)\n",
    "out.flat = [u+v for (u,v) in b]\n",
    "print(out)\n",
    "print(x + y)"
   ]
  },
  {
   "cell_type": "markdown",
   "id": "e00175a9-bd07-4121-aee5-61423bdca8db",
   "metadata": {},
   "source": [
    "# "
   ]
  },
  {
   "cell_type": "markdown",
   "id": "11f9ff0c-f018-43d6-b52a-ac6fd5473e6e",
   "metadata": {},
   "source": [
    "# "
   ]
  },
  {
   "cell_type": "markdown",
   "id": "7a2b9602-bc3d-4ca7-b9c3-f6563fbe8a22",
   "metadata": {},
   "source": [
    "<center>\n",
    "\n",
    "# 改变数组形状"
   ]
  },
  {
   "cell_type": "markdown",
   "id": "7afe1ed9-b556-4d49-b584-efed76b06f00",
   "metadata": {},
   "source": [
    "## `np.reshape(a, newshape, order='C')` or `ndarray.reshape(shape, order='C')`\n",
    "\n",
    "##### Args\n",
    "- a : 类数组型\n",
    "- newshape : 整型或整型元祖，应与原数组的形状兼容；当该参数为单个整数时，原数组会被拉直；当该参数中含有 -1 时，相应维度上的维数会根据原数组形状自行推断得到\n",
    "- order : 可以是`'C'`、`'F'`、`'A'`；以 C 顺序还是 Fortran 顺序读取原数组以及写入新数组，其中 C 顺序对数组最后一个维度的操作最快，而对第一个操作最慢，F 相反；注意`C`和`F`不会改变底层数组的内存布局，改变索引顺序；`A`则表示，如果`a`在内存中是 Fortran 连续的，则以类似 Fortran 的索引顺序读取，否则按照 C 顺序；\n",
    "\n",
    "\n",
    "##### Examples\n",
    "1. `reshape`常用情景："
   ]
  },
  {
   "cell_type": "code",
   "execution_count": 22,
   "id": "e5cbde9b-e17b-4f87-b183-fde501cffc70",
   "metadata": {
    "collapsed": true,
    "jupyter": {
     "outputs_hidden": true
    },
    "tags": []
   },
   "outputs": [
    {
     "name": "stdout",
     "output_type": "stream",
     "text": [
      "[[1 2]\n",
      " [3 4]\n",
      " [5 6]]\n"
     ]
    }
   ],
   "source": [
    "a = np.array([[1,2,3], [4,5,6]])\n",
    "print(np.reshape(a, (3,-1)))"
   ]
  },
  {
   "cell_type": "markdown",
   "id": "3a7a02ae-9e98-4a9c-bfd5-bea7e6b3b869",
   "metadata": {},
   "source": [
    "2. `reshape`可以看作先根据给定的索引顺序分解数组，再使用与分解相同的索引顺序将元素插入到新数组中，这可以通过设定读取和写入的顺序看出来："
   ]
  },
  {
   "cell_type": "code",
   "execution_count": 24,
   "id": "6d853ab1-03f9-4ea7-8487-aac95ee73283",
   "metadata": {},
   "outputs": [
    {
     "name": "stdout",
     "output_type": "stream",
     "text": [
      "[[ 0 -4 -3]\n",
      " [-2 -1 -5]]\n",
      "[ 0 -2 -4 -1 -3 -5]\n",
      "[[ 0 -4 -3]\n",
      " [-2 -1 -5]]\n"
     ]
    }
   ],
   "source": [
    "a = -np.arange(0, 6).reshape((3, 2))\n",
    "a_F = a.reshape((2, 3), order=\"F\")\n",
    "print(a_F)\n",
    "\n",
    "# is equivalent to\n",
    "a_ravel = np.ravel(a, order=\"F\")\n",
    "a_reshape = np.reshape(a_ravel, (2, 3), order=\"F\")\n",
    "print(a_ravel)\n",
    "print(a_reshape)"
   ]
  },
  {
   "cell_type": "markdown",
   "id": "a1a60130-619b-4307-877a-7b8231e6cd4d",
   "metadata": {},
   "source": [
    "3. 在不对数据进行复制的情况下改变数组形状并非总是可行的；如果希望在复制数据时引发错误，需要应将新形状赋值给数组的`shape`属性"
   ]
  },
  {
   "cell_type": "code",
   "execution_count": 25,
   "id": "aa559167-c1bc-43b0-9ccc-be64dfb4114d",
   "metadata": {
    "tags": []
   },
   "outputs": [
    {
     "name": "stdout",
     "output_type": "stream",
     "text": [
      "[[0. 0.]\n",
      " [0. 0.]\n",
      " [0. 0.]\n",
      " [0. 0.]\n",
      " [0. 0.]\n",
      " [0. 0.]\n",
      " [0. 0.]\n",
      " [0. 0.]\n",
      " [0. 0.]\n",
      " [0. 0.]]\n"
     ]
    }
   ],
   "source": [
    "a = np.zeros(20)\n",
    "a.shape = (10, 2)  #\n",
    "print(a)\n",
    "# A transpose makes the array non-contiguous\n",
    "b = a.T\n",
    "# Taking a view makes it possible to modify the shape without modifying the initial object.\n",
    "c = b.view()\n",
    "# c.shape  # will raise an error"
   ]
  }
 ],
 "metadata": {
  "kernelspec": {
   "display_name": "Python 3",
   "language": "python",
   "name": "python3"
  },
  "language_info": {
   "codemirror_mode": {
    "name": "ipython",
    "version": 3
   },
   "file_extension": ".py",
   "mimetype": "text/x-python",
   "name": "python",
   "nbconvert_exporter": "python",
   "pygments_lexer": "ipython3",
   "version": "3.8.5"
  }
 },
 "nbformat": 4,
 "nbformat_minor": 5
}
