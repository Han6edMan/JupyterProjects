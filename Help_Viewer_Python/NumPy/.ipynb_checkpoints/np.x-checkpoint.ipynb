{
 "cells": [
  {
   "cell_type": "code",
   "execution_count": 1,
   "metadata": {},
   "outputs": [],
   "source": [
    "import numpy as np\n",
    "import sys"
   ]
  },
  {
   "cell_type": "markdown",
   "metadata": {},
   "source": [
    "<div align=center>\n",
    "\n",
    "# 矩阵生成\n",
    "</div>"
   ]
  },
  {
   "cell_type": "markdown",
   "metadata": {},
   "source": [
    "# np.empty()\n",
    "`np.empty(shape, dtype=float, order='C')`\n",
    "\n",
    "**Docstring**\n",
    "\n",
    "返回不具有初始化项的具有给定形状和类型的数组，与`zeros`等不同，没有对元素进行初始化，进而可能会稍微快一些\n",
    "\n",
    "**Args**\n",
    "\n",
    "- shape: int or tuple of int\n",
    "\n",
    "- dtype: 默认`numpy.float64`.\n",
    "\n",
    "- order: `'C'`或`'F'`，以行为主的存储方式（C 语言方式）还是列为主（Fortran 语言方式）的存储方式存储数组\n",
    "\n",
    "\n",
    "**See Also**\n",
    "\n",
    "- empty_like : Return an empty array with shape and type of input.\n",
    "\n",
    "**Type**\n",
    "\n",
    "builtin_function_or_method\n",
    "\n",
    "**Examples**"
   ]
  },
  {
   "cell_type": "code",
   "execution_count": null,
   "metadata": {},
   "outputs": [],
   "source": [
    "x = np.empty([3, 4])\n",
    "print(x)\n",
    "x = np.empty([3, 4], dtype=int)\n",
    "print(x)"
   ]
  },
  {
   "cell_type": "markdown",
   "metadata": {},
   "source": [
    "#  "
   ]
  },
  {
   "cell_type": "markdown",
   "metadata": {},
   "source": [
    "# np.copy\n",
    "\n",
    "`np.copy(a, order='K')`\n",
    "\n",
    "**Docstring**\n",
    "\n",
    "等价于`np.array(a, copy=True)`，副本与原对象不绑定在同一数值上\n",
    "\n",
    "**参数**\n",
    "\n",
    "- order: {'C', 'F', 'A', 'K'}，决定了输出结果的内存布局\n",
    "    - 'C': C-order,\n",
    "    - 'F': F-order, \n",
    "    - 'A': 如果`a`是Fortran连续的，则为'F'，否则为'C' \n",
    "    - 'K': 尽可能的与`a`内存布局相同\n",
    "\n",
    "**Type**\n",
    "\n",
    "function"
   ]
  },
  {
   "cell_type": "code",
   "execution_count": 4,
   "metadata": {
    "scrolled": true
   },
   "outputs": [
    {
     "name": "stdout",
     "output_type": "stream",
     "text": [
      "[[ 0  1  2  3  4  5]\n",
      " [ 6  7  8  9 10 11]\n",
      " [12 13 14 15 16 17]\n",
      " [18 19 20 21 22 23]]\n",
      "[[ 3  1  2  3  4  5]\n",
      " [ 6  7  8  9 10 11]\n",
      " [12 13 14 15 16 17]\n",
      " [18 19 20 21 22 23]]\n"
     ]
    }
   ],
   "source": [
    "x = np.array(range(24)).reshape(4, 6)\n",
    "y = np.copy(x)\n",
    "y[0, 0] = 3\n",
    "print(x)\n",
    "print(y)"
   ]
  },
  {
   "cell_type": "code",
   "execution_count": 27,
   "metadata": {},
   "outputs": [],
   "source": [
    "x = np.zeros(3)\n",
    "x[1] = 1; x[2] = 2\n",
    "if x.tolist() == [1, 2, 3]:\n",
    "    print(x)"
   ]
  },
  {
   "cell_type": "markdown",
   "metadata": {},
   "source": [
    "#  "
   ]
  },
  {
   "cell_type": "markdown",
   "metadata": {},
   "source": [
    "# np.ndarray.copy()\n",
    "\n",
    "`a.copy(order='C')`\n",
    "\n",
    "\n",
    "**参数**\n",
    "\n",
    "- order: {'C', 'F', 'A', 'K'}，决定了输出结果的内存布局\n",
    "    - 'C': C-order,\n",
    "    - 'F': F-order, \n",
    "    - 'A': 如果`a`是Fortran连续的，则为'F'，否则为'C' \n",
    "    - 'K': 尽可能的与`a`内存布局相同\n",
    "\n",
    "**Type**\n",
    "\n",
    "method_descriptor"
   ]
  },
  {
   "cell_type": "markdown",
   "metadata": {},
   "source": [
    "#  "
   ]
  },
  {
   "cell_type": "markdown",
   "metadata": {},
   "source": [
    "# np.copyto()\n",
    "\n",
    "\n",
    "`copyto(dst, src, casting='same_kind', where=True)`\n",
    "\n",
    "**Docstring**\n",
    "\n",
    "将值从一个数组复制到另一个数组，必要时进行 broadcasting\n",
    "\n",
    "Raises a TypeError if the `casting` rule is violated, and if\n",
    "`where` is provided, it selects which elements to copy.\n",
    "\n",
    "\n",
    "\n",
    "Parameters\n",
    "----------\n",
    "dst : ndarray\n",
    "    The array into which values are copied.\n",
    "src : array_like\n",
    "    The array from which values are copied.\n",
    "casting : {'no', 'equiv', 'safe', 'same_kind', 'unsafe'}, optional\n",
    "    Controls what kind of data casting may occur when copying.\n",
    "\n",
    "      * 'no' means the data types should not be cast at all.\n",
    "      * 'equiv' means only byte-order changes are allowed.\n",
    "      * 'safe' means only casts which can preserve values are allowed.\n",
    "      * 'same_kind' means only safe casts or casts within a kind,\n",
    "        like float64 to float32, are allowed.\n",
    "      * 'unsafe' means any data conversions may be done.\n",
    "where : array_like of bool, optional\n",
    "    A boolean array which is broadcasted to match the dimensions\n",
    "    of `dst`, and selects elements to copy from `src` to `dst`\n",
    "    wherever it contains the value True.\n",
    "Type:      function"
   ]
  },
  {
   "cell_type": "code",
   "execution_count": 10,
   "metadata": {},
   "outputs": [
    {
     "name": "stdout",
     "output_type": "stream",
     "text": [
      "[-0.55726102  3.35587423 -2.64781587 -1.14678239  1.93481062  3.42564306\n",
      " -0.92006697 -3.75494862  5.62975266  2.91954578  2.92717907 -2.66854019]\n",
      "[-0.55726102  0.          1.          2.          3.          4.\n",
      "  5.          6.          7.          8.          2.92717907 -2.66854019]\n"
     ]
    }
   ],
   "source": [
    "x = 4 * np.random.randn(12)\n",
    "print(x)\n",
    "y = np.array(range(9))\n",
    "x[1:-2] = y\n",
    "print(x)"
   ]
  },
  {
   "cell_type": "markdown",
   "metadata": {},
   "source": [
    "#  "
   ]
  },
  {
   "cell_type": "markdown",
   "metadata": {},
   "source": [
    "# np.where()\n",
    "\n",
    "`np.where(condition, [x, y])`\n",
    "\n",
    "**Docstring**\n",
    "\n",
    "根据所提供的条件，满足时返回`x`，不满足时返回`y`；当只提供`condition`时，该函数等价于``np.asarray(condition).nonzero()``，即满足条件的索引数组，索引数组的数量原数组的维数相同；\n",
    "\n",
    "**Args**\n",
    "- condition: 布尔型数组，当`condition=True`时返回`x`，否则返回`y`\n",
    "- x, y: 任意类型数组，`x`, `y`和`condition`在形状上应为兼容的\n",
    "\n",
    "**Type**: function"
   ]
  },
  {
   "cell_type": "code",
   "execution_count": 6,
   "metadata": {
    "scrolled": true
   },
   "outputs": [
    {
     "name": "stdout",
     "output_type": "stream",
     "text": [
      "(array([0, 1, 2, 2], dtype=int64), array([2, 0, 0, 2], dtype=int64))\n",
      "[[1 8]\n",
      " [3 4]]\n",
      "[[10  0  0  0]\n",
      " [10 11  1  1]\n",
      " [10 11 12  2]]\n"
     ]
    }
   ],
   "source": [
    "x = np.array([[1, 2, 3, 4], [3, 2, 1, 2], [3, 4, 3, 2]])\n",
    "y = np.where(x == 3)\n",
    "print(y)\n",
    "x = np.where(\n",
    "    [[True, False], [True, True]],\n",
    "    [[1, 2], [3, 4]],\n",
    "    [[9, 8], [7, 6]]\n",
    ")\n",
    "print(x)\n",
    "x, y = np.ogrid[:3, :4]\n",
    "z = np.where(x < y, x, 10 + y)\n",
    "print(z)"
   ]
  },
  {
   "cell_type": "markdown",
   "metadata": {},
   "source": [
    "#  "
   ]
  },
  {
   "cell_type": "markdown",
   "metadata": {},
   "source": [
    "# np.int_()\n",
    "`np.int_(self, /, *args, **kwargs)`\n",
    "\n",
    "**Docstring**:\n",
    "\n",
    "带符号的整型，与 Python 的`int`和 C 的``long``, Numpy``np.int32``兼容\n",
    "\n",
    "**Character code**: ``'l'``\n",
    "\n",
    "**Canonical name**: ``np.int_``\n",
    "\n",
    "**File**:   \\numpy\\\\\\_\\_init__.py\n",
    "\n",
    "**Type**:           type"
   ]
  },
  {
   "cell_type": "markdown",
   "metadata": {},
   "source": [
    "#  "
   ]
  },
  {
   "cell_type": "markdown",
   "metadata": {},
   "source": [
    "# np.load()\n",
    "\n",
    "``` python\n",
    "np.load(\n",
    "    file,\n",
    "    mmap_mode=None,\n",
    "    allow_pickle=False,\n",
    "    fix_imports=True,\n",
    "    encoding='ASCII',\n",
    ")\n",
    "```\n",
    "**Docstring**\n",
    "\n",
    "从``.npy``、``.npz``或 pickle 文件中加载数组或 pickled 对象，对于``.npz``文件，返回的 `NpzFile` 类的实例化对象需避免泄漏文件描述符，加载的包括了目标数组的文件通常包括``pickle``模块，这样操作对于错误的或恶意构造的数据是不安全的，应考虑设置``allow_pickle=False``\n",
    "\n",
    "__Args__\n",
    "\n",
    "- file: 要加载的文件，可以是类文件的对象、字符串或pathlib.Path；类文件对象需要支持``seek()``和``read()``方法， methods，对于 Pickled 文件而言，类文件对象还需要支持``readline()``方法\n",
    "\n",
    "    - 如果文件包含pickle数据，那么将返回存储在pickle中的任何对象\n",
    "    - 如果文件是``.npy``文件，则返回单一数组\n",
    "    - 如果文件是``.npz``文件，则返回一个字典型对象，其由 ``{filename: array}`` 键值对组成，存档中的每个文件都有一个，且返回值以类似于`open`的方式支持上下文管理器协议：\n",
    "    ```\n",
    "    with load('foo.npz') as data:\n",
    "        a = data['a']\n",
    "    ```\n",
    "\n",
    "- mmap_mode: 可以为`None`、`r+`、`r`、`w+`、`c`，若不为时`None`，则使用给定模式对文件进行内存映射(memory map)，对映射模式的详细说明参见`numpy.memmap`；一个内存映射得到的数组保存在片上，然而该数组可以像 `ndarray` 被访问及被切片；当不需要将整个文件读入内存，而只需访问大文件的小片段是，内存映射能够提供很多便利\n",
    "\n",
    "- allow_pickle: 是否允许加载保存在 npy 文件的 pickle 对象，默认为`False`；禁止 pickle 的原因包括安全性，因为加载 pickle 数据过程可能会执行任意代码，若允许 pickle，加载对象常常会失败\n",
    "\n",
    "- fix_imports: 只当在 Python 3 中加载由 Python 2 生成的 pickle文件时使用，其中包括包含目标数组的npy/npz文件\n",
    "\n",
    "- encoding : 指明读取 Python 2 字符串时使用什么编码，只当在 Python 3 中加载由 Python 2 生成的 pickle文件时使用，其中包括包含目标数组的npy/npz文件，仅支持\"latin1\"、\"ASCII\"、“bytes”，其他取值可能破坏数字数据，默认为\"ASCII\"\n",
    "\n",
    "\n",
    "\n",
    "\n",
    "**Type**:      function"
   ]
  },
  {
   "cell_type": "code",
   "execution_count": null,
   "metadata": {
    "scrolled": true
   },
   "outputs": [],
   "source": [
    "np.save('./load_test/load_test1', np.array([[1, 2, 3], [4, 5, 6]]))\n",
    "data = np.load('./load_test/load_test1.npy')\n",
    "print(data)"
   ]
  },
  {
   "cell_type": "code",
   "execution_count": null,
   "metadata": {},
   "outputs": [],
   "source": [
    "# Store compressed data to disk, and load it again\n",
    "a=np.array([[1, 2, 3], [4, 5, 6]])\n",
    "b=np.array([1, 2])\n",
    "np.savez('./load_test/load_test2', a=a, b=b)\n",
    "data = np.load('./load_test/load_test2.npz')\n",
    "print(data[\"a\"])\n",
    "print(data[\"b\"])\n",
    "data.close()"
   ]
  },
  {
   "cell_type": "code",
   "execution_count": null,
   "metadata": {},
   "outputs": [],
   "source": [
    "# Mem-map the stored array, and then access the second row directly from disk:\n",
    "X = np.load('./load_test/load_test1.npy', mmap_mode='r')\n",
    "X[1, :]"
   ]
  },
  {
   "cell_type": "markdown",
   "metadata": {},
   "source": [
    "#  "
   ]
  },
  {
   "cell_type": "markdown",
   "metadata": {},
   "source": [
    "# np.asarray()\n",
    "\n",
    "`np.asarray(a, dtype=None, order=None)`\n",
    "\n",
    "**Args**\n",
    "\n",
    "- a: 可以是列表、由元组组成的列表、元组、元组组成的元组、列表组成的元组、ndarray，若`a`为 ndarray 的子类，将返回 ndarray 的基类\n",
    "\n",
    "- dtype: 略\n",
    "\n",
    "- order: `C`或`F`，即使用行主内存(C语言风格)表示还是列主内存表示(Fortran语言格式)，默认为C\n",
    "\n",
    "\n",
    "**See Also**\n",
    "\n",
    "- asanyarray: Similar function which passes through subclasses.\n",
    "\n",
    "- ascontiguousarray: Convert input to a contiguous array.\n",
    "\n",
    "- asfarray: Convert input to a floating point ndarray.\n",
    "\n",
    "- asfortranarray : Convert input to an ndarray with column-major memory order.\n",
    "\n",
    "- asarray_chkfinite : Similar function which checks input for NaNs and Infs.\n",
    "\n",
    "- fromiter : Create an array from an iterator.\n",
    "\n",
    "- fromfunction : Construct an array by executing a function on grid positions.\n",
    "\n",
    "**Type**\n",
    "\n",
    "function"
   ]
  },
  {
   "cell_type": "code",
   "execution_count": 44,
   "metadata": {},
   "outputs": [
    {
     "name": "stdout",
     "output_type": "stream",
     "text": [
      "[[1 2]\n",
      " [3 4]]\n",
      "\n",
      "[[1 2]\n",
      " [3 4]]\n",
      "\n",
      "False\n",
      "False\n",
      "\n"
     ]
    }
   ],
   "source": [
    "x = np.array([[1, 2], [3, 4]])\n",
    "y = np.asarray(x, order=\"F\")\n",
    "z = np.asarray(x, order=\"C\")\n",
    "print(y, z, sep=\"\\n\\n\", end=\"\\n\\n\")\n",
    "print(y is x, z is x, sep=\"\\n\", end=\"\\n\\n\")"
   ]
  },
  {
   "cell_type": "code",
   "execution_count": null,
   "metadata": {},
   "outputs": [],
   "source": [
    "# ragged list\n",
    "x = [[1, 2], [3, 4], [2]]\n",
    "x = np.asarray(x)\n",
    "y = np.array(x)\n",
    "print(x)\n",
    "print(y)\n",
    "print(x == y)\n",
    "print(x is y)"
   ]
  },
  {
   "cell_type": "code",
   "execution_count": null,
   "metadata": {},
   "outputs": [],
   "source": [
    "# 与`asanyarray`相反，ndarray的子类没有被传递（啥意思？）\n",
    "print(issubclass(np.recarray, np.ndarray))\n",
    "a = np.array([(1.0, 2), (3.0, 4)], dtype='f4,i4').view(np.recarray)\n",
    "print(np.asarray(a) is a)\n",
    "print(np.asanyarray(a) is a)"
   ]
  },
  {
   "cell_type": "markdown",
   "metadata": {},
   "source": [
    "#  "
   ]
  },
  {
   "cell_type": "markdown",
   "metadata": {},
   "source": [
    "# np.savez_compressed\n",
    "\n",
    "`np.savez_compressed(file, *args, **kwds)`\n",
    "\n",
    "**Docstring**\n",
    "\n",
    "将若干数组以``.npz``的压缩文件格式保存起来。``.npz``格式文件是根据其保存的变量命名的压缩文件，该文件是经过``zipfile.ZIP_DEFLATED``压缩，且其包含文件均为``.npy``格式文件，``.npy``格式文件的描述详见`numpy.lib.format`\n",
    "\n",
    "当通过`load`打开一个已保存的``.npz``文件时，将返回一个`NpzFile`类字典的对象，该对象支持查阅它的数组列表(利用``.files``属性)及数组本身\n",
    "\n",
    "**Args**\n",
    "\n",
    "- file: 可以是保存数据的字符串型的文件名、已打开的文件或类文件对象；若为字符串或路径，且该文件不存在，则自动将为期添加扩展名``.npz``\n",
    "\n",
    "- args: 保存到文件里的数组；由于 Python 无法知道`savez`外数组的名字，故数组默认保存为\"arr_0\"，\"arr_1\"等；该参数可以是任意表达式；\n",
    "\n",
    "- kwds: 若给定值，数组将以给定值作为名称保存在文件里，否则默认为\"arr_0\"，\"arr_1\"等\n",
    "\n",
    "\n",
    "\n",
    "**See Also**\n",
    "\n",
    "- numpy.save : Save a single array to a binary file in NumPy format.\n",
    "\n",
    "- numpy.savetxt : Save an array to a file as plain text.\n",
    "\n",
    "- numpy.savez : Save several arrays into an uncompressed ``.npz`` file format\n",
    "\n",
    "- numpy.load : Load the files created by savez_compressed.\n",
    "\n",
    "**Type**\n",
    "\n",
    "function"
   ]
  },
  {
   "cell_type": "code",
   "execution_count": null,
   "metadata": {},
   "outputs": [],
   "source": [
    "x = np.random.rand(3, 2)\n",
    "y = np.random.rand(4)\n",
    "np.savez_compressed('./test_files/savez_compressed_test/test1', x=x, y=y)\n",
    "loaded = np.load('./test_files/savez_compressed_test/test1.npz')\n",
    "print(np.array_equal(x, loaded['x']))\n",
    "print(np.array_equal(y, loaded['y']))"
   ]
  },
  {
   "cell_type": "markdown",
   "metadata": {},
   "source": [
    "# "
   ]
  },
  {
   "cell_type": "markdown",
   "metadata": {},
   "source": [
    "# np.argmax()\n",
    "`np.argmax(a, axis=None, out=None)`\n",
    "\n",
    "返回最大值所在的索引，若含有多个相同的最大值，则返回最先出现的那个值的索引，即较小的索引\n",
    "\n",
    "**Args**\n",
    "- a: 输入数组或类数组\n",
    "- axis: 默认情况下，该函数会将数组`a`拉直，再进行排序，并返回值最大的元素对应的索引，此时返回结果为单个整数；当指明`axis`时，则等价于排序时以该坐标轴上的索引为变量进行比较，例如`axis=1`时，排序的过程为$\\displaystyle\\max_{idx1} \\mathtt{a[idx0, idx1, idx2]}$，此时返回结果的形状等价于为原数组形状去掉`axis`上的元素得到的形状；\n",
    "- out : 如果指定了数组，结果则会直接 insert 至该数组；该数组的形状应与返回的结果相匹配；\n",
    "\n",
    "\n",
    "**File**:   \\numpy\\core\\fromnumeric.py\n",
    "\n",
    "**Type**:      function\n",
    "\n",
    "**Examples**"
   ]
  },
  {
   "cell_type": "code",
   "execution_count": 36,
   "metadata": {},
   "outputs": [
    {
     "data": {
      "text/plain": [
       "array([[1, 1, 0, 1],\n",
       "       [0, 0, 1, 0],\n",
       "       [1, 1, 1, 0]], dtype=int64)"
      ]
     },
     "execution_count": 36,
     "metadata": {},
     "output_type": "execute_result"
    }
   ],
   "source": [
    "a = np.array([[[5, 0, 3, 3], [7, 9, 3, 5], [2, 4, 7, 9]],\n",
    "              [[8, 8, 1, 6], [7, 7, 8, 1], [5, 9, 8, 9]]])\n",
    "assert np.argmax(a) == 5  # the idx of the 1st max value \"9\" is 5\n",
    "assert a[np.unravel_index(5, a.shape)] == 9\n",
    "np.argmax(a, axis=0)\n",
    "# => [[1, 1, 0, 1], [0, 0, 1, 0], [1, 1, 1, 0]]\n",
    "np.argmax(a, axis=1)  # => [[1, 1, 2, 2], [0, 2, 1, 2]]\n",
    "np.argmax(a, axis=2)  # => [[0, 1, 3], [0, 2, 1]]"
   ]
  },
  {
   "cell_type": "code",
   "execution_count": 37,
   "metadata": {},
   "outputs": [
    {
     "data": {
      "text/plain": [
       "array([[4],\n",
       "       [3]])"
      ]
     },
     "execution_count": 37,
     "metadata": {},
     "output_type": "execute_result"
    }
   ],
   "source": [
    "x = np.array([[4,2,3], [1,0,3]])\n",
    "a = np.argmax(x, axis=-1)  # => [0 2]\n",
    "np.take_along_axis(x, np.expand_dims(a, axis=-1), axis=-1)\n",
    "# np.take_along_axis(x, np.expand_dims(a, axis=-1), axis=-1).squeeze(axis=-1)"
   ]
  },
  {
   "cell_type": "markdown",
   "metadata": {},
   "source": [
    "#  "
   ]
  },
  {
   "cell_type": "markdown",
   "metadata": {},
   "source": [
    "#  "
   ]
  },
  {
   "cell_type": "markdown",
   "metadata": {},
   "source": [
    "# np.add()\n",
    "```python\n",
    "add(x1, x2, /,\n",
    "    out=None,\n",
    "    *,\n",
    "    where=True,\n",
    "    casting='same_kind',\n",
    "    order='K',\n",
    "    dtype=None,\n",
    "    subok=True[, signature, extobj]\n",
    ")\n",
    "```\n",
    "\n",
    "**Args**\n",
    "\n",
    "- x1, x2: 若``x1.shape != x2.shape``，他们必须对同一个形状是 broadcastable 的，同时该形状作为输出数组的形状\n",
    "\n",
    "- out: 可以是ndarray、None、或这两者组成的元组；传值必须与输入 broadcast 得到的形状相同；没有传值则返回新分配的数组；元组(可能仅作为关键字参数)的长度必须与输出的数量相等\n",
    "\n",
    "- where: 可以是类数组array_like, optional\n",
    "    This condition is broadcast over the input. At locations where the\n",
    "    condition is True, the `out` array will be set to the ufunc result.\n",
    "    Elsewhere, the `out` array will retain its original value.\n",
    "    Note that if an uninitialized `out` array is created via the default\n",
    "    ``out=None``, locations within it where the condition is False will\n",
    "    remain uninitialized.\n",
    "- 其他参数参见`ufunc docs <ufuncs.kwargs>`.\n",
    "\n",
    "**Type**\n",
    "\n",
    "ufunc\n",
    "\n",
    "\n",
    "Examples\n",
    "--------\n",
    ">>> np.add(1.0, 4.0)\n",
    "5.0\n",
    ">>> x1 = np.arange(9.0).reshape((3, 3))\n",
    ">>> x2 = np.arange(3.0)\n",
    ">>> np.add(x1, x2)\n",
    "array([[  0.,   2.,   4.],\n",
    "       [  3.,   5.,   7.],\n",
    "       [  6.,   8.,  10.]])\n",
    "Class docstring:\n",
    "Functions that operate element by element on whole arrays.\n",
    "\n",
    "To see the documentation for a specific ufunc, use `info`.  For\n",
    "example, ``np.info(np.sin)``.  Because ufuncs are written in C\n",
    "(for speed) and linked into Python with NumPy's ufunc facility,\n",
    "Python's help() function finds this page whenever help() is called\n",
    "on a ufunc.\n",
    "\n",
    "A detailed explanation of ufuncs can be found in the docs for :ref:`ufuncs`.\n",
    "\n",
    "Calling ufuncs:\n",
    "\n",
    "\n",
    "op(*x[, out], where=True, **kwargs)\n",
    "Apply `op` to the arguments `*x` elementwise, broadcasting the arguments.\n",
    "\n",
    "The broadcasting rules are:\n",
    "\n",
    "* Dimensions of length 1 may be prepended to either array.\n",
    "* Arrays may be repeated along dimensions of length 1.\n",
    "\n",
    "Parameters\n",
    "----------\n",
    "*x : array_like\n",
    "    Input arrays.\n",
    "out : ndarray, None, or tuple of ndarray and None, optional\n",
    "    Alternate array object(s) in which to put the result; if provided, it\n",
    "    must have a shape that the inputs broadcast to. A tuple of arrays\n",
    "    (possible only as a keyword argument) must have length equal to the\n",
    "    number of outputs; use None for uninitialized outputs to be\n",
    "    allocated by the ufunc.\n",
    "where : array_like, optional\n",
    "    This condition is broadcast over the input. At locations where the\n",
    "    condition is True, the `out` array will be set to the ufunc result.\n",
    "    Elsewhere, the `out` array will retain its original value.\n",
    "    Note that if an uninitialized `out` array is created via the default\n",
    "    ``out=None``, locations within it where the condition is False will\n",
    "    remain uninitialized.\n",
    "**kwargs\n",
    "    For other keyword-only arguments, see the :ref:`ufunc docs <ufuncs.kwargs>`.\n",
    "\n",
    "Returns\n",
    "-------\n",
    "r : ndarray or tuple of ndarray\n",
    "    `r` will have the shape that the arrays in `x` broadcast to; if `out` is\n",
    "    provided, it will be returned. If not, `r` will be allocated and\n",
    "    may contain uninitialized values. If the function has more than one\n",
    "    output, then the result will be a tuple of arrays."
   ]
  },
  {
   "cell_type": "markdown",
   "metadata": {},
   "source": [
    "#  "
   ]
  },
  {
   "cell_type": "markdown",
   "metadata": {},
   "source": [
    "# np.argsort()\n",
    "`np.argsort(a, axis=-1, kind=None, order=None)`\n",
    "\n",
    "**Docstring**\n",
    "\n",
    "Returns the indices that would sort an array.\n",
    "\n",
    "Perform an indirect sort along the given axis using the algorithm specified\n",
    "by the `kind` keyword. It returns an array of indices of the same shape as\n",
    "`a` that index data along the given axis in sorted order.\n",
    "\n",
    "**Args**\n",
    "- a : 略\n",
    "- axis : 默认 -1，None 时对所有元素进行操作\n",
    "- kind: 可以是`'quicksort'`, `'mergesort'`, `'heapsort'`, `'stable'`，即排序所使用的算法，默认`'quicksort'`，其中`'stable'`和`'mergesort'`都在幕后 (under the covers) 使用 timsort，且实际的实现方式会随着数据类型的不同而不同；`'mergesort'`仅用于与旧版本的兼容性（retained for backwards compatibility）不同的排序算法见`np.sort`\n",
    "- order : 字符串或字符串构成的列表，当' a '是一个定义了字段的数组时，这个参数指定了首先比较哪个字段，第二个字段，等等。可以将单个字段指定为字符串，但不需要指定所有字段，但仍将使用未指定的字段(按照它们在dtype中出现的顺序)来中断绑定。   When `a` is an array with fields defined, this argument specifies which fields to compare first, second, etc.  A single field can be specified as a string, and not all fields need be specified, but unspecified fields will still be used, in the order in which they come up in the dtype, to break ties.\n",
    "\n",
    "\n",
    "**File**:     \\numpy\\core\\fromnumeric.py\n",
    "\n",
    "**Type**:      function\n",
    "\n",
    "### Examples"
   ]
  },
  {
   "cell_type": "code",
   "execution_count": 5,
   "metadata": {},
   "outputs": [
    {
     "name": "stdout",
     "output_type": "stream",
     "text": [
      "[[2 0 1]\n",
      " [0 1 2]]\n",
      "[[-1  0  3]\n",
      " [ 2  2  7]]\n"
     ]
    }
   ],
   "source": [
    "x = np.array([[0, 3, -1], [2, 2, 7]])\n",
    "idx = np.argsort(x, axis=1)  # [[2, 0, 1], [0, 1, 2]]\n",
    "x_sorted = np.take_along_axis(x, idx, axis=1)\n",
    "print(x_sorted)"
   ]
  },
  {
   "cell_type": "code",
   "execution_count": 7,
   "metadata": {},
   "outputs": [
    {
     "name": "stdout",
     "output_type": "stream",
     "text": [
      "[1 0]\n",
      "[0 1]\n"
     ]
    }
   ],
   "source": [
    "idx = np.unravel_index(np.argsort(x, axis=None), x.shape)\n",
    "\n",
    "# Sorting with keys:\n",
    "x = np.array([(1, 0), (0, 1)], dtype=[('x', '<i4'), ('y', '<i4')])\n",
    "print(np.argsort(x, order=('x','y')))\n",
    "print(np.argsort(x, order=('y','x')))"
   ]
  },
  {
   "cell_type": "markdown",
   "metadata": {},
   "source": [
    "#  "
   ]
  },
  {
   "cell_type": "markdown",
   "metadata": {},
   "source": [
    "#  "
   ]
  },
  {
   "cell_type": "markdown",
   "metadata": {},
   "source": [
    "# np.unique()\n",
    "```python\n",
    "np.unique(\n",
    "    ar,\n",
    "    return_index=False,\n",
    "    return_inverse=False,\n",
    "    return_counts=False,\n",
    "    axis=None,\n",
    ")\n",
    "```\n",
    "**Docstring**\n",
    "\n",
    "返回`unique`和`unique_x`。对于`unique`数组，若原数组没有重复元素，则输出原数组；否则对于重复出现的元素，只输出第一个出现的元素。对于`unique_x`数组，`return_index`、`return_inverse`、`return_counts`的不同设定还将返回不同数组，详情见下\n",
    "\n",
    "\n",
    "**Args**\n",
    "\n",
    "- ar: 若非指明`axis`，否则输出总为一维数组\n",
    "\n",
    "- return_index: 为真则除返回`unique`之外，还返回`unique_indices`，其元素为`unique`中元素在`ar`中第一次出现时的索引；指明`axis`时，为`axis`上的索引\n",
    "\n",
    "- return_inverse: 为真则除返回`unique`之外，还返回`unique_inverse`，其元素为`ar`中每一个元素在`unique`中的索引；指明`axis`时，为`axis`上的索引\n",
    "\n",
    "- return_counts: 为真则除返回`unique`之外，还返回`unique_counts`，其元素为`unique`每个元素出现在`ar`的次数\n",
    "\n",
    "- axis: 如果是None，`ar`将被拉直。如果是整数，指定轴的维度上的数组将被视为一维数组并被拉直，更多细节参见注释。`axis`不支持包含对象的对象数组或结构化数组（structured arrays）\n",
    "\n",
    "\n",
    "\n",
    "**See Also**\n",
    "\n",
    "numpy.lib.arraysetops : Module with a number of other functions for performing set operations on arrays.\n",
    "\n",
    "Notes\n",
    "-----\n",
    "When an axis is specified, the subarrays indexed by the axis are sorted.\n",
    "This is done by making the specified axis the first dimension of the array\n",
    "(move the axis to the first dimension to keep the order of the other axes)\n",
    "and then flattening the subarrays in C order. The flattened subarrays are\n",
    "then viewed as a structured type with each element given a label, with the\n",
    "effect that we end up with a 1-D array of structured types that can be\n",
    "treated in the same way as any other 1-D array. The result is that the\n",
    "flattened subarrays are sorted in lexicographic order starting with the\n",
    "first element.\n",
    "\n",
    "**Type**\n",
    "\n",
    "function\n",
    "\n",
    "### Examples\n",
    "一维数组："
   ]
  },
  {
   "cell_type": "code",
   "execution_count": 2,
   "metadata": {},
   "outputs": [
    {
     "name": "stdout",
     "output_type": "stream",
     "text": [
      "the first index of `a` in `x` is 0\n",
      "the first index of `b` in `x` is 1\n",
      "the first index of `c` in `x` is 3\n",
      "[ True  True  True]\n",
      "['a' 'b' 'c'] [0 1 1 2 0]\n",
      "the 1-th value in `x`, which is a, has the index 0 in `u` \n",
      "the 2-th value in `x`, which is b, has the index 1 in `u` \n",
      "the 3-th value in `x`, which is b, has the index 1 in `u` \n",
      "the 4-th value in `x`, which is c, has the index 2 in `u` \n",
      "the 5-th value in `x`, which is a, has the index 0 in `u` \n",
      "['a' 'b' 'b' 'c' 'a']\n"
     ]
    }
   ],
   "source": [
    "x = np.array(['a', 'b', 'b', 'c', 'a'])\n",
    "u, idx = np.unique(x, return_index=True)\n",
    "for i in range(len(u)):\n",
    "    print(\"the first index of `{}` in `x` is {}\".format(u[i], idx[i]))\n",
    "print(x[idx] == u)\n",
    "u, inv = np.unique(x, return_inverse=True)\n",
    "print(u, inv)\n",
    "for i in range(len(x)):\n",
    "    print(\"the {}-th value in `x`, which is {}, has the index {} in `u` \".format(i+1, x[i], inv[i]))\n",
    "# Reconstruct the input array `x` from the unique values:\n",
    "print(u[inv])"
   ]
  },
  {
   "cell_type": "code",
   "execution_count": null,
   "metadata": {},
   "outputs": [],
   "source": [
    "x = list(\"bcdghvdcxnbshcvdsbbjhvdbvvcghsdvchds\")\n",
    "print(np.unique(x))"
   ]
  },
  {
   "cell_type": "markdown",
   "metadata": {},
   "source": [
    "多维数组在不指明`axis`时直接返回排序后的一维数组："
   ]
  },
  {
   "cell_type": "code",
   "execution_count": 3,
   "metadata": {
    "scrolled": true
   },
   "outputs": [
    {
     "name": "stdout",
     "output_type": "stream",
     "text": [
      "[[1 3 1 3 2 2]\n",
      " [3 0 3 2 3 1]\n",
      " [3 3 0 3 0 0]\n",
      " [2 3 2 0 3 1]]\n"
     ]
    }
   ],
   "source": [
    "x = np.random.randint(0, 4, [4, 6])\n",
    "print(x)"
   ]
  },
  {
   "cell_type": "code",
   "execution_count": 4,
   "metadata": {},
   "outputs": [
    {
     "name": "stdout",
     "output_type": "stream",
     "text": [
      "(array([0, 1, 2, 3]), array([7, 0, 4, 1], dtype=int64))\n",
      "(array([0, 1, 2, 3]), array([1, 3, 1, 3, 2, 2, 3, 0, 3, 2, 3, 1, 3, 3, 0, 3, 0, 0, 2, 3, 2, 0,\n",
      "       3, 1], dtype=int64))\n",
      "(array([0, 1, 2, 3]), array([ 5,  4,  5, 10], dtype=int64))\n"
     ]
    }
   ],
   "source": [
    "print(np.unique(x, return_index=True))\n",
    "print(np.unique(x, return_inverse=True))\n",
    "print(np.unique(x, return_counts=True))"
   ]
  },
  {
   "cell_type": "markdown",
   "metadata": {},
   "source": [
    "指明`axis`时的返回值"
   ]
  },
  {
   "cell_type": "code",
   "execution_count": null,
   "metadata": {
    "scrolled": true
   },
   "outputs": [],
   "source": [
    "x = np.random.randint(low=0, high=2, size=[9, 3])\n",
    "print(x)"
   ]
  },
  {
   "cell_type": "code",
   "execution_count": null,
   "metadata": {},
   "outputs": [],
   "source": [
    "u, idx = np.unique(x, axis=0, return_index=True)\n",
    "print(u, idx)\n",
    "u, inv = np.unique(x, axis=0, return_inverse=True)\n",
    "print(u, inv)\n",
    "u, cnt = np.unique(x, axis=0, return_counts=True)\n",
    "print(u, cnt)"
   ]
  },
  {
   "cell_type": "markdown",
   "metadata": {},
   "source": [
    "#  "
   ]
  },
  {
   "cell_type": "markdown",
   "metadata": {},
   "source": [
    "#  "
   ]
  },
  {
   "cell_type": "markdown",
   "metadata": {},
   "source": [
    "# np.nonzero()\n",
    "`np.nonzero(a)` or `arr.nonzero()`\n",
    "\n",
    "**Docstring**\n",
    "\n",
    "返回一个元组，元组包含了若干 ndarray，ndarray的数量为输入数组`a`的维度数，其中第 n 个数组的元素代表原数组第 n 个纬度上非零元素的索引；`a`中的元素总是以行为主、C 语言风格的顺序进行检测和返回。\n",
    "\n",
    "若希望返回的非零元素的索引以元素为单位而不是以维度为单位排列的话，须使用`argwhere`。\n",
    "\n",
    "当输入为 0 维数组或标量时，该函数等效于``nonzero(atleast1d(a))``\n",
    "\n",
    "While the nonzero values can be obtained with ``a[nonzero(a)]``, it is recommended to use ``x[x.astype(bool)]`` or ``x[x != 0]`` instead, which will correctly handle 0-d arrays.\n",
    "\n",
    "**See Also**\n",
    "\n",
    "- flatnonzero: Return indices that are non-zero in the flattened version of the input array.\n",
    "\n",
    "- count_nonzero: Counts the number of non-zero elements in the input array.\n",
    "\n",
    "**Examples**"
   ]
  },
  {
   "cell_type": "code",
   "execution_count": null,
   "metadata": {
    "scrolled": true
   },
   "outputs": [],
   "source": [
    "x = np.array([[3, 0, 0], [0, 4, 0], [5, 6, 0]])\n",
    "print(np.nonzero(x))\n",
    "y = np.transpose(np.nonzero(x))  # equivalent to np.argwhere(x)\n",
    "print(y)\n",
    "y = x[np.nonzero(x)]\n",
    "print(y)"
   ]
  },
  {
   "cell_type": "code",
   "execution_count": null,
   "metadata": {},
   "outputs": [],
   "source": [
    "A common use for ``nonzero`` is to find the indices of an array, where\n",
    "a condition is True.  Given an array `a`, the condition `a` > 3 is a\n",
    "boolean array and since False is interpreted as 0, np.nonzero(a > 3)\n",
    "yields the indices of the `a` where the condition is true.\n",
    "\n",
    "x = np.array([[1, 2, 3], [4, 5, 6], [7, 8, 9]])\n",
    "np.nonzero(x > 3)\n",
    "\n",
    "\n",
    "Using this result to index `a` is equivalent to using the mask directly:\n",
    "\n",
    ">>> a[np.nonzero(a > 3)]\n",
    "array([4, 5, 6, 7, 8, 9])\n",
    ">>> a[a > 3]  # prefer this spelling\n",
    "array([4, 5, 6, 7, 8, 9])\n",
    "\n",
    "``nonzero`` can also be called as a method of the array.\n",
    "\n",
    ">>> (a > 3).nonzero()\n",
    "(array([1, 1, 1, 2, 2, 2]), array([0, 1, 2, 0, 1, 2]))"
   ]
  },
  {
   "cell_type": "markdown",
   "metadata": {},
   "source": [
    "#  "
   ]
  },
  {
   "cell_type": "markdown",
   "metadata": {},
   "source": [
    "# np.argwhere()\n",
    "`np.argwhere(a)`\n",
    "\n",
    "**Docstring**\n",
    "\n",
    "Find the indices of array elements that are non-zero, grouped by element.\n",
    "\n",
    "Parameters\n",
    "----------\n",
    "a : array_like\n",
    "    Input data.\n",
    "\n",
    "Returns\n",
    "-------\n",
    "index_array : (N, a.ndim) ndarray\n",
    "    Indices of elements that are non-zero. Indices are grouped by element.\n",
    "    This array will have shape ``(N, a.ndim)`` where ``N`` is the number of\n",
    "    non-zero items.\n",
    "\n",
    "See Also\n",
    "--------\n",
    "where, nonzero\n",
    "\n",
    "Notes\n",
    "-----\n",
    "``np.argwhere(a)`` is almost the same as ``np.transpose(np.nonzero(a))``,\n",
    "but produces a result of the correct shape for a 0D array.\n",
    "\n",
    "The output of ``argwhere`` is not suitable for indexing arrays.\n",
    "For this purpose use ``nonzero(a)`` instead.\n",
    "\n",
    "Examples\n",
    "--------\n",
    ">>> x = np.arange(6).reshape(2,3)\n",
    ">>> x\n",
    "array([[0, 1, 2],\n",
    "       [3, 4, 5]])\n",
    ">>> np.argwhere(x>1)\n",
    "array([[0, 2],\n",
    "       [1, 0],\n",
    "       [1, 1],\n",
    "       [1, 2]])\n",
    "File:      d:\\programmefiles\\python\\anaconda3\\envs\\tensorflow\\lib\\site-packages\\numpy\\core\\numeric.py\n",
    "Type:      function"
   ]
  },
  {
   "cell_type": "markdown",
   "metadata": {},
   "source": [
    "#  "
   ]
  },
  {
   "cell_type": "markdown",
   "metadata": {},
   "source": [
    "#  "
   ]
  },
  {
   "cell_type": "markdown",
   "metadata": {},
   "source": [
    "# np.newaxis\n",
    "\n",
    "用于扩展数组维度，使得数组形状返回的数组中指定的位置增加一个所含元素为 1 的维度\n",
    "\n",
    "### Example"
   ]
  },
  {
   "cell_type": "code",
   "execution_count": 3,
   "metadata": {
    "scrolled": true
   },
   "outputs": [
    {
     "name": "stdout",
     "output_type": "stream",
     "text": [
      "(4, 6, 1, 1, 1)\n",
      "(4, 6, 1)\n",
      "(4, 1, 6)\n",
      "(4, 1, 6)\n",
      "(1, 4, 6)\n",
      "(1, 4, 6)\n",
      "(1, 4, 6)\n",
      "[[ 6  7  8  9 10 11]]\n"
     ]
    }
   ],
   "source": [
    "x = np.arange(24).reshape(4, 6)\n",
    "print(x[:, :, np.newaxis, np.newaxis, np.newaxis].shape)\n",
    "print(x[:, :, np.newaxis].shape)\n",
    "print(x[:, np.newaxis, :].shape)\n",
    "print(x[:, np.newaxis].shape)\n",
    "print(x[np.newaxis, :, :].shape)\n",
    "print(x[np.newaxis, :].shape)\n",
    "print(x[np.newaxis].shape)\n",
    "print(x[1, np.newaxis])"
   ]
  },
  {
   "cell_type": "code",
   "execution_count": 44,
   "metadata": {},
   "outputs": [
    {
     "ename": "ValueError",
     "evalue": "all the input arrays must have same number of dimensions, but the array at index 0 has 2 dimension(s) and the array at index 1 has 3 dimension(s)",
     "output_type": "error",
     "traceback": [
      "\u001b[1;31m---------------------------------------------------------------------------\u001b[0m",
      "\u001b[1;31mValueError\u001b[0m                                Traceback (most recent call last)",
      "\u001b[1;32m<ipython-input-44-8e242b10f72f>\u001b[0m in \u001b[0;36m<module>\u001b[1;34m\u001b[0m\n\u001b[0;32m      2\u001b[0m \u001b[0mvmap\u001b[0m \u001b[1;33m=\u001b[0m \u001b[0mnp\u001b[0m\u001b[1;33m.\u001b[0m\u001b[0mrandom\u001b[0m\u001b[1;33m.\u001b[0m\u001b[0mrandint\u001b[0m\u001b[1;33m(\u001b[0m\u001b[1;36m1\u001b[0m\u001b[1;33m,\u001b[0m \u001b[1;36m11\u001b[0m\u001b[1;33m,\u001b[0m \u001b[1;33m[\u001b[0m\u001b[1;36m16\u001b[0m\u001b[1;33m,\u001b[0m \u001b[1;36m4\u001b[0m\u001b[1;33m]\u001b[0m\u001b[1;33m)\u001b[0m\u001b[1;33m\u001b[0m\u001b[1;33m\u001b[0m\u001b[0m\n\u001b[0;32m      3\u001b[0m \u001b[0msrows\u001b[0m \u001b[1;33m=\u001b[0m \u001b[1;33m[\u001b[0m\u001b[1;36m2\u001b[0m\u001b[1;33m,\u001b[0m \u001b[1;36m4\u001b[0m\u001b[1;33m,\u001b[0m \u001b[1;36m6\u001b[0m\u001b[1;33m,\u001b[0m \u001b[1;36m9\u001b[0m\u001b[1;33m]\u001b[0m\u001b[1;33m\u001b[0m\u001b[1;33m\u001b[0m\u001b[0m\n\u001b[1;32m----> 4\u001b[1;33m \u001b[0mnp\u001b[0m\u001b[1;33m.\u001b[0m\u001b[0mappend\u001b[0m\u001b[1;33m(\u001b[0m\u001b[0mvmap\u001b[0m\u001b[1;33m[\u001b[0m\u001b[0msrows\u001b[0m\u001b[1;33m,\u001b[0m \u001b[1;33m:\u001b[0m\u001b[1;33m]\u001b[0m\u001b[1;33m,\u001b[0m \u001b[0mlabels\u001b[0m\u001b[1;33m[\u001b[0m\u001b[0msrows\u001b[0m\u001b[1;33m,\u001b[0m \u001b[0mnp\u001b[0m\u001b[1;33m.\u001b[0m\u001b[0mnewaxis\u001b[0m\u001b[1;33m]\u001b[0m\u001b[1;33m,\u001b[0m \u001b[0maxis\u001b[0m\u001b[1;33m=\u001b[0m\u001b[1;36m1\u001b[0m\u001b[1;33m)\u001b[0m\u001b[1;33m\u001b[0m\u001b[1;33m\u001b[0m\u001b[0m\n\u001b[0m",
      "\u001b[1;32m<__array_function__ internals>\u001b[0m in \u001b[0;36mappend\u001b[1;34m(*args, **kwargs)\u001b[0m\n",
      "\u001b[1;32mD:\\ProgrammeFiles\\python\\Anaconda3\\envs\\tensorflow\\lib\\site-packages\\numpy\\lib\\function_base.py\u001b[0m in \u001b[0;36mappend\u001b[1;34m(arr, values, axis)\u001b[0m\n\u001b[0;32m   4691\u001b[0m         \u001b[0mvalues\u001b[0m \u001b[1;33m=\u001b[0m \u001b[0mravel\u001b[0m\u001b[1;33m(\u001b[0m\u001b[0mvalues\u001b[0m\u001b[1;33m)\u001b[0m\u001b[1;33m\u001b[0m\u001b[1;33m\u001b[0m\u001b[0m\n\u001b[0;32m   4692\u001b[0m         \u001b[0maxis\u001b[0m \u001b[1;33m=\u001b[0m \u001b[0marr\u001b[0m\u001b[1;33m.\u001b[0m\u001b[0mndim\u001b[0m\u001b[1;33m-\u001b[0m\u001b[1;36m1\u001b[0m\u001b[1;33m\u001b[0m\u001b[1;33m\u001b[0m\u001b[0m\n\u001b[1;32m-> 4693\u001b[1;33m     \u001b[1;32mreturn\u001b[0m \u001b[0mconcatenate\u001b[0m\u001b[1;33m(\u001b[0m\u001b[1;33m(\u001b[0m\u001b[0marr\u001b[0m\u001b[1;33m,\u001b[0m \u001b[0mvalues\u001b[0m\u001b[1;33m)\u001b[0m\u001b[1;33m,\u001b[0m \u001b[0maxis\u001b[0m\u001b[1;33m=\u001b[0m\u001b[0maxis\u001b[0m\u001b[1;33m)\u001b[0m\u001b[1;33m\u001b[0m\u001b[1;33m\u001b[0m\u001b[0m\n\u001b[0m\u001b[0;32m   4694\u001b[0m \u001b[1;33m\u001b[0m\u001b[0m\n\u001b[0;32m   4695\u001b[0m \u001b[1;33m\u001b[0m\u001b[0m\n",
      "\u001b[1;32m<__array_function__ internals>\u001b[0m in \u001b[0;36mconcatenate\u001b[1;34m(*args, **kwargs)\u001b[0m\n",
      "\u001b[1;31mValueError\u001b[0m: all the input arrays must have same number of dimensions, but the array at index 0 has 2 dimension(s) and the array at index 1 has 3 dimension(s)"
     ]
    }
   ],
   "source": [
    "labels = np.random.randint(1, 11, [16, 12])\n",
    "vmap = np.random.randint(1, 11, [16, 4])\n",
    "srows = [2, 4, 6, 9]\n",
    "np.append(vmap[srows, :], labels[srows, np.newaxis], axis=1)"
   ]
  },
  {
   "cell_type": "markdown",
   "metadata": {},
   "source": [
    "#  "
   ]
  },
  {
   "cell_type": "markdown",
   "metadata": {},
   "source": [
    "#  "
   ]
  },
  {
   "cell_type": "markdown",
   "metadata": {},
   "source": [
    "# np.squeeze()\n",
    "`np.squeeze(a, axis=None)`\n",
    "\n",
    "**Docstring**\n",
    "\n",
    "压缩数组使其形状中维数为 1 的项去掉，即`a`的去掉长度为 1 的所有维数或一个子集\n",
    "\n",
    "**Args**\n",
    "\n",
    "- a: array_like, Input data.\n",
    "\n",
    "- axis : 要 squeeze 的维度，所选轴的项大于 1 会抛出ValueError\n",
    "\n",
    "**See Also**\n",
    "\n",
    "- expand_dims : The inverse operation, adding singleton dimensions\n",
    "\n",
    "**Type**:      function"
   ]
  },
  {
   "cell_type": "markdown",
   "metadata": {},
   "source": [
    "#  "
   ]
  },
  {
   "cell_type": "markdown",
   "metadata": {},
   "source": [
    "#  "
   ]
  },
  {
   "cell_type": "markdown",
   "metadata": {},
   "source": [
    "# np.savetxt()\n",
    "```python\n",
    "np.savetxt(\n",
    "    fname,\n",
    "    X,\n",
    "    fmt='%.18e',\n",
    "    delimiter=' ',\n",
    "    newline='\\n',\n",
    "    header='',\n",
    "    footer='',\n",
    "    comments='# ',\n",
    "    encoding=None,\n",
    ")\n",
    "```\n",
    "\n",
    "**Docstring**\n",
    "\n",
    "将数组保存到文本文件中\n",
    "\n",
    "**Args**\n",
    "\n",
    "- fname: 文件名或文件句柄 (file handle)；如果文件名以``.gz``结尾，文件会自动以压缩gzip格式的压缩文件保存\n",
    "\n",
    "- X: 1D 或 2D 类数组，要保存的数据\n",
    "\n",
    "- fmt: 可以是单一说明符，如`\"%10.5f\"`，或一个说明符序列，或一个多说明符字符串，如`'Iteration %d -- %10.5f'`，在这种情况下将忽略`delimiter`参数，对于复数类型的`X`，`fmt`可以是：\n",
    "    - 单一说明符`fmt='%.4e'`，生成格式化为`' (%s+%sj)' % (fmt, fmt)`的数字\n",
    "\n",
    "    - 指定每个实部和虚部的完整字符串，例如`' %.4e %+.4ej %.4e %+.4ej %.4e %+.4ej'`表示 3 列（个）复数\n",
    "    \n",
    "    - 一个说明符列表，对应每列一个说明符，这种情况下实部和虚部必须有单独的说明符，例如`['%.3e + %.3ej', '(%.15e%+.15ej)']`为 2 列的说明符\n",
    "\n",
    "- delimiter: 分隔列的字符串或字符，默认`' '`\n",
    "\n",
    "- newline: 分隔行的字符串或字符，默认`'\\n'`\n",
    "\n",
    "- header: 将写在文件开头的字符串，默认`''`\n",
    "\n",
    "- footer : 将写在文件末尾的字符串，默认`''`\n",
    "\n",
    "- comments: 将被加在``header``和`footer`字符串前的字符串，以将这两者标记为注释，默认`'# '`，as expected by e.g. ``numpy.loadtxt``\n",
    "\n",
    "- encoding: None或字符串类型，用于对输出文件进行编码的编码方式，但不适用于输出流 (ouutput streams)，如果编码不是`'bytes'`或`'latin1'`，低于 1.14 的 NumPy 版本将无法加载该文件，默认`'latin1'`\n",
    "\n",
    "\n",
    "**See Also**\n",
    "\n",
    "- save : Save an array to a binary file in NumPy ``.npy`` format\n",
    "- savez : Save several arrays into an uncompressed ``.npz`` archive\n",
    "\n",
    "关于`fmt`格式进一步说明：`fmt`的一般格式为``%flag]width[.precision]specifier``，其中\n",
    "- flags:\n",
    "    - ``-``: 左对齐\n",
    "    - ``+``: 强制在结果前加+或-\n",
    "    - ``0``: 在左边填充数字 0，见`width`\n",
    "- width: 要打印的最小字符数；如果这个数值有更多字符，则不会截断这个数值\n",
    "- precision:\n",
    "    - 对于整数说明符例如``d,i,o,x``，就是位数的最小值\n",
    "    - 对于``e, E``和``f``说明符，应为小数点后要打印的数字数\n",
    "    - 对于``g``和``G``，指最大有效位数\n",
    "    - 对于``s``，指最大字符数\n",
    "- specifiers:\n",
    "    - ``c``: 字符\n",
    "    - ``d``或``i``: 带符号的十进制整数\n",
    "    - ``e``或``E``: 有``e``或``E``的科学计数\n",
    "    - ``f``: 十进制浮点数\n",
    "    - ``g,G``: ``e,E``或``f``缩略形式\n",
    "    - ``o``: 带符号的八进制数\n",
    "    - ``s``: 字符组成的字符串\n",
    "    - ``u``: 无符号十进制整数\n",
    "    - ``x,X``: 无符号十六进制整数\n",
    "关于`fmt`说明尚不完整，更多内容详见[Format Specification Mini-Language](https://docs.python.org/library/string.html#format-specification-mini-language)；\n",
    "\n",
    "\n",
    "\n",
    "\n",
    "**File**: \\tensorflow\\lib\\site-packages\\numpy\\lib\\npyio.py\n",
    "\n",
    "**Type**:      function"
   ]
  },
  {
   "cell_type": "markdown",
   "metadata": {},
   "source": [
    "#  "
   ]
  },
  {
   "cell_type": "markdown",
   "metadata": {},
   "source": [
    "# np.mgrid[]\n",
    "`np.mgrid[start1:stop1:step1, start2:stop2:step2, ...]`\n",
    "\n",
    "**Docstring**:\n",
    "\n",
    "`np.mgrid`为`nd_grid`实例化对象，可以理解为一个 Numpy 内置的密集的多维网格，当被索引时返回所需要的网格数组，且返回数组的维度和个数与索引的维度相同；若步长不为复数，则生成的网格中终止值不包括在内；如果步长是一个复数，那么其大小的整数部分被解释为在开始值和终止值之间创建的点的数量，此时终止值包括在内\n",
    "\n",
    "**See Also**\n",
    "\n",
    "- numpy.lib.index_tricks.nd_grid : class of `ogrid` and `mgrid` objects\n",
    "- ogrid : like mgrid but returns open (not fleshed out) mesh grids\n",
    "- r_ : array concatenator\n",
    "\n",
    "**Type**:        MGridClass\n",
    "\n",
    "**File**:        \\numpy\\lib\\index_tricks.py\n",
    "\n",
    "### Examples"
   ]
  },
  {
   "cell_type": "code",
   "execution_count": 24,
   "metadata": {},
   "outputs": [
    {
     "name": "stdout",
     "output_type": "stream",
     "text": [
      "[[1. 1. 1. 1. 1. 1.]\n",
      " [2. 2. 2. 2. 2. 2.]]\n",
      "[[2.  2.5 3.  3.5 4.  4.5]\n",
      " [2.  2.5 3.  3.5 4.  4.5]]\n",
      "[[1.  2. ]\n",
      " [1.  2.5]\n",
      " [1.  3. ]\n",
      " [1.  3.5]\n",
      " [1.  4. ]\n",
      " [1.  4.5]\n",
      " [2.  2. ]\n",
      " [2.  2.5]\n",
      " [2.  3. ]\n",
      " [2.  3.5]\n",
      " [2.  4. ]\n",
      " [2.  4.5]]\n"
     ]
    }
   ],
   "source": [
    "x, y = np.mgrid[1:3:1, 2:5:0.5]\n",
    "print(x)\n",
    "print(y)\n",
    "grid = np.c_[x.ravel(), y.ravel()]\n",
    "print(grid)"
   ]
  },
  {
   "cell_type": "code",
   "execution_count": 18,
   "metadata": {},
   "outputs": [
    {
     "name": "stdout",
     "output_type": "stream",
     "text": [
      "[-1.          0.33333333]\n"
     ]
    }
   ],
   "source": [
    "x = np.mgrid[-1:1:2.5j]\n",
    "print(x)"
   ]
  },
  {
   "cell_type": "markdown",
   "metadata": {},
   "source": [
    "#  "
   ]
  },
  {
   "cell_type": "code",
   "execution_count": 10,
   "metadata": {},
   "outputs": [
    {
     "name": "stdout",
     "output_type": "stream",
     "text": [
      "2\n"
     ]
    }
   ],
   "source": []
  }
 ],
 "metadata": {
  "kernelspec": {
   "display_name": "Python 3",
   "language": "python",
   "name": "python3"
  },
  "language_info": {
   "codemirror_mode": {
    "name": "ipython",
    "version": 3
   },
   "file_extension": ".py",
   "mimetype": "text/x-python",
   "name": "python",
   "nbconvert_exporter": "python",
   "pygments_lexer": "ipython3",
   "version": "3.8.5"
  },
  "latex_envs": {
   "LaTeX_envs_menu_present": true,
   "autoclose": false,
   "autocomplete": true,
   "bibliofile": "biblio.bib",
   "cite_by": "apalike",
   "current_citInitial": 1,
   "eqLabelWithNumbers": true,
   "eqNumInitial": 1,
   "hotkeys": {
    "equation": "Ctrl-E",
    "itemize": "Ctrl-I"
   },
   "labels_anchors": false,
   "latex_user_defs": false,
   "report_style_numbering": false,
   "user_envs_cfg": false
  }
 },
 "nbformat": 4,
 "nbformat_minor": 4
}
