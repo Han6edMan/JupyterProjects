{
 "cells": [
  {
   "cell_type": "code",
   "execution_count": 2,
   "id": "f857621d-8584-4965-bed9-03eb9104de8f",
   "metadata": {},
   "outputs": [],
   "source": [
    "import numpy as np"
   ]
  },
  {
   "cell_type": "markdown",
   "id": "a659e7a8-a79a-4d2d-a543-b0068e3987b7",
   "metadata": {},
   "source": [
    "<center>\n",
    "    \n",
    "# 利用形状或数值创建"
   ]
  },
  {
   "cell_type": "markdown",
   "id": "07e7ea2e-32e6-4908-aec4-66c797796a17",
   "metadata": {},
   "source": [
    "# np.empty()\n",
    "`np.empty(shape, dtype=float, order='C')`\n",
    "\n",
    "**Docstring**\n",
    "\n",
    "返回不具有初始化项的具有给定形状和类型的数组，与`zeros`等不同，没有对元素进行初始化，进而可能会稍微快一些\n",
    "\n",
    "**Args**\n",
    "\n",
    "- shape: int or tuple of int\n",
    "\n",
    "- dtype: 默认`numpy.float64`.\n",
    "\n",
    "- order: `'C'`或`'F'`，以行为主的存储方式（C 语言方式）还是列为主（Fortran 语言方式）的存储方式存储数组\n",
    "\n",
    "\n",
    "**See Also**\n",
    "\n",
    "- empty_like : Return an empty array with shape and type of input.\n",
    "\n",
    "**Type**\n",
    "\n",
    "builtin_function_or_method\n",
    "\n",
    "**Examples**"
   ]
  },
  {
   "cell_type": "code",
   "execution_count": null,
   "id": "9edaed5f-a97b-4b3f-81e9-f4b4cdb47218",
   "metadata": {
    "tags": []
   },
   "outputs": [],
   "source": [
    "x = np.empty([3, 4])\n",
    "print(x)\n",
    "x = np.empty([3, 4], dtype=int)\n",
    "print(x)"
   ]
  },
  {
   "cell_type": "markdown",
   "id": "fd94b7a7-2c86-4fcf-aec3-f57f7d8af328",
   "metadata": {},
   "source": [
    "# "
   ]
  },
  {
   "cell_type": "markdown",
   "id": "8d961eb4-d83a-463d-91f1-dcc1c7ae8cd0",
   "metadata": {},
   "source": [
    "# "
   ]
  },
  {
   "cell_type": "markdown",
   "id": "cd8fd118-177f-4bbb-8234-97072f52edfd",
   "metadata": {},
   "source": [
    "<center>\n",
    "    \n",
    "# 从现有数据创建"
   ]
  },
  {
   "cell_type": "markdown",
   "id": "ff89357a-52c2-45af-a924-4ce727b826c3",
   "metadata": {
    "tags": []
   },
   "source": [
    "# np.asarray()\n",
    "\n",
    "`np.asarray(a, dtype=None, order=None)`\n",
    "\n",
    "**Args**\n",
    "\n",
    "- a: 可以是列表、由元组组成的列表、元组、元组组成的元组、列表组成的元组、ndarray，若`a`为 ndarray 的子类，将返回 ndarray 的基类\n",
    "\n",
    "- dtype: 略\n",
    "\n",
    "- order: `C`或`F`，即使用行主内存(C语言风格)表示还是列主内存表示(Fortran语言格式)，默认为C\n",
    "\n",
    "\n",
    "**See Also**\n",
    "\n",
    "- asanyarray: Similar function which passes through subclasses.\n",
    "\n",
    "- ascontiguousarray: Convert input to a contiguous array.\n",
    "\n",
    "- asfarray: Convert input to a floating point ndarray.\n",
    "\n",
    "- asfortranarray : Convert input to an ndarray with column-major memory order.\n",
    "\n",
    "- asarray_chkfinite : Similar function which checks input for NaNs and Infs.\n",
    "\n",
    "- fromiter : Create an array from an iterator.\n",
    "\n",
    "- fromfunction : Construct an array by executing a function on grid positions.\n",
    "\n",
    "**Type**\n",
    "\n",
    "function"
   ]
  },
  {
   "cell_type": "code",
   "execution_count": 44,
   "id": "36106147-7d1f-4109-bca2-9f46b0a7ecf8",
   "metadata": {
    "collapsed": true,
    "jupyter": {
     "outputs_hidden": true
    },
    "tags": []
   },
   "outputs": [
    {
     "name": "stdout",
     "output_type": "stream",
     "text": [
      "[[1 2]\n",
      " [3 4]]\n",
      "\n",
      "[[1 2]\n",
      " [3 4]]\n",
      "\n",
      "False\n",
      "False\n",
      "\n"
     ]
    }
   ],
   "source": [
    "x = np.array([[1, 2], [3, 4]])\n",
    "y = np.asarray(x, order=\"F\")\n",
    "z = np.asarray(x, order=\"C\")\n",
    "print(y, z, sep=\"\\n\\n\", end=\"\\n\\n\")\n",
    "print(y is x, z is x, sep=\"\\n\", end=\"\\n\\n\")"
   ]
  },
  {
   "cell_type": "code",
   "execution_count": null,
   "id": "aa3ddc5d-289d-49f1-8cd3-53efca80a4ed",
   "metadata": {},
   "outputs": [],
   "source": [
    "# ragged list\n",
    "x = [[1, 2], [3, 4], [2]]\n",
    "x = np.asarray(x)\n",
    "y = np.array(x)\n",
    "print(x)\n",
    "print(y)\n",
    "print(x == y)\n",
    "print(x is y)"
   ]
  },
  {
   "cell_type": "code",
   "execution_count": null,
   "id": "d2d4ebda-f183-4a00-88bc-2db0beccb2fd",
   "metadata": {},
   "outputs": [],
   "source": [
    "# 与`asanyarray`相反，ndarray的子类没有被传递（啥意思？）\n",
    "print(issubclass(np.recarray, np.ndarray))\n",
    "a = np.array([(1.0, 2), (3.0, 4)], dtype='f4,i4').view(np.recarray)\n",
    "print(np.asarray(a) is a)\n",
    "print(np.asanyarray(a) is a)"
   ]
  },
  {
   "cell_type": "markdown",
   "id": "0fe3f40b-0bef-4b0e-be57-dcfbe852e042",
   "metadata": {},
   "source": [
    "# "
   ]
  },
  {
   "cell_type": "markdown",
   "id": "ac64a6c1-8c3a-4b91-86ae-f1d7ab41fbd5",
   "metadata": {},
   "source": [
    "# "
   ]
  },
  {
   "cell_type": "markdown",
   "id": "a07b9fd2-36e0-4be1-8cd4-b039f56f7f40",
   "metadata": {},
   "source": [
    "<center>\n",
    "    \n",
    "# 构造数组"
   ]
  },
  {
   "cell_type": "markdown",
   "id": "fb7d9605-b0ed-43f6-9baf-ebcc9ad942bb",
   "metadata": {
    "jp-MarkdownHeadingCollapsed": true,
    "tags": []
   },
   "source": [
    "## np.diag()\n",
    "\n",
    "`np.diag(v, k=0)`\n",
    "\n",
    "提取对角线元素或构造对角矩阵。该函数返回的是新副本还是原数组取决于当前使用的 numpy 版本，更多细节参见`np.diagonal`\n",
    "\n",
    "##### Args\n",
    "- v : 类数组格式；若该参数是 2D 数组，则返回该数组的第 k 条对角线元素；若该参数是 1D 数组，则利用该数组构造第 k 条对角线不为零的对角阵\n",
    "- k : 整型；即第几条对角线，默认为 0；主对角线以上对应 k>0，主对角线以下对应 k<0\n",
    "\n",
    "\n",
    "##### See Also\n",
    "- diagonal : Return specified diagonals.\n",
    "- diagflat : Create a 2-D array with the flattened input as a diagonal.\n",
    "- trace : Sum along diagonals.\n",
    "- triu : Upper triangle of an array.\n",
    "- tril : Lower triangle of an array.\n",
    "\n",
    "##### Examples"
   ]
  },
  {
   "cell_type": "code",
   "execution_count": 2,
   "id": "86cada8f-fed2-4157-8503-e0eed137073b",
   "metadata": {
    "collapsed": true,
    "jupyter": {
     "outputs_hidden": true,
     "source_hidden": true
    },
    "tags": []
   },
   "outputs": [
    {
     "name": "stdout",
     "output_type": "stream",
     "text": [
      "[1 5]\n",
      "[[0 0 0]\n",
      " [0 4 0]\n",
      " [0 0 8]]\n"
     ]
    }
   ],
   "source": [
    "x = np.arange(9).reshape((3,3))\n",
    "print(np.diag(x, k=1))\n",
    "print(np.diag(np.diag(x)))"
   ]
  },
  {
   "cell_type": "code",
   "execution_count": 5,
   "id": "6d1a51ee-5eb4-4590-93dc-a6dca1cd0727",
   "metadata": {
    "collapsed": true,
    "jupyter": {
     "outputs_hidden": true,
     "source_hidden": true
    },
    "tags": []
   },
   "outputs": [
    {
     "data": {
      "text/plain": [
       "array([[0, 1, 0, 0, 0, 0, 0],\n",
       "       [0, 0, 1, 0, 0, 0, 0],\n",
       "       [0, 0, 0, 1, 0, 0, 0],\n",
       "       [0, 0, 0, 0, 1, 0, 0],\n",
       "       [0, 0, 0, 0, 0, 1, 0],\n",
       "       [0, 0, 0, 0, 0, 0, 1],\n",
       "       [0, 0, 0, 0, 0, 0, 0]])"
      ]
     },
     "execution_count": 5,
     "metadata": {},
     "output_type": "execute_result"
    }
   ],
   "source": [
    "np.diag([1]*6, 1)"
   ]
  },
  {
   "cell_type": "markdown",
   "id": "1434bc2e-dcd8-41c4-835a-dfebde1423b0",
   "metadata": {
    "tags": []
   },
   "source": [
    "## "
   ]
  },
  {
   "cell_type": "markdown",
   "id": "c83d69b6-232c-4068-a3d4-e829aa03e0ed",
   "metadata": {
    "jp-MarkdownHeadingCollapsed": true,
    "tags": []
   },
   "source": [
    "## np.diagonal()\n",
    "\n",
    "`np.diagonal(a, offset=0, axis1=0, axis2=1)`\n",
    "\n",
    "##### Args\n",
    "\n",
    "- a : 类数组类型，其维数至少为 2；\n",
    "    - 若`a`是 2D 数组，则根据`offset`返回对角元，即`a[i, i+offset]`元素构成的数组；若`a`是 2D 数组，则根据`offset`返回对角元，即`a[i, i+offset]`元素构成的数组；\n",
    "    - 如果`a`维数大于 2，则根据`axis1`和`axis2`来指定返回哪个 2D 子数组的对角元，例如`a`为 3D 数组，且这两个参数分别为 0、2，则对每个`a[:,i,:]`取对角元，在将这些对角元拼接成 2D 数组；\n",
    "- offset : 整型，默认 0；第几个主对角线元素\n",
    "- axis1 : 整型，默认 0；选取对角元时 2D 数组的第一个坐标轴\n",
    "- axis2 : 整型，默认 1；选取对角元时 2D 数组的第二个坐标轴\n",
    "\n",
    "\n",
    "\n",
    "\n",
    "对于 NumPy 1.7 之前的版本，该函数会返回指定对角线元素的拷贝；对于 1.7、1.8 的版本，该函数依旧进行复制，但该功能已被废弃，像先前那样写入数组会报出`FutureWarning`；从 1.9 开始，它只会返回原数组的只读对象，对结果执行写入操作会抛出异常；未来版本中，该函数会返回一个可读写的对象，对该对象的编辑会改变原数组，且返回对象与原数组具有相同类型。\n",
    "\n",
    "##### See Also\n",
    "\n",
    "- diag : MATLAB work-a-like for 1-D and 2-D arrays.\n",
    "- diagflat : Create diagonal arrays.\n",
    "- trace : Sum along diagonals\n",
    "\n",
    "##### Examples\n",
    "\n",
    "1. 对 2D 数组取对角元："
   ]
  },
  {
   "cell_type": "code",
   "execution_count": 48,
   "id": "dde49c41-94b1-464b-aaab-9634c63c71ba",
   "metadata": {},
   "outputs": [
    {
     "name": "stdout",
     "output_type": "stream",
     "text": [
      "[0 4]\n"
     ]
    }
   ],
   "source": [
    "a = np.arange(2*3*2*3).reshape(2,3,2,3)\n",
    "print(np.diagonal(a[0,0]))"
   ]
  },
  {
   "cell_type": "markdown",
   "id": "f8c4051c-9529-4f86-aa4f-6e6110a95cd5",
   "metadata": {},
   "source": [
    "2. 当`a`的维度大于 2，`axis1`、`axis2`分别为 1、3 时，等价于对每个`a[i,:,j,:]`取对角元，再将这些对角元拼接成 3D 数组："
   ]
  },
  {
   "cell_type": "code",
   "execution_count": 49,
   "id": "0bb0d714-c17c-4d7a-b20c-a89e75faf2f1",
   "metadata": {},
   "outputs": [
    {
     "name": "stdout",
     "output_type": "stream",
     "text": [
      "[[[ 0  7 14]\n",
      "  [ 3 10 17]]\n",
      "\n",
      " [[18 25 32]\n",
      "  [21 28 35]]]\n"
     ]
    }
   ],
   "source": [
    "print(a.diagonal(0, 1, 3))"
   ]
  },
  {
   "cell_type": "markdown",
   "id": "87971fe3-13b4-4493-a81a-e91425e14366",
   "metadata": {},
   "source": [
    "    上面过程等价于："
   ]
  },
  {
   "cell_type": "code",
   "execution_count": 51,
   "id": "593cc7b2-6d00-4b0a-9f56-b08384efdcd2",
   "metadata": {},
   "outputs": [
    {
     "name": "stdout",
     "output_type": "stream",
     "text": [
      "[[[ 0  7 14]\n",
      "  [ 3 10 17]]\n",
      "\n",
      " [[18 25 32]\n",
      "  [21 28 35]]]\n"
     ]
    }
   ],
   "source": [
    "a_diag = [[a[i,:,j,:].diagonal() for j in range(a.shape[2])] for i in range(a.shape[0]) ]\n",
    "print(np.array(a_diag))"
   ]
  },
  {
   "cell_type": "markdown",
   "id": "241179cc-ee0e-40f3-aaf6-bae430e072ab",
   "metadata": {},
   "source": [
    "3. 副对角线元素可以通过`np.fliplr`、`np.flipud`来得到："
   ]
  },
  {
   "cell_type": "code",
   "execution_count": 3,
   "id": "233e6283-722f-4c0b-bea7-db2746aa51cf",
   "metadata": {},
   "outputs": [
    {
     "name": "stdout",
     "output_type": "stream",
     "text": [
      "[2 4 6]\n",
      "[6 4 2]\n"
     ]
    }
   ],
   "source": [
    "a = np.arange(9).reshape(3, 3)\n",
    "print(np.fliplr(a).diagonal())  # Horizontal flip\n",
    "print(np.flipud(a).diagonal())  # Vertical flip"
   ]
  },
  {
   "cell_type": "markdown",
   "id": "cd853e03-d8b3-44db-9c2d-dc59388f679d",
   "metadata": {
    "tags": []
   },
   "source": [
    "# "
   ]
  },
  {
   "cell_type": "markdown",
   "id": "95820b9b-18fc-41f5-aa3e-1e0fc6c8ba81",
   "metadata": {
    "tags": []
   },
   "source": [
    "#  "
   ]
  },
  {
   "cell_type": "markdown",
   "id": "d9155e8f-4e6b-452f-a679-b38db364d844",
   "metadata": {
    "jp-MarkdownHeadingCollapsed": true,
    "tags": []
   },
   "source": [
    "<center>\n",
    "\n",
    "# 数组复制"
   ]
  },
  {
   "cell_type": "markdown",
   "id": "bd5bb716-9568-4d9b-b936-a68a3d6ae11d",
   "metadata": {},
   "source": [
    "## np.copy\n",
    "\n",
    "`np.copy(a, order='K')`\n",
    "\n",
    "**Docstring**\n",
    "\n",
    "等价于`np.array(a, copy=True)`，副本与原对象不绑定在同一数值上\n",
    "\n",
    "**参数**\n",
    "\n",
    "- order: {'C', 'F', 'A', 'K'}，决定了输出结果的内存布局\n",
    "    - 'C': C-order,\n",
    "    - 'F': F-order, \n",
    "    - 'A': 如果`a`是Fortran连续的，则为'F'，否则为'C' \n",
    "    - 'K': 尽可能的与`a`内存布局相同\n",
    "\n",
    "**Type**\n",
    "\n",
    "function"
   ]
  },
  {
   "cell_type": "code",
   "execution_count": 6,
   "id": "c4ab3376-3169-448d-b29d-d0bd1457c22b",
   "metadata": {
    "scrolled": true
   },
   "outputs": [
    {
     "name": "stdout",
     "output_type": "stream",
     "text": [
      "True False\n"
     ]
    }
   ],
   "source": [
    "x = np.array(range(24)).reshape(4, 6)\n",
    "y = np.copy(x)\n",
    "x_ = x\n",
    "y[0, 0] = 3\n",
    "x_[0, 0] = 3\n",
    "print(x is x_, x is y)"
   ]
  },
  {
   "cell_type": "code",
   "execution_count": null,
   "id": "bfc4a555-38c1-4a67-afda-58976e4ad6b6",
   "metadata": {},
   "outputs": [
    {
     "name": "stdout",
     "output_type": "stream",
     "text": [
      "[0. 1. 2.]\n"
     ]
    }
   ],
   "source": [
    "x = np.zeros(3)\n",
    "x[1] = 1; x[2] = 2\n",
    "if x.tolist() == [1, 2, 3]:\n",
    "    print(x)"
   ]
  },
  {
   "cell_type": "markdown",
   "id": "369aa6f5-1241-4173-98fc-091996197284",
   "metadata": {},
   "source": [
    "## np.ndarray.copy()\n",
    "\n",
    "`a.copy(order='C')`\n",
    "\n",
    "\n",
    "**参数**\n",
    "\n",
    "- order: {'C', 'F', 'A', 'K'}，决定了输出结果的内存布局\n",
    "    - 'C': C-order,\n",
    "    - 'F': F-order, \n",
    "    - 'A': 如果`a`是Fortran连续的，则为'F'，否则为'C' \n",
    "    - 'K': 尽可能的与`a`内存布局相同\n",
    "\n",
    "**Type**\n",
    "\n",
    "method_descriptor"
   ]
  },
  {
   "cell_type": "markdown",
   "id": "4703ea47-8992-44d8-9949-4f4c204404b2",
   "metadata": {},
   "source": [
    "## np.copyto()\n",
    "\n",
    "\n",
    "`copyto(dst, src, casting='same_kind', where=True)`\n",
    "\n",
    "**Docstring**\n",
    "\n",
    "将值从一个数组复制到另一个数组，必要时进行 broadcasting\n",
    "\n",
    "Raises a TypeError if the `casting` rule is violated, and if\n",
    "`where` is provided, it selects which elements to copy.\n",
    "\n",
    "\n",
    "\n",
    "Parameters\n",
    "----------\n",
    "dst : ndarray\n",
    "    The array into which values are copied.\n",
    "src : array_like\n",
    "    The array from which values are copied.\n",
    "casting : {'no', 'equiv', 'safe', 'same_kind', 'unsafe'}, optional\n",
    "    Controls what kind of data casting may occur when copying.\n",
    "\n",
    "      * 'no' means the data types should not be cast at all.\n",
    "      * 'equiv' means only byte-order changes are allowed.\n",
    "      * 'safe' means only casts which can preserve values are allowed.\n",
    "      * 'same_kind' means only safe casts or casts within a kind,\n",
    "        like float64 to float32, are allowed.\n",
    "      * 'unsafe' means any data conversions may be done.\n",
    "where : array_like of bool, optional\n",
    "    A boolean array which is broadcasted to match the dimensions\n",
    "    of `dst`, and selects elements to copy from `src` to `dst`\n",
    "    wherever it contains the value True.\n",
    "Type:      function"
   ]
  },
  {
   "cell_type": "code",
   "execution_count": 10,
   "id": "08ec8b72-009c-4511-856c-9f850f78b3c8",
   "metadata": {},
   "outputs": [
    {
     "name": "stdout",
     "output_type": "stream",
     "text": [
      "[-0.55726102  3.35587423 -2.64781587 -1.14678239  1.93481062  3.42564306\n",
      " -0.92006697 -3.75494862  5.62975266  2.91954578  2.92717907 -2.66854019]\n",
      "[-0.55726102  0.          1.          2.          3.          4.\n",
      "  5.          6.          7.          8.          2.92717907 -2.66854019]\n"
     ]
    }
   ],
   "source": [
    "x = 4 * np.random.randn(12)\n",
    "print(x)\n",
    "y = np.array(range(9))\n",
    "x[1:-2] = y\n",
    "print(x)"
   ]
  }
 ],
 "metadata": {
  "kernelspec": {
   "display_name": "Python 3 (ipykernel)",
   "language": "python",
   "name": "python3"
  },
  "language_info": {
   "codemirror_mode": {
    "name": "ipython",
    "version": 3
   },
   "file_extension": ".py",
   "mimetype": "text/x-python",
   "name": "python",
   "nbconvert_exporter": "python",
   "pygments_lexer": "ipython3",
   "version": "3.9.7"
  }
 },
 "nbformat": 4,
 "nbformat_minor": 5
}
