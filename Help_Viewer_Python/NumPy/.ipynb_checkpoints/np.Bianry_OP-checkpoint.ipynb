{
 "cells": [
  {
   "cell_type": "code",
   "execution_count": 1,
   "id": "272f6b43-abd1-47d3-87f1-8f0889692353",
   "metadata": {},
   "outputs": [],
   "source": [
    "import numpy as np"
   ]
  },
  {
   "cell_type": "markdown",
   "id": "ecf63228-78ca-4287-899d-6b4ef4b0fc6d",
   "metadata": {},
   "source": [
    "<center>\n",
    "    \n",
    "# 二进制操作"
   ]
  },
  {
   "cell_type": "markdown",
   "id": "a5ad4c66-1b54-48ca-9528-16061b28de9e",
   "metadata": {},
   "source": [
    "## np.left_shift()\n",
    "\n",
    "```python\n",
    "np.left_shift(\n",
    "    x1,\n",
    "    x2,\n",
    "    /,\n",
    "    out=None,\n",
    "    *,\n",
    "    where=True,\n",
    "    casting='same_kind',\n",
    "    order='K',\n",
    "    dtype=None,\n",
    "    subok=True[, signature, extobj]\n",
    ")\n",
    "```\n",
    "通过`x1`右侧添加`x2`个 0，来将整数的二进制位向左移位，该函数等价于`x1 * 2**x2`；\n",
    "\n",
    "##### Args\n",
    "\n",
    "- x1 : 即输入值，应为整数型的类数组；\n",
    "- x2 : 移位的个数，应为正的整型或整型的类数组；若该参数与`x1`形状不等，则会利用广播机制来使二者形状相同；\n",
    "- out : 应为 ndarray 或 ndarray 组成的元祖；存储输出结果的变量，其应与输入数组被广播成的形状相同；若为`None`，则将结果分配给新变量；\n",
    "- where : 类数组类型；应用到输入数组上的条件，其索引为`True`的\n",
    "    This condition is broadcast over the input. At locations where the condition is True, the `out` array will be set to the ufunc result. Elsewhere, the `out` array will retain its original value. Note that if an uninitialized `out` array is created via the default `out=None`, locations within it where the condition is False will remain uninitialized.\n",
    "- \\*\\*kwargs : 其他关键字参数，参见`ufuncs.kwargs`；\n",
    "\n",
    "\n",
    "\n",
    "\n",
    "##### See Also\n",
    "\n",
    "- right_shift : Shift the bits of an integer to the right.\n",
    "- binary_repr : Return the binary representation of the input number as a string.\n",
    "\n",
    "##### Examples\n",
    "\n",
    "1. `x1`和/或`x2`为整型类数组时，二者的形状应在广播机制下兼容"
   ]
  },
  {
   "cell_type": "code",
   "execution_count": 31,
   "id": "ab45cb6e-1a14-4c2d-9af0-6c0dd9dc9cff",
   "metadata": {},
   "outputs": [
    {
     "name": "stdout",
     "output_type": "stream",
     "text": [
      "[[80 24]\n",
      " [40 48]\n",
      " [40 24]]\n"
     ]
    }
   ],
   "source": [
    "x = [10, 6]\n",
    "x_lshift = np.left_shift(x, [[3, 2], [2, 3], [2, 2]])\n",
    "print(x_lshift)"
   ]
  },
  {
   "cell_type": "markdown",
   "id": "c1775cb3-101c-4b0f-ad55-05665eba0360",
   "metadata": {},
   "source": [
    "2. 该函数等价于`<<`操作符，但使用该操作符时，`x1`、`x2`至少应有一个是 NumPy 数组，否则会报错"
   ]
  },
  {
   "cell_type": "code",
   "execution_count": 32,
   "id": "4a68748b-6e24-4534-b6bd-79e4d7cec696",
   "metadata": {},
   "outputs": [
    {
     "data": {
      "text/plain": [
       "array([10, 24, 56], dtype=int32)"
      ]
     },
     "execution_count": 32,
     "metadata": {},
     "output_type": "execute_result"
    }
   ],
   "source": [
    "[5, 6, 7] << np.array([1, 2, 3])"
   ]
  },
  {
   "cell_type": "markdown",
   "id": "426c15dc-fa96-4ffd-916e-1d8e8e97274d",
   "metadata": {},
   "source": [
    "3. 需要注意的是，`x2`的数据类型可能会引起结果的数据类型的改变，进而可能会产生计算错误，参见`ufuncs.casting`"
   ]
  },
  {
   "cell_type": "code",
   "execution_count": 20,
   "id": "9d49a1fb-7aff-446a-ab05-97b889a3bbf3",
   "metadata": {},
   "outputs": [
    {
     "name": "stdout",
     "output_type": "stream",
     "text": [
      "510 <class 'numpy.intc'>\n",
      "254 <class 'numpy.uint8'>\n"
     ]
    }
   ],
   "source": [
    "x = np.uint8(255)  # 0b11111111\n",
    "a = np.left_shift(x, 1) # Expect 254\n",
    "print(a, type(a))\n",
    "b = np.left_shift(x, np.uint8(1))\n",
    "print(b, type(b))"
   ]
  },
  {
   "cell_type": "code",
   "execution_count": 45,
   "id": "57aafcde-3c6d-4bbf-ae19-65064f71dd5e",
   "metadata": {},
   "outputs": [
    {
     "ename": "TypeError",
     "evalue": "ufunc 'left_shift' not supported for the input types, and the inputs could not be safely coerced to any supported types according to the casting rule ''safe''",
     "output_type": "error",
     "traceback": [
      "\u001b[1;31m---------------------------------------------------------------------------\u001b[0m",
      "\u001b[1;31mTypeError\u001b[0m                                 Traceback (most recent call last)",
      "Input \u001b[1;32mIn [45]\u001b[0m, in \u001b[0;36m<cell line: 2>\u001b[1;34m()\u001b[0m\n\u001b[0;32m      1\u001b[0m x \u001b[38;5;241m=\u001b[39m np\u001b[38;5;241m.\u001b[39muintp(\u001b[38;5;241m1\u001b[39m)\n\u001b[1;32m----> 2\u001b[0m \u001b[43mx\u001b[49m\u001b[43m \u001b[49m\u001b[38;5;241;43m<<\u001b[39;49m\u001b[43m \u001b[49m\u001b[38;5;241;43m1\u001b[39;49m\n",
      "\u001b[1;31mTypeError\u001b[0m: ufunc 'left_shift' not supported for the input types, and the inputs could not be safely coerced to any supported types according to the casting rule ''safe''"
     ]
    }
   ],
   "source": [
    "x = np.uintp(1)\n",
    "x << 1"
   ]
  },
  {
   "cell_type": "markdown",
   "id": "b0ed30eb-605d-47e9-b4af-f1ec4a9d1cc0",
   "metadata": {},
   "source": [
    "Class docstring:\n",
    "\n",
    "Functions that operate element by element on whole arrays.\n",
    "\n",
    "To see the documentation for a specific ufunc, use `info`.  For example, `np.info(np.sin)`.  Because ufuncs are written in C (for speed) and linked into Python with NumPy's ufunc facility, Python's help() function finds this page whenever help() is called on a ufunc.\n",
    "\n",
    "A detailed explanation of ufuncs can be found in the docs for :ref:`ufuncs`.\n",
    "\n",
    "**Calling ufuncs:** `op(*x[, out], where=True, **kwargs)`\n",
    "\n",
    "Apply `op` to the arguments `*x` elementwise, broadcasting the arguments.\n",
    "\n",
    "The broadcasting rules are:\n",
    "\n",
    "* Dimensions of length 1 may be prepended to either array.\n",
    "* Arrays may be repeated along dimensions of length 1.\n",
    "\n",
    "Parameters\n",
    "\n",
    "*x : array_like\n",
    "    Input arrays.\n",
    "out : ndarray, None, or tuple of ndarray and None, optional\n",
    "    Alternate array object(s) in which to put the result; if provided, it\n",
    "    must have a shape that the inputs broadcast to. A tuple of arrays\n",
    "    (possible only as a keyword argument) must have length equal to the\n",
    "    number of outputs; use None for uninitialized outputs to be\n",
    "    allocated by the ufunc.\n",
    "where : array_like, optional\n",
    "    This condition is broadcast over the input. At locations where the\n",
    "    condition is True, the `out` array will be set to the ufunc result.\n",
    "    Elsewhere, the `out` array will retain its original value.\n",
    "    Note that if an uninitialized `out` array is created via the default\n",
    "    ``out=None``, locations within it where the condition is False will\n",
    "    remain uninitialized.\n",
    "**kwargs\n",
    "    For other keyword-only arguments, see the :ref:`ufunc docs <ufuncs.kwargs>`.\n",
    "\n",
    "Returns\n",
    "\n",
    "r : ndarray or tuple of ndarray\n",
    "    `r` will have the shape that the arrays in `x` broadcast to; if `out` is\n",
    "    provided, it will be returned. If not, `r` will be allocated and\n",
    "    may contain uninitialized values. If the function has more than one\n",
    "    output, then the result will be a tuple of arrays."
   ]
  }
 ],
 "metadata": {
  "kernelspec": {
   "display_name": "Python 3 (ipykernel)",
   "language": "python",
   "name": "python3"
  },
  "language_info": {
   "codemirror_mode": {
    "name": "ipython",
    "version": 3
   },
   "file_extension": ".py",
   "mimetype": "text/x-python",
   "name": "python",
   "nbconvert_exporter": "python",
   "pygments_lexer": "ipython3",
   "version": "3.9.7"
  }
 },
 "nbformat": 4,
 "nbformat_minor": 5
}
