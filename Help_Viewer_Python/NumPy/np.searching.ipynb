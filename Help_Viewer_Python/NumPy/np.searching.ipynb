{
 "cells": [
  {
   "cell_type": "code",
   "execution_count": 1,
   "id": "b3bd7d61-39c3-43c5-9f49-c14e6ca88761",
   "metadata": {},
   "outputs": [],
   "source": [
    "import numpy as np"
   ]
  },
  {
   "cell_type": "markdown",
   "id": "027a2191-1f4f-43d3-832a-baffc95659dc",
   "metadata": {},
   "source": [
    "## 查找元素"
   ]
  },
  {
   "cell_type": "markdown",
   "id": "3b82a5bd-60de-4543-ad5b-a63e0c0a9160",
   "metadata": {},
   "source": [
    "## np.extract()\n",
    "\n",
    "`np.extract(condition, arr)`\n",
    "\n",
    "根据`condition`返回符合条件的数组，其等价于`np.compress(ravel(condition), ravel(arr))`；若`condition`为布尔型，则该函数等价于`arr[condition]`；`np.place`函数功能与此函数恰相反。返回数组为 1 维数组。\n",
    "\n",
    "##### Args\n",
    "- condition : 类数组型，根据该数组非 0 值或为`True`的元素的位置对`arr`进行提取；\n",
    "- arr : 类数组型，形状应与`condition`相同；\n",
    "\n",
    "##### See Also\n",
    "\n",
    "take, put, copyto, compress, place\n",
    "\n",
    "##### Examples"
   ]
  },
  {
   "cell_type": "code",
   "execution_count": 3,
   "id": "923b64db-dc8e-4d2a-bf7b-9f690f65f0ef",
   "metadata": {},
   "outputs": [
    {
     "data": {
      "text/plain": [
       "array([0, 3, 6, 9])"
      ]
     },
     "execution_count": 3,
     "metadata": {},
     "output_type": "execute_result"
    }
   ],
   "source": [
    "a = np.arange(12).reshape((3, 4))\n",
    "cdtn = np.mod(a, 3)==0\n",
    "np.extract(cdtn, a)\n",
    "# arr[cdtn]"
   ]
  },
  {
   "cell_type": "code",
   "execution_count": 15,
   "id": "c65cdb09-62c9-4444-9af5-b659341d70e5",
   "metadata": {},
   "outputs": [
    {
     "name": "stderr",
     "output_type": "stream",
     "text": [
      "C:\\Users\\11483\\AppData\\Local\\Temp\\ipykernel_23984\\1158669612.py:8: DeprecationWarning: elementwise comparison failed; this will raise an error in the future.\n",
      "  (nbrs[:, 0] != np.array([3, 13]))\n"
     ]
    },
    {
     "data": {
      "text/plain": [
       "True"
      ]
     },
     "execution_count": 15,
     "metadata": {},
     "output_type": "execute_result"
    }
   ],
   "source": []
  }
 ],
 "metadata": {
  "kernelspec": {
   "display_name": "Python 3 (ipykernel)",
   "language": "python",
   "name": "python3"
  },
  "language_info": {
   "codemirror_mode": {
    "name": "ipython",
    "version": 3
   },
   "file_extension": ".py",
   "mimetype": "text/x-python",
   "name": "python",
   "nbconvert_exporter": "python",
   "pygments_lexer": "ipython3",
   "version": "3.9.7"
  }
 },
 "nbformat": 4,
 "nbformat_minor": 5
}
