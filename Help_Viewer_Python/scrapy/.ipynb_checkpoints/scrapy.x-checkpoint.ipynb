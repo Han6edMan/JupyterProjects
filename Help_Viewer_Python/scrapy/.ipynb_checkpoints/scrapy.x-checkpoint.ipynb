{
 "cells": [
  {
   "cell_type": "code",
   "execution_count": 1,
   "metadata": {},
   "outputs": [],
   "source": [
    "import scrapy"
   ]
  },
  {
   "cell_type": "markdown",
   "metadata": {},
   "source": [
    "# scrapy\n",
    "\n",
    "Scrapy - a web crawling and web scraping framework written for Python\n",
    "\n",
    "**PACKAGES**\n",
    "\n",
    "    __main__\n",
    "    cmdline\n",
    "    commands (package)\n",
    "    contracts (package)\n",
    "    core (package)\n",
    "    crawler\n",
    "    downloadermiddlewares (package)\n",
    "    dupefilters\n",
    "    exceptions\n",
    "    exporters\n",
    "    extension\n",
    "    extensions (package)\n",
    "    http (package)\n",
    "    interfaces\n",
    "    item\n",
    "    link\n",
    "    linkextractors (package)\n",
    "    loader (package)\n",
    "    logformatter\n",
    "    mail\n",
    "    middleware\n",
    "    pipelines (package)\n",
    "    pqueues\n",
    "    resolver\n",
    "    responsetypes\n",
    "    robotstxt\n",
    "    selector (package)\n",
    "    settings (package)\n",
    "    shell\n",
    "    signalmanager\n",
    "    signals\n",
    "    spiderloader\n",
    "    spidermiddlewares (package)\n",
    "    spiders (package)\n",
    "    squeues\n",
    "    statscollectors\n",
    "    utils (package)\n",
    "\n",
    "**CLASSES**\n",
    "\n",
    "- builtins.dict(builtins.object)\n",
    "    - scrapy.item.Field\n",
    "- parsel.selector.Selector(builtins.object)\n",
    "    - scrapy.selector.unified.Selector(parsel.selector.Selector, scrapy.utils.trackref.object_ref)\n",
    "- scrapy.item.DictItem(collections.abc.MutableMapping, scrapy.item.BaseItem)\n",
    "    - scrapy.item.Item\n",
    "- scrapy.utils.trackref.object_ref(builtins.object)\n",
    "    - scrapy.http.request.Request\n",
    "        - scrapy.http.request.form.FormRequest\n",
    "    - scrapy.selector.unified.Selector(parsel.selector.Selector, scrapy.utils.trackref.object_ref)\n",
    "    - scrapy.spiders.Spider\n",
    "\n",
    "**DATA**\n",
    "\n",
    "- \\_\\_all__ = ['__version__', 'version_info', 'Spider',...\n",
    "- twisted_version = (21, 2, 0)\n",
    "- version_info = (2, 4, 1)\n",
    "\n",
    "**FILE**:  \\scrapy\\__init__.py"
   ]
  }
 ],
 "metadata": {
  "kernelspec": {
   "display_name": "Python 3",
   "language": "python",
   "name": "python3"
  },
  "language_info": {
   "codemirror_mode": {
    "name": "ipython",
    "version": 3
   },
   "file_extension": ".py",
   "mimetype": "text/x-python",
   "name": "python",
   "nbconvert_exporter": "python",
   "pygments_lexer": "ipython3",
   "version": "3.8.3"
  }
 },
 "nbformat": 4,
 "nbformat_minor": 4
}
