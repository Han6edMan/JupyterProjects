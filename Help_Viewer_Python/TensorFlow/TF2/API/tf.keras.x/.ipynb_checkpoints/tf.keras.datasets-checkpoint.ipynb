{
 "cells": [
  {
   "cell_type": "code",
   "execution_count": 6,
   "metadata": {},
   "outputs": [],
   "source": [
    "import tensorflow as tf\n",
    "import tensorflow.keras.datasets as datasets"
   ]
  },
  {
   "cell_type": "markdown",
   "metadata": {},
   "source": [
    "cifar10.load_data()\n",
    "Signature: cifar10.load_data()\n",
    "Docstring:\n",
    "Loads [CIFAR10 dataset](https://www.cs.toronto.edu/~kriz/cifar.html).\n",
    "\n",
    "This is a dataset of 50,000 32x32 color training images and 10,000 test\n",
    "images, labeled over 10 categories. See more info at the\n",
    "[CIFAR homepage](https://www.cs.toronto.edu/~kriz/cifar.html)."
   ]
  }
 ],
 "metadata": {
  "kernelspec": {
   "display_name": "Python 3",
   "language": "python",
   "name": "python3"
  },
  "language_info": {
   "codemirror_mode": {
    "name": "ipython",
    "version": 3
   },
   "file_extension": ".py",
   "mimetype": "text/x-python",
   "name": "python",
   "nbconvert_exporter": "python",
   "pygments_lexer": "ipython3",
   "version": "3.8.6"
  }
 },
 "nbformat": 4,
 "nbformat_minor": 4
}
