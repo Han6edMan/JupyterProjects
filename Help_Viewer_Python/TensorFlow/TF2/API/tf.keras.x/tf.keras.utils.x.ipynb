{
 "cells": [
  {
   "cell_type": "code",
   "execution_count": 1,
   "metadata": {},
   "outputs": [
    {
     "ename": "ModuleNotFoundError",
     "evalue": "No module named 'tensorflow'",
     "output_type": "error",
     "traceback": [
      "\u001b[1;31m---------------------------------------------------------------------------\u001b[0m",
      "\u001b[1;31mModuleNotFoundError\u001b[0m                       Traceback (most recent call last)",
      "\u001b[1;32m<ipython-input-1-f55831ef6572>\u001b[0m in \u001b[0;36m<module>\u001b[1;34m\u001b[0m\n\u001b[1;32m----> 1\u001b[1;33m \u001b[1;32mimport\u001b[0m \u001b[0mtensorflow\u001b[0m \u001b[1;32mas\u001b[0m \u001b[0mtf\u001b[0m\u001b[1;33m\u001b[0m\u001b[1;33m\u001b[0m\u001b[0m\n\u001b[0m\u001b[0;32m      2\u001b[0m \u001b[1;32mimport\u001b[0m \u001b[0mtensorflow\u001b[0m\u001b[1;33m.\u001b[0m\u001b[0mkeras\u001b[0m\u001b[1;33m.\u001b[0m\u001b[0mutils\u001b[0m \u001b[1;32mas\u001b[0m \u001b[0mutils\u001b[0m\u001b[1;33m\u001b[0m\u001b[1;33m\u001b[0m\u001b[0m\n",
      "\u001b[1;31mModuleNotFoundError\u001b[0m: No module named 'tensorflow'"
     ]
    }
   ],
   "source": [
    "import tensorflow as tf\n",
    "import tensorflow.keras.utils as utils"
   ]
  },
  {
   "cell_type": "markdown",
   "metadata": {},
   "source": [
    "# utils.plot_model()\n",
    "```python\n",
    "utils.plot_model(\n",
    "    model,\n",
    "    to_file='model.png',\n",
    "    show_shapes=False,\n",
    "    show_layer_names=True,\n",
    "    rankdir='TB',\n",
    "    expand_nested=False,\n",
    "    dpi=96,\n",
    ")\n",
    "```\n",
    "**Docstring**:\n",
    "\n",
    "将 Keras 模型转换为 dot 格式并保存到文件中；若安装了 Jupyter，则返回 Jupyter notebook 的图像对象，以便于在 Jupyter notebook 中查看\n",
    "\n",
    "**Args**\n",
    "\n",
    "- model: Keras 模型\n",
    "- to_file: 所绘图像的文件名\n",
    "- show_shapes: 是否显示每层的形状信息\n",
    "- show_layer_names: 是否显示层的名称\n",
    "- rankdir: 传递给 PyDot 的`rankdir`参数，用于指明绘图格式\n",
    "    - 'TB'：创建一个竖直排布的图像\n",
    "    - 'LR'：创建一个水平排布的图像\n",
    "- expand_nested: 是否将嵌套模型展开到 cluster 中\n",
    "- dpi: 每英寸的 dot 数\n",
    "\n",
    "**File**:  \\tensorflow\\python\\keras\\utils\\vis_utils.py\n",
    "\n",
    "**Type**:      function"
   ]
  }
 ],
 "metadata": {
  "kernelspec": {
   "display_name": "Python 3",
   "language": "python",
   "name": "python3"
  },
  "language_info": {
   "codemirror_mode": {
    "name": "ipython",
    "version": 3
   },
   "file_extension": ".py",
   "mimetype": "text/x-python",
   "name": "python",
   "nbconvert_exporter": "python",
   "pygments_lexer": "ipython3",
   "version": "3.8.6"
  }
 },
 "nbformat": 4,
 "nbformat_minor": 4
}
