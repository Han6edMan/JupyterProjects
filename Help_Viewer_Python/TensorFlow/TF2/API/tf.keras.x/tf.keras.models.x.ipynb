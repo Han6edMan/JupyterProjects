{
 "cells": [
  {
   "cell_type": "code",
   "execution_count": 1,
   "metadata": {},
   "outputs": [],
   "source": [
    "import tensorflow as tf\n",
    "import tensorflow.keras.models as models"
   ]
  },
  {
   "cell_type": "markdown",
   "metadata": {},
   "source": [
    "# tf.keras.models.Sequential()\n",
    "\n",
    "`models.Sequential(layers=None, name=None, **kwargs)`\n",
    "\n",
    "**Docstring**:\n",
    "\n",
    "`Sequential`将一个线性堆叠的层 group into`tf.keras.Model`，同时为该模型提供训练和推断特性（即训练和推断所需调用的函数）\n",
    "\n",
    "**Args**:\n",
    "\n",
    "- layers: 添加至模型的层\n",
    "- name: 该模型的名称\n",
    "\n",
    "**File**:       \\tensorflow\\python\\keras\\engine\\sequential.py\n",
    "\n",
    "**Type**:           type\n",
    "\n",
    "### Examples"
   ]
  }
 ],
 "metadata": {
  "kernelspec": {
   "display_name": "Python 3",
   "language": "python",
   "name": "python3"
  },
  "language_info": {
   "codemirror_mode": {
    "name": "ipython",
    "version": 3
   },
   "file_extension": ".py",
   "mimetype": "text/x-python",
   "name": "python",
   "nbconvert_exporter": "python",
   "pygments_lexer": "ipython3",
   "version": "3.8.6"
  }
 },
 "nbformat": 4,
 "nbformat_minor": 4
}
