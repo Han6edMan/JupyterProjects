{
 "cells": [
  {
   "cell_type": "code",
   "execution_count": 1,
   "metadata": {},
   "outputs": [],
   "source": [
    "import tensorflow as tf"
   ]
  },
  {
   "cell_type": "markdown",
   "metadata": {},
   "source": [
    "# Callables\n",
    "\n",
    "    VirtualDeviceConfiguration\n",
    "    disable_mlir_bridge\n",
    "    enable_mlir_bridge\n",
    "    get_device_policy\n",
    "    get_virtual_device_configuration\n",
    "    get_memory_growth\n",
    "    get_synchronous_execution\n",
    "    get_visible_devices\n",
    "    list_logical_devices\n",
    "    list_physical_devices\n",
    "    set_device_policy\n",
    "    set_virtual_device_configuration\n",
    "    set_memory_growth\n",
    "    set_synchronous_execution\n",
    "    set_visible_devices\n",
    "    ClusterDeviceFilters"
   ]
  },
  {
   "cell_type": "markdown",
   "metadata": {},
   "source": [
    "# tf.config.experimental.list_physical_devices()\n",
    "`tf.config.experimental.list_physical_devices(device_type=None)`\n",
    "\n",
    "**Docstring**:\n",
    "\n",
    "返回对主机运行时是可见的物理设备组成的列表，每个列表元素为`tf.config.PhysicalDevice`；这里可见的物理设备指主机上所有可发现的硬件设备如 CPU, GPU；这个 API 允许在运行时初始化之前查询物理硬件资源，进而有机会调用 additional\n",
    "configuration API；这与`tf.config.list_logical_devices`相反，后者触发运行时初始化是为了列出已配置的设备；然而，由于某些设备被标记为不可见或配置了多个逻辑设备，运行时可用的 GPU 数量可能会在运行时初始化期间发生变化\n",
    "\n",
    "\n",
    "**Args**:\n",
    "- device_type: 只包含与这个设备类型匹配的设备，例如`\"CPU\"`或`\"GPU\"`；\n",
    "\n",
    "**File**:   \\tensorflow\\python\\framework\\config.py\n",
    "\n",
    "**Type**:      function"
   ]
  },
  {
   "cell_type": "code",
   "execution_count": null,
   "metadata": {},
   "outputs": [],
   "source": [
    "physical_devices = tf.config.list_physical_devices('GPU')\n",
    "print(\"Num GPUs:\", len(physical_devices))  # => Num GPUs: 0"
   ]
  },
  {
   "cell_type": "markdown",
   "metadata": {},
   "source": [
    "# "
   ]
  },
  {
   "cell_type": "markdown",
   "metadata": {},
   "source": [
    "# tf.config.experimental.set_memory_growth()\n",
    "`tf.config.experimental.set_memory_growth(device, enable)`\n",
    "\n",
    "**Docstring**:\n",
    "\n",
    "设置是否应该为`PhysicalDevice`启用内存增长 (memory growth)；若`PhysicalDevice`为无效对象，会抛出`ValueError`异常；若运行时已经被初始化，则会抛出`RuntimeError`异常\n",
    "\n",
    "**Args**:\n",
    "\n",
    "- device: 要配置的`PhysicalDevice`\n",
    "- enable: 是否允许内存增长；若允许，运行时初始化不会给设备分配所有内存；内存增长不能在具有虚拟设备设置的`PhysicalDevice`上进行配置；\n",
    "  \n",
    "**File**:    \\tensorflow\\python\\framework\\config.py\n",
    "\n",
    "**Type**:      function\n",
    "\n",
    "### Example"
   ]
  },
  {
   "cell_type": "code",
   "execution_count": 13,
   "metadata": {},
   "outputs": [],
   "source": [
    "physical_devices = tf.config.list_physical_devices('GPU')\n",
    "try:\n",
    "    tf.config.experimental.set_memory_growth(physical_devices[0], True)\n",
    "except:\n",
    "    pass"
   ]
  },
  {
   "cell_type": "markdown",
   "metadata": {},
   "source": [
    "# "
   ]
  }
 ],
 "metadata": {
  "kernelspec": {
   "display_name": "Python 3",
   "language": "python",
   "name": "python3"
  },
  "language_info": {
   "codemirror_mode": {
    "name": "ipython",
    "version": 3
   },
   "file_extension": ".py",
   "mimetype": "text/x-python",
   "name": "python",
   "nbconvert_exporter": "python",
   "pygments_lexer": "ipython3",
   "version": "3.8.6"
  }
 },
 "nbformat": 4,
 "nbformat_minor": 4
}
