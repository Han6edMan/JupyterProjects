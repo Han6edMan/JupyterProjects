{
 "cells": [
  {
   "cell_type": "code",
   "execution_count": 11,
   "metadata": {},
   "outputs": [],
   "source": [
    "import numpy as np\n",
    "import tensorflow as tf\n",
    "import tensorflow.python.keras as keras\n",
    "import tensorflow.python.keras.layers as layers\n",
    "from tensorflow.python.keras.losses import SparseCategoricalCrossentropy"
   ]
  },
  {
   "cell_type": "markdown",
   "metadata": {},
   "source": [
    "# The Sequential model"
   ]
  },
  {
   "cell_type": "markdown",
   "metadata": {},
   "source": [
    "# The Functional API"
   ]
  },
  {
   "cell_type": "markdown",
   "metadata": {},
   "source": [
    "# Training and evaluation"
   ]
  },
  {
   "cell_type": "markdown",
   "metadata": {},
   "source": [
    "# Making new Layers and Models"
   ]
  },
  {
   "cell_type": "markdown",
   "metadata": {},
   "source": [
    "<center>\n",
    "\n",
    "# Save and load Keras models\n",
    "</center>\n",
    "\n",
    "一个 Keras 模型包含了网络架构、参数值 (也称为模型的 state)、优化器、损失和指标；Keras API 可以将所有内容以 SavedModel 格式或旧版的 Keras H5 格式进行保存，也可以其中部分内容保存，例如将网络架构保存至 json 文件，只对权重进行保存；\n",
    "\n",
    "\n",
    "## 1. 对整个模型的保存和加载\n",
    "对整个模型的保存指对模型的网络架构、参数值、调用`compile()`所产生的编译信息、优化器及其状态的保存；保存格式可以是 SavedModel 或 Keras H5，调用`model.save()`默认生成 SavedModel，若需要生成  Keras H5 格式，只需在调用该方法时指定参数`save_format='h5'`或传递一个以`.h5`、`.keras`的文件名即可；\n",
    "\n",
    "### 1.1 SavedModel 格式\n",
    "#### 1.1.1 SavedModel 文件内容\n",
    "调用`model.save(\"path\")`会生成一个名为`path`的文件夹，其中包含`assets`、`saved_model.pb`、`variables`3 个文件(夹)；模型架构、训练配置 (例如优化器、损失、评估指标) 保存在`saved_model.pb`中，参数值保存在`variables`中，更多关于 SavedModel 的细节参见[相关教程](https://www.tensorflow.org/guide/saved_model)；\n",
    "\n",
    "#### 1.1.2 SavedModel 对自定义对象的处理\n",
    "对于自定义模型，除网络架构、参数值、损失之外，SavedModel 还会保存类名称、调用函数、训练配置；在没有 model/layer config 时，调用函数用于创建一个与原始模型类似的模型，该模型可以用于训练、评估、推理。\n",
    "\n",
    "在自定义模型时，同时定义`get_config`和`from_config`方法有助于在之后更新计算流程，更多信息参加下面的[自定义对象]()小节\n",
    "!TODO\n",
    "\n",
    "在不覆盖 config 方法的情况下，以 SavedModel 格式加载自定义层的范例如下所示"
   ]
  },
  {
   "cell_type": "code",
   "execution_count": null,
   "metadata": {
    "scrolled": true
   },
   "outputs": [],
   "source": [
    "def get_data(num):\n",
    "    mnist = tf.keras.datasets.mnist\n",
    "    (x_train, y_train), (x_test, y_test) = mnist.load_data()\n",
    "    x_train, x_test = x_train / 255.0, x_test / 255.0\n",
    "    return x_train[:num], y_train[:num], x_test[:num], y_test[:num]\n",
    "\n",
    "\n",
    "class MnistModel(Model):\n",
    "    def __init__(self):\n",
    "        super(MnistModel, self).__init__()\n",
    "        self.flatten = Flatten()\n",
    "        self.dense1 = Dense(128, activation='relu')\n",
    "        self.dense2 = Dense(10, activation='softmax')\n",
    "\n",
    "    def call(self, x):\n",
    "        y = self.dense2(self.dense1(self.flatten(x)))\n",
    "        return y\n",
    "\n",
    "x_train, y_train, x_test, y_test = get_data(128)\n",
    "model = MnistModel()\n",
    "model.compile(optimizer='adam',\n",
    "              loss=tf.keras.losses.SparseCategoricalCrossentropy(from_logits=False),\n",
    "              metrics=['sparse_categorical_accuracy'])\n",
    "model.fit(x_train, y_train, batch_size=32, epochs=5, validation_data=(x_test, y_test), validation_freq=1)\n",
    "model.summary()\n",
    "\n",
    "model.save(\"../test/Guide/Keras/model_save_test/\")\n",
    "del MnistModel\n",
    "loaded = keras.models.load_model(\"../test/Guide/Keras/model_save_test/\")\n",
    "np.testing.assert_allclose(loaded(x_train[0]), y_train[0])\n",
    "print(\"Original model:\", model)\n",
    "print(\"Loaded model:\", loaded)"
   ]
  },
  {
   "cell_type": "markdown",
   "metadata": {},
   "source": [
    "### 1.2 HDF5 格式\n",
    "HDF5 格式可以保存模型架构、权重值、`compile()`信息，但无法保存：\n",
    "1. 通过`model.add_loss()`和`model.add_metric()`添加的损失和度量；若想要恢复训练，则需要加载模型后手动将这些损失加回来；需要注意的是，若损失和度量是通过`self.add_loss()`和`self.add_metric()`添加的，则在加载模型时仍会保留这两个参数；\n",
    "2. 自定义对象的计算图；在加载自定义对象时，Keras 需要访问这些对象的 Python 类或函数，以能够重建模型；详见下面的[自定义对象]()小节\n",
    "\n",
    "下面是一以 HDF5 格式保存的例子"
   ]
  },
  {
   "cell_type": "code",
   "execution_count": null,
   "metadata": {},
   "outputs": [],
   "source": [
    "model.save(\"../test/Guide/Keras/model_save_h5_test/\")"
   ]
  },
  {
   "cell_type": "markdown",
   "metadata": {},
   "source": [
    "## 2. 保存网络架构\n",
    "\n",
    "### 2.1Configuration of a Sequential model or Functional API model\n",
    "\n",
    "These types of models are explicit graphs of layers: their configuration is always available in a structured form.\n",
    "\n",
    "调用`config = model.get_config()`可以返回一个含有模型配置的字典，进而通过`Sequential.from_config(config)`或`Model.from_config(config)`能够建立一个相同的模型；例如\n",
    "```python\n",
    "# Layer example\n",
    "layer = keras.layers.Dense(3, activation=\"relu\")\n",
    "layer_config = layer.get_config()\n",
    "new_layer = keras.layers.Dense.from_config(layer_config)\n",
    "\n",
    "# Sequential model example:\n",
    "model = keras.Sequential([keras.Input((32,)), keras.layers.Dense(1)])\n",
    "config = model.get_config()\n",
    "new_model = keras.Sequential.from_config(config)\n",
    "\n",
    "# Functional model example:\n",
    "inputs = keras.Input((32,))\n",
    "outputs = keras.layers.Dense(1)(inputs)\n",
    "model = keras.Model(inputs, outputs)\n",
    "config = model.get_config()\n",
    "new_model = keras.Model.from_config(config)\n",
    "```\n",
    "调用`to_json()`会将模型转换为 JSON 字符串，`tf.keras.models.model_from_json()`则可以加载模型，这种方法只适用于整体模型，而不适用于某一个层，例如\n",
    "```python\n",
    "model = keras.Sequential([keras.Input((32,)), keras.layers.Dense(1)])\n",
    "json_config = model.to_json()\n",
    "new_model = keras.models.model_from_json(json_config)\n",
    "```\n",
    "\n",
    "### 2.2 自定义对象\n",
    "### 2.3 "
   ]
  },
  {
   "cell_type": "code",
   "execution_count": null,
   "metadata": {},
   "outputs": [],
   "source": []
  },
  {
   "cell_type": "markdown",
   "metadata": {},
   "source": [
    "## Saving the architecture\n",
    "## Saving & loading only the weights values"
   ]
  },
  {
   "cell_type": "markdown",
   "metadata": {},
   "source": [
    "# Working with preprocessing layers"
   ]
  },
  {
   "cell_type": "markdown",
   "metadata": {},
   "source": [
    "# Customize what happens in Model.fit"
   ]
  },
  {
   "cell_type": "markdown",
   "metadata": {},
   "source": [
    "# Writing a training loop from scrach"
   ]
  },
  {
   "cell_type": "markdown",
   "metadata": {},
   "source": [
    "# RNN with Keras"
   ]
  },
  {
   "cell_type": "markdown",
   "metadata": {},
   "source": [
    "# Writing callbacks"
   ]
  },
  {
   "cell_type": "markdown",
   "metadata": {},
   "source": [
    "# Transfer learning and fine-tuning"
   ]
  },
  {
   "cell_type": "markdown",
   "metadata": {},
   "source": [
    "# Training Keras models with TF Cloud"
   ]
  }
 ],
 "metadata": {
  "kernelspec": {
   "display_name": "Python 3",
   "language": "python",
   "name": "python3"
  },
  "language_info": {
   "codemirror_mode": {
    "name": "ipython",
    "version": 3
   },
   "file_extension": ".py",
   "mimetype": "text/x-python",
   "name": "python",
   "nbconvert_exporter": "python",
   "pygments_lexer": "ipython3",
   "version": "3.8.6"
  }
 },
 "nbformat": 4,
 "nbformat_minor": 4
}
