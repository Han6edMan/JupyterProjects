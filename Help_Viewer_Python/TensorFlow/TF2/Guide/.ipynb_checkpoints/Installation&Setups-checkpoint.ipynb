{
 "cells": [
  {
   "cell_type": "markdown",
   "id": "handled-habitat",
   "metadata": {},
   "source": [
    "- tensorflow CPU 版本的安装：\n",
    "```bash\n",
    "conda create -n <env_name> python=<version>\n",
    "conda install tensorflow==<version>\n",
    "```\n",
    " 有时最新版本无法通过 conda 安装，便可以使用 pip 加豆瓣镜像安装：\n",
    "```bash\n",
    "pip install tensorflow==<version> -i https://pypi.douban.com/simple\n",
    "```\n",
    "\n",
    "- 在不创建新环境下将 tensorflow 更新到最新版本：\n",
    "```bash\n",
    "pip install --upgrade tensorflow -i https://pypi.douban.com/simple\n",
    "```\n",
    "\n",
    "\n",
    "- tensorflow 不同版本所支持的 python 版本参见[官网](https://pypi.org/project/tensorflow/1.1.0rc2/#files)\n",
    "\n",
    "- 在 tensorflow 中打开 Jupyter 参见[这里](http://localhost:8888/notebooks/Help_Viewer_Python/usages/Jupyter%26Markdown.ipynb)"
   ]
  }
 ],
 "metadata": {
  "kernelspec": {
   "display_name": "Python 3",
   "language": "python",
   "name": "python3"
  },
  "language_info": {
   "codemirror_mode": {
    "name": "ipython",
    "version": 3
   },
   "file_extension": ".py",
   "mimetype": "text/x-python",
   "name": "python",
   "nbconvert_exporter": "python",
   "pygments_lexer": "ipython3",
   "version": "3.8.0"
  }
 },
 "nbformat": 4,
 "nbformat_minor": 5
}
