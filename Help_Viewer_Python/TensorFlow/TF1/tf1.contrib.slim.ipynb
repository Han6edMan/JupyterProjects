{
 "cells": [
  {
   "cell_type": "code",
   "execution_count": 6,
   "id": "perfect-location",
   "metadata": {
    "scrolled": true
   },
   "outputs": [],
   "source": [
    "import tensorflow as tf\n",
    "import tensorflow.contrib.slim as slim"
   ]
  },
  {
   "cell_type": "code",
   "execution_count": null,
   "id": "foster-stranger",
   "metadata": {},
   "outputs": [],
   "source": [
    "slim.arg_scope()"
   ]
  },
  {
   "cell_type": "markdown",
   "id": "stretch-carolina",
   "metadata": {},
   "source": [
    "# slim.arg_scope()\n",
    "`slim.arg_scope(list_ops_or_scope, **kwargs):`\n",
    "\n",
    "对给定的`list_ops`集合的默认参数进行存储，返回`current_scope`，其为`{op: {arg: value}}`形式的字典\n",
    "\n",
    "**Args**:\n",
    "\n",
    "- list_ops_or_scope: 要为其设置参数作用域的操作所组成的列表或元组，或包含了目前作用于的字典；当其为列表或元祖时，其所含的每一个操作均应附加`@add_arg_scope`修饰符，否则会抛出异常；当其为字典时，`kwargs`必须为空；\n",
    "\n",
    "- \\*\\*kwargs: 定义`list_ops`中每个操作默认参数的`keyword=value`\n",
    "\n",
    "\n",
    "\n",
    "### Example\n",
    "下面的例子中\n",
    "```python\n",
    "arg_scope = tf.contrib.framework.arg_scope\n",
    "with arg_scope(\n",
    "    [layers.conv2d], padding='SAME',\n",
    "    initializer=layers.variance_scaling_initializer(),\n",
    "    regularizer=layers.l2_regularizer(0.05)):\n",
    "    net = layers.conv2d(\n",
    "        inputs, 64, [11, 11], 4,\n",
    "        padding='VALID', scope='conv1'\n",
    "    )\n",
    "    net = layers.conv2d(net, 256, [5, 5], scope='conv2')\n",
    "```\n",
    "第一次调用`conv2d`时，其扩充的方式是`VALID`，初始化器和正则化器均为`arg_scope`中定义的函数；第二次调用`conv2d`时，其扩充的方式则默认为`SAME`，初始化器和正则化器依旧为`arg_scope`中定义的函数；\n",
    "\n",
    "如何重用`arg_scope`的示例\n",
    "\n",
    "```python\n",
    "with arg_scope([layers.conv2d], padding='SAME',\n",
    "             initializer=layers.variance_scaling_initializer(),\n",
    "             regularizer=layers.l2_regularizer(0.05)) as sc:\n",
    "    net = layers.conv2d(net, 256, [5, 5], scope='conv1')\n",
    "\n",
    "with arg_scope(sc):\n",
    "    net = layers.conv2d(net, 256, [5, 5], scope='conv2')\n",
    "```\n",
    "\n",
    "Example of how to use tf.contrib.framework.add_arg_scope to enable your\n",
    "function to be called within an arg_scope later:\n",
    "\n",
    "@tf.contrib.framework.add_arg_scope\n",
    "def conv2d(*args, **kwargs)"
   ]
  }
 ],
 "metadata": {
  "kernelspec": {
   "display_name": "Python 3",
   "language": "python",
   "name": "python3"
  },
  "language_info": {
   "codemirror_mode": {
    "name": "ipython",
    "version": 3
   },
   "file_extension": ".py",
   "mimetype": "text/x-python",
   "name": "python",
   "nbconvert_exporter": "python",
   "pygments_lexer": "ipython3",
   "version": "3.7.9"
  }
 },
 "nbformat": 4,
 "nbformat_minor": 5
}
