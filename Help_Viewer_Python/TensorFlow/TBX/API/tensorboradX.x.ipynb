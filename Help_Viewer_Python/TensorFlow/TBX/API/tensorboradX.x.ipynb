{
 "cells": [
  {
   "cell_type": "code",
   "execution_count": 3,
   "metadata": {},
   "outputs": [],
   "source": [
    "import tensorboardX\n",
    "from tensorboardX import SummaryWriter"
   ]
  },
  {
   "cell_type": "markdown",
   "metadata": {},
   "source": [
    "SummaryWriter()\n",
    "Init signature:\n",
    "SummaryWriter(\n",
    "    logdir=None,\n",
    "    comment='',\n",
    "    purge_step=None,\n",
    "    max_queue=10,\n",
    "    flush_secs=120,\n",
    "    filename_suffix='',\n",
    "    write_to_disk=True,\n",
    "    log_dir=None,\n",
    "    **kwargs,\n",
    ")\n",
    "Docstring:     \n",
    "Writes entries directly to event files in the logdir to be\n",
    "consumed by TensorBoard.\n",
    "\n",
    "The `SummaryWriter` class provides a high-level API to create an event file\n",
    "in a given directory and add summaries and events to it. The class updates the\n",
    "file contents asynchronously. This allows a training program to call methods\n",
    "to add data to the file directly from the training loop, without slowing down\n",
    "training.\n",
    "Init docstring:\n",
    "Creates a `SummaryWriter` that will write out events and summaries\n",
    "to the event file.\n",
    "\n",
    "Args:\n",
    "    logdir (string): Save directory location. Default is\n",
    "      runs/**CURRENT_DATETIME_HOSTNAME**, which changes after each run.\n",
    "      Use hierarchical folder structure to compare\n",
    "      between runs easily. e.g. pass in 'runs/exp1', 'runs/exp2', etc.\n",
    "      for each new experiment to compare across them.\n",
    "    comment (string): Comment logdir suffix appended to the default\n",
    "      ``logdir``. If ``logdir`` is assigned, this argument has no effect.\n",
    "    purge_step (int):\n",
    "      When logging crashes at step :math:`T+X` and restarts at step :math:`T`,\n",
    "      any events whose global_step larger or equal to :math:`T` will be\n",
    "      purged and hidden from TensorBoard.\n",
    "      Note that crashed and resumed experiments should have the same ``logdir``.\n",
    "    max_queue (int): Size of the queue for pending events and\n",
    "      summaries before one of the 'add' calls forces a flush to disk.\n",
    "      Default is ten items.\n",
    "    flush_secs (int): How often, in seconds, to flush the\n",
    "      pending events and summaries to disk. Default is every two minutes.\n",
    "    filename_suffix (string): Suffix added to all event filenames in\n",
    "      the logdir directory. More details on filename construction in\n",
    "      tensorboard.summary.writer.event_file_writer.EventFileWriter.\n",
    "    write_to_disk (boolean):\n",
    "      If pass `False`, SummaryWriter will not write to disk.\n",
    "\n",
    "Examples::\n",
    "\n",
    "    from tensorboardX import SummaryWriter\n",
    "\n",
    "    # create a summary writer with automatically generated folder name.\n",
    "    writer = SummaryWriter()\n",
    "    # folder location: runs/May04_22-14-54_s-MacBook-Pro.local/\n",
    "\n",
    "    # create a summary writer using the specified folder name.\n",
    "    writer = SummaryWriter(\"my_experiment\")\n",
    "    # folder location: my_experiment\n",
    "\n",
    "    # create a summary writer with comment appended.\n",
    "    writer = SummaryWriter(comment=\"LR_0.1_BATCH_16\")\n",
    "    # folder location: runs/May04_22-14-54_s-MacBook-Pro.localLR_0.1_BATCH_16/\n",
    "File:           d:\\programfiles\\miniconda3\\lib\\site-packages\\tensorboardx\\writer.py\n",
    "Type:           type\n",
    "Subclasses:     "
   ]
  }
 ],
 "metadata": {
  "kernelspec": {
   "display_name": "Python 3",
   "language": "python",
   "name": "python3"
  },
  "language_info": {
   "codemirror_mode": {
    "name": "ipython",
    "version": 3
   },
   "file_extension": ".py",
   "mimetype": "text/x-python",
   "name": "python",
   "nbconvert_exporter": "python",
   "pygments_lexer": "ipython3",
   "version": "3.8.6"
  }
 },
 "nbformat": 4,
 "nbformat_minor": 4
}
