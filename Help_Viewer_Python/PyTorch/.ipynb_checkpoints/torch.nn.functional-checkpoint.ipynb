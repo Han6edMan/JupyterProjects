{
 "cells": [
  {
   "cell_type": "code",
   "execution_count": 2,
   "metadata": {},
   "outputs": [],
   "source": [
    "import torch.nn.functional as F\n",
    "import torch"
   ]
  },
  {
   "cell_type": "markdown",
   "metadata": {},
   "source": [
    "# F.avg_pool2d()\n",
    "```python\n",
    "avg_pool2d(\n",
    "    input,\n",
    "    kernel_size,\n",
    "    stride=None,\n",
    "    padding=0,\n",
    "    ceil_mode=False,\n",
    "    count_include_pad=True,\n",
    "    divisor_override=None\n",
    ") -> Tensor\n",
    "```\n",
    "**Docstring**\n",
    "\n",
    "以步长为 $S_h \\times S_w$ 对一个 2 维特征图的每个 $k_h \\times k_w$ 区域进行平均池化，输出特征图数量与输入特征图数量相等，更多细节参见`torch.nn.AvgPool2d`\n",
    "\n",
    "**Args**:\n",
    "\n",
    "- input: 形状为 $(N_i \\times C_i \\times H_i \\times W_i)$ 的张量\n",
    "\n",
    "- kernel_size: 可以为单一的整数，或为元祖`(k_h, k_w)`\n",
    "\n",
    "- stride: 可以为单一的整数，或为元祖`(s_h, s_w)`，默认与`kernel_size`相同\n",
    "\n",
    "- padding: 可以为单一的整数，或为元祖`(pad_h, pad_w)`，默认为 0\n",
    "\n",
    "- ceil_mode: 决定在步长不为一时输出特征图的形状，True 时进行向上取整，否则进行向下取整；默认为 False\n",
    "\n",
    "- count_include_pad: True 时平均池化的运算会将边界扩充的元素考虑在内，默认 True\n",
    "\n",
    "- divisor_override: 指明时将使用该参数作为除数（即分母），否则会使用池化区域的大小\n",
    "\n",
    "**Type**:      builtin_function_or_method"
   ]
  },
  {
   "cell_type": "markdown",
   "metadata": {},
   "source": [
    "#  "
   ]
  },
  {
   "cell_type": "markdown",
   "metadata": {},
   "source": [
    "# F.pad()\n",
    "`F.pad(input, pad, mode='constant', value=0)`\n",
    "\n",
    "**Docstring**:\n",
    "\n",
    "对一个张量进行扩充，；\n",
    "\n",
    "需要注意的是，对于需要使用CUDA的CuDNN backend 的情况，该操作可能会选择一个具有不确定性的算法以提高性能；若需要算法保持稳定，可设置``torch.backends.cudnn.deterministic =True``，但这同时可能会损失一定的性能；更多背景知识可以参见`/notes/randomness`\n",
    "\n",
    "**Args**:\n",
    "\n",
    "- input: pass\n",
    "\n",
    "- pad: 对张量各维度扩充的元素个数，应为含有 2m 个元素的元祖，此时``input``的最后 m 维将会被填充；m 为奇数时向下取整；例如只填充`input`最后一维，则`pad`形状应为 $(N_{left}, N_{right})$，最后两维则 $(N_{left}, N_{right}, N_{top}, N_{bottom})$，最后三维则 $(N_{left}, N_{right}, N_{top}, N_{bottom}, N_{front}, N_{back})$\n",
    "\n",
    "- mode: 可以是``'constant'``, ``'reflect'``, ``'replicate'`` or ``'circular'``，默认``'constant'``；\n",
    "    - `constant`模式可以对任意维度的张量进行填充；\n",
    "    - `replicate`模式对 5D 张量的最后 3 个维度进行填充，对 4D 张量最后 2 个维度进行填充，对 3D 张量最后 1 个维度进行填充；\n",
    "    - `reflect`模式只能对 4D 张量最后 2 个维度进行填充，对 3D 张量最后 1 个维度进行填充；\n",
    "    - 关于各种扩充机制详见`torch.nn.ConstantPad2d`、`torch.nn.ReflectionPad2d`、`torch.nn.ReplicationPad2d`；\n",
    "\n",
    "- value: ``'constant'``模式下填充的值，默认 0\n",
    "\n",
    "**File**:      d:\\programfiles\\miniconda3\\lib\\site-packages\\torch\\nn\\functional.py\n",
    "\n",
    "**Type**:      function\n",
    "\n",
    "Examples"
   ]
  },
  {
   "cell_type": "code",
   "execution_count": null,
   "metadata": {},
   "outputs": [],
   "source": [
    "x = torch.ones([2, 3, 3, 2])\n",
    "out = F.pad(x, (0, 1), \"constant\", 0)\n",
    "out = F.pad(x, (0, 1, 2, 1), \"constant\", 0)\n",
    "print(out)\n",
    "out = F.pad(x, (0, 1, 2, 1, 1, 1), \"constant\", 0)\n",
    "print(out)"
   ]
  },
  {
   "cell_type": "code",
   "execution_count": 3,
   "metadata": {},
   "outputs": [
    {
     "name": "stdout",
     "output_type": "stream",
     "text": [
      "torch.Size([1, 7, 4, 2])\n",
      "tensor([[[[0., 0.],\n",
      "          [0., 0.],\n",
      "          [0., 0.],\n",
      "          [0., 0.]],\n",
      "\n",
      "         [[0., 0.],\n",
      "          [0., 0.],\n",
      "          [0., 0.],\n",
      "          [0., 0.]],\n",
      "\n",
      "         [[1., 1.],\n",
      "          [1., 1.],\n",
      "          [1., 1.],\n",
      "          [1., 1.]],\n",
      "\n",
      "         [[1., 1.],\n",
      "          [1., 1.],\n",
      "          [1., 1.],\n",
      "          [1., 1.]],\n",
      "\n",
      "         [[1., 1.],\n",
      "          [1., 1.],\n",
      "          [1., 1.],\n",
      "          [1., 1.]],\n",
      "\n",
      "         [[0., 0.],\n",
      "          [0., 0.],\n",
      "          [0., 0.],\n",
      "          [0., 0.]],\n",
      "\n",
      "         [[0., 0.],\n",
      "          [0., 0.],\n",
      "          [0., 0.],\n",
      "          [0., 0.]]]])\n"
     ]
    }
   ],
   "source": [
    "channels = 8\n",
    "def lambdaLayer(lamda, t):\n",
    "    return lamda(t)\n",
    "\n",
    "out = lambdaLayer(\n",
    "    lambda y: F.pad(\n",
    "        y[:, :, ::2, ::2],\n",
    "        (0, 0, 0, 0, channels//4, channels//4),\n",
    "        \"constant\", 0\n",
    "    ),\n",
    "    torch.ones(1, 3, 8, 4)\n",
    ")\n",
    "\n",
    "print(out.shape)\n",
    "print(out)"
   ]
  }
 ],
 "metadata": {
  "kernelspec": {
   "display_name": "Python 3",
   "language": "python",
   "name": "python3"
  },
  "language_info": {
   "codemirror_mode": {
    "name": "ipython",
    "version": 3
   },
   "file_extension": ".py",
   "mimetype": "text/x-python",
   "name": "python",
   "nbconvert_exporter": "python",
   "pygments_lexer": "ipython3",
   "version": "3.8.6"
  }
 },
 "nbformat": 4,
 "nbformat_minor": 4
}
