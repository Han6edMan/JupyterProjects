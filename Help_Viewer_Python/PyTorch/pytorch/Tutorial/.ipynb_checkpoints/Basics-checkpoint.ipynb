{
 "cells": [
  {
   "cell_type": "code",
   "execution_count": 1,
   "id": "809c7934",
   "metadata": {},
   "outputs": [],
   "source": [
    "import torch\n",
    "import numpy as np"
   ]
  },
  {
   "cell_type": "markdown",
   "id": "bf4cf3e2",
   "metadata": {},
   "source": [
    "大多 ML 工作流包括数据处理、模型创建、参数优化和模型保存等过程，本教程提供了利用 PyTorch 将其实现的基本使用方法。整个教程中，我们假设读者已经熟悉 Python 的基本操作和深度学习的相关概念，演示示例大多使用 FashionMNIST，其类别标签包括：t恤、上衣、长裤、套头衫、连衣裙、外套、凉鞋、衬衫、运动鞋、手袋和踝靴。\n",
    "\n",
    "\n",
    "How to Use this Guide\n",
    "If you’re familiar with other deep learning frameworks, check out the 0. Quickstart first to quickly familiarize yourself with PyTorch’s API.\n",
    "\n",
    "If you’re new to deep learning frameworks, head right into the first section of our step-by-step guide: 1. Tensors.\n",
    "\n",
    "0. Quickstart\n",
    "1. Tensors\n",
    "2. Datasets, DataLoaders and Transforms\n",
    "3. Automatic mechanics\n",
    "4. Broadcasting semantics\n",
    "5. nn.Modules"
   ]
  },
  {
   "cell_type": "code",
   "execution_count": 13,
   "id": "4b48857e",
   "metadata": {},
   "outputs": [
    {
     "data": {
      "text/plain": [
       "False"
      ]
     },
     "execution_count": 13,
     "metadata": {},
     "output_type": "execute_result"
    }
   ],
   "source": [
    "x = torch.tensor([[1, 2], [3, 4]])\n",
    "x.requires_grad"
   ]
  },
  {
   "cell_type": "markdown",
   "id": "6195d680",
   "metadata": {},
   "source": [
    "## 1. Tensors\n",
    "PyTorch 张量用于编码模型的输入和输出以及参数，其类似于 NumPy 的 ndarray，不过张量可以在 GPU 或其他硬件加速器上运行；事实上，张量和 ndarray 通常可以共享底层内存，从而减少了复制数据的需要 (参见[Bridge with NumPy](https://pytorch.org/tutorials/beginner/blitz/tensor_tutorial.html#bridge-to-np-label)；此外张量还对自动求导进行了优化 (可参见 Autograd 部分)；\n",
    "\n",
    "\n",
    "### 1.1 Initializing Tensor\n",
    "1. 直接利用数据初始化，pytorch 会自动推断数据类型，当然也可以通过`dtype`参数指定\n",
    "```python\n",
    "x = torch.tensor([[1, 2], [3, 4]], dtype=torch.int32)\n",
    "```\n",
    "2. 利用内置函数\n",
    "```python\n",
    "x = torch.empty(3, 4, dtype=torch.float)\n",
    "x = torch.zeros(5, 3, dtype=torch.int8)\n",
    "x = torch.ones(3, 4, requires_grad=True)\n",
    "x = torch.rand(2, 3)  # x ~ U(0, 1)\n",
    "x = torch.randn(3, 2)  # x ~ N(0, 1)\n",
    "x = torch.randint(low=1, high=10, size=(2, 3))\n",
    "```\n",
    "3. 利用其他数据初始化\n",
    "```python\n",
    "x = torch.ones_like(x)\n",
    "x = torch.zeros_like(x)\n",
    "x = torch.randn_like(x)\n",
    "x = torch.rand_like(x)\n",
    "x = torch.randint_like(x)\n",
    "```\n",
    "4. 从 ndarray 转化\n",
    "```python\n",
    "x = np.array([[1, 2], [3, 4]])\n",
    "x = torch.from_numpy(x)\n",
    "```\n",
    "\n",
    "\n",
    "\n",
    "### 1.2 Attributes of Tensor\n",
    "张量属性包括其形状、数据类型、存储它们的设备、是否要求记录梯度等；每个张量均是`torch.Tensor`的实例，而`torch.Tensor`继承于`torch._C._TensorBase`，`_TensorBase`中指明了张量具有的所有属性和类函数；\n",
    "```python\n",
    "x = torch.rand(3,4)\n",
    "x.shape  # torch.Size([3, 4])\n",
    "x.dtype  # torch.float32\n",
    "x.device  # device(type='cpu')\n",
    "x.requires_grad  # False\n",
    "```\n",
    "#### TODO\n",
    "- operations on tensor\n",
    "- torch.Tensor"
   ]
  },
  {
   "cell_type": "markdown",
   "id": "72da7a34",
   "metadata": {},
   "source": [
    "## "
   ]
  },
  {
   "cell_type": "markdown",
   "id": "4e62dc6a",
   "metadata": {},
   "source": [
    "## 2. Datasets, DataLoaders and Transforms\n",
    "## 3. Automatic mechanics\n",
    "## 4. Broadcasting semantics\n",
    "## 5. Modules"
   ]
  },
  {
   "cell_type": "markdown",
   "id": "fb5334cc",
   "metadata": {},
   "source": [
    "## References\n",
    "1. https://pytorch.org/tutorials/beginner/basics/tensorqs_tutorial.html\n"
   ]
  }
 ],
 "metadata": {
  "kernelspec": {
   "display_name": "Python 3",
   "language": "python",
   "name": "python3"
  },
  "language_info": {
   "codemirror_mode": {
    "name": "ipython",
    "version": 3
   },
   "file_extension": ".py",
   "mimetype": "text/x-python",
   "name": "python",
   "nbconvert_exporter": "python",
   "pygments_lexer": "ipython3",
   "version": "3.8.5"
  }
 },
 "nbformat": 4,
 "nbformat_minor": 5
}
