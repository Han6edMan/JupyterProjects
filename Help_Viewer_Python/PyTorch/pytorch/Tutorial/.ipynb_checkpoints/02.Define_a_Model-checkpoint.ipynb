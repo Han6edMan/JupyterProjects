{
 "cells": [
  {
   "cell_type": "code",
   "execution_count": 1,
   "id": "induced-population",
   "metadata": {},
   "outputs": [],
   "source": [
    "import torch\n",
    "import torch.nn as nn\n",
    "import torch.nn.functional as F"
   ]
  },
  {
   "cell_type": "markdown",
   "id": "96c26d99",
   "metadata": {},
   "source": [
    "## Define a Model\n",
    "在 PyTorch 中，神经网络模型主要通过`torch.nn`模块来搭建，该模块含有众多神经网络层，如`nn.Conv2d`、`nn.MultiheadAttention`等，这些类均继承基类`nn.Module`，如果需要自定义模型，则该模型也应继承这个类；\n",
    "\n",
    "### Subclass ``nn.Module``\n",
    "对于一个继承了`nn.Module`的类，其应在`__init__()`方法中创建模型所含的所有子模块，并在`forward()`方法中定义网络中数据传播的方式；下面以基于 MNIST 数据集的模型为示例，演示定义模型的方法；"
   ]
  },
  {
   "cell_type": "code",
   "execution_count": null,
   "id": "f24ec9a4",
   "metadata": {},
   "outputs": [],
   "source": [
    "class MNISTModel(nn.Module):\n",
    "    def __init__(self):\n",
    "        super(MNISTModel, self).__init__()\n",
    "        self.conv0 = nn.Conv2d(1, 32, (3, 3), stride=1, bias=False)\n",
    "        self.bn0 = nn.BatchNorm2d(32)\n",
    "        self.relu0 = nn.ReLU(inplace=True)\n",
    "        self.conv1 = nn.Conv2d(32, 64, (3, 3), stride=1, bias=False)\n",
    "        self.bn1 = nn.BatchNorm2d(64)\n",
    "        self.relu1 = nn.ReLU(inplace=True)\n",
    "        self.avgpool = nn.AdaptiveAvgPool2d(1)\n",
    "        self.linear = nn.Linear(64, 10)\n",
    "\n",
    "    def forward(self, x):\n",
    "        x = self.relu0(self.bn0(self.conv0(x)))\n",
    "        x = self.relu1(self.bn1(self.conv1(x)))\n",
    "        x = self.avgpool(x)\n",
    "        x = torch.flatten(x, start_dim=1)\n",
    "        x = self.linear(x)\n",
    "        return x\n",
    "\n",
    "\n",
    "model = MNISTModel()\n",
    "print(model)"
   ]
  },
  {
   "cell_type": "markdown",
   "id": "0efa3dd8",
   "metadata": {},
   "source": [
    "由于`nn.Module`的源代码中，调用`__call__()`函数时会自动调用`forward()`函数，进而在定义模型后，可以直接调用模型实例来将数据输入网络："
   ]
  },
  {
   "cell_type": "code",
   "execution_count": 12,
   "id": "6d08a1ef",
   "metadata": {
    "scrolled": true
   },
   "outputs": [
    {
     "name": "stdout",
     "output_type": "stream",
     "text": [
      "output size: torch.Size([2, 10])\n"
     ]
    }
   ],
   "source": [
    "out = model(torch.rand((2, 1, 28, 28)))\n",
    "print(\"output size:\", out.shape)"
   ]
  },
  {
   "cell_type": "markdown",
   "id": "advance-rings",
   "metadata": {},
   "source": [
    "### Use containers\n",
    "PyTorch 源代码的`nn/modules/container.py`文件中还定义了其他用于创建模型的 API，即`nn.Sequetial()`、`nn.ModuleList()`、`nn.ModuleDict()`；上述模型还可以像下面这种方式创建："
   ]
  }
 ],
 "metadata": {
  "kernelspec": {
   "display_name": "Python 3",
   "language": "python",
   "name": "python3"
  },
  "language_info": {
   "codemirror_mode": {
    "name": "ipython",
    "version": 3
   },
   "file_extension": ".py",
   "mimetype": "text/x-python",
   "name": "python",
   "nbconvert_exporter": "python",
   "pygments_lexer": "ipython3",
   "version": "3.8.5"
  }
 },
 "nbformat": 4,
 "nbformat_minor": 5
}
