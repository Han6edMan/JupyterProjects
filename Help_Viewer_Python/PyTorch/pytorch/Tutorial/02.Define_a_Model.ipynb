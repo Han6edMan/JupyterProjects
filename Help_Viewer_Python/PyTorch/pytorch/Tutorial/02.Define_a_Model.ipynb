{
 "cells": [
  {
   "cell_type": "code",
   "execution_count": 1,
   "id": "induced-population",
   "metadata": {},
   "outputs": [],
   "source": [
    "import torch\n",
    "import torch.nn as nn\n",
    "import torch.nn.functional as F"
   ]
  },
  {
   "cell_type": "markdown",
   "id": "advance-rings",
   "metadata": {},
   "source": [
    "## Define a Model in PyTorch\n",
    "\n",
    "### Subclass ``nn.Module``\n",
    "在 PyTorch 中，神经网络模型主要通过`torch.nn`包来搭建；`torch.nn`含有众多典型的神经网络层，例如`nn.Conv2d`、`nn.BatchNorm2d`、`nn.LSTM`、`nn.MultiheadAttention`等，这些类均继承基类`nn.Module`，如果需要自定义模型，则该模型也应继承这个类；\n",
    "\n",
    "具体而言，继承了`nn.Module`的类应在`__init__()`方法中创建模型所含的所有子模块，并在`forward()`方法中定义网络中数据传播的方式；下面以基于 MNIST 数据集的模型为示例，演示定义模型的方法；\n",
    "\n",
    "```python\n",
    "class MNISTModel(nn.Module):\n",
    "    def __init__(self):\n",
    "        super(MNISTModel, self).__init__()\n",
    "        self.conv0 = nn.Conv2d(1, 32, (3, 3), stride=1, bias=False)\n",
    "        self.bn0 = nn.BatchNorm2d(32)\n",
    "        self.relu0 = nn.ReLU(inplace=True)\n",
    "        self.conv1 = nn.Conv2d(32, 64, (3, 3), stride=1, bias=False)\n",
    "        self.bn1 = nn.BatchNorm2d(64)\n",
    "        self.relu1 = nn.ReLU(inplace=True)\n",
    "        self.avgpool = nn.AdaptiveAvgPool2d(1)\n",
    "        self.linear = nn.Linear(64, 10)\n",
    "\n",
    "    def forward(self, x):\n",
    "        x = self.relu0(self.bn0(self.conv0(x)))\n",
    "        x = self.relu1(self.bn1(self.conv1(x)))\n",
    "        x = self.avgpool(x)\n",
    "        x = torch.flatten(x, start_dim=1)\n",
    "        x = self.linear(x)\n",
    "        return x\n",
    "\n",
    "model = MNISTModel()\n",
    "out = model(torch.rand((2, 1, 28, 28)))\n",
    "print(out.shape)  # => torch.Size([2, 10])\n",
    "```\n",
    "\n",
    "### Subclass containers\n",
    "PyTorch 源代码中`nn/modules/container.py`文件中还定义了其他用于创建模型的 API；"
   ]
  }
 ],
 "metadata": {
  "kernelspec": {
   "display_name": "Python 3",
   "language": "python",
   "name": "python3"
  },
  "language_info": {
   "codemirror_mode": {
    "name": "ipython",
    "version": 3
   },
   "file_extension": ".py",
   "mimetype": "text/x-python",
   "name": "python",
   "nbconvert_exporter": "python",
   "pygments_lexer": "ipython3",
   "version": "3.8.5"
  }
 },
 "nbformat": 4,
 "nbformat_minor": 5
}
