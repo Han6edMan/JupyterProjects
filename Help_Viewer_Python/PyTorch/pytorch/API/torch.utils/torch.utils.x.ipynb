{
 "cells": [
  {
   "cell_type": "code",
   "execution_count": 1,
   "metadata": {},
   "outputs": [],
   "source": [
    "import torch\n",
    "import torch.utils as utils"
   ]
  },
  {
   "cell_type": "markdown",
   "metadata": {},
   "source": [
    "# torch.utils\n",
    "\n",
    "**PACKAGE**\n",
    "\n",
    "    _cpp_extension_versioner\n",
    "    backcompat (package)\n",
    "    bottleneck (package)\n",
    "    bundled_inputs\n",
    "    checkpoint\n",
    "    collect_env\n",
    "    cpp_extension\n",
    "    data (package)\n",
    "    dlpack\n",
    "    ffi (package)\n",
    "    file_baton\n",
    "    hipify (package)\n",
    "    hooks\n",
    "    mkldnn\n",
    "    mobile_optimizer\n",
    "    model_zoo\n",
    "    show_pickle\n",
    "    tensorboard (package)\n",
    "    throughput_benchmark\n",
    "\n",
    "**FUNCTIONS**\n",
    "- set_module(obj, mod)\n",
    "\n",
    "**DATA**\n",
    "\n",
    "    absolute_import = _Feature((2, 5, 0, 'alpha', 1), (3, 0, 0, 'alpha', 0...\n",
    "    cmake_prefix_path = r'D:\\ProgramFiles\\miniconda3\\lib\\site-packages\\tor...\n",
    "    division = _Feature((2, 2, 0, 'alpha', 2), (3, 0, 0, 'alpha', 0), 1310...\n",
    "    print_function = _Feature((2, 6, 0, 'alpha', 2), (3, 0, 0, 'alpha', 0)...\n",
    "    unicode_literals = _Feature((2, 6, 0, 'alpha', 2), (3, 0, 0, 'alpha', ...\n",
    "\n",
    "**FILE**: \\torch\\utils\\\\\\_\\_init__.py"
   ]
  }
 ],
 "metadata": {
  "kernelspec": {
   "display_name": "Python 3",
   "language": "python",
   "name": "python3"
  },
  "language_info": {
   "codemirror_mode": {
    "name": "ipython",
    "version": 3
   },
   "file_extension": ".py",
   "mimetype": "text/x-python",
   "name": "python",
   "nbconvert_exporter": "python",
   "pygments_lexer": "ipython3",
   "version": "3.8.6"
  }
 },
 "nbformat": 4,
 "nbformat_minor": 4
}
