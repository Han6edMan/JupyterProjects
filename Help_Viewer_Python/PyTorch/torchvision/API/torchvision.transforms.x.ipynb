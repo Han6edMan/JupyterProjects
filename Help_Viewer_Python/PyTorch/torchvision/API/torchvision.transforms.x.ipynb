{
 "cells": [
  {
   "cell_type": "code",
   "execution_count": 1,
   "metadata": {},
   "outputs": [],
   "source": [
    "import torch\n",
    "import numpy as np\n",
    "import matplotlib.pyplot as plt\n",
    "import torchvision.transforms as transforms\n",
    "from torchvision.datasets import CIFAR10\n",
    "\n",
    "data_path = \"F:/Self-Development/Academic/Computer_Science/Datasets/torch/torchvision\""
   ]
  },
  {
   "cell_type": "code",
   "execution_count": 10,
   "metadata": {},
   "outputs": [
    {
     "name": "stdout",
     "output_type": "stream",
     "text": [
      "Files already downloaded and verified\n"
     ]
    }
   ],
   "source": [
    "ds = CIFAR10(data_path, train=True, download=True, transform=transforms.ToTensor())\n",
    "img_orig = ds[0][0]"
   ]
  },
  {
   "cell_type": "markdown",
   "metadata": {},
   "source": [
    "# torchvision.transforms\n",
    "\n",
    "**PACKAGE**\n",
    "\n",
    "    _functional_video\n",
    "    _transforms_video\n",
    "    functional\n",
    "    functional_pil\n",
    "    functional_tensor\n",
    "    transforms\n",
    "\n",
    "**CLASSES**\n",
    "\n",
    "    Compose\n",
    "    ToTensor\n",
    "    PILToTensor\n",
    "    ConvertImageDtype\n",
    "    ToPILImage\n",
    "    Normalize\n",
    "    Resize\n",
    "    Scale\n",
    "    CenterCrop\n",
    "    Pad\n",
    "    Lambda\n",
    "    RandomApply\n",
    "    RandomChoice\n",
    "    RandomOrder\n",
    "    RandomCrop\n",
    "    RandomHorizontalFlip\n",
    "    RandomVerticalFlip\n",
    "    RandomResizedCrop\n",
    "    RandomSizedCrop\n",
    "    FiveCrop\n",
    "    TenCrop\n",
    "    LinearTransformation\n",
    "    ColorJitter\n",
    "    RandomRotation\n",
    "    RandomAffine\n",
    "    Grayscale\n",
    "    RandomGrayscale\n",
    "    RandomPerspective\n",
    "    RandomErasing\n",
    "    GaussianBlur"
   ]
  },
  {
   "cell_type": "markdown",
   "metadata": {},
   "source": [
    "# transforms.Compose\n",
    "`transforms.Compose(transforms)`\n",
    "\n",
    "`transforms`应为`transform`组成的列表，其每个元素为对每条数据施加的操作，这个类则用于讲这些`transform`组合起来；\n",
    "\n",
    "**File**:  \\torchvision\\transforms\\transforms.py\n",
    "\n",
    "**Type**:           type"
   ]
  },
  {
   "cell_type": "code",
   "execution_count": 3,
   "metadata": {},
   "outputs": [],
   "source": [
    "transform_train = transforms.Compose([\n",
    "    transforms.RandomCrop(32, padding=4),\n",
    "    transforms.RandomHorizontalFlip(),\n",
    "    transforms.ToTensor(),\n",
    "    transforms.Normalize((0.4914, 0.4822, 0.4465), (0.2023, 0.1994, 0.2010)),\n",
    "])"
   ]
  },
  {
   "cell_type": "markdown",
   "metadata": {},
   "source": [
    "## transforms.ToTensor()\n",
    "`transforms.ToTensor()`\n",
    "\n",
    "若`PIL`图像为 (L, LA, P, I, F, RGB, YCbCr, RGBA, CMYK, 1) 中的一种，则可以将其转换为像素值在 $[0.0, 1.0]$ 范围的 $C\\times H\\times W$ 的`torch.FloatTensor`；若一个 NumPy 数组像素值在$[0, 255]$ 范围之间、形状为 $H\\times W\\times C$、数据类型为`np.unit8`，则也可以将其转换成一个像素值在 $[0.0, 1.0]$ 范围的 $C\\times H\\times W$ 的`torch.FloatTensor`；其他情况则返回一个像素值没有经过放缩的张量；这个转换不支持 torchscipt；\n",
    "\n",
    "需要注意的是，由于输入数据会被缩放到 $[0.0, 1.0]$ 之间，进而不应对目标图像使用这个转换；更多实现标签图像掩码 (target image masks) 转换的内容参见[这里](https://github.com/pytorch/vision/tree/master/references/segmentation)\n",
    "\n"
   ]
  },
  {
   "cell_type": "markdown",
   "metadata": {},
   "source": [
    "## transforms.PILToTensor()\n",
    "`transforms.PILToTensor()`\n",
    "\n",
    "将形状为 $H\\times W\\times C$ 的`PIL`图像转换为同样类型的形状为 $C\\times H\\times W$ 的张量；这个转换不支持 torchscipt；\n",
    "\n",
    "**Type**:           type"
   ]
  },
  {
   "cell_type": "markdown",
   "metadata": {},
   "source": [
    "#  "
   ]
  },
  {
   "cell_type": "markdown",
   "metadata": {},
   "source": [
    "    ConvertImageDtype\n",
    "    ToPILImage"
   ]
  },
  {
   "cell_type": "markdown",
   "metadata": {},
   "source": [
    "#  "
   ]
  },
  {
   "cell_type": "markdown",
   "metadata": {},
   "source": [
    "## transforms.Normalize()\n",
    "`transforms(mean, std, inplace=False)`\n",
    "\n",
    "**Docstring**:     对图像在每个通道上进行归一化，其中`mean`、`std`均为长度为 C 的一维序列，C为通道数；即执行操作``img[C] = (img[C] - mean[C]) / std[C]``；`inplace=False`时该函数不会改变原图像\n",
    "\n",
    "**Type**:           type"
   ]
  },
  {
   "cell_type": "markdown",
   "metadata": {},
   "source": [
    "## transforms.Resize()\n",
    "`transforms.Resize(size, interpolation=2)`\n",
    "    \n",
    "**Docstring**:     对输入的 PIL 图像或张量进行放缩；\n",
    "\n",
    "**Args**\n",
    "- size: 输出图像大小；若`size`被指定为类似`(h, w)`的序列，则输出图像即为如此；若其被指定为单个整数，则默认以图像较短的那个边与其匹配，即假若图像的高大于宽，则返回图像形状为`(size * height / width, size)`；`torchscript`模式不支持指定单个整数，此时应使用长度为 1 的元组或列表，例如`[size,]`；\n",
    "\n",
    "- interpolation: 整型；由[`filters`](https://pillow.readthedocs.io/en/latest/handbook/concepts.html#filters)定义的代表差值方式的`enum`；默认为``PIL.Image.BILINEAR``；输入为张量时只支持``PIL.Image.NEAREST``、``PIL.Image.BILINEAR``、``PIL.Image.BICUBIC``\n",
    "\n",
    "**Type**:           type"
   ]
  },
  {
   "cell_type": "code",
   "execution_count": 68,
   "metadata": {},
   "outputs": [
    {
     "name": "stdout",
     "output_type": "stream",
     "text": [
      "Files already downloaded and verified\n",
      "Files already downloaded and verified\n"
     ]
    }
   ],
   "source": [
    "ds = CIFAR10(data_path, train=True, download=True, transform=transforms.ToTensor())\n",
    "ds_resize = CIFAR10(\n",
    "    data_path, train=True, download=True,\n",
    "    transform=transforms.Compose([\n",
    "        transforms.Resize(64),\n",
    "        transforms.ToTensor(),\n",
    "    ])\n",
    ")"
   ]
  },
  {
   "cell_type": "code",
   "execution_count": 69,
   "metadata": {},
   "outputs": [
    {
     "data": {
      "text/plain": [
       "<matplotlib.image.AxesImage at 0x12daf68a820>"
      ]
     },
     "execution_count": 69,
     "metadata": {},
     "output_type": "execute_result"
    },
    {
     "data": {
      "image/png": "[encoded data removed]",
      "text/plain": [
       "<Figure size 432x288 with 1 Axes>"
      ]
     },
     "metadata": {
      "needs_background": "light"
     },
     "output_type": "display_data"
    },
    {
     "data": {
      "image/png": "[encoded data removed]",
      "text/plain": [
       "<Figure size 432x288 with 1 Axes>"
      ]
     },
     "metadata": {
      "needs_background": "light"
     },
     "output_type": "display_data"
    }
   ],
   "source": [
    "img = ds[0][0].numpy().transpose(1, 2, 0)\n",
    "img_resize = ds_resize[0][0].numpy().transpose(1, 2, 0)\n",
    "plt.figure()\n",
    "plt.imshow(img)\n",
    "plt.figure()\n",
    "plt.imshow(img_resize)"
   ]
  },
  {
   "cell_type": "markdown",
   "metadata": {},
   "source": [
    "## transforms.Scale()\n",
    "`transforms.Scale(*args, **kwargs)`\n",
    "\n",
    "此变换已被弃用，请改为使用`Resize`\n",
    "\n",
    "**Type**:           type"
   ]
  },
  {
   "cell_type": "markdown",
   "metadata": {},
   "source": [
    "    CenterCrop\n",
    "    Pad\n",
    "    Lambda"
   ]
  },
  {
   "cell_type": "markdown",
   "metadata": {},
   "source": [
    "## transforms.RandomApply()\n",
    "`transforms.RandomApply(transforms, p=0.5)`\n",
    "\n",
    "**Docstring**:     根据给定的概率`p`随机的从`transforms`中采取一些转换，其中`transforms`为若干变换组成的列表、元组或`nn.Module`；需要说明的是，为了能够脚本化所应用的转换，最好使用``torch.nn.ModuleList`` 来将不同的转换打包为一个`nn.Module`，再传递给`transforms`，如下所示:\n",
    "\n",
    "```python\n",
    "    transforms = transforms.RandomApply(\n",
    "        torch.nn.ModuleList([transforms.ColorJitter(), ]), p=0.3\n",
    "    )\n",
    "    scripted_transforms = torch.jit.script(transforms)\n",
    "```\n",
    "请确保只使用可脚本化转换，即可以接受``torch.Tensor``而不需要提供`lambda`函数或`PIL.Image`的转换；\n",
    "\n",
    "**Type**:           type"
   ]
  },
  {
   "cell_type": "markdown",
   "metadata": {},
   "source": [
    "    RandomChoice\n",
    "    RandomOrder"
   ]
  },
  {
   "cell_type": "markdown",
   "metadata": {},
   "source": [
    "#  "
   ]
  },
  {
   "cell_type": "markdown",
   "metadata": {},
   "source": [
    "#  "
   ]
  },
  {
   "cell_type": "markdown",
   "metadata": {},
   "source": [
    "## transforms.RandomCrop\n",
    "```py\n",
    "transforms.RandomCrop(\n",
    "    size,\n",
    "    padding=None,\n",
    "    pad_if_needed=False,\n",
    "    fill=0,\n",
    "    padding_mode='constant'\n",
    ")\n",
    "```\n",
    "  \n",
    "**Docstring**\n",
    "\n",
    "将给定的 PIL 图像或张量依据`size`在随机位置根据给定的大小进行裁剪\n",
    "\n",
    "**Args**\n",
    "\n",
    "- size: 裁剪后输出的形状；当被指定为一整数时，输出形状为` (size, size)`；当被指定为一序列`(h, w)`时，输出形状即为所指定；当被指定为长度为 1 的列表或元祖时，该元素作为输出图像的宽和高；\n",
    "- padding: 默认 None；若其值为 4 元序列，则序列元素分别分配至图像左、上、右、下侧的填充值；若其值为 2 元序列，则序列元素分别分配至图像水平和竖直方向的填充值；若其值为一整数，略；`torchscript`模式不支持单个整数，进而应传递`[padding, ]`\n",
    "- pad_if_needed: 当输入图像形状小于输出时会填充图片，防止报错；由于裁剪是在填充之后进行的，进而填充可以视为对原图像上进行了随机的偏移；\n",
    "- fill: 填充模式为常数时的填充值，默认为 0；若为3元数组，则分别填充至 R, G, B 通道中；仅在`padding_mode`为`constant`时起作用；\n",
    "- padding_mode: 填充模式，包括`constant`, `edge`, `reflect`, `symmetric`，默认`constant`\n",
    "    - constant: 利用由`fill`给定的值填充；\n",
    "    - edge: 由图像边缘最后一个像素点的取值进行填充；    \n",
    "    - reflect: 根据图像像素点取值，以**不重复**边缘像素点取值的方式对称地填充，如像素点为 $[1, 2, 3, 4]$，则填充 2 个元素的情况下填充结果为 $[3, 2, 1, 2, 3, 4, 3, 2]$；\n",
    "    - symmetric: 根据图像像素点取值，以**重复**边缘像素点取值的方式对称地填充，如像素点为 $[1, 2, 3, 4]$，则填充 2 个元素的情况下填充结果为 $[2, 1, 1, 2, 3, 4, 4, 3]$；"
   ]
  },
  {
   "cell_type": "code",
   "execution_count": 2,
   "metadata": {},
   "outputs": [
    {
     "name": "stdout",
     "output_type": "stream",
     "text": [
      "Files already downloaded and verified\n"
     ]
    }
   ],
   "source": [
    "ds_rc = CIFAR10(\n",
    "    data_path,\n",
    "    train=True,\n",
    "    download=True,\n",
    "    transform=transforms.Compose([\n",
    "        transforms.RandomCrop(24, padding=0, pad_if_needed=True),\n",
    "        transforms.ToTensor()\n",
    "    ])\n",
    ")"
   ]
  },
  {
   "cell_type": "code",
   "execution_count": 9,
   "metadata": {},
   "outputs": [
    {
     "data": {
      "text/plain": [
       "<matplotlib.image.AxesImage at 0x1d980225910>"
      ]
     },
     "execution_count": 9,
     "metadata": {},
     "output_type": "execute_result"
    },
    {
     "data": {
      "image/png": "[encoded data removed]",
      "text/plain": [
       "<Figure size 432x288 with 1 Axes>"
      ]
     },
     "metadata": {
      "needs_background": "light"
     },
     "output_type": "display_data"
    }
   ],
   "source": [
    "img_rc1 = ds_rc[0][0]\n",
    "img_rc2 = ds_rc[0][0]\n",
    "img = torch.cat([img_rc1, img_rc2], dim=-1).numpy().transpose(1, 2, 0)\n",
    "plt.figure()\n",
    "plt.imshow(img)"
   ]
  },
  {
   "cell_type": "markdown",
   "metadata": {},
   "source": [
    "#  "
   ]
  },
  {
   "cell_type": "markdown",
   "metadata": {},
   "source": [
    "RandomHorizontalFlip\n",
    "RandomVerticalFlip"
   ]
  },
  {
   "cell_type": "markdown",
   "metadata": {},
   "source": [
    "## transforms.RandomResizedCrop()\n",
    "```py\n",
    "transforms.RandomResizedCrop(\n",
    "    size,\n",
    "    scale=(0.08, 1.0),\n",
    "    ratio=(0.75, 1.3333333333333333),\n",
    "    interpolation=2,\n",
    ")\n",
    "```\n",
    "**Docstring**\n",
    "\n",
    "对于给定的 PIL 图像，首先以图像原始大小的`scale`倍、随机的高宽比`ratio`进行裁剪，再将得到的新图像放缩至`size`大小；其常用于训练 Inception 网络\n",
    "\n",
    "**Args**\n",
    "- size: 略\n",
    "- scale: 原始图像被裁剪的范围\n",
    "- ratio: 原长高比被裁剪的范围\n",
    "- interpolation: 默认为`PIL.Image.BILINEAR`\n",
    "\n",
    "**File**:       \\torchvision\\transforms\\transforms.py\n",
    "\n",
    "**Type**:           type"
   ]
  },
  {
   "cell_type": "code",
   "execution_count": 97,
   "metadata": {},
   "outputs": [
    {
     "data": {
      "text/plain": [
       "<matplotlib.image.AxesImage at 0x12db0fb7640>"
      ]
     },
     "execution_count": 97,
     "metadata": {},
     "output_type": "execute_result"
    },
    {
     "data": {
      "image/png": "[encoded data removed]",
      "text/plain": [
       "<Figure size 432x288 with 1 Axes>"
      ]
     },
     "metadata": {
      "needs_background": "light"
     },
     "output_type": "display_data"
    }
   ],
   "source": [
    "img_rrc = transforms.RandomResizedCrop((32, 32))(img_orig)\n",
    "img_cat = torch.cat([img_orig, img_rrc], dim=-1).numpy().transpose(1, 2, 0)\n",
    "plt.figure()\n",
    "plt.imshow(img_cat)"
   ]
  },
  {
   "cell_type": "markdown",
   "metadata": {},
   "source": [
    "#  "
   ]
  },
  {
   "cell_type": "markdown",
   "metadata": {},
   "source": [
    "#  "
   ]
  },
  {
   "cell_type": "markdown",
   "metadata": {},
   "source": [
    "    RandomSizedCrop"
   ]
  },
  {
   "cell_type": "markdown",
   "metadata": {},
   "source": [
    "## transforms.FiveCrop()\n",
    "`transforms.FiveCrop(size)`\n",
    "\n",
    "**Docstring**:     在原图像的四个角落区域和中间区域的按照给定的`size`进行裁剪，其中`size`应为序列或单个整数；单个整数时则视为按照`(size, size)`的方式裁剪；若为长度为 1 的序列，则视为按照`(size[0], size[0])`的方式裁剪；\n",
    "\n",
    "需要注意的是，这个转换返回一个由图像组成的元组，进而数据集所返回的输入图片和标签的数量可能会不匹配，此时可以按照下面的方式处理：\n",
    "```python\n",
    "transform = Compose([\n",
    "   FiveCrop(size),\n",
    "   Lambda(lambda crops: torch.stack([ToTensor()(c) for c in crops])),\n",
    "])\n",
    "# during test loop\n",
    "input, target = batch  # input now is a 5D tensor, target is 2D\n",
    "bs, ncrops, c, h, w = input.size()\n",
    "result = model(input.view(-1, c, h, w))  # fuse batch size and ncrops\n",
    "result_avg = result.view(bs, ncrops, -1).mean(1) # avg over ncrops\n",
    "```\n",
    "\n",
    "**Type**:           type\n",
    "\n",
    "**Example**"
   ]
  },
  {
   "cell_type": "code",
   "execution_count": 19,
   "metadata": {
    "scrolled": true
   },
   "outputs": [
    {
     "data": {
      "text/plain": [
       "<matplotlib.image.AxesImage at 0x1d981b3a220>"
      ]
     },
     "execution_count": 19,
     "metadata": {},
     "output_type": "execute_result"
    },
    {
     "data": {
      "image/png": "[encoded data removed]",
      "text/plain": [
       "<Figure size 432x288 with 1 Axes>"
      ]
     },
     "metadata": {
      "needs_background": "light"
     },
     "output_type": "display_data"
    }
   ],
   "source": [
    "img_5crop = transforms.FiveCrop((24, 24))(img_orig)\n",
    "img_5crop = torch.cat(img_5crop, dim=-2).numpy().transpose(1, 2, 0)\n",
    "plt.figure()\n",
    "plt.imshow(img_5crop)"
   ]
  },
  {
   "cell_type": "code",
   "execution_count": null,
   "metadata": {},
   "outputs": [],
   "source": []
  },
  {
   "cell_type": "markdown",
   "metadata": {},
   "source": [
    "    TenCrop\n",
    "    LinearTransformation\n",
    "    ColorJitter\n",
    "    RandomRotation\n",
    "    RandomAffine\n",
    "    Grayscale\n",
    "    RandomGrayscale\n",
    "    RandomPerspective\n",
    "    RandomErasing\n",
    "    GaussianBlur"
   ]
  }
 ],
 "metadata": {
  "kernelspec": {
   "display_name": "Python 3",
   "language": "python",
   "name": "python3"
  },
  "language_info": {
   "codemirror_mode": {
    "name": "ipython",
    "version": 3
   },
   "file_extension": ".py",
   "mimetype": "text/x-python",
   "name": "python",
   "nbconvert_exporter": "python",
   "pygments_lexer": "ipython3",
   "version": "3.8.3"
  },
  "latex_envs": {
   "LaTeX_envs_menu_present": true,
   "autoclose": false,
   "autocomplete": true,
   "bibliofile": "biblio.bib",
   "cite_by": "apalike",
   "current_citInitial": 1,
   "eqLabelWithNumbers": true,
   "eqNumInitial": 1,
   "hotkeys": {
    "equation": "Ctrl-E",
    "itemize": "Ctrl-I"
   },
   "labels_anchors": false,
   "latex_user_defs": false,
   "report_style_numbering": false,
   "user_envs_cfg": false
  }
 },
 "nbformat": 4,
 "nbformat_minor": 4
}
