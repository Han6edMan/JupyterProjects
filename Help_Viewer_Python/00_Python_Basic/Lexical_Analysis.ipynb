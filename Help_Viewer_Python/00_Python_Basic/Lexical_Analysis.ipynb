{
 "cells": [
  {
   "cell_type": "markdown",
   "metadata": {},
   "source": [
    "# Lexical analysis\n",
    "\n",
    "[原参考文档](https://docs.python.org/3/reference/lexical_analysis.html#reserved-classes-of-identifiers)\n",
    "\n",
    "Python 程序由解析器 (parser) 读取，而解析器的输入是由词法分析器 (lexical analyzer) 生成的符号 (token) 流；对源文件的编码可以通过编码声明给出，默认为 UTF-8，UTF-8 的详细信息请参阅[PEP 3120](https://www.python.org/dev/peps/pep-3120/)。如果无法对源文件进行解码，则会抛出`SyntaxError`\n",
    "\n",
    "## Line structure\n",
    "\n",
    "Python 程序在读取过程中会被分解为许多 logical lines\n",
    "\n",
    "## Other tokens\n",
    "\n",
    "\n",
    "## Identifiers & kwds\n",
    "\n",
    "标识符也称为名称\n",
    "\n",
    "## Literals\n",
    "\n",
    "## Operators\n",
    "\n",
    "\n",
    "\n",
    "## Delimiters"
   ]
  }
 ],
 "metadata": {
  "kernelspec": {
   "display_name": "Python 3",
   "language": "python",
   "name": "python3"
  },
  "language_info": {
   "codemirror_mode": {
    "name": "ipython",
    "version": 3
   },
   "file_extension": ".py",
   "mimetype": "text/x-python",
   "name": "python",
   "nbconvert_exporter": "python",
   "pygments_lexer": "ipython3",
   "version": "3.8.5"
  }
 },
 "nbformat": 4,
 "nbformat_minor": 4
}
