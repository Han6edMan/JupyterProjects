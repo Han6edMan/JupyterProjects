{
 "cells": [
  {
   "cell_type": "code",
   "execution_count": 56,
   "metadata": {},
   "outputs": [],
   "source": [
    "import numpy as np"
   ]
  },
  {
   "cell_type": "markdown",
   "metadata": {
    "jp-MarkdownHeadingCollapsed": true,
    "tags": []
   },
   "source": [
    "# Operator \n",
    "\n",
    "## precedence\n",
    "\n",
    "以下为 Python 中运算的优先级列表，从上至下优先级逐渐增加，同一行中运算符优先级相同；\n",
    "\n",
    "| Operator                                        | Description                           |\n",
    "|:------------------------------------------------|:--------------------------------------|\n",
    "| \"lambda\"                                        | lambda 表达式                     |\n",
    "| \"if\" – \"else\"                                   | 条件表达式                |\n",
    "| \"or\"                                            | 逻辑或                            |\n",
    "| \"and\"                                           | 逻辑与                           |\n",
    "| \"not\" \"x\"                                       | 逻辑求反                           |\n",
    "| \"in\", \"not in\", \"is not\", \"<=\", ...             | 比较、元素包含关系、恒等关系    |\n",
    "| \"|\"                                             | 位或                              |\n",
    "| \"^\"                                             | 位异或                           |\n",
    "| \"&\"                                             | 位和                          |\n",
    "| \"<<\", \">>\"                                      | 移位                             |\n",
    "| \"+\", \"-\"                                        | 加减                                 |\n",
    "| `\"*\", \"@\", \"/\", \"//\", \"%\"`                      | 乘法、矩阵乘法、除法、向下取整除法、取余|\n",
    "| \"+x\", \"-x\", \"~x\"                                | 正、负、位否       |\n",
    "| `\"**\"`                                          | 乘方                    |\n",
    "| \"await\" \"x\"                                     | Await表达式                    |\n",
    "| \"x[index]\", \"x[index:index]\",                   | 索引、切片、调用          |\n",
    "| \"x(arguments...)\", \"x.attribute\"                | 属性引用                   |\n",
    "| \"(expressions...)\",  \"[expressions...]\", \"{key: value...}\", \"{expressions...}\"| 绑定表达式或给表达式加括号、以列表形式显示、以字典形式显示、设置显示形式|\n",
    "\n",
    "-[ Footnotes ]-\n",
    "\n",
    "[1] While \"abs(x%y) < abs(y)\" is true mathematically, for floats\n",
    "    it may not be true numerically due to roundoff.  For example, and\n",
    "    assuming a platform on which a Python float is an IEEE 754 double-\n",
    "    precision number, in order that \"-1e-100 % 1e100\" have the same\n",
    "    sign as \"1e100\", the computed result is \"-1e-100 + 1e100\", which\n",
    "    is numerically exactly equal to \"1e100\".  The function\n",
    "    \"math.fmod()\" returns a result whose sign matches the sign of the\n",
    "    first argument instead, and so returns \"-1e-100\" in this case.\n",
    "    Which approach is more appropriate depends on the application.\n",
    "\n",
    "[2] If x is very close to an exact integer multiple of y, it’s\n",
    "    possible for \"x//y\" to be one larger than \"(x-x%y)//y\" due to\n",
    "    rounding.  In such cases, Python returns the latter result, in\n",
    "    order to preserve that \"divmod(x,y)[0] * y + x % y\" be very close\n",
    "    to \"x\".\n",
    "\n",
    "[3] The Unicode standard distinguishes between *code points* (e.g.\n",
    "    U+0041) and *abstract characters* (e.g. “LATIN CAPITAL LETTER A”).\n",
    "    While most abstract characters in Unicode are only represented\n",
    "    using one code point, there is a number of abstract characters\n",
    "    that can in addition be represented using a sequence of more than\n",
    "    one code point.  For example, the abstract character “LATIN\n",
    "    CAPITAL LETTER C WITH CEDILLA” can be represented as a single\n",
    "    *precomposed character* at code position U+00C7, or as a sequence\n",
    "    of a *base character* at code position U+0043 (LATIN CAPITAL\n",
    "    LETTER C), followed by a *combining character* at code position\n",
    "    U+0327 (COMBINING CEDILLA).\n",
    "\n",
    "    The comparison operators on strings compare at the level of\n",
    "    Unicode code points. This may be counter-intuitive to humans.  For\n",
    "    example, \"\"\\u00C7\" == \"\\u0043\\u0327\"\" is \"False\", even though both\n",
    "    strings represent the same abstract character “LATIN CAPITAL\n",
    "    LETTER C WITH CEDILLA”.\n",
    "\n",
    "    To compare strings at the level of abstract characters (that is,\n",
    "    in a way intuitive to humans), use \"unicodedata.normalize()\".\n",
    "\n",
    "[4] Due to automatic garbage-collection, free lists, and the\n",
    "    dynamic nature of descriptors, you may notice seemingly unusual\n",
    "    behaviour in certain uses of the \"is\" operator, like those\n",
    "    involving comparisons between instance methods, or constants.\n",
    "    Check their documentation for more info.\n",
    "\n",
    "[5] The \"%\" operator is also used for string formatting; the same\n",
    "    precedence applies.\n",
    "\n",
    "[6] The power operator \"**\" binds less tightly than an arithmetic\n",
    "    or bitwise unary operator on its right, that is, \"2**-1\" is \"0.5\".\n",
    "\n",
    "Related help topics: lambda, or, and, not, in, is, BOOLEAN, COMPARISON,\n",
    "BITWISE, SHIFTING, BINARY, FORMATTING, POWER, UNARY, ATTRIBUTES,\n",
    "SUBSCRIPTS, SLICINGS, CALLS, TUPLES, LISTS, DICTIONARIES"
   ]
  },
  {
   "cell_type": "markdown",
   "metadata": {},
   "source": [
    "# \\* 和 \\*\\* \n",
    "\n",
    "在赋值时`*x`用于收集变量：\n",
    "\n",
    "```python\n",
    "a, b, *c = 1, 2, 3, 4  # <=> `a, b, *c = [1, 2, 3, 4]`\n",
    "print(a, b, c)  # => 1 2 [3, 4]\n",
    "```\n",
    "\n",
    "在定义函数参数时，`*args`表示`args`为一元组，`**kwargs`表示`kwargs`为一字典\n",
    "\n",
    "```python\n",
    "def myprint(*args, **kwargs):\n",
    "    print('args:', args, \"kwargs:\", kwargs)\n",
    "\n",
    "myprint(1, [1, 2], (1, 2), \"1, 2\", x=1, y=2) \n",
    "# => args: (1, [1, 2], (1, 2), '1, 2') kwargs: {'x': 1, 'y': 2}\n",
    "```\n",
    "\n",
    "在调用函数传参时，`*args`、`**kwargs`用于将`args`、`kwargs`所含元素分配给所调用函数的参数，其中`kwargs`必须为字典类型，`args`可以是元组、列表、字典等类型，但不同类型默认所传参数不同；此外`args`会将其所含元素按所调用函数定义时参数顺序分配给相应参数，而`kwargs`会将其键值对应的元素传递给所调用函数中键值相应名称的变量\n",
    "\n",
    "```python\n",
    "kwargs_ = {\"sep\": \" and \", \"end\": \" ... END\"}\n",
    "args_ = [1, 2, 3]\n",
    "print(*args_, **kwargs_)\n",
    "```\n",
    "### Example"
   ]
  },
  {
   "cell_type": "code",
   "execution_count": 119,
   "metadata": {},
   "outputs": [
    {
     "name": "stdout",
     "output_type": "stream",
     "text": [
      "<class 'list'> ['[1, 2]', 2, [1, 2, 3], {'x': 3, 'y': 4}]\n",
      "<class 'numpy.ndarray'> [1 2]\n",
      "x: @ 3 @ y: @ 4 ... &&\n",
      "\n",
      "<class 'str'> [1, 2]\n",
      "<class 'int'> 2\n",
      "<class 'list'> [1, 2, 3]\n",
      "<class 'dict'> {'x': 3, 'y': 4}\n",
      "<class 'numpy.ndarray'> [1 2]\n",
      "x: 3 y: 4\n"
     ]
    }
   ],
   "source": [
    "def myprint(*values, x, y, **kwargs):\n",
    "    sep = kwargs[\"sep\"] if kwargs.__contains__(\"sep\") else \" \"\n",
    "    end = kwargs[\"end\"] if kwargs.__contains__(\"end\") else \"\\n\"\n",
    "    for i in values:\n",
    "        print(type(i), i)\n",
    "    print(\"x:\", x, \"y:\", y, sep=sep, end=end)\n",
    "    \n",
    "kwargs_, *args_ = {\"x\": 3, \"y\": 4,}, \"[1, 2]\", 2, [1, 2, 3], {\"x\": 3, \"y\": 4}\n",
    "myprint(args_, np.array([1, 2]), **kwargs_, sep=\" @ \", end=\" ... &&\")\n",
    "print(\"\\n\")\n",
    "myprint(*args_, np.array([1, 2]), **kwargs_)"
   ]
  },
  {
   "cell_type": "markdown",
   "metadata": {
    "tags": []
   },
   "source": [
    "## 位运算\n",
    "\n",
    "1. 移位`a<<k`和`a>>k`，分别等价于`a//2**k`和`a*2**k`"
   ]
  },
  {
   "cell_type": "code",
   "execution_count": 61,
   "metadata": {},
   "outputs": [
    {
     "name": "stdout",
     "output_type": "stream",
     "text": [
      "1 28\n"
     ]
    }
   ],
   "source": [
    "print(0b111 >> 2, 0b111  << 2)\n",
    "a = np.zeros(8, dtype=np.int64)\n",
    "a [0] = a[0] << 1"
   ]
  },
  {
   "cell_type": "markdown",
   "metadata": {},
   "source": [
    "2. 求位和`a&b`，无论`a`和`b`是什么进制的数组，都会先将二者转换为二进制数，再逐位取和，例如："
   ]
  },
  {
   "cell_type": "code",
   "execution_count": 50,
   "metadata": {
    "collapsed": true,
    "jupyter": {
     "outputs_hidden": true
    },
    "tags": []
   },
   "outputs": [
    {
     "name": "stdout",
     "output_type": "stream",
     "text": [
      "0b1100010\n",
      "0b1010110\n",
      "0b1000010\n",
      "0o102\n"
     ]
    }
   ],
   "source": [
    "oct1, oct2 = 0o142, 0o126\n",
    "print(bin(oct1))\n",
    "print(bin(oct2))\n",
    "print(bin(o65&o73))\n",
    "print(oct(o65&o73))"
   ]
  },
  {
   "cell_type": "markdown",
   "metadata": {},
   "source": [
    "3. 位异或`^`"
   ]
  },
  {
   "cell_type": "code",
   "execution_count": 55,
   "metadata": {},
   "outputs": [
    {
     "name": "stdout",
     "output_type": "stream",
     "text": [
      "0b101010\n"
     ]
    }
   ],
   "source": [
    "print(bin(0b101101 ^ 0b111))"
   ]
  },
  {
   "cell_type": "code",
   "execution_count": 62,
   "metadata": {},
   "outputs": [
    {
     "data": {
      "text/plain": [
       "4"
      ]
     },
     "execution_count": 62,
     "metadata": {},
     "output_type": "execute_result"
    }
   ],
   "source": [
    "5 ^ 0x01"
   ]
  }
 ],
 "metadata": {
  "kernelspec": {
   "display_name": "Python 3 (ipykernel)",
   "language": "python",
   "name": "python3"
  },
  "language_info": {
   "codemirror_mode": {
    "name": "ipython",
    "version": 3
   },
   "file_extension": ".py",
   "mimetype": "text/x-python",
   "name": "python",
   "nbconvert_exporter": "python",
   "pygments_lexer": "ipython3",
   "version": "3.9.7"
  },
  "latex_envs": {
   "LaTeX_envs_menu_present": true,
   "autoclose": false,
   "autocomplete": true,
   "bibliofile": "biblio.bib",
   "cite_by": "apalike",
   "current_citInitial": 1,
   "eqLabelWithNumbers": true,
   "eqNumInitial": 1,
   "hotkeys": {
    "equation": "Ctrl-E",
    "itemize": "Ctrl-I"
   },
   "labels_anchors": false,
   "latex_user_defs": false,
   "report_style_numbering": false,
   "user_envs_cfg": false
  }
 },
 "nbformat": 4,
 "nbformat_minor": 4
}
