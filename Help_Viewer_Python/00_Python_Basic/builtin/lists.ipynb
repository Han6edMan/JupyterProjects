{
 "cells": [
  {
   "cell_type": "markdown",
   "metadata": {},
   "source": [
    "列表的加和乘"
   ]
  },
  {
   "cell_type": "code",
   "execution_count": 1,
   "metadata": {},
   "outputs": [
    {
     "name": "stdout",
     "output_type": "stream",
     "text": [
      "['python', '2, 9.02', 'C++', 'python', '2, 9.02', 'C++', 'python', '2, 9.02', 'C++']\n",
      "[25, 324, 326, 'python', '2, 9.02', 'C++']\n"
     ]
    }
   ],
   "source": [
    "x = [\"python\", \"2, 9.02\", \"C++\"]\n",
    "y = [25, 324, 326]\n",
    "print(x * 3)\n",
    "print(x + y)\n",
    "\n",
    "# print(\"列表元素的操作：\")\n",
    "# c.append(23)  # 添加在最后\n",
    "# print(c)\n",
    "# c.remove(326)\n",
    "# print(c)\n",
    "# a.sort()\n",
    "# c.sort()\n",
    "# print(c, \"\\n\", a)\n",
    "# x = \"n\" in a\n",
    "# print(x)\n"
   ]
  },
  {
   "cell_type": "markdown",
   "metadata": {},
   "source": [
    "列表索引"
   ]
  },
  {
   "cell_type": "code",
   "execution_count": 14,
   "metadata": {},
   "outputs": [
    {
     "name": "stdout",
     "output_type": "stream",
     "text": [
      "[0, 2, 4, 6, 8]\n",
      "[0, 2, 4, 6, 8]\n",
      "[9, 8, 7, 6, 5, 4, 3, 2, 1, 0]\n"
     ]
    }
   ],
   "source": [
    "x = [0, 1, 2, 3, 4, 5, 6, 7, 8, 9]\n",
    "print(x[0: 9: 2])\n",
    "print(x[0: 10: 2])\n",
    "print(x[::-1])  # i.e. reverse"
   ]
  },
  {
   "cell_type": "code",
   "execution_count": null,
   "metadata": {
    "scrolled": true
   },
   "outputs": [],
   "source": [
    "print(x.reverse())"
   ]
  },
  {
   "cell_type": "markdown",
   "metadata": {},
   "source": [
    "#  "
   ]
  },
  {
   "cell_type": "markdown",
   "metadata": {},
   "source": [
    "#  "
   ]
  },
  {
   "cell_type": "markdown",
   "metadata": {},
   "source": [
    "# extend()\n",
    "\n",
    "`x.extend(iterable, /)`\n",
    "\n",
    "**Docstring**\n",
    "\n",
    "通过添加可迭代的元素来扩展列表`x`\n",
    "\n",
    "**Type**\n",
    "\n",
    "builtin_function_or_method"
   ]
  },
  {
   "cell_type": "code",
   "execution_count": null,
   "metadata": {},
   "outputs": [],
   "source": [
    "x = [[2, 3, 4], [4, 5, 6]]\n",
    "x.extend([[1, 2, 3]])\n",
    "print(x)\n",
    "x.extend([[[1, 2, 3]], [[2, 3, 4]]])\n",
    "print(x)\n",
    "x.extend([1, 2, 3])\n",
    "print(x)"
   ]
  },
  {
   "cell_type": "markdown",
   "metadata": {},
   "source": [
    "#  "
   ]
  },
  {
   "cell_type": "markdown",
   "metadata": {},
   "source": [
    "#  "
   ]
  },
  {
   "cell_type": "markdown",
   "metadata": {},
   "source": [
    "# x.insert()\n",
    "\n",
    "`x.insert(index, object, /)`\n",
    "\n",
    "**Docstring**\n",
    "\n",
    "在`index`前插入对象`object`\n",
    "\n",
    "**Type**\n",
    "\n",
    "builtin_function_or_method"
   ]
  },
  {
   "cell_type": "code",
   "execution_count": null,
   "metadata": {},
   "outputs": [],
   "source": [
    "insert()"
   ]
  },
  {
   "cell_type": "markdown",
   "metadata": {},
   "source": [
    "#  "
   ]
  },
  {
   "cell_type": "markdown",
   "metadata": {},
   "source": [
    "#  "
   ]
  },
  {
   "cell_type": "markdown",
   "metadata": {},
   "source": [
    "# sorted\n",
    "\n",
    "`sorted(iterable, /, *, key=None, reverse=False)`\n",
    "\n",
    "**Docstring**\n",
    "\n",
    "返回一个升序/降序排列的、包含了`iterable`所有元素的列表，当`reverse=True`时以降序排列；可以提供自定义键函数来定制排序顺序\n",
    "\n",
    "**Type**\n",
    "\n",
    "builtin_function_or_method"
   ]
  },
  {
   "cell_type": "code",
   "execution_count": 16,
   "metadata": {},
   "outputs": [
    {
     "name": "stdout",
     "output_type": "stream",
     "text": [
      "[9, 8, 7, 6, 5, 4, 3, 2, 1, 0]\n"
     ]
    }
   ],
   "source": [
    "print(sorted(x, reverse=True))"
   ]
  }
 ],
 "metadata": {
  "kernelspec": {
   "display_name": "Python 3",
   "language": "python",
   "name": "python3"
  },
  "language_info": {
   "codemirror_mode": {
    "name": "ipython",
    "version": 3
   },
   "file_extension": ".py",
   "mimetype": "text/x-python",
   "name": "python",
   "nbconvert_exporter": "python",
   "pygments_lexer": "ipython3",
   "version": "3.7.7"
  }
 },
 "nbformat": 4,
 "nbformat_minor": 4
}
