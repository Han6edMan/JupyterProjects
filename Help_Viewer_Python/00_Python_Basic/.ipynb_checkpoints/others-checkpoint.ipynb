{
 "cells": [
  {
   "cell_type": "markdown",
   "metadata": {},
   "source": [
    "# Protocol Buffers\n",
    "\n",
    "协议缓冲区(Protobuf)是一种序列化结构化数据的方法；它需要通过 wire 通信或储存信息而开发程序时很有用；该方法包括描述某些数据结构的接口描述语言，和从该描述中生成源代码的程序，这个程序用于生成或解析表示结构化数据的字节流。\n",
    "\n",
    "## Overview\n",
    "\n",
    "谷歌开发了用于内部使用的协议缓冲器，并在开放源码许可下为多种语言提供了代码生成器(见下文)。\n",
    "\n",
    "协议缓冲区的设计目标在于强调简单性和性能，特别是它被设计得比 XML 更小更快\n",
    "\n",
    "在谷歌里，协议缓冲器广泛用于存储和交换各种结构化信息。该方法作为自定义远程过程调用(remote procedure call, RPC)系统的基础，谷歌内部几乎所有的内部机器( inner-machine )都通过该系统进行通信\n",
    "\n",
    "协议缓冲区类似于 Facebook 使用的 Apache Thrift，或微软  Bond 协议，它提供了一个具体的 RPC 协议栈to use for defined services called gRPC\n",
    "\n",
    "数据结构和服务以 proto 定义文件(`.proto`)的形式进行描述，并使用`protoc`进行编译；该编译生成的代码可以由这些数据结构的发送方或接收方调用；例如`example.pb.cc`和`example.pb.h`是由`example.proto`生成的，它们在`example.proto`中为每个消息和服务定义了 C++ 类\n",
    "\n",
    "Canonically, messages are serialized into a binary wire format which is compact, forward- and backward-compatible, but not self-describing (that is, there is no way to tell the names, meaning, or full datatypes of fields without an external specification). There is no defined way to include or refer to such an external specification (schema) within a Protocol Buffers file. The officially supported implementation includes an ASCII serialization format,[6] but this format—though self-describing—loses the forward- and backward-compatibility behavior, and is thus not a good choice for applications other than debugging.\n",
    "\n",
    "Though the primary purpose of Protocol Buffers is to facilitate network communication, its simplicity and speed make Protocol Buffers an alternative to data-centric C++ classes and structs, especially where interoperability with other languages or systems might be needed in the future.\n",
    "\n",
    "\n",
    " [Reference](https://en.wikipedia.org/wiki/Protocol_Buffers#cite_note-3)"
   ]
  }
 ],
 "metadata": {
  "kernelspec": {
   "display_name": "Python 3 (ipykernel)",
   "language": "python",
   "name": "python3"
  },
  "language_info": {
   "codemirror_mode": {
    "name": "ipython",
    "version": 3
   },
   "file_extension": ".py",
   "mimetype": "text/x-python",
   "name": "python",
   "nbconvert_exporter": "python",
   "pygments_lexer": "ipython3",
   "version": "3.9.7"
  }
 },
 "nbformat": 4,
 "nbformat_minor": 4
}
