{
 "cells": [
  {
   "cell_type": "code",
   "execution_count": null,
   "metadata": {},
   "outputs": [],
   "source": [
    "# import_pkg 与本文件在同一级目录，故可直接 import 该文件及子文件，__init__.py文件用于指明该文件夹为扩展包\n",
    "import import_pkg as ip\n",
    "import import_pkg.imported as imported\n",
    "\n",
    "# import 不同级目录下的模块或者包，应先添加路径\n",
    "import sys\n",
    "sys.path.append(r\"F:/Self-Development/Academic/Lab_Practice/z_Notes\")\n",
    "import z_Notes.argparse_about as aa\n",
    "\n",
    "\n",
    "\n",
    "\n",
    "# --------------------检验是否导入成功------------------------\n",
    "\n",
    "for key, value in aa.__dict__.items():\n",
    "    print(\"key:\", key, \"\\nvalue:\", value, \"\\n\")\n",
    "\n",
    "model_names = sorted(name for name in ip.__dict__\n",
    "    if name.islower() and not name.startswith(\"__\")\n",
    "    and callable(ip.__dict__[name]))\n",
    "\n",
    "for name in imported.__dict__:\n",
    "    print(ip.__dict__[name])"
   ]
  }
 ],
 "metadata": {
  "kernelspec": {
   "display_name": "Python 3",
   "language": "python",
   "name": "python3"
  },
  "language_info": {
   "codemirror_mode": {
    "name": "ipython",
    "version": 3
   },
   "file_extension": ".py",
   "mimetype": "text/x-python",
   "name": "python",
   "nbconvert_exporter": "python",
   "pygments_lexer": "ipython3",
   "version": "3.8.5"
  }
 },
 "nbformat": 4,
 "nbformat_minor": 4
}
