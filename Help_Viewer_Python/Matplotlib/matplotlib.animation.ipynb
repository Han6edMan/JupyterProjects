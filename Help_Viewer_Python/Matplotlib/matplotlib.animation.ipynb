{
 "cells": [
  {
   "cell_type": "code",
   "execution_count": 3,
   "id": "c51723d4",
   "metadata": {},
   "outputs": [],
   "source": [
    "import matplotlib as mpl\n",
    "import matplotlib.animation as animation"
   ]
  },
  {
   "cell_type": "markdown",
   "id": "e41228e8",
   "metadata": {},
   "source": [
    "# Overview\n",
    "\n",
    "#### CLASSES\n",
    "    abc.ABC(builtins.object)\n",
    "        AbstractMovieWriter\n",
    "            MovieWriter\n",
    "                FileMovieWriter\n",
    "                    HTMLWriter\n",
    "            PillowWriter\n",
    "    builtins.object\n",
    "        Animation\n",
    "            TimedAnimation\n",
    "                ArtistAnimation\n",
    "                FuncAnimation\n",
    "        FFMpegBase\n",
    "            FFMpegFileWriter(FFMpegBase, FileMovieWriter)\n",
    "            FFMpegWriter(FFMpegBase, MovieWriter)\n",
    "        ImageMagickBase\n",
    "            ImageMagickFileWriter(ImageMagickBase, FileMovieWriter)\n",
    "            ImageMagickWriter(ImageMagickBase, MovieWriter)\n",
    "        MovieWriterRegistry\n",
    "\n",
    "#### FUNCTIONS\n",
    "    \n",
    "    adjusted_figsize(w, h, dpi, n)\n",
    "\n",
    "#### DATA\n",
    "\n",
    "    CREATE_NO_WINDOW = 134217728\n",
    "    DISPLAY_TEMPLATE = '\\n<div class=\"animation\">\\n  <img id=\"...\n",
    "    INCLUDED_FRAMES = '\\n  for (var i=0; i<{Nframes}; i++)....\n",
    "    JS_INCLUDE = '\\n<link rel=\"stylesheet\"\\nhref=...\n",
    "    STYLE_INCLUDE = '\\n<style>\\n.animation .....\n",
    "    subprocess_creation_flags = 134217728\n",
    "    writers = <matplotlib.animation.MovieWriterRegistry object>"
   ]
  },
  {
   "cell_type": "markdown",
   "id": "b02beada",
   "metadata": {},
   "source": [
    "<h2>\n",
    "    <pre>\n",
    "ArtistAnimation(\n",
    "    fig,\n",
    "    artists,\n",
    "    interval=200,\n",
    "    repeat_delay=0,\n",
    "    repeat=True,\n",
    "    blit=True\n",
    ")\n",
    "    </pre>\n",
    "</h2>\n",
    "\n",
    "`Animation`利用给定的`.Artist`对象在`fig`上生成动画。需要注意的是，在该类被实例化之前，所有绘图工作都应已经完成，相关的`.Artist`对象也应已被保存。此外，储存`Animation`的变量应在整个动画运行过程中一直存在，否则`Animation`会被当做运行垃圾而被回收，进而动画会终止\n",
    "\n",
    "#### Parameters\n",
    "- fig : 应为`~matplotlib.figure.Figure`实例化对象，即用于获取命令 (如绘制或调整大小) 的图形对象；\n",
    "- artists : 应为列表类型，列表的每个元素都是`.Artist`对象，这些对象在相应的 frame 上是可见的，而其他`.Artist`对象应是不可见的\n",
    "- interval : 应为整型，指两个 frame 之间的延迟，单位为毫秒，默认 200；\n",
    "- repeat_delay : 应为整型，指`repeat`为真时，整个动画循环运行之间的延迟，单位为毫秒，默认 0\n",
    "- repeat : 布尔型，即是否循环播放 frame，默认为真\n",
    "- blit : 布尔型，是否使用位块传送来优化绘图过程，默认为假"
   ]
  }
 ],
 "metadata": {
  "kernelspec": {
   "display_name": "Python 3",
   "language": "python",
   "name": "python3"
  },
  "language_info": {
   "codemirror_mode": {
    "name": "ipython",
    "version": 3
   },
   "file_extension": ".py",
   "mimetype": "text/x-python",
   "name": "python",
   "nbconvert_exporter": "python",
   "pygments_lexer": "ipython3",
   "version": "3.8.5"
  }
 },
 "nbformat": 4,
 "nbformat_minor": 5
}
