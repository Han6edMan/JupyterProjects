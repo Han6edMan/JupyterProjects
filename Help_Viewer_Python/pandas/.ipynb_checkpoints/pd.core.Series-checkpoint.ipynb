{
 "cells": [
  {
   "cell_type": "code",
   "execution_count": 3,
   "metadata": {},
   "outputs": [],
   "source": [
    "import pandas as pd\n",
    "import numpy as np"
   ]
  },
  {
   "cell_type": "markdown",
   "metadata": {},
   "source": [
    "# pd.Series\n",
    "```python\n",
    "pd.Series(\n",
    "    data=None,\n",
    "    index=None,\n",
    "    dtype=None,\n",
    "    name=None,\n",
    "    copy=False,\n",
    "    fastpath=False,\n",
    ")\n",
    "```\n",
    "\n",
    "**Docstring**\n",
    "\n",
    "带轴标签的一维ndarray(含时间序列)\n",
    "\n",
    "Labels need not be unique but must be a hashable type. The object supports both integer- and label-based indexing and provides a host of methods for performing operations involving the index. Statistical methods from ndarray have been overridden to automatically exclude missing data (currently represented as NaN).\n",
    "\n",
    "Operations between Series (`+, -, /, *, **`) align values based on their associated index values-- they need not be the same length. The result index will be the sorted union of the two indexes.\n",
    "\n",
    "**Args**\n",
    "\n",
    "- data: array-like, Iterable, dict, or scalar value\n",
    "\n",
    "- index: array-like or Index (1d). Values must be hashable and have the same length as `data`. Non-unique index values are allowed. Will default to RangeIndex (0, 1, 2, ..., n) if not provided. If both a dict and index sequence are used, the index will override the keys found in the dict.\n",
    "\n",
    "- dtype : str, numpy.dtype, or ExtensionDtype, optional Data type for the output Series. If not specified, this will be inferred from `data`. See the :ref:`user guide <basics.dtypes>` for more usages.\n",
    "\n",
    "- name: Series'\n",
    "\n",
    "- copy: 是否拷贝数据\n",
    "\n",
    "**Type**\n",
    "\n",
    "type"
   ]
  },
  {
   "cell_type": "code",
   "execution_count": null,
   "metadata": {},
   "outputs": [],
   "source": [
    "x = pd.Series([1, 2, 3, 4, 5], index=list(\"abcde\"))\n",
    "y = x[x > 3]  # => 4, 5\n",
    "y = x.where(x > 3)  # => NAN, NAN, NAN, 4.0, 5.0"
   ]
  },
  {
   "cell_type": "code",
   "execution_count": null,
   "metadata": {},
   "outputs": [],
   "source": [
    "x = {\"name\": \"Xaniel W\", \"age\": 21, \"gender\": \"male\"}\n",
    "x = pd.Series(x)\n",
    "print(x)\n",
    "print(x[[\"gender\", \"name\"]])\n",
    "print(x[[1, 0]])"
   ]
  },
  {
   "cell_type": "code",
   "execution_count": null,
   "metadata": {},
   "outputs": [],
   "source": [
    "print(x.index)\n",
    "print(x.values)"
   ]
  },
  {
   "cell_type": "markdown",
   "metadata": {},
   "source": [
    "## pd.Series.all()\n",
    "```python\n",
    "<Series>.all(\n",
    "    axis=0,\n",
    "    bool_only=None,\n",
    "    skipna=True,\n",
    "    level=None,\n",
    "    **kwargs,\n",
    ")\n",
    "```\n",
    "**Docstring**:\n",
    "\n",
    "对`Series`内部元素执行逻辑与的操作，其中非 0 的整型被视为 True；\n",
    "\n",
    "**Args**\n",
    "\n",
    "- axis : 用于指明沿哪个维度进行操作，可以是 0 或`'index'`、1 或`'columns'`、`None`，`None`时对所有元素进行操作；默认为 0\n",
    "\n",
    "- bool_only: 默认 None，是否只对布尔行/列进行操作；若为 None，则会对所有行/列进行尝试\n",
    "\n",
    "- skipna: 默认为 True，执行操作时是否将`NAN`的值包括在内；（TODO）\n",
    "    - `skipna=True` 时`NAN`被视为 True，而空元素被视为 False；\n",
    "    - `skipna=False`时\n",
    "        - 若整列/行都为`NAN`则直接返回`NAN`\n",
    "        - 若整列/行不只有`NAN`，还有布尔或整型，则`NAN`被视为 True\n",
    "        - 任何包含空元素的行/列直接返回空元素\n",
    "\n",
    "- level: int 或 level 名称，如果`axis`是`MultiIndex`，则沿特定级别计数，collapsing into a Series.\n",
    "\n",
    "\n",
    "**File**:     \\pandas\\core\\generic.py\n",
    "\n",
    "**Type**:      function\n",
    "\n",
    "### Examples"
   ]
  },
  {
   "cell_type": "code",
   "execution_count": 50,
   "metadata": {
    "scrolled": false
   },
   "outputs": [
    {
     "name": "stdout",
     "output_type": "stream",
     "text": [
      "[]\n",
      "[]\n",
      "0\n",
      "0\n"
     ]
    }
   ],
   "source": [
    "print(pd.Series([[], [], True, 0, np.nan]).all())\n",
    "print(pd.Series([[], [], False, 0, np.nan]).all(skipna=False))\n",
    "\n",
    "print(pd.Series([np.nan, 0, False, [], []]).all(skipna=True))\n",
    "print(pd.Series([np.nan, 0, False, [], []]).all(skipna=False))"
   ]
  },
  {
   "cell_type": "markdown",
   "metadata": {},
   "source": [
    "## pd.Series.argmax()\n",
    "`<Series>.argmax(axis=None, skipna=True, *args, **kwargs)`\n",
    "\n",
    "**Docstring**:\n",
    "\n",
    "返回最大元素所在行的位置值，若有多个行都为最大值，则返回最小行号\n",
    "\n",
    "**Args**\n",
    "- axis: 伪参数，为保证与`Series`的一致性\n",
    "- skipna : 在显示结果时是否排除 NA/null 值，默认 True\n",
    "\n",
    "\n",
    "**See Also**\n",
    "\n",
    "`Series.argmin`, `numpy.ndarray.argmax`, `Series.idxmax`, `Series.idxmin`\n",
    "\n",
    "**File**:      \\pandas\\core\\base.py\n",
    "\n",
    "**Type**:      function\n",
    "\n",
    "### Examples"
   ]
  },
  {
   "cell_type": "code",
   "execution_count": 57,
   "metadata": {},
   "outputs": [
    {
     "data": {
      "text/plain": [
       "'Cinnamon Toast Crunch'"
      ]
     },
     "execution_count": 57,
     "metadata": {},
     "output_type": "execute_result"
    }
   ],
   "source": [
    "x = pd.Series(\n",
    "    {'Corn Flakes': 100.0,\n",
    "     'Almond Delight': 110.0,\n",
    "     'Cinnamon Toast Crunch': 120.0,\n",
    "     'Cocoa Puff': 110.0}\n",
    ")\n",
    "x.index[x.argmax()]"
   ]
  }
 ],
 "metadata": {
  "kernelspec": {
   "display_name": "Python 3",
   "language": "python",
   "name": "python3"
  },
  "language_info": {
   "codemirror_mode": {
    "name": "ipython",
    "version": 3
   },
   "file_extension": ".py",
   "mimetype": "text/x-python",
   "name": "python",
   "nbconvert_exporter": "python",
   "pygments_lexer": "ipython3",
   "version": "3.8.6"
  }
 },
 "nbformat": 4,
 "nbformat_minor": 4
}
