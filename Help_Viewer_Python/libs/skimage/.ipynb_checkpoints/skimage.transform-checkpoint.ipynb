{
 "cells": [
  {
   "cell_type": "code",
   "execution_count": 2,
   "metadata": {},
   "outputs": [],
   "source": [
    "import skimage\n",
    "import skimage.transform as transform"
   ]
  },
  {
   "cell_type": "markdown",
   "metadata": {},
   "source": [
    "# transform.rescale()\n",
    "\n",
    "```python\n",
    "skimage.transform.rescale(\n",
    "    image,\n",
    "    scale,\n",
    "    order=1,\n",
    "    mode='reflect',\n",
    "    cval=0,\n",
    "    clip=True,\n",
    "    preserve_range=False,\n",
    "    multichannel=False,\n",
    "    anti_aliasing=True,\n",
    "    anti_aliasing_sigma=None,\n",
    ")\n",
    "```\n",
    "\n",
    "**Docstring**\n",
    "\n",
    "以差值的方式对 n 维图像进行放大或缩小；需要注意的是，缩小图像时应将`anti_aliasing`设置为真，以避免像素混叠 (aliasing) 进而导致图像扭曲；对于使用整数因子的下采样，请参见`skimage.transform.downscale_local_mean`.\n",
    "\n",
    "**Args**\n",
    "\n",
    "- image: 输入图像\n",
    "- scale: 放缩的比例，可以是浮点数或浮点数构成的元组`(rows, cols[, ...][, dim])`.\n",
    "- order: 样条插值的阶数，默认 0，必须在 $[0, 5]$ 区间内，详见`skimage.transform.warp`\n",
    "- mode: 输入图像的边界外的点填充的模式，可以为`constant`、`edge`、`symmetric`、`reflect`、`wrap`，模式内容详见`numpy.pad`\n",
    "- cval: `constant`模式下边界外的填充值\n",
    "- clip: 是否将输出像素值 clip 到输入图像的像素值取值范围，默认为真\n",
    "- preserve_range: 是否保持值的原始范围，否则，将根据`img_as_float`的约定转换输入图像，另见 https://scikit-image.org/docs/dev/user_guide/data_types.html\n",
    "- multichannel: 图像的最后一个`axis`被解释为多个通道 (multiple channels) 还是另一个空间维度\n",
    "- anti_aliasing: 是否在下采样之前应用高斯滤波器来平滑图像；对图像下采样时，滤波可有效的避免混叠 (aliasing)\n",
    "- anti_aliasing_sigma: 可以是浮点型或浮点型构成的元祖，高斯滤波的标准差，默认取$(1 -s)/2$，其中 $s$ 是下采样因子\n",
    "\n",
    "\n",
    "**Type**: function"
   ]
  },
  {
   "cell_type": "code",
   "execution_count": 2,
   "metadata": {},
   "outputs": [
    {
     "name": "stdout",
     "output_type": "stream",
     "text": [
      "(512, 512)\n",
      "(256, 256)\n"
     ]
    }
   ],
   "source": [
    "from skimage import data\n",
    "from skimage.transform import rescale\n",
    "image = data.camera()\n",
    "print(image.shape)\n",
    "rsgd_img = rescale(image, 0.5)\n",
    "print(rsgd_img.shape)"
   ]
  },
  {
   "cell_type": "code",
   "execution_count": null,
   "metadata": {},
   "outputs": [],
   "source": [
    "transform.rescale()"
   ]
  }
 ],
 "metadata": {
  "kernelspec": {
   "display_name": "Python 3",
   "language": "python",
   "name": "python3"
  },
  "language_info": {
   "codemirror_mode": {
    "name": "ipython",
    "version": 3
   },
   "file_extension": ".py",
   "mimetype": "text/x-python",
   "name": "python",
   "nbconvert_exporter": "python",
   "pygments_lexer": "ipython3",
   "version": "3.8.6"
  }
 },
 "nbformat": 4,
 "nbformat_minor": 4
}
