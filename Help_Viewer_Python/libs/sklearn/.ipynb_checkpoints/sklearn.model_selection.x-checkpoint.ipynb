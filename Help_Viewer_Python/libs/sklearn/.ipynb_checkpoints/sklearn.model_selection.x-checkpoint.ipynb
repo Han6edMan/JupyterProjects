{
 "cells": [
  {
   "cell_type": "code",
   "execution_count": 4,
   "metadata": {},
   "outputs": [],
   "source": [
    "import sklearn\n",
    "import sklearn.model_selection as model_selection\n",
    "import numpy as np"
   ]
  },
  {
   "cell_type": "markdown",
   "metadata": {},
   "source": [
    "# sklearn.model_selection\n",
    "\n",
    "**PACKAGE**\n",
    "\n",
    "- \\_search\n",
    "- \\_split\n",
    "- \\_validation\n",
    "- tests (package)\n",
    "\n",
    "**CLASSES**\n",
    "- builtins.object\n",
    "    - sklearn.model_selection.\\_search.ParameterGrid\n",
    "    - sklearn.model_selection.\\_search.ParameterSampler\n",
    "    - sklearn.model_selection.\\_split.BaseCrossValidator\n",
    "        - sklearn.model_selection.\\_split.LeaveOneGroupOut\n",
    "        - sklearn.model_selection.\\_split.LeaveOneOut\n",
    "        - sklearn.model_selection.\\_split.LeavePGroupsOut\n",
    "        - sklearn.model_selection.\\_split.LeavePOut\n",
    "        - sklearn.model_selection.\\_split.PredefinedSplit\n",
    "- sklearn.model_selection._search.BaseSearchCV(sklearn.base.MetaEstimatorMixin, sklearn.base.BaseEstimator)\n",
    "    - sklearn.model_selection._search.GridSearchCV\n",
    "    - sklearn.model_selection._search.RandomizedSearchCV\n",
    "- sklearn.model_selection.\\_split.BaseShuffleSplit(builtins.object)\n",
    "    - sklearn.model_selection.\\_split.ShuffleSplit\n",
    "        - sklearn.model_selection.\\_split.GroupShuffleSplit\n",
    "    - sklearn.model_selection.\\_split.StratifiedShuffleSplit\n",
    "- sklearn.model_selection.\\_split._BaseKFold(sklearn.model_selection.\\_split.BaseCrossValidator)\n",
    "    - sklearn.model_selection.\\_split.GroupKFold\n",
    "    - sklearn.model_selection.\\_split.KFold\n",
    "    - sklearn.model_selection.\\_split.StratifiedKFold\n",
    "    - sklearn.model_selection.\\_split.TimeSeriesSplit\n",
    "- sklearn.model_selection.\\_split._RepeatedSplits(builtins.object)\n",
    "    - sklearn.model_selection.\\_split.RepeatedKFold\n",
    "    - sklearn.model_selection.\\_split.RepeatedStratifiedKFold\n",
    "    \n",
    "**FUNCTIONS**\n",
    "\n",
    "- check_cv\n",
    "\n",
    "- cross_val_predict\n",
    "\n",
    "- cross_val_score\n",
    "\n",
    "- cross_validate\n",
    "\n",
    "- fit_grid_point\n",
    "\n",
    "- learning_curve\n",
    "\n",
    "- permutation_test_score\n",
    "\n",
    "- train_test_split\n",
    "\n",
    "- validation_curve\n",
    "    "
   ]
  },
  {
   "cell_type": "markdown",
   "metadata": {},
   "source": [
    "#  "
   ]
  },
  {
   "cell_type": "markdown",
   "metadata": {},
   "source": [
    "# model_selection.\\_split\n",
    "\n",
    "**DESCRIPTION**\n",
    "\n",
    "The `sklearn.model_selection._split` module includes classes and\n",
    "functions to split the data based on a preset strategy.\n",
    "\n",
    "**CLASSES**\n",
    "\n",
    "- BaseCrossValidator(builtins.object)\n",
    "    - LeaveOneGroupOut\n",
    "    - LeaveOneOut\n",
    "    - LeavePGroupsOut\n",
    "    - LeavePOut\n",
    "    - PredefinedSplit\n",
    "    - \\_BaseKFold\n",
    "        - GroupKFold\n",
    "        - KFold\n",
    "        - StratifiedKFold\n",
    "- BaseShuffleSplit(builtins.object)\n",
    "    - ShuffleSplit\n",
    "        - GroupShuffleSplit\n",
    "    - StratifiedShuffleSplit\n",
    "\n",
    "- \\_RepeatedSplits(builtins.object)\n",
    "    - RepeatedKFold\n",
    "    - RepeatedStratifiedKFold\n",
    "    \n",
    "**FUNCTIONS**\n",
    "\n",
    "- check_cv(cv=5, y=None, \\*, classifier=False)\n",
    "\n",
    "- train_test_split(\\*arrays, \\*\\*options)"
   ]
  },
  {
   "cell_type": "code",
   "execution_count": 11,
   "metadata": {
    "scrolled": true
   },
   "outputs": [
    {
     "data": {
      "text/plain": [
       "ShuffleSplit(n_splits=10, random_state=None, test_size=None, train_size=None)"
      ]
     },
     "execution_count": 11,
     "metadata": {},
     "output_type": "execute_result"
    }
   ],
   "source": [
    "sklearn.model_selection._split.KFold()"
   ]
  },
  {
   "cell_type": "markdown",
   "metadata": {},
   "source": [
    "# model_selection.train_test_split()\n",
    "`model_selection.train_test_split(*arrays, **options)`\n",
    "\n",
    "**Docstring**:\n",
    "\n",
    "将数组或矩阵拆分成随机的训练和测试集，返回长度为`2 * len(arrays)`的列表，内容可参见 Example\n",
    "\n",
    "**Args**\n",
    "\n",
    "- \\*arrays: 应为长度或`shape[0]`相同的可索引序列；可接收列表、numpy 数组、scipy 稀疏矩阵、pandas 的 DataFrame\n",
    "- test_size: 浮点型或整型，默认`None`；浮点型表示测试集所占比例，整型表示个数，`None`时自动与`train_size`匹配，若`train_size`也为`None`，则`test_size`取 0.25\n",
    "- train_size : 浮点型或整型，默认`None`，参见`test_size`\n",
    "- random_state: 整型或`RandomState`实例，默认 None；作用于在分割数据集前对数据的混排，以便多次调用之间能够产生可复制的输出\n",
    "- shuffle: 默认 True，False 时 stratify 必须为 None\n",
    "- stratify: 接收类数组对象，默认 None；不是 None 时会对数据以分层的方式分割，分割时使用次参数作为类标签\n",
    "\n",
    "**File**: \\sklearn\\model_selection\\_split.py\n",
    "\n",
    "**Type**:      function\n",
    "\n",
    "\n",
    "### Examples"
   ]
  },
  {
   "cell_type": "code",
   "execution_count": 6,
   "metadata": {},
   "outputs": [],
   "source": [
    "X, y = np.arange(10).reshape((5, 2)), range(5)\n",
    "X_train, X_test, y_train, y_test = model_selection.train_test_split(X, y)"
   ]
  }
 ],
 "metadata": {
  "kernelspec": {
   "display_name": "Python 3",
   "language": "python",
   "name": "python3"
  },
  "language_info": {
   "codemirror_mode": {
    "name": "ipython",
    "version": 3
   },
   "file_extension": ".py",
   "mimetype": "text/x-python",
   "name": "python",
   "nbconvert_exporter": "python",
   "pygments_lexer": "ipython3",
   "version": "3.8.6"
  }
 },
 "nbformat": 4,
 "nbformat_minor": 4
}
