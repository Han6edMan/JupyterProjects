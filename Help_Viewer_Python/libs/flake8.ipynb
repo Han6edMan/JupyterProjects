{
 "cells": [
  {
   "cell_type": "code",
   "execution_count": 1,
   "metadata": {},
   "outputs": [],
   "source": [
    "import flake8"
   ]
  },
  {
   "cell_type": "markdown",
   "metadata": {},
   "source": [
    "# flake8\n",
    "\n",
    "Top-level module for Flake8.\n",
    "\n",
    "DESCRIPTION\n",
    "This module\n",
    "\n",
    "- initializes logging for the command-line tool\n",
    "- tracks the version of the package\n",
    "- provides a way to configure logging for the command-line tool\n",
    "\n",
    "\n",
    "**PACKAGE CONTENTS**\n",
    "- \\_\\_main__\n",
    "- \\_compat\n",
    "- api (package)\n",
    "- checker\n",
    "- defaults\n",
    "- exceptions\n",
    "- formatting (package)\n",
    "- main (package)\n",
    "- options (package)\n",
    "- plugins (package)\n",
    "- processor\n",
    "- statistics\n",
    "- style_guide\n",
    "- utils\n",
    "\n",
    "**FUNCTIONS**\n",
    "```python\n",
    "configure_logging(verbosity, filename=None, logformat='%(name)-25s %(processName)-11s %(relativeCreated)6d %(levelname)-8s %(message)s')\n",
    "```\n",
    "\n",
    "**DATA**\n",
    "\n",
    "- LOG = <Logger flake8 (WARNING)>\n",
    "- LOG_FORMAT = '%(name)-25s %(processName)-11s %(relativeCreated)6d %(le...\n",
    "- \\_\\_version_info__ = (3, 8, 3)\n",
    "\n",
    "**FILE**: d:\\programfiles\\miniconda3\\lib\\site-packages\\flake8\\__init__.py"
   ]
  },
  {
   "cell_type": "markdown",
   "metadata": {},
   "source": [
    "## flake8 配置\n",
    "\n",
    "1. 配置文件通常会保存在`user`目录下，或"
   ]
  }
 ],
 "metadata": {
  "kernelspec": {
   "display_name": "Python 3",
   "language": "python",
   "name": "python3"
  },
  "language_info": {
   "codemirror_mode": {
    "name": "ipython",
    "version": 3
   },
   "file_extension": ".py",
   "mimetype": "text/x-python",
   "name": "python",
   "nbconvert_exporter": "python",
   "pygments_lexer": "ipython3",
   "version": "3.8.3"
  }
 },
 "nbformat": 4,
 "nbformat_minor": 4
}
