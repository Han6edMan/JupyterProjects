{
 "cells": [
  {
   "cell_type": "code",
   "execution_count": 1,
   "metadata": {},
   "outputs": [],
   "source": [
    "import re"
   ]
  },
  {
   "cell_type": "markdown",
   "metadata": {},
   "source": [
    "# re - Support for regular expressions (RE)\n",
    "\n",
    "**DESCRIPTION**\n",
    "\n",
    "这个模块提供类似 Perl 中的正则表达式的匹配操作；其支持 8 bit 和 Unicode 字符串，其处理的 pattern 和字符串都可以包含空字节和 ASCII 范围之外的字符；正则表达式可以包含特殊字符和普通字符，例如 `\"A\"`、`\"a\"`、`\"0\"` 等是最简单正则表达式，他们直接和他们自己匹配，这些普通字符也可以进行拼接，即 `\"last\"` 和 last 匹配；更多内容详见 [here](https://docs.python.org/3.7/library/re)\n",
    "    \n",
    "特殊字符有：\n",
    "\n",
    "- \".\"：与除换行符以外的所有字符匹配\n",
    "- \"^\"：与字符串开头匹配\n",
    "- \"$\"：与字符串结尾或换行符前的字符串结尾进行匹配\n",
    "- \"*\"：与前面的 0 个或多个重复的正则表达式进行贪婪式匹配\n",
    "- \"+\"：与前面的 1 个或多个重复的 RE 进行贪婪式匹配\n",
    "- \"?\"：与前面的 0 个或 1 个重复的 RE 进行贪婪式匹配\n",
    "- *?,+?,??：`\"*\"`、`\"+\"`、`\"?\"`的非贪婪模式\n",
    "- {m,n}：与前面的 m 到 n 个重复的 RE 匹配\n",
    "- {m,n}?：`{m,n}`的非贪婪模式\n",
    "- \"\\\\\"：用于转义特殊字符或标识一个特殊序列\n",
    "- []：用于表示一个字符集合，以\"^\"作为第一个字符时用于指示这是一个补集\n",
    "- \"|\"：A|B 表示该 RE 与 A 或 B 匹配\n",
    "- (...)：与括号中的 RE 匹配，The contents can be retrieved or matched later in the string.\n",
    "- (?aiLmsux)：为 RE 设置A、I、L、M、S、U 或 X 标志（见下）\n",
    "- (?:...)：Non-grouping version of regular parentheses.\n",
    "- (?P<name>...)：The substring matched by the group is accessible by name.\n",
    "- (?P=name)：Matches the text matched earlier by the group named name.\n",
    "- (?#...)：表示一个注释，或被忽略的部分\n",
    "- (?=...)：Matches if ... matches next, but doesn't consume the string.\n",
    "- (?!...)  Matches if ... doesn't match next.\n",
    "- (?<=...) Matches if preceded by ... (must be fixed length).\n",
    "- (?<!...) Matches if not preceded by ... (must be fixed length).\n",
    "- (?(id/name)yes|no)：若含有 `id/name` 的群组匹配，则该字符与`yes`匹配；否则与`no`匹配\n",
    "\n",
    "若这个特殊字符组成的序列包含`\"\\\\\"`和以下一个字符，同时列表中没有普通字符，则最终的 RE 将会与第二个字符匹配\n",
    "\n",
    "- \\number：与具有相同编号的组的内容匹配\n",
    "- \\A：只在字符串开头处进行匹配\n",
    "- \\Z：只在字符串末尾处进行匹配\n",
    "- \\b：与空字符串匹配，但只在一个单词的开头和结尾进行\n",
    "- \\B：与空字符串匹配，但不在一个单词的开头和结尾进行\n",
    "- \\d：Matches any decimal digit; equivalent to the set [0-9] in bytes patterns or string patterns with the ASCII flag. In string patterns without the ASCII flag, it will match the whole range of Unicode digits.\n",
    "- \\D：与非数字字符匹配，等价于`[^\\d]`\n",
    "- \\s：与空格字符相匹配，等价于字节模式下的`[ \\t\\n\\r\\f\\v]`，或有着 ASCII 标识的字符串模式，没有 ASCII 标识的字符串模式下，其与 Unicode 空格字符的整个范围匹配\n",
    "- \\S：与任何非空格字符匹配，等价于`[^\\s]`\n",
    "- \\w：与任何字母和数字匹配，等价于字节模式下的`[a-zA-Z0-9_]`或带有 ASCII 标识的字符串模式；在不带有 ASCII 标识的字符串模式下，其与 Unicode 中字母和数字字符所在范围均匹配，即字母、数字、下划线等；With LOCALE, it will match the set [0-9_] plus characters defined as letters for the current locale.\n",
    "- \\W：与`\\w`补集匹配\n",
    "- \\\\：与文字中的反斜杠匹配\n",
    "\n",
    "此模块中一些函数将以下标志作为可选参数：\n",
    "\n",
    "- A：ASCII；对于字符串模式，将`\\w, \\W, \\b, \\B, \\d, \\D`与 ASCII 字符相应的类别匹配，而不是默认的整个 Unicode 类别；对于字节模式，该标识是唯一可用标识\n",
    "- I：IGNORECASE；执行不区分大小写的匹配\n",
    "- L：LOCALE；使`\\w, \\W, \\b, \\B`独立于当前的本地环境\n",
    "- M：MULTILINE；`\"^\"`与一行的开头或字符串的开头匹配；`\"$\"`与一行的结尾或字符串的结尾匹配\n",
    "- S：DOTALL；`\".\"`与所有字符匹配，包括换行符\n",
    "- X：VERBOSE；忽略空白和注释以获得更美观的RE\n",
    "- U：UNICODE；提供兼容性，在字符串模式下是默认标识，不允许在字节模式下使用\n",
    "\n",
    "**CLASSES**\n",
    "- builtins.Exception(builtins.BaseException)\n",
    "    - error\n",
    "- builtins.object\n",
    "    - Match\n",
    "    - Pattern\n",
    "    \n",
    "\n",
    "**FUNCTIONS**\n",
    "- compile(pattern, flags=0)\n",
    "- escape(pattern)\n",
    "- findall(pattern, string, flags=0)\n",
    "- finditer(pattern, string, flags=0)\n",
    "- fullmatch(pattern, string, flags=0)\n",
    "- match(pattern, string, flags=0)\n",
    "- purge()\n",
    "- search(pattern, string, flags=0)\n",
    "- split(pattern, string, maxsplit=0, flags=0)\n",
    "- sub(pattern, repl, string, count=0, flags=0)\n",
    "- subn(pattern, repl, string, count=0, flags=0)\n",
    "- template(pattern, flags=0)\n",
    "\n",
    "**DATA**\n",
    "- A = <RegexFlag.ASCII: 256>\n",
    "- ASCII = <RegexFlag.ASCII: 256>\n",
    "- DOTALL = <RegexFlag.DOTALL: 16>\n",
    "- I = <RegexFlag.IGNORECASE: 2>\n",
    "- IGNORECASE = <RegexFlag.IGNORECASE: 2>\n",
    "- L = <RegexFlag.LOCALE: 4>\n",
    "- LOCALE = <RegexFlag.LOCALE: 4>\n",
    "- M = <RegexFlag.MULTILINE: 8>\n",
    "- MULTILINE = <RegexFlag.MULTILINE: 8>\n",
    "- S = <RegexFlag.DOTALL: 16>\n",
    "- U = <RegexFlag.UNICODE: 32>\n",
    "- UNICODE = <RegexFlag.UNICODE: 32>\n",
    "- VERBOSE = <RegexFlag.VERBOSE: 64>\n",
    "- X = <RegexFlag.VERBOSE: 64>\n",
    "- __all__ = ['match', 'fullmatch', 'search', 'sub', 'subn', 'split', 'fi...\n",
    "\n",
    "\n",
    "\n",
    "**FILE**：\\lib\\re.py"
   ]
  },
  {
   "cell_type": "markdown",
   "metadata": {},
   "source": [
    "# re.sub()\n",
    "`re.sub(pattern, repl, string, count=0, flags=0)`\n",
    "\n",
    "**Docstring**\n",
    "**Args**\n",
    "\n",
    "- pattern: 将`string`中最左边那些`pattern`不重复出现的字符替换为`repl`，再将替换后的字符串返回，若没有找到`pattern`，则以原输入返回；\n",
    "\n",
    "- repl: `repl`可以是字符串或者可调用函数，若为字符串，则其内部的反斜杠视作转义字符；未知的 ASCII 转义字符将保留以供未来使用，并视作错误进行处理；其他未知转义字符如`\\&`等将不作处理；反向引用(如`\\6`)被替换为`pattern`中由 group 6 匹配的子字符串；`repl`若为可调用函数，则其对于每个不重复出现的`pattern`均会被调用，该函数每次接收一个所匹配的对象作为参数，并返回用于替换字符的字符串；\n",
    "\n",
    "- count：若指明了`count`则只替换字符串前`count`个出现的匹配字符，默认或为 0 的情况下替换所有匹配字符；Empty matches for the pattern are replaced only when not adjacent to a previous empty match, so sub('x*', '-', 'abxd') returns '-a-b--d-'.\n",
    "\n",
    "In string-type repl arguments, in addition to the character escapes and backreferences described above, \\g<name> will use the substring matched by the group named name, as defined by the (?P<name>...) syntax. \\g<number> uses the corresponding group number; \\g<2> is therefore equivalent to \\2, but isn’t ambiguous in a replacement such as \\g<2>0. \\20 would be interpreted as a reference to group 20, not a reference to group 2 followed by the literal character '0'. The backreference \\g<0> substitutes in the entire substring matched by the RE.\n",
    "\n",
    "**Type**:      function"
   ]
  },
  {
   "cell_type": "code",
   "execution_count": 41,
   "metadata": {},
   "outputs": [
    {
     "name": "stdout",
     "output_type": "stream",
     "text": [
      "['I\\nshould\\nstudy\\n', 'I\\nshould\\nbe\\nstudying.', 'I\\nshould\\ngo\\nto bed.']\n"
     ]
    }
   ],
   "source": [
    "lines = [\"I should study.\",\n",
    "         \"I should be studying.\",\n",
    "         \"I should go to bed.\"]\n",
    "def clean_text(lines):  #@save\n",
    "    return [re.sub('[^A-Za-z]+', '\\n', line, count=3) for line in lines]\n",
    "\n",
    "lines = clean_text(lines)\n",
    "print(lines)"
   ]
  },
  {
   "cell_type": "markdown",
   "metadata": {},
   "source": [
    "#  "
   ]
  },
  {
   "cell_type": "markdown",
   "metadata": {},
   "source": [
    "#  "
   ]
  },
  {
   "cell_type": "markdown",
   "metadata": {},
   "source": [
    "# re.compile()\n",
    "`re.compile(pattern, flags=0)`\n",
    "\n",
    "**Docstring**: 编译一个正则表达式模式，返回一个`Pattern`对象\n",
    "\n",
    "**File**:      d:\\programfiles\\miniconda3\\lib\\re.py\n",
    "\n",
    "**Type**:      function"
   ]
  }
 ],
 "metadata": {
  "kernelspec": {
   "display_name": "Python 3",
   "language": "python",
   "name": "python3"
  },
  "language_info": {
   "codemirror_mode": {
    "name": "ipython",
    "version": 3
   },
   "file_extension": ".py",
   "mimetype": "text/x-python",
   "name": "python",
   "nbconvert_exporter": "python",
   "pygments_lexer": "ipython3",
   "version": "3.8.6"
  },
  "latex_envs": {
   "LaTeX_envs_menu_present": true,
   "autoclose": false,
   "autocomplete": true,
   "bibliofile": "biblio.bib",
   "cite_by": "apalike",
   "current_citInitial": 1,
   "eqLabelWithNumbers": true,
   "eqNumInitial": 1,
   "hotkeys": {
    "equation": "Ctrl-E",
    "itemize": "Ctrl-I"
   },
   "labels_anchors": false,
   "latex_user_defs": false,
   "report_style_numbering": false,
   "user_envs_cfg": false
  }
 },
 "nbformat": 4,
 "nbformat_minor": 4
}
