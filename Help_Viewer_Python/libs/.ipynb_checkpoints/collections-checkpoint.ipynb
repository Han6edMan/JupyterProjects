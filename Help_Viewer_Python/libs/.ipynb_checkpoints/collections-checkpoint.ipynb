{
 "cells": [
  {
   "cell_type": "code",
   "execution_count": 1,
   "metadata": {},
   "outputs": [],
   "source": [
    "import sys\n",
    "import collections"
   ]
  },
  {
   "cell_type": "markdown",
   "metadata": {},
   "source": [
    "# collections -- Overview\n",
    "\n",
    "[MODULE REFERENCE](https://docs.python.org/3.7/library/collections)\n",
    "\n",
    "\n",
    "**DESCRIPTION**\n",
    "\n",
    "This module implements specialized container datatypes providing alternatives to Python's general purpose built-in containers, dict, list, set, and tuple.\n",
    "\n",
    "- namedtuple: 用于创建指定命名字段的元组类子类的制造函数 (factory function, 用以制造某一元素的子元素)\n",
    "\n",
    "- deque：可以在两端实现快速添加和弹出的类列表的容器\n",
    "\n",
    "- ChainMap: 用于创建多映射的简单视图的类列表的类\n",
    "\n",
    "- Counter: 用于对可哈希对象计数的字典类子类\n",
    "\n",
    "- OrderedDict: 可存储添加项顺序的字典类子类\n",
    "\n",
    "- defaultdict: 调用制造函数来提供丢失值的字典类子类\n",
    "\n",
    "- UserDict：包装字典对象，以更容易实现字典类子类化\n",
    "\n",
    "- UserList：包装列表对象，以更容易实现列表类子类化\n",
    "\n",
    "- UserString：包装字符串对象，以更容易实现字符串类子类化\n",
    "\n",
    "**PACKAGE CONTENTS**\n",
    "\n",
    "- abc\n",
    "\n",
    "\n",
    "\n",
    "**CLASSES**\n",
    "- builtins.dict(builtins.object)\n",
    "    - Counter\n",
    "    - OrderedDict\n",
    "    - defaultdict\n",
    "- builtins.object\n",
    "    - deque\n",
    "- collections.abc.MutableMapping(collections.abc.Mapping)\n",
    "    - ChainMap\n",
    "    - UserDict\n",
    "- collections.abc.MutableSequence(collections.abc.Sequence)\n",
    "    - UserList\n",
    "- collections.abc.Sequence(collections.abc.Reversible, collections.abc.Collection)\n",
    "    - UserString\n",
    "\n",
    "**FUNCTIONS**\n",
    "\n",
    "- \\_\\_getattr__(name)\n",
    "\n",
    "- namedtuple(typename, field_names, *, rename=False, defaults=None, module=None)\n",
    "\n",
    "**DATA**\n",
    "\n",
    "- __all__ = ['deque', 'defaultdict', 'namedtuple', 'UserDict', 'UserList...\n",
    "\n",
    "**SUBMODULES**:\\_collections_abc\n",
    "\n",
    "**FILE**: \\lib\\collections\\__init__.py"
   ]
  },
  {
   "cell_type": "markdown",
   "metadata": {},
   "source": [
    "#  "
   ]
  },
  {
   "cell_type": "markdown",
   "metadata": {},
   "source": [
    "# collections.Counter()\n",
    "`collections.Counter(*args, **kwds)`\n",
    "\n",
    "**Docstring**\n",
    "\n",
    "用于对可哈希项计数的 Dict 子类，有时被称为 bag 或 multiset；其中元素存储为字典的键，元素的计数存储为字典值\n",
    "\n",
    "**File**: \\lib\\collections\\\\\\_\\_init\\_\\_.py\n",
    "\n",
    "**Type**:           type"
   ]
  },
  {
   "cell_type": "code",
   "execution_count": 8,
   "metadata": {},
   "outputs": [
    {
     "name": "stdout",
     "output_type": "stream",
     "text": [
      "Counter({'a': 5, 'b': 4, 'c': 3, 'd': 2, 'e': 1})\n",
      "dict_items([('a', 5), ('b', 4), ('c', 3), ('d', 2), ('e', 1)])\n",
      "dict_values([5, 4, 3, 2, 1])\n",
      "dict_keys(['a', 'b', 'c', 'd', 'e'])\n",
      "4\n",
      "0\n",
      "[('a', 5), ('c', 3), ('d', 2)]\n",
      "['a', 'c', 'd', 'e']\n"
     ]
    }
   ],
   "source": [
    "x = collections.Counter('abcdeabcdabcaba')\n",
    "print(x)\n",
    "print(x.items())\n",
    "print(x.values())\n",
    "print(x.keys())\n",
    "print(x[\"b\"])\n",
    "del x[\"b\"]\n",
    "print(x[\"b\"])\n",
    "y = x.most_common(3)\n",
    "print(y)\n",
    "y = sorted(x)\n",
    "print(y)\n",
    "y = ''.join(sorted(x.elements()))   # list elements with repetitions"
   ]
  },
  {
   "cell_type": "code",
   "execution_count": null,
   "metadata": {},
   "outputs": [],
   "source": [
    "\n",
    ">>> for elem in 'shazam':           # update counts from an iterable\n",
    "...     c[elem] += 1                # by adding 1 to each element's count\n",
    ">>> c['a']                          # now there are seven 'a'\n",
    "7\n",
    ">>> del c['b']                      # remove all 'b'\n",
    ">>> c['b']                          # now there are zero 'b'\n",
    "0\n",
    "\n",
    ">>> d = Counter('simsalabim')       # make another counter\n",
    ">>> c.update(d)                     # add in the second counter\n",
    ">>> c['a']                          # now there are nine 'a'\n",
    "9\n",
    "\n",
    ">>> c.clear()                       # empty the counter\n",
    ">>> c\n",
    "Counter()\n",
    "\n",
    "Note:  If a count is set to zero or reduced to zero, it will remain\n",
    "in the counter until the entry is deleted or the counter is cleared:\n",
    "\n",
    ">>> c = Counter('aaabbc')\n",
    ">>> c['b'] -= 2                     # reduce the count of 'b' by two\n",
    ">>> c.most_common()                 # 'b' is still in, but its count is zero\n",
    "[('a', 3), ('c', 1), ('b', 0)]\n",
    "Init docstring:\n",
    "Create a new, empty Counter object.  And if given, count elements\n",
    "from an input iterable.  Or, initialize the count from another mapping\n",
    "of elements to their counts.\n",
    "\n",
    ">>> c = Counter()                           # a new, empty counter\n",
    ">>> c = Counter('gallahad')                 # a new counter from an iterable\n",
    ">>> c = Counter({'a': 4, 'b': 2})           # a new counter from a mapping\n",
    ">>> c = Counter(a=4, b=2)                   # a new counter from keyword args"
   ]
  },
  {
   "cell_type": "markdown",
   "metadata": {},
   "source": [
    "#  "
   ]
  },
  {
   "cell_type": "markdown",
   "metadata": {},
   "source": [
    "# collections.OrderedDict()\n",
    "\n",
    "`collections.OrderedDict(self, /, *args, **kwargs)`\n",
    "\n",
    "可记录关键字参数顺序的字典，其类方法均为顺序可感知的\n",
    "\n",
    "**Type**:           type\n",
    "\n",
    "## collections.OrderedDict().pop()\n",
    "\n",
    "`od.pop(k[,d]) -> v`\n",
    "\n",
    "**Docstring**\n",
    "\n",
    "去除指定的键并返回相应的值；若未找到所指定的键但指明了`d`，则返回`d`，否则抛出`KeyError`异常\n",
    "\n",
    "**Type**:      method_descriptor"
   ]
  },
  {
   "cell_type": "markdown",
   "metadata": {},
   "source": [
    "# "
   ]
  },
  {
   "cell_type": "markdown",
   "metadata": {},
   "source": [
    "# "
   ]
  },
  {
   "cell_type": "markdown",
   "metadata": {},
   "source": [
    "# collections.namedtuple()\n",
    "```python\n",
    "collections.namedtuple(\n",
    "    typename,\n",
    "    field_names,\n",
    "    *,\n",
    "    rename=False,\n",
    "    defaults=None,\n",
    "    module=None,\n",
    ")\n",
    "```\n",
    "\n",
    "返回一个具有命名字段 (field name) 的元组的子类\n",
    "\n",
    "**File**:      \\lib\\collections\\\\\\_\\_init__.py\n",
    "\n",
    "**Type**:      function"
   ]
  },
  {
   "cell_type": "code",
   "execution_count": null,
   "metadata": {},
   "outputs": [],
   "source": [
    "Subclass = collections.namedtuple('SubclassOfTuple', ['named_field', 'float', \"str\", \"bool\", \"list\"])\n",
    "instance = Subclass(dict, float=1.0, str=\"str\", bool=True, list=[1, 2])\n",
    "print(Subclass)  # ==> <class '__main__.SubclassOfTuple'>\n",
    "instance[0](one=instance[1], two=2.)  # ==> {'one': 1.0, 'two': 2.0}\n",
    "instance.float + instance.bool  # ==> 2.0\n",
    "dict_ = instance._asdict()\n",
    "dict_[\"list\"]  # ==> [1, 2]\n",
    "Subclass(**dict_) == instance  # ==> True\n",
    "instance._replace(float=100.)"
   ]
  },
  {
   "cell_type": "code",
   "execution_count": 52,
   "metadata": {},
   "outputs": [
    {
     "name": "stdout",
     "output_type": "stream",
     "text": [
      "Block(scope='scope', unit_fn='bottleneck', args=[{'depth': 256, 'depth_bottleneck': 64, 'stride': 1}, {'depth': 256, 'depth_bottleneck': 64, 'stride': 1}, {'depth': 256, 'depth_bottleneck': 64, 'stride': 2}])\n"
     ]
    }
   ],
   "source": [
    "class Block(collections.namedtuple('Block', ['scope', 'unit_fn', 'args'])):\n",
    "    pass\n",
    "\n",
    "base_depth = 64\n",
    "num_units=3\n",
    "b = Block(\"scope\", \"bottleneck\", \n",
    "    [{'depth': base_depth * 4, 'depth_bottleneck': base_depth, 'stride': 1 }] * (num_units - 1) +\\\n",
    "    [{'depth': base_depth * 4, 'depth_bottleneck': base_depth, 'stride': 2}]\n",
    ")\n",
    "print(b)"
   ]
  }
 ],
 "metadata": {
  "kernelspec": {
   "display_name": "Python 3",
   "language": "python",
   "name": "python3"
  },
  "language_info": {
   "codemirror_mode": {
    "name": "ipython",
    "version": 3
   },
   "file_extension": ".py",
   "mimetype": "text/x-python",
   "name": "python",
   "nbconvert_exporter": "python",
   "pygments_lexer": "ipython3",
   "version": "3.8.6"
  },
  "latex_envs": {
   "LaTeX_envs_menu_present": true,
   "autoclose": false,
   "autocomplete": true,
   "bibliofile": "biblio.bib",
   "cite_by": "apalike",
   "current_citInitial": 1,
   "eqLabelWithNumbers": true,
   "eqNumInitial": 1,
   "hotkeys": {
    "equation": "Ctrl-E",
    "itemize": "Ctrl-I"
   },
   "labels_anchors": false,
   "latex_user_defs": false,
   "report_style_numbering": false,
   "user_envs_cfg": false
  }
 },
 "nbformat": 4,
 "nbformat_minor": 4
}
