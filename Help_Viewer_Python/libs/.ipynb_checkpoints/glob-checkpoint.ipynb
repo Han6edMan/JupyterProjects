{
 "cells": [
  {
   "cell_type": "code",
   "execution_count": 1,
   "metadata": {},
   "outputs": [],
   "source": [
    "import glob\n",
    "import inspect"
   ]
  },
  {
   "cell_type": "markdown",
   "metadata": {},
   "source": [
    "# glob - Filename globbing utility.\n",
    "\n",
    "[**MODULE REFERENCE**](https://docs.python.org/3.8/library/glob)\n",
    "    \n",
    "\n",
    "\n",
    "**FUNCTIONS**\n",
    "\n",
    "    escape(pathname)\n",
    "    glob(pathname, *, recursive=False)    \n",
    "    iglob(pathname, *, recursive=False)"
   ]
  },
  {
   "cell_type": "code",
   "execution_count": null,
   "metadata": {},
   "outputs": [],
   "source": [
    "for k, v in glob.__dict_"
   ]
  },
  {
   "cell_type": "markdown",
   "metadata": {},
   "source": [
    "# glob.glob()\n",
    "\n",
    "`glob.glob(pathname, *, recursive=False)`\n",
    "\n",
    "__Docstring__\n",
    "\n",
    "返回与路径名模式匹配的路径列表，即寻找一系列符合特定规则文件名；该模式可能包含简单的 shell 样式的 fnmatch通配符，然而却不像fnmatch，此模式中以点开头的文件名是与`*`和`?`模式不匹配的特殊情况。若`recursive=True`，`**`模式将能够匹配任何文件以及零个或多个目录和子目录。\n",
    "\n",
    "__Type__: function"
   ]
  },
  {
   "cell_type": "markdown",
   "metadata": {},
   "source": [
    "`*`匹配任意长度字节"
   ]
  },
  {
   "cell_type": "code",
   "execution_count": null,
   "metadata": {},
   "outputs": [],
   "source": [
    "file_paths = glob.glob(\"../*\")\n",
    "file_paths = glob.glob(\"../*/*\")\n",
    "for path in file_paths:\n",
    "    print(path)"
   ]
  },
  {
   "cell_type": "markdown",
   "metadata": {},
   "source": [
    "`?`匹配单个字符"
   ]
  },
  {
   "cell_type": "code",
   "execution_count": null,
   "metadata": {},
   "outputs": [],
   "source": [
    "file_paths = glob.glob(\"../00?_TensorFlow_?.x\")\n",
    "for path in file_paths:\n",
    "    print(path)"
   ]
  },
  {
   "cell_type": "markdown",
   "metadata": {},
   "source": [
    "`[0-9]`匹配字符区间"
   ]
  },
  {
   "cell_type": "code",
   "execution_count": null,
   "metadata": {},
   "outputs": [],
   "source": [
    "file_paths = glob.glob(\"../*[1-4]*\")\n",
    "for path in file_paths:\n",
    "    print(path)"
   ]
  }
 ],
 "metadata": {
  "kernelspec": {
   "display_name": "Python 3",
   "language": "python",
   "name": "python3"
  },
  "language_info": {
   "codemirror_mode": {
    "name": "ipython",
    "version": 3
   },
   "file_extension": ".py",
   "mimetype": "text/x-python",
   "name": "python",
   "nbconvert_exporter": "python",
   "pygments_lexer": "ipython3",
   "version": "3.8.3"
  }
 },
 "nbformat": 4,
 "nbformat_minor": 4
}
