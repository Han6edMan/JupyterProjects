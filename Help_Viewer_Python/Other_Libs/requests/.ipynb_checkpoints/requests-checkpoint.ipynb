{
 "cells": [
  {
   "cell_type": "code",
   "execution_count": 2,
   "metadata": {},
   "outputs": [],
   "source": [
    "import requests"
   ]
  },
  {
   "cell_type": "markdown",
   "metadata": {},
   "source": [
    "# requests\n",
    "\n",
    "**DESCRIPTION**\n",
    "\n",
    "`requests`是一个 HTTP 库；官方文档参见[这里](https://requests.readthedocs.io)；基本使用参见下面的示例：\n",
    "```python\n",
    "r = requests.get('https://www.python.org')\n",
    "r.status_code  # => 200\n",
    "b'Python is a programming language' in r.content  # => True\n",
    "```\n",
    "\n",
    "**PACKAGES**\n",
    "\n",
    "    __version__\n",
    "    _internal_utils\n",
    "    adapters\n",
    "    api\n",
    "    auth\n",
    "    certs\n",
    "    compat\n",
    "    cookies\n",
    "    exceptions\n",
    "    help\n",
    "    hooks\n",
    "    models\n",
    "    packages\n",
    "    sessions\n",
    "    status_codes\n",
    "    structures\n",
    "    utils\n",
    "\n",
    "**FUNCTIONS**\n",
    "\n",
    "    check_compatibility(urllib3_version, chardet_version)\n",
    "\n",
    "**DATA**\n",
    "\n",
    "    __author_email__ = 'me@kennethreitz.org'\n",
    "    __build__ = 140032\n",
    "    __cake__ = '✨ 🍰 ✨'\n",
    "    __copyright__ = 'Copyright 2020 Kenneth Reitz'\n",
    "    __description__ = 'Python HTTP for Humans.'\n",
    "    __license__ = 'Apache 2.0'\n",
    "    __title__ = 'requests'\n",
    "    __url__ = 'https://requests.readthedocs.io'\n",
    "    codes = <lookup 'status_codes'>\n",
    "    cryptography_version = '2.9.2'\n",
    "\n",
    "**FILE**:  \\lib\\site-packages\\requests\\\\\\_\\_init__.py"
   ]
  },
  {
   "cell_type": "markdown",
   "metadata": {},
   "source": [
    "# "
   ]
  },
  {
   "cell_type": "markdown",
   "metadata": {},
   "source": [
    "## requests.get()\n",
    "`requests.get(url, params=None, **kwargs)`\n",
    "\n",
    "**Docstring**: 发送一个`GET`请求，并返回一个`requests/models.py`文件中的`Response`对象；\n",
    "\n",
    "**Args**\n",
    "- url: 传递给`Request`对象的 URL\n",
    "- params: 传递给`Request`的用于指明查询时所使用的关键字，类型应为字典、元组或字节组成的列表\n",
    "- \\*\\*kwargs: ``Session.request()``所接收的关键字参数\n",
    "\n",
    "**File**:  \\requests\\api.py\n",
    "\n",
    "**Type**:      function\n",
    "\n",
    "**Example：**\n",
    "\n",
    "由于大多网站服务器会检测对应请求的载体身份标识，而若检测到身份标识不为浏览器时常作为非正常请求处理，进而一个常见的处理方法是进行 UA (User-Agent) 伪装，即通过将含有`user-agent`键的字典传递给`headers`参数，来将爬虫的身份标识伪装成浏览器；`user-agent`键对应的值可通过在原网页右击并进入“检查”所弹出的页面，在 Network 标签下 Name 中带有 search 等关键字的的一栏的 Request Headers 中找到；如图所示\n",
    "\n",
    "<img src=\"./img/how_to_find_ua.png\">"
   ]
  },
  {
   "cell_type": "code",
   "execution_count": 7,
   "metadata": {},
   "outputs": [],
   "source": [
    "url = \"https://www.baidu.com/s\"\n",
    "params = {\"wd\": \"python\"}\n",
    "headers = {\n",
    "    \"User-Agent\": \"Mozilla/5.0 (Windows NT 10.0; Win64; x64)\"+\n",
    "    \" AppleWebKit/537.36 (KHTML, like Gecko)\"+\n",
    "    \" Chrome/88.0.4324.190 Safari/537.36\"\n",
    "}\n",
    "response = requests.get(url, params=params, headers=headers)\n",
    "text = response.text\n",
    "with open(\"./test/requests.get.test.html\", \"w\", encoding=\"utf-8\") as f:\n",
    "    f.write(text)"
   ]
  },
  {
   "cell_type": "code",
   "execution_count": null,
   "metadata": {},
   "outputs": [],
   "source": [
    "requests.post()"
   ]
  }
 ],
 "metadata": {
  "kernelspec": {
   "display_name": "Python 3",
   "language": "python",
   "name": "python3"
  },
  "language_info": {
   "codemirror_mode": {
    "name": "ipython",
    "version": 3
   },
   "file_extension": ".py",
   "mimetype": "text/x-python",
   "name": "python",
   "nbconvert_exporter": "python",
   "pygments_lexer": "ipython3",
   "version": "3.8.3"
  }
 },
 "nbformat": 4,
 "nbformat_minor": 4
}
