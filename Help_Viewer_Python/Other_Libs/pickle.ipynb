{
 "cells": [
  {
   "cell_type": "code",
   "execution_count": 1,
   "metadata": {},
   "outputs": [],
   "source": [
    "import pickle"
   ]
  },
  {
   "cell_type": "markdown",
   "metadata": {},
   "source": [
    "pickle - Create portable serialized representations of Python objects.\n",
    "\n",
    "`pickle`模块实现了基本的数据序列化和反序列化；通过`pickle`模块的序列化操作我们能够将程序中运行的对象信息永久存储到文件中去；通过`pickle`模块的反序列化操作，我们能够从文件中创建上一次程序保存的对象。\n",
    "\n",
    "官方的介绍中，序列化操作的英文描述有好几个单词，如“serializing”, “pickling”, “marshalling”, “flattening”等\n",
    "\n",
    "`pickle`模块是以二进制的形式序列化后保存到文件中，保存文件的后缀为`.pkl`，不能直接打开进行预览；而 Python 的另一个序列化标准模块`json`则是human-readable的，可以直接打开查看（例如在notepad++中查看）\n",
    "\n",
    "参见https://docs.python.org/3.7/library/pickle\n",
    "\n",
    "**Classes**\n",
    "\n",
    "- Pickler\n",
    "- Unpickler\n",
    "\n",
    "**Functions**\n",
    "\n",
    "- dump(object, file)\n",
    "\n",
    "- dumps(object) -> string\n",
    "\n",
    "- load(file) -> object\n",
    "\n",
    "- loads(string) -> object\n",
    "\n",
    "**Misc variables**\n",
    "\n",
    "- __version__\n",
    "\n",
    "- format_version\n",
    "\n",
    "- compatible_formats\n",
    "\n",
    "**CLASSES**\n",
    "\n",
    "- builtins.Exception(builtins.BaseException)\n",
    "    - _pickle.PickleError\n",
    "        - _pickle.PicklingError\n",
    "        - _pickle.UnpicklingError\n",
    "- builtins.object\n",
    "    - _pickle.Pickler\n",
    "    - _pickle.Unpickler\n"
   ]
  },
  {
   "cell_type": "markdown",
   "metadata": {},
   "source": [
    "# pickle.dump()\n",
    "\n",
    "`pickle.dump(obj, file, protocol=None, *, fix_imports=True)`\n",
    "\n",
    "**Docstring**\n",
    "\n",
    "将`obj`的 pickle 表示形式写入打开的 file 对象文件，该函数等价于``Pickler(file, protocol).dump(obj)``但效率可能会更高\n",
    "\n",
    "**Args**\n",
    "\n",
    "- file: 此参数必须有一个 write() 方法，该方法接受单个字节参数；因此其可以是为二进制编写而打开的文件对象、`io.BytesIO`实例或满足此接口的任何其他自定义对象；\n",
    "\n",
    "- protocol: 表示使用的协议，支持的协议包括 0、1、2、3、4，默认为 3；指定协议版本为负数时，将默认选择所支持的最高版本协议，使用的协议版本越高，读取 pickle 所需的 Python 版本就越新；Python3 具有向后不兼容协议；\n",
    "\n",
    "- fix_imports: 若为真且`protocol`小于 3，则 pickle 将试图把 Python3 所用的新模块的名称映射到 Python2 所用的旧模块的名称上，以使在 Python2 能够读取 pickle 数据流"
   ]
  }
 ],
 "metadata": {
  "kernelspec": {
   "display_name": "Python 3",
   "language": "python",
   "name": "python3"
  },
  "language_info": {
   "codemirror_mode": {
    "name": "ipython",
    "version": 3
   },
   "file_extension": ".py",
   "mimetype": "text/x-python",
   "name": "python",
   "nbconvert_exporter": "python",
   "pygments_lexer": "ipython3",
   "version": "3.7.7"
  }
 },
 "nbformat": 4,
 "nbformat_minor": 4
}
