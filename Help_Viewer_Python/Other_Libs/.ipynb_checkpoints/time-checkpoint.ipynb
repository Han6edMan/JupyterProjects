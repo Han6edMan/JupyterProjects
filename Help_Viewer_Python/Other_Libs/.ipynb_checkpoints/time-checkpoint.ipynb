{
 "cells": [
  {
   "cell_type": "code",
   "execution_count": 1,
   "metadata": {},
   "outputs": [],
   "source": [
    "import time"
   ]
  },
  {
   "cell_type": "markdown",
   "metadata": {},
   "source": [
    "# time -- Overview\n",
    "\n",
    "This module provides various functions to manipulate time values.\n",
    "\n",
    "DESCRIPTION\n",
    "There are two standard representations of time.  One is the number\n",
    "of seconds since the Epoch, in UTC (a.k.a. GMT).  It may be an integer\n",
    "or a floating point number (to represent fractions of seconds).\n",
    "The Epoch is system-defined; on Unix, it is generally January 1st, 1970.\n",
    "The actual value can be retrieved by calling gmtime(0).\n",
    "\n",
    "The other representation is a tuple of 9 integers giving local time.\n",
    "The tuple items are:\n",
    "  year (including century, e.g. 1998)\n",
    "  month (1-12)\n",
    "  day (1-31)\n",
    "  hours (0-23)\n",
    "  minutes (0-59)\n",
    "  seconds (0-59)\n",
    "  weekday (0-6, Monday is 0)\n",
    "  Julian day (day in the year, 1-366)\n",
    "  DST (Daylight Savings Time) flag (-1, 0 or 1)\n",
    "If the DST flag is 0, the time is given in the regular time zone;\n",
    "if it is 1, the time is given in the DST time zone;\n",
    "if it is -1, mktime() should guess based on the date and time.\n",
    "\n",
    "**CLASSES**\n",
    "- builtins.tuple(builtins.object)\n",
    "- - struct_time\n",
    "\n",
    "**FUNCTIONS**\n",
    "- asctime([tuple]) -> string\n",
    "- clock() -> floating point number\n",
    "- ctime(seconds) -> string\n",
    "- get_clock_info(name: str) -> dict\n",
    "\n",
    "- gmtime([seconds])\n",
    "- localtime([seconds])\n",
    "- mktime(tuple) -> floating point number\n",
    "- monotonic() -> float\n",
    "- monotonic_ns() -> int\n",
    "- perf_counter() -> float\n",
    "\n",
    "- perf_counter_ns() -> int\n",
    "\n",
    "- process_time() -> float\n",
    "\n",
    "- process_time() -> int\n",
    "\n",
    "- sleep(seconds)\n",
    "\n",
    "- strftime(format[, tuple]) -> string\n",
    "\n",
    "- strptime(string, format) -> struct_time\n",
    "\n",
    "- thread_time() -> float\n",
    "\n",
    "- thread_time() -> int\n",
    "\n",
    "- time() -> floating point number\n",
    "\n",
    "- time_ns() -> int\n",
    "\n",
    "**DATA**\n",
    "- altzone = -32400\n",
    "- daylight = 0\n",
    "- timezone = -28800\n",
    "- tzname = ('中国标准时间', '中国夏令时')\n",
    "\n",
    "FILE: built-in"
   ]
  },
  {
   "cell_type": "markdown",
   "metadata": {},
   "source": [
    "# time.ctime()\n",
    "\n",
    "`ctime(seconds) -> string`\n",
    "\n",
    "将 Epoch 后的时间转换为本地时间的字符串，其相当于`asctime(localtime(seconds))`；没有提供时间时则使用`localtime()`返回的当前时间\n",
    "\n",
    "**Type**:      builtin_function_or_method"
   ]
  }
 ],
 "metadata": {
  "kernelspec": {
   "display_name": "Python 3",
   "language": "python",
   "name": "python3"
  },
  "language_info": {
   "codemirror_mode": {
    "name": "ipython",
    "version": 3
   },
   "file_extension": ".py",
   "mimetype": "text/x-python",
   "name": "python",
   "nbconvert_exporter": "python",
   "pygments_lexer": "ipython3",
   "version": "3.8.5"
  }
 },
 "nbformat": 4,
 "nbformat_minor": 4
}
