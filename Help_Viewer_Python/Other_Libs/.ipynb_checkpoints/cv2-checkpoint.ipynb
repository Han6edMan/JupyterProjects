{
 "cells": [
  {
   "cell_type": "code",
   "execution_count": 2,
   "metadata": {},
   "outputs": [],
   "source": [
    "import cv2"
   ]
  },
  {
   "cell_type": "markdown",
   "metadata": {},
   "source": [
    "## cv2.imdecode()\n",
    "`cv2.imdecode(buf, flags) -> retval`\n",
    "\n",
    "**Docstring**:  函数`imdecode`会从内存中指定的缓冲区读取图像，其中彩色图像读取后得到的通道顺序为 BGR；如果该缓冲区太短或包含无效数据，则返回一个空矩阵；关于所支持的格式和 flag 说明可参见`cv2.imread`\n",
    "\n",
    "**Args：**\n",
    "-  buf：输入的数组或字节向量\n",
    "-  flags：与`cv2.imread`的 flag 相同，也可参见`cv.ImreadModes`；\n",
    "\n",
    "**Type**:      builtin_function_or_method"
   ]
  },
  {
   "cell_type": "markdown",
   "metadata": {},
   "source": [
    "# "
   ]
  },
  {
   "cell_type": "markdown",
   "metadata": {},
   "source": [
    "## cv2.imread()\n",
    "`cv2.imread(filename[, flags]) -> retval`\n",
    "\n",
    "**Docstring:**\n",
    "@brief Loads an image from a file.\n",
    "\n",
    "@anchor imread\n",
    "\n",
    "The function imread loads an image from the specified file and returns it. If the image cannot be\n",
    "read (because of missing file, improper permissions, unsupported or invalid format), the function\n",
    "returns an empty matrix ( Mat::data==NULL ).\n",
    "\n",
    "Currently, the following file formats are supported:\n",
    "\n",
    "-   Windows bitmaps - \\*.bmp, \\*.dib (always supported)\n",
    "-   JPEG files - \\*.jpeg, \\*.jpg, \\*.jpe (see the *Note* section)\n",
    "-   JPEG 2000 files - \\*.jp2 (see the *Note* section)\n",
    "-   Portable Network Graphics - \\*.png (see the *Note* section)\n",
    "-   WebP - \\*.webp (see the *Note* section)\n",
    "-   Portable image format - \\*.pbm, \\*.pgm, \\*.ppm \\*.pxm, \\*.pnm (always supported)\n",
    "-   PFM files - \\*.pfm (see the *Note* section)\n",
    "-   Sun rasters - \\*.sr, \\*.ras (always supported)\n",
    "-   TIFF files - \\*.tiff, \\*.tif (see the *Note* section)\n",
    "-   OpenEXR Image files - \\*.exr (see the *Note* section)\n",
    "-   Radiance HDR - \\*.hdr, \\*.pic (always supported)\n",
    "-   Raster and Vector geospatial data supported by GDAL (see the *Note* section)\n",
    "\n",
    "@note\n",
    "-   The function determines the type of an image by the content, not by the file extension.\n",
    "-   In the case of color images, the decoded images will have the channels stored in **B G R** order.\n",
    "-   When using IMREAD_GRAYSCALE, the codec's internal grayscale conversion will be used, if available.\n",
    "    Results may differ to the output of cvtColor()\n",
    "-   On Microsoft Windows\\* OS and MacOSX\\*, the codecs shipped with an OpenCV image (libjpeg,\n",
    "    libpng, libtiff, and libjasper) are used by default. So, OpenCV can always read JPEGs, PNGs,\n",
    "    and TIFFs. On MacOSX, there is also an option to use native MacOSX image readers. But beware\n",
    "    that currently these native image loaders give images with different pixel values because of\n",
    "    the color management embedded into MacOSX.\n",
    "-   On Linux\\*, BSD flavors and other Unix-like open-source operating systems, OpenCV looks for\n",
    "    codecs supplied with an OS image. Install the relevant packages (do not forget the development\n",
    "    files, for example, \"libjpeg-dev\", in Debian\\* and Ubuntu\\*) to get the codec support or turn\n",
    "    on the OPENCV_BUILD_3RDPARTY_LIBS flag in CMake.\n",
    "-   In the case you set *WITH_GDAL* flag to true in CMake and @ref IMREAD_LOAD_GDAL to load the image,\n",
    "    then the [GDAL](http://www.gdal.org) driver will be used in order to decode the image, supporting\n",
    "    the following formats: [Raster](http://www.gdal.org/formats_list.html),\n",
    "    [Vector](http://www.gdal.org/ogr_formats.html).\n",
    "-   If EXIF information is embedded in the image file, the EXIF orientation will be taken into account\n",
    "    and thus the image will be rotated accordingly except if the flags @ref IMREAD_IGNORE_ORIENTATION\n",
    "    or @ref IMREAD_UNCHANGED are passed.\n",
    "-   Use the IMREAD_UNCHANGED flag to keep the floating point values from PFM image.\n",
    "-   By default number of pixels must be less than 2^30. Limit can be set using system\n",
    "    variable OPENCV_IO_MAX_IMAGE_PIXELS\n",
    "\n",
    "@param filename Name of file to be loaded.\n",
    "@param flags Flag that can take values of cv::ImreadModes\n",
    "Type:      builtin_function_or_method"
   ]
  }
 ],
 "metadata": {
  "kernelspec": {
   "display_name": "Python 3",
   "language": "python",
   "name": "python3"
  },
  "language_info": {
   "codemirror_mode": {
    "name": "ipython",
    "version": 3
   },
   "file_extension": ".py",
   "mimetype": "text/x-python",
   "name": "python",
   "nbconvert_exporter": "python",
   "pygments_lexer": "ipython3",
   "version": "3.8.3"
  }
 },
 "nbformat": 4,
 "nbformat_minor": 4
}
