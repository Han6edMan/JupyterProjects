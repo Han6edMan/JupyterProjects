{
 "cells": [
  {
   "cell_type": "code",
   "execution_count": 3,
   "id": "9cbbfd8c-db48-4f22-ad1d-e5301aeee699",
   "metadata": {},
   "outputs": [],
   "source": [
    "import scipy.sparse as sps\n",
    "import numpy as np"
   ]
  },
  {
   "cell_type": "markdown",
   "id": "9f2fd32d-c985-4cd0-9d91-e6272e0c7a31",
   "metadata": {},
   "source": [
    "## scipy.sparse --- Overview\n",
    "\n",
    "##### 稀疏矩阵的类\n",
    "    bsr_matrix - Block Sparse Row matrix\n",
    "    coo_matrix - A sparse matrix in COOrdinate format\n",
    "    csc_matrix - Compressed Sparse Column matrix\n",
    "    csr_matrix - Compressed Sparse Row matrix\n",
    "    dia_matrix - Sparse matrix with DIAgonal storage\n",
    "    dok_matrix - Dictionary Of Keys based sparse matrix\n",
    "    lil_matrix - Row-based list of lists sparse matrix\n",
    "    spmatrix - Sparse matrix base class\n",
    "\n",
    "##### 子模块\n",
    "    csgraph - Compressed sparse graph routines\n",
    "    linalg - sparse linear algebra routines\n",
    "\n",
    "\n",
    "##### 异常类\n",
    "    SparseEfficiencyWarning\n",
    "    SparseWarning\n",
    "\n",
    "##### 函数\n",
    "    eye - Sparse MxN matrix whose k-th diagonal is all ones\n",
    "    identity - Identity matrix in sparse format\n",
    "    kron - kronecker product of two sparse matrices\n",
    "    kronsum - kronecker sum of sparse matrices\n",
    "    diags - Return a sparse matrix from diagonals\n",
    "    spdiags - Return a sparse matrix from diagonals\n",
    "    block_diag - Build a block diagonal sparse matrix\n",
    "    tril - Lower triangular portion of a matrix in sparse format\n",
    "    triu - Upper triangular portion of a matrix in sparse format\n",
    "    bmat - Build a sparse matrix from sparse sub-blocks\n",
    "    hstack - Stack sparse matrices horizontally (column wise)\n",
    "    vstack - Stack sparse matrices vertically (row wise)\n",
    "    rand - Random values in a given shape\n",
    "    random - Random values in a given shape\n",
    "    find\n",
    "\n",
    "\n",
    "##### 稀疏矩阵的保存与加载\n",
    "    save_npz - Save a sparse matrix to a file using `.npz` format.\n",
    "    load_npz - Load a sparse matrix from a file using `.npz` format.\n",
    "\n",
    "\n",
    "##### 稀疏矩阵的判定\n",
    "    issparse\n",
    "    isspmatrix\n",
    "    isspmatrix_csc\n",
    "    isspmatrix_csr\n",
    "    isspmatrix_bsr\n",
    "    isspmatrix_lil\n",
    "    isspmatrix_dok\n",
    "    isspmatrix_coo\n",
    "    isspmatrix_dia\n",
    "\n",
    "\n",
    "##### DATA\n",
    "    __all__ = ['SparseEfficiencyWarning', 'SparseWarning', 'base', 'block_...\n",
    "\n",
    "\n",
    "### 使用\n",
    "\n",
    "SciPy 提供了 7 种稀疏矩阵类型：\n",
    "1. csc_matrix: Compressed Sparse Column format\n",
    "2. csr_matrix: Compressed Sparse Row format\n",
    "3. bsr_matrix: Block Sparse Row format\n",
    "4. lil_matrix: List of Lists format\n",
    "5. dok_matrix: Dictionary of Keys format\n",
    "6. coo_matrix: COOrdinate format (aka IJV, triplet format)\n",
    "7. dia_matrix: DIAgonal format\n",
    "\n",
    "可以使用`dok_matrix`或`lil_matrix`来快速构建一个矩阵，其中`lil_matrix`支持类似 NumPy 数组的语法，例如切片、索引等操作。\n",
    "\n",
    "尽管这些矩阵与 NumPy 数组类似，但由于 NumPy 无法正确地对其转换并用于计算，从而可能会得到错误输出；因此如果想对某数组应用 NumPy 函数时，建议先查看 SciPy 类是否有其自己的实现函数，或事先将这些稀疏矩阵转换为 NumPy 数组。执行乘法或求逆之类的操作时，建议先将矩阵转换为`CSC`或`CSR`格式；`lil_matrix`格式是基于行的，因此`CSR`格式计算效率更高，而`CSC`会稍差一些；所有`CSR`、`CSC`和`COO`格式之间的转换时间都是线性的。\n",
    "\n",
    "\n",
    "#### Matrix vector product\n",
    "\n",
    "The CSR format is specially suitable for fast matrix vector products.\n",
    "\n",
    "Example 1\n",
    "\n",
    "Construct a 1000x1000 lil_matrix and add some values to it:\n",
    "``\n",
    ">>> from scipy.sparse import lil_matrix\n",
    ">>> from scipy.sparse.linalg import spsolve\n",
    ">>> from numpy.linalg import solve, norm\n",
    ">>> from numpy.random import rand\n",
    "\n",
    ">>> A = lil_matrix((1000, 1000))\n",
    ">>> A[0, :100] = rand(100)\n",
    ">>> A[1, 100:200] = A[0, :100]\n",
    ">>> A.setdiag(rand(1000))\n",
    "``\n",
    "Now convert it to CSR format and solve A x = b for x:\n",
    "``\n",
    ">>> A = A.tocsr()\n",
    ">>> b = rand(1000)\n",
    ">>> x = spsolve(A, b)\n",
    "``\n",
    "Convert it to a dense matrix and solve, and check that the result\n",
    "is the same:\n",
    "``\n",
    ">>> x_ = solve(A.toarray(), b)\n",
    "``\n",
    "Now we can compute norm of the error with:\n",
    "``\n",
    ">>> err = norm(x-x_)\n",
    ">>> err < 1e-10\n",
    "True\n",
    "``\n",
    "It should be small :)\n",
    "\n",
    "\n",
    "Example 2\n",
    "\n",
    "Construct a matrix in COO format:\n",
    "``\n",
    ">>> from scipy import sparse\n",
    ">>> from numpy import array\n",
    ">>> I = array([0,3,1,0])\n",
    ">>> J = array([0,3,1,2])\n",
    ">>> V = array([4,5,7,9])\n",
    ">>> A = sparse.coo_matrix((V,(I,J)),shape=(4,4))\n",
    "``\n",
    "Notice that the indices do not need to be sorted.\n",
    "\n",
    "Duplicate (i,j) entries are summed when converting to CSR or CSC.\n",
    "``\n",
    ">>> I = array([0,0,1,3,1,0,0])\n",
    ">>> J = array([0,2,1,3,1,0,0])\n",
    ">>> V = array([1,1,1,1,1,1,1])\n",
    ">>> B = sparse.coo_matrix((V,(I,J)),shape=(4,4)).tocsr()\n",
    "``\n",
    "This is useful for constructing finite-element stiffness and mass matrices.\n",
    "\n",
    "### Further details\n",
    "\n",
    "CSR column indices are not necessarily sorted. Likewise for CSC row\n",
    "indices. Use the .sorted_indices() and .sort_indices() methods when\n",
    "sorted indices are required (e.g., when passing data to other libraries)."
   ]
  },
  {
   "cell_type": "markdown",
   "id": "33e6e68b-095e-474d-9c4d-af447975a597",
   "metadata": {},
   "source": [
    "# "
   ]
  },
  {
   "cell_type": "markdown",
   "id": "b42cb6bf-6a27-4925-88f4-7a49166016b7",
   "metadata": {},
   "source": [
    "# "
   ]
  },
  {
   "cell_type": "markdown",
   "id": "f04c79de-562e-48f8-9917-9ffd858391d6",
   "metadata": {
    "tags": []
   },
   "source": [
    "## `sps.dok_matrix(arg1, shape=None, dtype=None, copy=False)`\n",
    "\n",
    "基于键字典的稀疏矩阵。该类型可以递增式构造系数矩阵，并支持加、减、乘、除和矩阵幂等数学运算，不支持复制。其对单个元素的访问速度为 O(1)。\n",
    "\n",
    "##### Args\n",
    "- arg1 : 可以是稀疏矩阵，也可以是稠密矩阵；当不指定此参数时，必须指定`shape`参数\n",
    "- shape : 矩阵形状，应是元祖类型\n",
    "- dtype : 略\n",
    "- copy : 是否对原矩阵进行复制\n",
    "\n",
    "##### Attributes\n",
    "- shape : 是一个 2 元元祖\n",
    "- ndim : 矩阵维度，即等于 2\n",
    "- nnz：非零元素个数\n",
    "\n",
    "\n",
    "##### Examples"
   ]
  },
  {
   "cell_type": "code",
   "execution_count": 13,
   "id": "073c634f-9cd0-45a0-820a-5a7ac0537d2b",
   "metadata": {
    "collapsed": true,
    "jupyter": {
     "outputs_hidden": true
    },
    "tags": []
   },
   "outputs": [
    {
     "name": "stdout",
     "output_type": "stream",
     "text": [
      "dict_keys([(0, 1), (0, 2), (0, 3), (0, 4), (1, 0), (1, 1), (1, 2), (1, 3), (1, 4), (2, 0), (2, 1), (2, 2), (2, 3), (2, 4), (3, 0), (3, 1), (3, 2), (3, 3), (3, 4), (4, 0), (4, 1), (4, 2), (4, 3), (4, 4)])\n",
      "dict_items([((0, 1), 1.0), ((0, 2), 2.0), ((0, 3), 3.0), ((0, 4), 4.0), ((1, 0), 1.0), ((1, 1), 2.0), ((1, 2), 3.0), ((1, 3), 4.0), ((1, 4), 5.0), ((2, 0), 2.0), ((2, 1), 3.0), ((2, 2), 4.0), ((2, 3), 5.0), ((2, 4), 6.0), ((3, 0), 3.0), ((3, 1), 4.0), ((3, 2), 5.0), ((3, 3), 6.0), ((3, 4), 7.0), ((4, 0), 4.0), ((4, 1), 5.0), ((4, 2), 6.0), ((4, 3), 7.0), ((4, 4), 8.0)])\n"
     ]
    }
   ],
   "source": [
    "S = sps.dok_matrix((5, 5))\n",
    "for i in range(5):\n",
    "    for j in range(5):\n",
    "        S[i, j] = i + j\n",
    "\n",
    "print(S.keys())\n",
    "print(S.items())"
   ]
  },
  {
   "cell_type": "code",
   "execution_count": 36,
   "id": "193a0b9c-445c-4fdf-b302-114154620d9d",
   "metadata": {
    "collapsed": true,
    "jupyter": {
     "outputs_hidden": true
    },
    "tags": []
   },
   "outputs": [
    {
     "name": "stdout",
     "output_type": "stream",
     "text": [
      "  (0, 0)\t1\n",
      "  (1, 0)\t2\n",
      "  (1, 1)\t3\n",
      "  (1, 2)\t4\n",
      "  (2, 1)\t5\n"
     ]
    },
    {
     "data": {
      "text/plain": [
       "<3x3 sparse matrix of type '<class 'numpy.int32'>'\n",
       "\twith 5 stored elements in Dictionary Of Keys format>"
      ]
     },
     "execution_count": 36,
     "metadata": {},
     "output_type": "execute_result"
    }
   ],
   "source": [
    "S = sps.dok_matrix([[1, 0, 0], [2, 3, 4], [0, 5, 0]])\n",
    "print(S)\n",
    "S"
   ]
  },
  {
   "cell_type": "markdown",
   "id": "9c9bf3bc-a8fa-4828-92e3-70c892051687",
   "metadata": {
    "tags": []
   },
   "source": [
    "#### `dok_matrix.tocsr(copy=False)`\n",
    "\n",
    "将矩阵转换为压缩行稀疏 (Compressed Sparse Row) 格式；`copy=False`时，`S`与生成的`csr_matrix`之间共享数据/索引"
   ]
  },
  {
   "cell_type": "markdown",
   "id": "879685a0-d61d-4eac-af64-2338c876b448",
   "metadata": {
    "tags": []
   },
   "source": [
    "#### `dok_matrix.dot(other)`\n",
    "\n",
    "即简单的矩阵乘法。具体而言，当`dok_matrix`和`other`都是矩阵时，二者维数应相互匹配；当`other`为向量且不是稀疏矩阵时，其可以是行形式也可以列形式。\n",
    "\n",
    "需要注意的是，从 NumPy 1.7 开始，`np.dot`便不会区分稀疏矩阵了，进而使用该函数的计算结果会出错；因此应先将系数矩阵转换为密集矩阵，但这样也就失去了相应的性能优势了。\n",
    "\n",
    "##### Examples\n",
    "例如下面的例子，"
   ]
  },
  {
   "cell_type": "code",
   "execution_count": 80,
   "id": "b4d8c01f-bbfc-4638-9825-e4d574fe723e",
   "metadata": {},
   "outputs": [],
   "source": [
    "A = sps.csr_matrix([[1, 2, 0], [0, 0, 3], [4, 0, 5]])\n",
    "v = sps.csr_matrix([1, 0, -1])\n",
    "print(v.dot(A))\n",
    "print(A.dot(v.T))"
   ]
  },
  {
   "cell_type": "code",
   "execution_count": 85,
   "id": "ca6c1226-9f81-4259-a081-864db796d6a0",
   "metadata": {},
   "outputs": [
    {
     "data": {
      "text/plain": [
       "array([[ 1],\n",
       "       [-3],\n",
       "       [-1]], dtype=int32)"
      ]
     },
     "execution_count": 85,
     "metadata": {},
     "output_type": "execute_result"
    }
   ],
   "source": [
    "v = [1, 0, -1]\n",
    "v = [[1], [0], [-1]]\n",
    "A.dot(v)"
   ]
  },
  {
   "cell_type": "markdown",
   "id": "c835abf4-84f3-4270-9361-af00899c78ac",
   "metadata": {
    "tags": []
   },
   "source": [
    "#### `sps.dok_matrix.todense(order=None, out=None)`\n",
    "\n",
    "返回该矩阵的密集形式的 `np.matrix` 数组\n",
    "\n",
    "##### Args\n",
    "- order : 应是`'C'`或`'F'`，即使用 C (行为主) 还是 Fortran (列为主) 格式返回数组，默认是 C 顺序；该参数不能与`out`一起指定\n",
    "- out : 如果没指定该参数，则会将计算结果分配给一个新数组；否则会将其结果与`out`进行绑定，此时`out`的形状和数据类型应与稀疏矩阵相同"
   ]
  },
  {
   "cell_type": "code",
   "execution_count": 98,
   "id": "4522df23-5a1c-41a7-a726-09bcd8da7dc4",
   "metadata": {},
   "outputs": [
    {
     "name": "stdout",
     "output_type": "stream",
     "text": [
      "<class 'numpy.matrix'>\n"
     ]
    }
   ],
   "source": [
    "A = sps.csr_matrix([[1, 2, 0], [0, 0, 3], [4, 0, 5]])\n",
    "A = A.todense()\n",
    "print(type(A))"
   ]
  },
  {
   "cell_type": "markdown",
   "id": "75a02092-478a-4f67-b596-cc28a7d9c1a7",
   "metadata": {},
   "source": [
    "# "
   ]
  },
  {
   "cell_type": "markdown",
   "id": "4fbb8141-46a5-4560-bfd3-25e77d9c5348",
   "metadata": {},
   "source": [
    "# "
   ]
  },
  {
   "cell_type": "markdown",
   "id": "9a9cc8c4-c684-4f98-9637-dbb1e68c4c16",
   "metadata": {
    "tags": []
   },
   "source": [
    "## `sps.csr_matrix(arg1, shape=None, dtype=None, copy=False)`\n",
    "\n",
    "压缩行稀疏矩阵，支持加、减、乘、除、矩阵幂等数学运算。这种格式的数组优势在于，其对于`CSR + CSR`, `CSR * CSR`等的运算、矩阵-向量乘法、行切片会很高效；而其劣势在于，不便于对数组的稀疏结构的修改 (可以考虑`LIL`、`DOK`)，以及不便于进行列切片(可以考虑`CSC`)。\n",
    "\n",
    "##### Args\n",
    "- arg1\n",
    "    - 可以是类数组的 2 维稀疏/密集矩阵\n",
    "    - 也可以是`(data, (row, col)`形式，这 3 个变量均为 1 维类数组类型，且长度应当相等；此时代表`a[row[k], col[k]] = data[k]`，其中相同索引的元素会加起来（例1）\n",
    "    - 也可以是`(data, indices, indptr)`形式，这是 CSR 的标准储存格式，其中第 i 行的列索引被储存为`indices[indptr[i]:indptr[i+1]]`，相应元素被储存为`data[indptr[i]:indptr[i+1]]`（例2）\n",
    "    - 也可以不指定该参数，此时必须声明`shape`，此时返回数组为零矩阵\n",
    "- shape : 应为 2 元元祖，在`arg1`指定具体的 2D 数组时，应与该数组形状相同；对于其他情况，在不指定时会根据`arg1`进行推断，然而此时推断出的会是满足`arg1`的最小形状的矩阵，进而如果需要指定形状更大的矩阵时，需要对此参数进行声明；\n",
    "- dtype : 略\n",
    "- copy : 是否 in-place 地操作，默认为 False\n",
    "\n",
    "##### Attributes\n",
    "- ndim : 整型，即数组维度，显然该参数总会是 2\n",
    "- nnz : 所存储的元素个数，包括显式指定的 0\n",
    "- data : 矩阵元素的 CSR 格式数组\n",
    "- indices : 矩阵索引的 CSR 格式数组\n",
    "- indptr : 矩阵索引指针的 CSR 格式数组\n",
    "- has_sorted_indices : 是否储存了索引值\n",
    "\n",
    "##### Examples\n",
    "1. 对`arg1`指定`(data, (row, col))`形式，其中相同索引的元素会加起来："
   ]
  },
  {
   "cell_type": "code",
   "execution_count": 132,
   "id": "9d0f20e9-e4ce-4c08-89c6-24e1505b4236",
   "metadata": {
    "tags": []
   },
   "outputs": [
    {
     "name": "stdout",
     "output_type": "stream",
     "text": [
      "[[1 0 2]\n",
      " [0 0 3]\n",
      " [9 0 6]]\n"
     ]
    }
   ],
   "source": [
    "row = [0, 0, 1, 2, 2, 2]\n",
    "col = [0, 2, 2, 0, 0, 2]\n",
    "data = [1, 2, 3, 4, 5, 6]\n",
    "s = sps.csr_matrix((data, (row, col)))\n",
    "print(s.toarray())"
   ]
  },
  {
   "cell_type": "markdown",
   "id": "ae2c2c72-189f-4487-a98f-f2cf690f2f78",
   "metadata": {
    "tags": []
   },
   "source": [
    "2. 对`arg1`指定`(data, indices, indptr)`形式："
   ]
  },
  {
   "cell_type": "code",
   "execution_count": 127,
   "id": "58d4283b-6b1c-4fa0-9291-18d5307aea50",
   "metadata": {
    "collapsed": true,
    "jupyter": {
     "outputs_hidden": true,
     "source_hidden": true
    },
    "tags": []
   },
   "outputs": [
    {
     "name": "stdout",
     "output_type": "stream",
     "text": [
      "[[1 0 2]\n",
      " [0 0 3]\n",
      " [4 5 6]]\n",
      "[[1 0 2]\n",
      " [0 0 3]\n",
      " [4 5 6]]\n"
     ]
    }
   ],
   "source": [
    "indptr = [0, 2, 3, 6]\n",
    "indices = [0, 2, 2, 0, 1, 2]\n",
    "data = [1, 2, 3, 4, 5, 6]\n",
    "s1 = sps.csr_matrix((data, indices, indptr), shape=(3, 3))\n",
    "print(s1.toarray())\n",
    "\n",
    "# equivalent to\n",
    "row = [[i]*(indptr[i+1]-indptr[i])  for i in range(len(indptr)-1)]\n",
    "col = [indices[indptr[i]:indptr[i+1]] for i in range(len(indptr)-1)]\n",
    "col = [c for col_ in col for c in col_]\n",
    "row = [r for row_ in row for r in row_]\n",
    "s2 = sps.csr_matrix((data, (row, col)), shape=(3, 3))\n",
    "print(s2.toarray())"
   ]
  },
  {
   "cell_type": "markdown",
   "id": "fb5dc3d7-2928-45c3-ade6-49235363d874",
   "metadata": {},
   "source": [
    "3. 人为指定`shape`参数，若不指定，`shape`会推断为 3\\*4："
   ]
  },
  {
   "cell_type": "code",
   "execution_count": 136,
   "id": "b2ffb495-2ed7-4e2f-8e24-05749157029f",
   "metadata": {},
   "outputs": [
    {
     "name": "stdout",
     "output_type": "stream",
     "text": [
      "[[1 0 2 0]\n",
      " [0 0 3 0]\n",
      " [4 5 6 7]\n",
      " [0 0 0 0]\n",
      " [0 0 0 0]]\n",
      "(3, 4)\n"
     ]
    }
   ],
   "source": [
    "row = [0, 0, 1, 2, 2, 2, 2]\n",
    "col = [0, 2, 2, 0, 1, 2, 3]\n",
    "data = [1, 2, 3, 4, 5, 6, 7]\n",
    "s = sps.csr_matrix((data, (row, col)), shape=(5, 4))\n",
    "s_ = sps.csr_matrix((data, (row, col)))\n",
    "print(s.toarray())\n",
    "print(s_.shape)"
   ]
  },
  {
   "cell_type": "markdown",
   "id": "36add167-e33c-4905-a01c-494d034f1434",
   "metadata": {},
   "source": [
    "4. 递增式构造 CSR 矩阵的示例："
   ]
  },
  {
   "cell_type": "code",
   "execution_count": null,
   "id": "c79c843c-1b88-4a36-bd94-863b06188d1e",
   "metadata": {},
   "outputs": [],
   "source": [
    "docs = [[\"hello\", \"world\", \"hello\"], [\"goodbye\", \"cruel\", \"world\"]]\n",
    "indptr = [0]\n",
    "indices = []\n",
    "data = []\n",
    "vocabulary = {}\n",
    "for d in docs:\n",
    "    for term in d:\n",
    "        index = vocabulary.setdefault(term, len(vocabulary))\n",
    "        indices.append(index)\n",
    "        data.append(1)\n",
    "    indptr.append(len(indices))\n",
    "csr_matrix((data, indices, indptr), dtype=int).toarray()"
   ]
  },
  {
   "cell_type": "code",
   "execution_count": 163,
   "id": "86894f83-40bf-42d9-8ff4-9d668be62160",
   "metadata": {},
   "outputs": [],
   "source": [
    "np.random.seed(0)\n",
    "idx = tuple(np.random.randint(0, 10, size=2))\n",
    "a = np.arange(100).reshape([10, -1])\n",
    "# print(a[idx])\n",
    "stack = [idx]\n",
    "k = stack.pop()\n",
    "x, y = k\n",
    "# for i in range(10):\n",
    "#     stack += [[]]"
   ]
  }
 ],
 "metadata": {
  "kernelspec": {
   "display_name": "Python 3",
   "language": "python",
   "name": "python3"
  },
  "language_info": {
   "codemirror_mode": {
    "name": "ipython",
    "version": 3
   },
   "file_extension": ".py",
   "mimetype": "text/x-python",
   "name": "python",
   "nbconvert_exporter": "python",
   "pygments_lexer": "ipython3",
   "version": "3.8.5"
  }
 },
 "nbformat": 4,
 "nbformat_minor": 5
}
