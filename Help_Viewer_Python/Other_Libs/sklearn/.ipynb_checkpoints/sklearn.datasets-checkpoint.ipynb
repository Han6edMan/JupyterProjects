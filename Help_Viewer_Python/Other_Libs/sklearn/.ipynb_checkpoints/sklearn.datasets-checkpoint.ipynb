{
 "cells": [
  {
   "cell_type": "code",
   "execution_count": 1,
   "metadata": {},
   "outputs": [],
   "source": [
    "import sklearn\n",
    "import sklearn.datasets as datasets"
   ]
  },
  {
   "cell_type": "markdown",
   "metadata": {},
   "source": [
    "# sklearn.datasets\n",
    "\n",
    "**DESCRIPTION**\n",
    "\n",
    "该模块含有加载数据集的工具，其中包括加载和获取常用数据集的方法，以及一些人工数据生成器\n",
    "\n",
    "**PACKAGE CONTENTS**\n",
    "\n",
    "    _base\n",
    "    _california_housing\n",
    "    _covtype\n",
    "    _kddcup99\n",
    "    _lfw\n",
    "    _olivetti_faces\n",
    "    _openml\n",
    "    _rcv1\n",
    "    _samples_generator\n",
    "    _species_distributions\n",
    "    _svmlight_format_fast\n",
    "    _svmlight_format_io\n",
    "    _twenty_newsgroups\n",
    "    base\n",
    "    california_housing\n",
    "    covtype\n",
    "    kddcup99\n",
    "    lfw\n",
    "    olivetti_faces\n",
    "    openml\n",
    "    rcv1\n",
    "    samples_generator\n",
    "    setup\n",
    "    species_distributions\n",
    "    svmlight_format\n",
    "    tests (package)\n",
    "    twenty_newsgroups\n",
    "\n",
    "**FUNCTIONS**\n",
    "\n",
    "    clear_data_home\n",
    "    dump_svmlight_file\n",
    "    fetch_20newsgroups\n",
    "    fetch_20newsgroups_vectorized\n",
    "    fetch_california_housing\n",
    "    fetch_covtype\n",
    "    fetch_kddcup99\n",
    "    fetch_lfw_pairs\n",
    "    fetch_lfw_people\n",
    "    fetch_olivetti_faces\n",
    "    fetch_openml\n",
    "    fetch_rcv1\n",
    "    fetch_species_distributions\n",
    "    get_data_home\n",
    "    load_boston\n",
    "    load_breast_cancer\n",
    "    load_diabetes\n",
    "    load_digits\n",
    "    load_files\n",
    "    load_iris\n",
    "    load_linnerud\n",
    "    load_sample_image\n",
    "    load_sample_images\n",
    "    load_svmlight_file\n",
    "    load_svmlight_files\n",
    "    load_wine\n",
    "    make_biclusters\n",
    "    make_blobs\n",
    "    make_checkerboard\n",
    "    make_circles\n",
    "    make_classification\n",
    "    make_friedman1\n",
    "    make_friedman2\n",
    "    make_friedman3\n",
    "    make_gaussian_quantiles\n",
    "    make_hastie_10_2\n",
    "    make_low_rank_matrix\n",
    "    make_moons\n",
    "    make_multilabel_classification\n",
    "    make_regression\n",
    "    make_s_curve\n",
    "    make_sparse_coded_signal\n",
    "    make_sparse_spd_matrix\n",
    "    make_sparse_uncorrelated\n",
    "    make_spd_matrix\n",
    "    make_swiss_roll\n",
    "\n",
    "**FILE**: sklearn\\datasets\\__init__.py"
   ]
  },
  {
   "cell_type": "markdown",
   "metadata": {},
   "source": [
    "#  "
   ]
  },
  {
   "cell_type": "markdown",
   "metadata": {},
   "source": [
    "# datasets.load_iris()\n",
    "`datasets.load_iris(*, return_X_y=False, as_frame=False)`\n",
    "\n",
    "**Docstring**:\n",
    "\n",
    "加载并返回 iris 数据集；iris 数据集是一个是一种经典的、非常简单的多分类数据集，更多教程参见`User Guide <iris_dataset>`\n",
    "\n",
    "类别数|每类样本数|总样本数|维度|特征\n",
    ":-:|:-:|:-:|:-:|:-:\n",
    "3|50|150|4|正实数\n",
    "\n",
    "**Args**\n",
    "\n",
    "- return_X_y: 默认 False；True 时返回``(data, target)``；False时返回`Bunch`类的类字典对象，其含有以下属性\n",
    "    - data: `as_frame=True`时为`DataFrame`，否则为`ndarray`，形状为`(150, 4)`\n",
    "    - target: `as_frame=True`时为`Series`，否则为`ndarray`，形状为`(150,)`\n",
    "    - feature_names: 数据集特征的名称组成的列表，即`data`的列的名称\n",
    "    - target_names: 标签名称组成的列表\n",
    "    - frame: 只在`as_frame=True`时含有该属性，形状为`(150, 5)`的含有`data`和`target`的`DataFrame`\n",
    "    - DESCR: 对数据集的描述，字符串型\n",
    "    - filename: 数据保存的路径\n",
    "- as_frame: 默认 False，True 时`(data, target)`会以`DataFrame`或`Series`形式返回\n",
    "\n",
    "\n",
    "**File**:     sklearn\\datasets\\_base.py\n",
    "\n",
    "**Type**:      function\n",
    "\n",
    "### Examples\n",
    "```python\n",
    "iris = datasets.load_iris(as_frame=True)\n",
    "iris.target[[10, 25, 50]]  # ==> array([0, 0, 1])\n",
    "iris.data\n",
    "```\n",
    "　|sepal length (cm)|sepal width (cm)|petal length (cm)|petal width (cm)\n",
    ":-:|:-:|:-:|:-:|:-:\n",
    "0\t|5.1|\t3.5|\t1.4|\t0.2\n",
    "1\t|4.9|\t3.0|\t1.4|\t0.2\n",
    "2\t|4.7|\t3.2|\t1.3|\t0.2\n",
    "3\t|4.6|\t3.1|\t1.5|\t0.2\n",
    "4\t|5.0|\t3.6|\t1.4|\t0.2\n",
    "...\t|...|\t...|\t...|\t...\n",
    "145\t|6.7|\t3.0|\t5.2|\t2.3\n",
    "146\t|6.3|\t2.5|\t5.0|\t1.9\n",
    "147\t|6.5|\t3.0|\t5.2|\t2.0\n",
    "148\t|6.2|\t3.4|\t5.4|\t2.3\n",
    "149\t|5.9|\t3.0|\t5.1|\t1.8"
   ]
  },
  {
   "cell_type": "markdown",
   "metadata": {},
   "source": [
    "#  "
   ]
  },
  {
   "cell_type": "markdown",
   "metadata": {},
   "source": [
    "# datasets.load_digits()\n",
    "`datasets.load_digits(*, n_class=10, return_X_y=False, as_frame=False)`\n",
    "\n",
    "**Docstring**:\n",
    "\n",
    "加载并返回[手写数字数据集](https://archive.ics.uci.edu/ml/datasets/Optical+Recognition+of+Handwritten+Digits)，每个样本为 $8\\times8$ 大小的图片，更多教程参见`User Guide <digits_dataset>`\n",
    "\n",
    "\n",
    "Classes|Samples per class|Samples total|Dimensionality|Features\n",
    ":-:|:-:|:-:|:-:|:-:\n",
    "10|~180|1797|64|0-16 的整数\n",
    "\n",
    "\n",
    "**Args**\n",
    "- n_class : 返回的类别的数量，整型，默认 10；\n",
    "- return_X_y: 默认 False；True 时返回`(data, target)`，False 时返回`Bunch`类的类字典对象，其含有以下属性\n",
    "    - data: `as_frame=True`时为`DataFrame`，否则为`ndarray`，形状为`(1797, 64)`\n",
    "    - target: `as_frame=True`时为`Series`，否则为`ndarray`，形状为`(1797,)`\n",
    "    - feature_names: 数据集特征的名称组成的列表，即`data`的列的名称\n",
    "    - target_names: 标签名称组成的列表\n",
    "    - frame: 只在`as_frame=True`时含有该属性，形状为`(1797, 65)`的含有`data`和`target`的`DataFrame`\n",
    "    - images: 形状为`(1797, 8, 8)`的原始图像数据\n",
    "    - DESCR: 对数据集的描述，字符串型\n",
    "- as_frame: 默认 False，True 时`(data, target)`会以`DataFrame`或`Series`形式返回\n",
    "\n",
    "**File**:      \\sklearn\\datasets\\_base.py\n",
    "\n",
    "**Type**:      function\n",
    "\n",
    "### Examples\n",
    "```python\n",
    "import matplotlib.pyplot as plt\n",
    "digits = datasets.load_digits(as_frame=True)\n",
    "print(digits.data.shape)  # ==> (1797, 64)\n",
    "plt.gray()\n",
    "plt.matshow(digits.images[0])\n",
    "plt.show()\n",
    "```"
   ]
  },
  {
   "cell_type": "code",
   "execution_count": 16,
   "metadata": {},
   "outputs": [
    {
     "name": "stdout",
     "output_type": "stream",
     "text": [
      "[[ 0.  0.  0. 12. 13.  5.  0.  0.]\n",
      " [ 0.  0.  0. 11. 16.  9.  0.  0.]\n",
      " [ 0.  0.  3. 15. 16.  6.  0.  0.]\n",
      " [ 0.  7. 15. 16. 16.  2.  0.  0.]\n",
      " [ 0.  0.  1. 16. 16.  3.  0.  0.]\n",
      " [ 0.  0.  1. 16. 16.  6.  0.  0.]\n",
      " [ 0.  0.  1. 16. 16.  6.  0.  0.]\n",
      " [ 0.  0.  0. 11. 16. 10.  0.  0.]]\n"
     ]
    },
    {
     "data": {
      "text/plain": [
       "<matplotlib.image.AxesImage at 0x19ae4df43d0>"
      ]
     },
     "execution_count": 16,
     "metadata": {},
     "output_type": "execute_result"
    },
    {
     "data": {
      "image/png": "[encoded data removed]",
      "text/plain": [
       "<Figure size 36x36 with 1 Axes>"
      ]
     },
     "metadata": {
      "needs_background": "light"
     },
     "output_type": "display_data"
    }
   ],
   "source": [
    "import matplotlib.pyplot as plt\n",
    "\n",
    "data, target = datasets.load_digits(return_X_y=True)\n",
    "print(data[1].reshape(8, 8))\n",
    "plt.figure(figsize=(0.5, 0.5))\n",
    "plt.imshow(data[18].reshape(8, 8), cmap=\"gray\")"
   ]
  }
 ],
 "metadata": {
  "kernelspec": {
   "display_name": "Python 3",
   "language": "python",
   "name": "python3"
  },
  "language_info": {
   "codemirror_mode": {
    "name": "ipython",
    "version": 3
   },
   "file_extension": ".py",
   "mimetype": "text/x-python",
   "name": "python",
   "nbconvert_exporter": "python",
   "pygments_lexer": "ipython3",
   "version": "3.8.6"
  }
 },
 "nbformat": 4,
 "nbformat_minor": 4
}
