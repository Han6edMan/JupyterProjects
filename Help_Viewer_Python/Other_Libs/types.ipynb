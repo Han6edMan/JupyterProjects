{
 "cells": [
  {
   "cell_type": "code",
   "execution_count": 1,
   "metadata": {},
   "outputs": [],
   "source": [
    "import types"
   ]
  },
  {
   "cell_type": "markdown",
   "metadata": {},
   "source": [
    "help(types)\n",
    "Help on module types:\n",
    "\n",
    "NAME\n",
    "    types - Define names for built-in types that aren't directly accessible as a builtin.\n",
    "\n",
    "MODULE REFERENCE\n",
    "    https://docs.python.org/3.7/library/types\n",
    "    \n",
    "\n",
    "\n",
    "**CLASSES**\n",
    "- builtins.object\n",
    "    - builtins.async_generator\n",
    "    - builtins.builtin_function_or_method\n",
    "    - builtins.classmethod_descriptor\n",
    "    - builtins.code\n",
    "    - builtins.coroutine\n",
    "    - builtins.frame\n",
    "    - builtins.function\n",
    "    - builtins.generator\n",
    "    - builtins.getset_descriptor\n",
    "    - builtins.mappingproxy\n",
    "    - builtins.member_descriptor\n",
    "    - builtins.method\n",
    "    - builtins.method-wrapper\n",
    "    - builtins.method_descriptor\n",
    "    - builtins.module\n",
    "    - builtins.traceback\n",
    "    - builtins.wrapper_descriptor\n",
    "    - DynamicClassAttribute\n",
    "    - SimpleNamespace\n",
    "    \n",
    "\n",
    "**FUNCTIONS**\n",
    "- coroutine(func)\n",
    "- new_class(name, bases=(), kwds=None, exec_body=None)\n",
    "- prepare_class(name, bases=(), kwds=None)\n",
    "- resolve_bases(bases)\n",
    "\n",
    "**FILE**： \\lib\\types.py"
   ]
  },
  {
   "cell_type": "markdown",
   "metadata": {},
   "source": [
    "# types.MappingProxyType()\n",
    "\n",
    "## types.MappingProxyType().values()\n",
    "\n",
    "`D.values()` \n",
    "\n",
    "返回 D 的值构成的列表\n",
    "\n",
    "**Type**:      method_descriptor"
   ]
  }
 ],
 "metadata": {
  "kernelspec": {
   "display_name": "Python 3",
   "language": "python",
   "name": "python3"
  },
  "language_info": {
   "codemirror_mode": {
    "name": "ipython",
    "version": 3
   },
   "file_extension": ".py",
   "mimetype": "text/x-python",
   "name": "python",
   "nbconvert_exporter": "python",
   "pygments_lexer": "ipython3",
   "version": "3.7.7"
  }
 },
 "nbformat": 4,
 "nbformat_minor": 4
}
