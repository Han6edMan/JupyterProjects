{
 "cells": [
  {
   "cell_type": "code",
   "execution_count": 1,
   "metadata": {},
   "outputs": [],
   "source": [
    "import tarfile\n",
    "import os"
   ]
  },
  {
   "cell_type": "markdown",
   "metadata": {},
   "source": [
    "# tarfile.open()\n",
    "\n",
    "```python\n",
    "open(\n",
    "    name=None,\n",
    "    mode='r',\n",
    "    fileobj=None,\n",
    "    bufsize=10240,\n",
    "    format: int,\n",
    "    tarinfo: TarInfo,\n",
    "    dereference: bool,\n",
    "    ignore_zeros: bool,\n",
    "    encoding: str,\n",
    "    errors: str,\n",
    "    pax_headers: Mapping[str, str],\n",
    "    debug: int,\n",
    "    errorlevel: int,\n",
    "    compresslevel: int\n",
    ")-> TarFile\n",
    "```\n",
    "\n",
    "**Docstring**\n",
    "\n",
    "打开一个 tar archive 以进行读取、写入或附加，并返回一个适当的 TarFile 类\n",
    "\n",
    "- `name`: 要打开的文件名或路径\n",
    "\n",
    "- `mode`:\n",
    "\n",
    "    - 'r'or'r:*': 解压并打开文件(open for reading with transparent compression)\n",
    "\n",
    "    - 'r:': 只打开文件不解压reading exclusively uncompressed\n",
    "\n",
    "    - 'r:gz': 用gzip压缩打开文件并读取\n",
    "\n",
    "    - 'r:bz2': 用bzip2压缩打开文件并读取\n",
    "\n",
    "    - 'r:xz'       open for reading with lzma compression\n",
    "    - 'a' or 'a:'  open for appending, creating the file if necessary\n",
    "    - 'w' or 'w:'  open for writing without compression\n",
    "    - 'w:gz'       open for writing with gzip compression\n",
    "    - 'w:bz2'      open for writing with bzip2 compression\n",
    "    - 'w:xz'       open for writing with lzma compression\n",
    "    - 'x' or 'x:'  create a tarfile exclusively without compression, raise an exception if the file is already created\n",
    "\n",
    "    - 'x:gz'       create a gzip compressed tarfile, raise an exception if the file is already created\n",
    "    - 'x:bz2'      create a bzip2 compressed tarfile, raise an exception if the file is already created\n",
    "    - 'x:xz'       create an lzma compressed tarfile, raise an exception if the file is already created\n",
    "    - 'r|*'        open a stream of tar blocks with transparent compression\n",
    "    - 'r|'         open an uncompressed stream of tar blocks for reading\n",
    "    - 'r|gz'       open a gzip compressed stream of tar blocks\n",
    "    - 'r|bz2'      open a bzip2 compressed stream of tar blocks\n",
    "    - 'r|xz'       open an lzma compressed stream of tar blocks\n",
    "    - 'w|'         open an uncompressed stream for writing\n",
    "    - 'w|gz'       open a gzip compressed stream for writing\n",
    "    - 'w|bz2'      open a bzip2 compressed stream for writing\n",
    "    - 'w|xz'       open an lzma compressed stream for writing\n",
    "\n",
    "- `fileobj`: \n",
    "\n",
    "- `bufsize`: 数据块的大小\n",
    "\n",
    "**Type**\n",
    "\n",
    "method"
   ]
  },
  {
   "cell_type": "code",
   "execution_count": 17,
   "metadata": {
    "scrolled": true
   },
   "outputs": [
    {
     "ename": "FileNotFoundError",
     "evalue": "[WinError 2] 系统找不到指定的文件。: 'foo'",
     "output_type": "error",
     "traceback": [
      "\u001b[1;31m---------------------------------------------------------------------------\u001b[0m",
      "\u001b[1;31mFileNotFoundError\u001b[0m                         Traceback (most recent call last)",
      "\u001b[1;32m<ipython-input-17-e5923bbea288>\u001b[0m in \u001b[0;36m<module>\u001b[1;34m\u001b[0m\n\u001b[0;32m      1\u001b[0m \u001b[1;32mwith\u001b[0m \u001b[0mtarfile\u001b[0m\u001b[1;33m.\u001b[0m\u001b[0mopen\u001b[0m\u001b[1;33m(\u001b[0m\u001b[1;34m\"./sample.tar\"\u001b[0m\u001b[1;33m,\u001b[0m \u001b[1;34m\"w\"\u001b[0m\u001b[1;33m)\u001b[0m \u001b[1;32mas\u001b[0m \u001b[0mtar\u001b[0m\u001b[1;33m:\u001b[0m\u001b[1;33m\u001b[0m\u001b[1;33m\u001b[0m\u001b[0m\n\u001b[0;32m      2\u001b[0m     \u001b[1;32mfor\u001b[0m \u001b[0mname\u001b[0m \u001b[1;32min\u001b[0m \u001b[1;33m[\u001b[0m\u001b[1;34m\"foo\"\u001b[0m\u001b[1;33m,\u001b[0m \u001b[1;34m\"bar\"\u001b[0m\u001b[1;33m,\u001b[0m \u001b[1;34m\"quux\"\u001b[0m\u001b[1;33m]\u001b[0m\u001b[1;33m:\u001b[0m\u001b[1;33m\u001b[0m\u001b[1;33m\u001b[0m\u001b[0m\n\u001b[1;32m----> 3\u001b[1;33m         \u001b[0mtar\u001b[0m\u001b[1;33m.\u001b[0m\u001b[0madd\u001b[0m\u001b[1;33m(\u001b[0m\u001b[0mname\u001b[0m\u001b[1;33m)\u001b[0m\u001b[1;33m\u001b[0m\u001b[1;33m\u001b[0m\u001b[0m\n\u001b[0m",
      "\u001b[1;32mD:\\ProgrammeFiles\\python\\Anaconda3\\envs\\tensorflow\\lib\\tarfile.py\u001b[0m in \u001b[0;36madd\u001b[1;34m(self, name, arcname, recursive, filter)\u001b[0m\n\u001b[0;32m   1924\u001b[0m \u001b[1;33m\u001b[0m\u001b[0m\n\u001b[0;32m   1925\u001b[0m         \u001b[1;31m# Create a TarInfo object from the file.\u001b[0m\u001b[1;33m\u001b[0m\u001b[1;33m\u001b[0m\u001b[1;33m\u001b[0m\u001b[0m\n\u001b[1;32m-> 1926\u001b[1;33m         \u001b[0mtarinfo\u001b[0m \u001b[1;33m=\u001b[0m \u001b[0mself\u001b[0m\u001b[1;33m.\u001b[0m\u001b[0mgettarinfo\u001b[0m\u001b[1;33m(\u001b[0m\u001b[0mname\u001b[0m\u001b[1;33m,\u001b[0m \u001b[0marcname\u001b[0m\u001b[1;33m)\u001b[0m\u001b[1;33m\u001b[0m\u001b[1;33m\u001b[0m\u001b[0m\n\u001b[0m\u001b[0;32m   1927\u001b[0m \u001b[1;33m\u001b[0m\u001b[0m\n\u001b[0;32m   1928\u001b[0m         \u001b[1;32mif\u001b[0m \u001b[0mtarinfo\u001b[0m \u001b[1;32mis\u001b[0m \u001b[1;32mNone\u001b[0m\u001b[1;33m:\u001b[0m\u001b[1;33m\u001b[0m\u001b[1;33m\u001b[0m\u001b[0m\n",
      "\u001b[1;32mD:\\ProgrammeFiles\\python\\Anaconda3\\envs\\tensorflow\\lib\\tarfile.py\u001b[0m in \u001b[0;36mgettarinfo\u001b[1;34m(self, name, arcname, fileobj)\u001b[0m\n\u001b[0;32m   1803\u001b[0m         \u001b[1;32mif\u001b[0m \u001b[0mfileobj\u001b[0m \u001b[1;32mis\u001b[0m \u001b[1;32mNone\u001b[0m\u001b[1;33m:\u001b[0m\u001b[1;33m\u001b[0m\u001b[1;33m\u001b[0m\u001b[0m\n\u001b[0;32m   1804\u001b[0m             \u001b[1;32mif\u001b[0m \u001b[0mhasattr\u001b[0m\u001b[1;33m(\u001b[0m\u001b[0mos\u001b[0m\u001b[1;33m,\u001b[0m \u001b[1;34m\"lstat\"\u001b[0m\u001b[1;33m)\u001b[0m \u001b[1;32mand\u001b[0m \u001b[1;32mnot\u001b[0m \u001b[0mself\u001b[0m\u001b[1;33m.\u001b[0m\u001b[0mdereference\u001b[0m\u001b[1;33m:\u001b[0m\u001b[1;33m\u001b[0m\u001b[1;33m\u001b[0m\u001b[0m\n\u001b[1;32m-> 1805\u001b[1;33m                 \u001b[0mstatres\u001b[0m \u001b[1;33m=\u001b[0m \u001b[0mos\u001b[0m\u001b[1;33m.\u001b[0m\u001b[0mlstat\u001b[0m\u001b[1;33m(\u001b[0m\u001b[0mname\u001b[0m\u001b[1;33m)\u001b[0m\u001b[1;33m\u001b[0m\u001b[1;33m\u001b[0m\u001b[0m\n\u001b[0m\u001b[0;32m   1806\u001b[0m             \u001b[1;32melse\u001b[0m\u001b[1;33m:\u001b[0m\u001b[1;33m\u001b[0m\u001b[1;33m\u001b[0m\u001b[0m\n\u001b[0;32m   1807\u001b[0m                 \u001b[0mstatres\u001b[0m \u001b[1;33m=\u001b[0m \u001b[0mos\u001b[0m\u001b[1;33m.\u001b[0m\u001b[0mstat\u001b[0m\u001b[1;33m(\u001b[0m\u001b[0mname\u001b[0m\u001b[1;33m)\u001b[0m\u001b[1;33m\u001b[0m\u001b[1;33m\u001b[0m\u001b[0m\n",
      "\u001b[1;31mFileNotFoundError\u001b[0m: [WinError 2] 系统找不到指定的文件。: 'foo'"
     ]
    }
   ],
   "source": [
    "with tarfile.open(\"./sample.tar\", \"w\") as tar:\n",
    "    for name in [\"foo\", \"bar\", \"quux\"]:\n",
    "        tar.add(name)"
   ]
  },
  {
   "cell_type": "markdown",
   "metadata": {},
   "source": [
    "#  "
   ]
  },
  {
   "cell_type": "markdown",
   "metadata": {},
   "source": [
    "#  "
   ]
  },
  {
   "cell_type": "markdown",
   "metadata": {},
   "source": [
    "# tarfile.TarFile.extractall()\n",
    "```python\n",
    "tarfile.TarFile.extractall(\n",
    "    path='.',\n",
    "    members=None,\n",
    "    *,\n",
    "    numeric_owner=False,\n",
    ")\n",
    "```\n",
    "\n",
    "**Docstring**\n",
    "\n",
    "将所有成员从 archive 中提取到当前工作目录或`path`目录，并设置所有者、修改时间和以后对目录的权限\n",
    "\n",
    "**Args**\n",
    "\n",
    "- `path`：将文件提取到的目录\n",
    "\n",
    "- `members`必须为`TarFile.getmembers()`返回的列表的子集\n",
    "\n",
    "- 若`numeric_owner`为真，则只使用用户/组名称的编号，而不使用用户/组的名称\n",
    "\n",
    "**Type**\n",
    "\n",
    "function"
   ]
  },
  {
   "cell_type": "code",
   "execution_count": 12,
   "metadata": {},
   "outputs": [],
   "source": [
    "tar = tarfile.open(\"./sample.tar.gz\", \"a\")\n",
    "tar.extractall()\n",
    "tar.close()"
   ]
  },
  {
   "cell_type": "markdown",
   "metadata": {},
   "source": [
    "#  "
   ]
  },
  {
   "cell_type": "markdown",
   "metadata": {},
   "source": [
    "#  "
   ]
  },
  {
   "cell_type": "markdown",
   "metadata": {},
   "source": [
    "# tarfile.TarFile.getmembers()\n",
    "\n",
    "`tarfile.TarFile.getmembers(self)`\n",
    "\n",
    "__Docstring__\n",
    "\n",
    "以TarInfo对象列表的形式返回archive文件的成员，列表的顺序与文件中成员的顺序\n",
    "\n",
    "__Type__\n",
    "\n",
    "function"
   ]
  }
 ],
 "metadata": {
  "kernelspec": {
   "display_name": "Python 3",
   "language": "python",
   "name": "python3"
  },
  "language_info": {
   "codemirror_mode": {
    "name": "ipython",
    "version": 3
   },
   "file_extension": ".py",
   "mimetype": "text/x-python",
   "name": "python",
   "nbconvert_exporter": "python",
   "pygments_lexer": "ipython3",
   "version": "3.7.7"
  }
 },
 "nbformat": 4,
 "nbformat_minor": 4
}
