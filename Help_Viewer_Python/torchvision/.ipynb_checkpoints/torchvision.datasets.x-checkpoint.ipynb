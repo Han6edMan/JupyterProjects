{
 "cells": [
  {
   "cell_type": "code",
   "execution_count": 2,
   "metadata": {},
   "outputs": [],
   "source": [
    "import torchvision.datasets as datasets"
   ]
  },
  {
   "cell_type": "markdown",
   "metadata": {},
   "source": [
    "# torchvision.datasets -- Overview\n",
    "\n",
    "**PACKAGE CONTENTS**\n",
    "caltech，celeba，cifar，cityscapes，coco，fakedata，flickr，folder，hmdb51，imagenet，kinetics，lsun，mnist，omniglot，    phototour，samplers (package)，sbd，sbu，semeion，stl10，svhn，ucf101，usps，utils，video_utils，vision，voc，\n",
    "\n",
    "**CLASSES**\n",
    "\n",
    "- torchvision.datasets.vision.VisionDataset(torch.utils.data.dataset.Dataset)\n",
    "- torchvision.datasets.caltech.Caltech101\n",
    "- torchvision.datasets.caltech.Caltech256\n",
    "- torchvision.datasets.celeba.CelebA\n",
    "- torchvision.datasets.cifar.CIFAR10\n",
    "    - torchvision.datasets.cifar.CIFAR100\n",
    "- torchvision.datasets.cityscapes.Cityscapes\n",
    "- torchvision.datasets.coco.CocoCaptions\n",
    "- torchvision.datasets.coco.CocoDetection\n",
    "- torchvision.datasets.fakedata.FakeData\n",
    "- torchvision.datasets.flickr.Flickr30k\n",
    "- torchvision.datasets.flickr.Flickr8k\n",
    "- torchvision.datasets.folder.DatasetFolder\n",
    "    - torchvision.datasets.folder.ImageFolder\n",
    "        - torchvision.datasets.imagenet.ImageNet\n",
    "- torchvision.datasets.hmdb51.HMDB51\n",
    "- torchvision.datasets.kinetics.Kinetics400\n",
    "- torchvision.datasets.lsun.LSUN\n",
    "- torchvision.datasets.lsun.LSUNClass\n",
    "- torchvision.datasets.mnist.MNIST\n",
    "    - torchvision.datasets.mnist.EMNIST\n",
    "    - torchvision.datasets.mnist.FashionMNIST\n",
    "    - torchvision.datasets.mnist.KMNIST\n",
    "    - torchvision.datasets.mnist.QMNIST\n",
    "- torchvision.datasets.omniglot.Omniglot\n",
    "- torchvision.datasets.phototour.PhotoTour\n",
    "- torchvision.datasets.sbd.SBDataset\n",
    "- torchvision.datasets.sbu.SBU\n",
    "- torchvision.datasets.semeion.SEMEION\n",
    "- torchvision.datasets.stl10.STL10\n",
    "- torchvision.datasets.svhn.SVHN\n",
    "- torchvision.datasets.ucf101.UCF101\n",
    "- torchvision.datasets.usps.USPS\n",
    "- torchvision.datasets.voc.VOCDetection\n",
    "- torchvision.datasets.voc.VOCSegmentation\n",
    "\n",
    "\n",
    "**FILE**: \\torchvision\\datasets\\\\\\_\\_init__.py\n"
   ]
  },
  {
   "cell_type": "markdown",
   "metadata": {},
   "source": [
    "# datasets.cifar.CIFAR10\n",
    "```python\n",
    "datasets.CIFAR10(\n",
    "    root,\n",
    "    train=True,\n",
    "    transform=None,\n",
    "    target_transform=None,\n",
    "    download=False,\n",
    ")\n",
    "```\n",
    "**说明**\n",
    "\n",
    "[CIFAR10数据集](https://www.cs.toronto.edu/~kriz/cifar.html)\n",
    "\n",
    "**参数**\n",
    "- root: 该数据集会被保存至`root`目录下的``cifar-10-batches-py``文件内\n",
    "- train: 默认`True`，这种情况下从训练集中创建数据，否则从测试集创建数据\n",
    "- transform (callable): 接受 PIL 图像并返回 transform 后的图像的函数(transform)，如``transforms.RandomCrop``\n",
    "- target_transform (callable): 接收真值(target)并将其进行 transform 的函数\n",
    "- download: 若为`True`，则下载数据集并保存至指定目录下，若数据集已经存在则不会执行下载操作"
   ]
  },
  {
   "cell_type": "code",
   "execution_count": 4,
   "metadata": {
    "scrolled": false
   },
   "outputs": [
    {
     "name": "stdout",
     "output_type": "stream",
     "text": [
      "Files already downloaded and verified\n"
     ]
    }
   ],
   "source": [
    "train_set = datasets.CIFAR10(root=\"D:/ProgramFiles/miniconda3/torchvision_datasets/cifar\", train=True, download=True)"
   ]
  },
  {
   "cell_type": "markdown",
   "metadata": {},
   "source": [
    "# torchvision.datasets.ImageFolder()\n",
    "```python\n",
    "torchvision.datasets.ImageFolder(\n",
    "    root,\n",
    "    transform=None,\n",
    "    target_transform=None,\n",
    "    loader=<function default_loader at 0x000001E0B2EFD5E8>,\n",
    "    is_valid_file=None,\n",
    ")\n",
    "```\n",
    "**Docstring**\n",
    "\n",
    "一个通用的数据加载器，其中的图像以以下方式进行整理：\n",
    "```bash\n",
    "root/dog/xxx.png\n",
    "root/dog/xxy.png\n",
    "root/dog/xxz.png\n",
    "\n",
    "root/cat/123.png\n",
    "root/cat/nsdf3.png\n",
    "root/cat/asd932_.png\n",
    "```\n",
    "\n",
    "**Args**\n",
    "- root: 根目录\n",
    "- transform: 一个以 PIL 图像作为输入，并返回一个变换后的图像的函数或`transform`，如``transforms.RandomCrop``\n",
    "- target_transform: 一个以 target 作为输入并对其进行变换的函数或`transform`\n",
    "- loader: 根据其路径加载图像的函数\n",
    "- is_valid_file: 一个以图像文件的路径作为输入，并检查该文件是否为有效文件的函数（该参数之前一直用于检查损坏的文件\n",
    "\n",
    "**Attributes**\n",
    "- classes: 一个按字母排序的类的名称组成的列表\n",
    "- class_to_idx: `{class_name: class_index}`形式的字典\n",
    "- imgs: `(image path, class_index)`形式的元组组成的列表\n",
    "\n",
    "**File**:  torchvision\\datasets\\folder.py\n",
    "\n",
    "**Type**:           type\n",
    "\n",
    "**Subclasses**:     ImageNet"
   ]
  },
  {
   "cell_type": "code",
   "execution_count": null,
   "metadata": {},
   "outputs": [],
   "source": [
    "torchvision.datasets.ImageFolder()"
   ]
  }
 ],
 "metadata": {
  "kernelspec": {
   "display_name": "Python 3",
   "language": "python",
   "name": "python3"
  },
  "language_info": {
   "codemirror_mode": {
    "name": "ipython",
    "version": 3
   },
   "file_extension": ".py",
   "mimetype": "text/x-python",
   "name": "python",
   "nbconvert_exporter": "python",
   "pygments_lexer": "ipython3",
   "version": "3.8.6"
  },
  "latex_envs": {
   "LaTeX_envs_menu_present": true,
   "autoclose": false,
   "autocomplete": true,
   "bibliofile": "biblio.bib",
   "cite_by": "apalike",
   "current_citInitial": 1,
   "eqLabelWithNumbers": true,
   "eqNumInitial": 1,
   "hotkeys": {
    "equation": "Ctrl-E",
    "itemize": "Ctrl-I"
   },
   "labels_anchors": false,
   "latex_user_defs": false,
   "report_style_numbering": false,
   "user_envs_cfg": false
  }
 },
 "nbformat": 4,
 "nbformat_minor": 4
}
