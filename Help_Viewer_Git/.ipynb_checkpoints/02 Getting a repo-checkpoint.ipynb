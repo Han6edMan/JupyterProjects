{
 "cells": [
  {
   "cell_type": "markdown",
   "id": "a5250093",
   "metadata": {},
   "source": [
    "# 获取 Git 仓库\n",
    "获取 Git 仓库的方式通常有 2 种\n",
    "1. 将尚未进行版本控制的本地目录转换为 Git 仓库\n",
    "2. 从其它服务器克隆一个已存在的 Git 仓库；\n",
    "\n",
    "\n",
    "\n",
    "### 1 初始化仓库\n",
    "如果你有一个尚未进行版本控制的项目，想要用 Git 来控制它，可以通过执行`git init`命令来实现。\n",
    "```bash\n",
    "git init\n",
    "Initialized empty Git repository in .../Git_Manipulation/.git/\n",
    "```\n",
    "该命令将创建一个名为`.git`的隐藏文件，该目录含有初始化的 Git 仓库中所有必须文件，这些文件是 Git 仓库的骨干；关于这些文件所包含信息的更详细介绍请参见 [Git Internals](https://git-scm.com/book/en/v2/ch00/ch10-git-internals)。至此仅进行了仓库初始化操作，项目里的文件还处于未被跟踪的状态；\n",
    "\n",
    "如果在一个非空的文件夹中进行版本控制，则需要追踪这些文件并进行初始提交，这可以通过`git add`命令来指定所要追踪的文件，然后执行`git commit`：\n",
    "```bash\n",
    "$ git add *.c\n",
    "$ git commit -m 'initial project version'\n",
    "```\n",
    "\n",
    "### 2 克隆现有的仓库\n",
    "如果希望获得一份已有的 Git 仓库拷贝，这时可以通过`git clone <url>`命令实现：\n",
    "```bash\n",
    "git clone https://github.com/TheHan6edMan/Git_Maniulation.git\n",
    "Cloning into 'Git_Maniulation'...\n",
    "remote: Enumerating objects: 3, done.\n",
    "remote: Counting objects: 100% (3/3), done.\n",
    "remote: Compressing objects: 100% (2/2), done.\n",
    "remote: Total 3 (delta 0), reused 0 (delta 0), pack-reused 0\n",
    "Unpacking objects: 100% (3/3), 614 bytes | 61.00 KiB/s, done.\n",
    "```\n",
    "这会在当前目录下创建一个`JupyterProjects`的目录，并在这个目录下初始化一个`.git`文件夹，并从远程仓库拉取下所有数据放入该文件夹内，然后从中读取最新版本的文件的拷贝；需要说明的是，Git 克隆的是该仓库服务器上的几乎所有数据，而不是单纯的复制所需要的文件；执行`git clone`命令时，默认拉取该项目中每个文件的每一个历史版本；因此即便服务器磁盘损坏，用户通常可以使用任何一个克隆下来的用户端来重建服务器上的仓库（虽然可能会丢失某些服务器端的钩子设置，但是所有版本的数据依旧可以获得，详见[Getting Git on a Server](https://git-scm.com/book/en/v2/ch00/_getting_git_on_a_server)）\n",
    "\n",
    "如果克隆仓库时希望自定义本地仓库的名字，可以通过额外的参数指定新的目录名：\n",
    "```bash\n",
    "git clone https://github.com/TheHan6edMan/Git_Maniulation.git GM\n",
    "Cloning into 'GM'...\n",
    "remote: Enumerating objects: 3, done.\n",
    "remote: Counting objects: 100% (3/3), done.\n",
    "remote: Compressing objects: 100% (2/2), done.\n",
    "remote: Total 3 (delta 0), reused 0 (delta 0), pack-reused 0\n",
    "Unpacking objects: 100% (3/3), 614 bytes | 47.00 KiB/s, done.\n",
    "```\n",
    "Git 支持多种数据传输协议，除了上面所使用的`https://`协议外，也可以使用`git://`协议或者使用 SSH 传输协议，比如`user@server:path/to/repo.git`；关于这些协议在服务器端如何配置使用，以及各种方式之间的利弊，可参见[Getting Git on a Server](https://git-scm.com/book/en/v2/ch00/_getting_git_on_a_server)"
   ]
  }
 ],
 "metadata": {
  "kernelspec": {
   "display_name": "Python 3",
   "language": "python",
   "name": "python3"
  },
  "language_info": {
   "codemirror_mode": {
    "name": "ipython",
    "version": 3
   },
   "file_extension": ".py",
   "mimetype": "text/x-python",
   "name": "python",
   "nbconvert_exporter": "python",
   "pygments_lexer": "ipython3",
   "version": "3.8.5"
  }
 },
 "nbformat": 4,
 "nbformat_minor": 5
}
