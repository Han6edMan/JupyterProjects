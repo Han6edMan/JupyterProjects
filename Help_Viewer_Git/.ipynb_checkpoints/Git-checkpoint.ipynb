{
 "cells": [
  {
   "cell_type": "markdown",
   "metadata": {},
   "source": [
    "## Overview\n",
    "```bash\n",
    "git [--version] [--help] [-C <path>] [-c <name>=<value>]\n",
    "    [--exec-path[=<path>]] [--html-path] [--man-path] [--info-path]\n",
    "    [-p | --paginate | -P | --no-pager] [--no-replace-objects] [--bare]\n",
    "    [--git-dir=<path>] [--work-tree=<path>] [--namespace=<name>]\n",
    "    <command> [<args>]\n",
    "```\n",
    "\n",
    "更多详细教程可运行`git help tutorial`、`git help everyday`；以下是一些常见的 Git 命令：\n",
    "\n",
    "**创建工作区：**\n",
    "- clone：将一个储存库克隆至一个新的目录下，同时保留对该目录下的追踪（直接下载该储存库时不对下载后的文件进行追踪）\n",
    "- init：创建一个空的 Git 仓库或对一个已存在的仓库重新初始化；\n",
    "\n",
    "**处理文件更改：**\n",
    "- add：将文件内容添加到 index 中\n",
    "- mv：对一个文件、目录或符号链接 (symlink) 进行移动或重名\n",
    "- restore           Restore working tree files\n",
    "- rm                Remove files from the working tree and from the index\n",
    "- sparse-checkout   Initialize and modify the sparse-checkout"
   ]
  },
  {
   "cell_type": "markdown",
   "metadata": {},
   "source": [
    "examine the history and state (see also: git help revisions)\n",
    "\n",
    "    bisect            Use binary search to find the commit that introduced a bug\n",
    "    diff              Show changes between commits, commit and working tree, etc\n",
    "    grep              Print lines matching a pattern\n",
    "    log               Show commit logs\n",
    "    show              Show various types of objects\n",
    "    status            Show the working tree status\n",
    "\n",
    "grow, mark and tweak your common history\n",
    "\n",
    "    branch            List, create, or delete branches\n",
    "    commit            Record changes to the repository\n",
    "    merge             Join two or more development histories together\n",
    "    rebase            Reapply commits on top of another base tip\n",
    "    reset             Reset current HEAD to the specified state\n",
    "    switch            Switch branches\n",
    "    tag               Create, list, delete or verify a tag object signed with GPG\n",
    "\n",
    "collaborate (see also: git help workflows)\n",
    "\n",
    "    fetch             Download objects and refs from another repository\n",
    "    pull              Fetch from and integrate with another repository or a local branch\n",
    "    push              Update remote refs along with associated objects\n",
    "\n",
    "'git help -a' and 'git help -g' list available subcommands and some\n",
    "concept guides. See 'git help <command>' or 'git help <concept>'\n",
    "to read about a specific subcommand or concept.\n",
    "See 'git help git' for an overview of the system."
   ]
  }
 ],
 "metadata": {
  "kernelspec": {
   "display_name": "Python 3",
   "language": "python",
   "name": "python3"
  },
  "language_info": {
   "codemirror_mode": {
    "name": "ipython",
    "version": 3
   },
   "file_extension": ".py",
   "mimetype": "text/x-python",
   "name": "python",
   "nbconvert_exporter": "python",
   "pygments_lexer": "ipython3",
   "version": "3.8.5"
  }
 },
 "nbformat": 4,
 "nbformat_minor": 4
}
