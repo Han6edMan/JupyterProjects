{
 "cells": [
  {
   "cell_type": "markdown",
   "id": "6d7f81dd",
   "metadata": {},
   "source": [
    "\n",
    "## 利用域名解析提高访问速度\n",
    "\n",
    "1. 首先打开[域名解析网址](https://www.ipaddress.com/)\n",
    "2. 分别搜索以下 3 个域名：\n",
    "\n",
    "    - `github.com`，记录下 “IP Address” 一栏的 ip 地址，例如 “140.82.113.4”\n",
    "    - `assets-cdn.github.com`，记录下 “assets-cdn.github.com resolves to 4 IPv4 addresses and 4 IPv6 addresses” 一句话下面形如 “185.199.108.153” 的ip 地址\n",
    "    - `github.global.ssl.fastly.net`，记录下 “IP Address” 一栏的 ip 地址，例如 “199.232.69.194”\n",
    "    - **!!! 注意，这 3 个 ip 地址不同的电脑搜索结果是不一样的，所以一定要自己去搜！**\n",
    "\n",
    "3. 配置静态域名映射：以 Windows 操作系统为例，在`C:\\Windows\\System32\\drivers\\etc\\hosts`文件里加上之前查到的域名映射：\n",
    "\n",
    "    ```txt\n",
    "    # github\n",
    "    140.82.113.4 github.com\n",
    "    185.199.108.153 assets-cdn.github.com\n",
    "    199.232.69.194 github.global.ssl.fastly.net\n",
    "    ```\n",
    "    \n",
    "    注意该文件需要管理员权限才能编辑，所以建议使用 vscode 打开，或上网搜索解决办法。\n",
    "4. 刷新 DNS 缓存：打开 cmd，执行`ipconfig /flushdns`命令即可"
   ]
  }
 ],
 "metadata": {
  "kernelspec": {
   "display_name": "Python 3",
   "language": "python",
   "name": "python3"
  },
  "language_info": {
   "codemirror_mode": {
    "name": "ipython",
    "version": 3
   },
   "file_extension": ".py",
   "mimetype": "text/x-python",
   "name": "python",
   "nbconvert_exporter": "python",
   "pygments_lexer": "ipython3",
   "version": "3.8.5"
  }
 },
 "nbformat": 4,
 "nbformat_minor": 5
}
