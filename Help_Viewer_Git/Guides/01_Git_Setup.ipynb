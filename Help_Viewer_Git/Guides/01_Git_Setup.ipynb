{
 "cells": [
  {
   "cell_type": "markdown",
   "id": "add0b5a7",
   "metadata": {},
   "source": [
    "# Git 配置\n",
    "Git 的`git config`命令可以用来设置那些定义了 Git 外观和行为的变量。这些变量通常会存储在计算机中的 3 个位置：\n",
    "\n",
    "1. Git 的安装目录下的`/etc/gitconfig` 文件: 该文件包含系统上每一个用户及他们仓库的通用配置。执行`git config --system`时会读写该文件中的配置变量；由于它是系统配置文件，因此需要管理员或超级用户权限才能对其进行修改；\n",
    "2. `~/.gitconfig` 或 `~/.config/git/config` 文件：这些文件里的配置只对当前用户有效；在终端里执行 `git config --global` 时会读写此文件，且所定义的配置对系统上所有仓库生效；\n",
    "3. 当前仓库的`.git/config`文件：该文件里的变量值只对该仓库有效；在终端里执行 `git config --local`来读写此文件，当然`--local`也是默认参数；\n",
    "\n",
    "在这三个级别中，下面的级别会覆盖上面的级别。Windows 系统中，Git 会查找`~/.gitconfig`文件；同样 Git 也会寻找 `/etc/gitconfig` 文件，但只限于 MSys 的根目录下，即安装 Git 时所选的目标位置；如果所使用 Git 是 2.x 及以上的版本，那么在`C:/ProgramData/Git/config`中还有一个系统级的配置文件，该文件只能以管理员权限通过`git config -f <file>`来修改。"
   ]
  },
  {
   "cell_type": "markdown",
   "id": "4ddeda24",
   "metadata": {
    "raw_mimetype": "text/markdown",
    "slideshow": {
     "slide_type": "fragment"
    }
   },
   "source": [
    "## 1 设置用户名\n",
    "\n",
    "Git 通过用户名将每次的提交与提交者身份进行关联。Git 用户名可以与 GitHub 用户名不同，使用`git config user.name <name>`命令便可以更改与 Git 提交相关联的名称，通过传递`--global`或`--local`参数可以控制所设置内容的生效范围。\n",
    "\n",
    "注意，修改用户名只对之后的提交生效，不会更改之前提交时所使用的用户名。\n",
    "\n",
    "下面是一个设置局部用户名的示例（不建议运行，因为每运行一次就重复设置一次，而你不知道哪次就会修改出问题了）："
   ]
  },
  {
   "cell_type": "code",
   "execution_count": null,
   "id": "cf4e12f4",
   "metadata": {},
   "outputs": [],
   "source": [
    "#! git config --local user.name \"TheHan6edMan\""
   ]
  },
  {
   "cell_type": "markdown",
   "id": "4dbffa43",
   "metadata": {},
   "source": [
    "## 2 设置关联邮箱（TODO）\n",
    "- GitHub 通过提交邮箱将提交与 GitHub 帐户关联，以确保每个提交归因于相应账户，并且相应账户出现在贡献者名单中。用户可以选择与从命令行推送时相关联的邮箱地址，也可以选择基于 web 的 Git 操作相关联的邮箱地址，这两个可以分别在 Git 和 Github 中设置。在更改提交电子邮件地址之前进行的提交仍与之前的电子邮件地址关联。\n",
    "- 设置全局 email 地址\n",
    "```bash\n",
    "$ git config --global user.email \"email@example.com\"\n",
    "# check if is changed\n",
    "$ git config --global user.email\n",
    "email@example.com\n",
    "```\n",
    "- 为某个仓库设置 email 地址\n",
    "```bash\n",
    "$ git config user.email \"email@example.com\"\n",
    "# check if is changed\n",
    "$ git config user.email\n",
    "email@example.com\n",
    "```\n",
    "\n",
    "如果希望对个人电子邮件地址保密，请参阅[Blocking command line pushes that expose your personal email](https://docs.github.com/en/articles/blocking-command-line-pushes-that-expose-your-personal-email-address)"
   ]
  },
  {
   "cell_type": "markdown",
   "id": "3aa870c4",
   "metadata": {},
   "source": [
    "## 3 设置文本编辑器（TODO）\n",
    "\n",
    "Git 会在需要用户输入信息时（如提交信息）调用文本编辑器，它默认使用操作系统的默认文本编辑器。在 Windows 系统上，如果想要使用别的文本编辑器，那么必须指定可执行文件的完整路径，它可能随编辑器的打包方式而不同。\n",
    "\n",
    "对于 Notepad++，则需要使用 32 位的版本，因为在本书编写时 64 位的版本尚不支持所有的插件；如果你在使用 32 位的 Windows 系统，或在 64 位系统上使用 64 位的编辑器，那么你需要输入如下命令：\n",
    "\n",
    "```bash\n",
    "git config --global core.editor \"'C:/Program Files/Notepad++/notepad++.exe' -multiInst -notabbar -nosession -noPlugin\"\n",
    "```\n",
    "\n",
    "需要注意的是，通常程序员们会在 Linux 和 macOS 这类基于 Unix 的系统或 Windows 系统上使用 Vim、Emacs 和 Notepad++ 等文本编辑器，如果使用其他的或 32 位版本的编辑器，请输入`git config core.editor`中查看具体步骤；"
   ]
  },
  {
   "cell_type": "markdown",
   "id": "92ff2427",
   "metadata": {},
   "source": [
    "## 4 检查配置信息\n",
    "\n",
    "利用`git config <key>`可以查看 Git 的某一项配置，例如"
   ]
  },
  {
   "cell_type": "code",
   "execution_count": null,
   "id": "38719457",
   "metadata": {},
   "outputs": [],
   "source": [
    "! git config --local user.name\n",
    "! git config --global user.email"
   ]
  },
  {
   "cell_type": "markdown",
   "id": "052d586d",
   "metadata": {},
   "source": [
    "传递`--list`参数可以返回所有 Git 能搜索到的配置。在运行结果中可能会出现重复的变量名，这是因为 Git 会从不同文件中读取同一个配置，例如`/etc/gitconfig` 与 `~/.gitconfig`："
   ]
  },
  {
   "cell_type": "code",
   "execution_count": null,
   "id": "8193fb86",
   "metadata": {},
   "outputs": [],
   "source": [
    "! git config --list"
   ]
  },
  {
   "cell_type": "markdown",
   "id": "2ecf9ac7",
   "metadata": {},
   "source": [
    "如第一小节所述，各文件的配置之间存在级别覆盖关系，因此如果你发现某个变量和预期设置的不同，可以通过传递参数`--show-origin <key>`来查询哪个文件最后设定了所显示的值："
   ]
  },
  {
   "cell_type": "code",
   "execution_count": 11,
   "id": "a17b0c90",
   "metadata": {},
   "outputs": [
    {
     "name": "stdout",
     "output_type": "stream",
     "text": [
      "file:.git/config\tTheHan6edMan\n"
     ]
    }
   ],
   "source": [
    "! git config --show-origin user.name"
   ]
  },
  {
   "cell_type": "markdown",
   "id": "ff9bd757",
   "metadata": {},
   "source": [
    "传递`--list --show-origin`参数可以查看所有配置以及其所在文件。例如下面的示例："
   ]
  },
  {
   "cell_type": "code",
   "execution_count": 1,
   "id": "f8691ea0",
   "metadata": {
    "collapsed": true
   },
   "outputs": [
    {
     "name": "stdout",
     "output_type": "stream",
     "text": [
      "file:D:/ProgramFiles/Git/etc/gitconfig\tdiff.astextplain.textconv=astextplain\n",
      "file:D:/ProgramFiles/Git/etc/gitconfig\tfilter.lfs.clean=git-lfs clean -- %f\n",
      "file:D:/ProgramFiles/Git/etc/gitconfig\tfilter.lfs.smudge=git-lfs smudge -- %f\n",
      "file:D:/ProgramFiles/Git/etc/gitconfig\tfilter.lfs.process=git-lfs filter-process\n",
      "file:D:/ProgramFiles/Git/etc/gitconfig\tfilter.lfs.required=true\n",
      "file:D:/ProgramFiles/Git/etc/gitconfig\thttp.sslbackend=openssl\n",
      "file:D:/ProgramFiles/Git/etc/gitconfig\thttp.sslcainfo=D:/ProgramFiles/Git/mingw64/ssl/certs/ca-bundle.crt\n",
      "file:D:/ProgramFiles/Git/etc/gitconfig\tcore.autocrlf=true\n",
      "file:D:/ProgramFiles/Git/etc/gitconfig\tcore.fscache=true\n",
      "file:D:/ProgramFiles/Git/etc/gitconfig\tcore.symlinks=true\n",
      "file:D:/ProgramFiles/Git/etc/gitconfig\tpull.rebase=false\n",
      "file:D:/ProgramFiles/Git/etc/gitconfig\tcredential.helper=manager\n",
      "file:C:/Users/11483/.gitconfig\thttp.postbuffer=1048576000\n",
      "file:C:/Users/11483/.gitconfig\tuser.name=TheHan6edMan\n",
      "file:C:/Users/11483/.gitconfig\tuser.email=xanielw@163.com\n",
      "file:C:/Users/11483/.gitconfig\tcredential.helper=store\n",
      "file:C:/Users/11483/.gitconfig\tinit.defaultbranch=master\n",
      "file:.git/config\tcore.repositoryformatversion=0\n",
      "file:.git/config\tcore.filemode=false\n",
      "file:.git/config\tcore.bare=false\n",
      "file:.git/config\tcore.logallrefupdates=true\n",
      "file:.git/config\tcore.symlinks=false\n",
      "file:.git/config\tcore.ignorecase=true\n",
      "file:.git/config\tremote.origin.url=git@github.com:Han6edMan/JupyterProjects.git\n",
      "file:.git/config\tremote.origin.fetch=+refs/heads/*:refs/remotes/origin/*\n",
      "file:.git/config\tuser.name=Han6edMan\n",
      "file:.git/config\tuser.name=TheHan6edMan\n"
     ]
    }
   ],
   "source": [
    "! git config --list --show-origin"
   ]
  }
 ],
 "metadata": {
  "celltoolbar": "原始单元格格式",
  "kernelspec": {
   "display_name": "Python 3",
   "language": "python",
   "name": "python3"
  },
  "language_info": {
   "codemirror_mode": {
    "name": "ipython",
    "version": 3
   },
   "file_extension": ".py",
   "mimetype": "text/x-python",
   "name": "python",
   "nbconvert_exporter": "python",
   "pygments_lexer": "ipython3",
   "version": "3.8.5"
  }
 },
 "nbformat": 4,
 "nbformat_minor": 5
}
