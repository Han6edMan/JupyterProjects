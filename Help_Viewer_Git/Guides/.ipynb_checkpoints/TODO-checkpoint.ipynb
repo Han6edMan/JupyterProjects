{
 "cells": [
  {
   "cell_type": "markdown",
   "id": "b7ddc98d",
   "metadata": {},
   "source": [
    "# [标注](https://git-scm.com/book/en/v2/Git-Basics-Tagging)\n",
    "# [给命令定义别名](https://git-scm.com/book/en/v2/Git-Basics-Git-Aliases)"
   ]
  }
 ],
 "metadata": {
  "kernelspec": {
   "display_name": "Python 3",
   "language": "python",
   "name": "python3"
  },
  "language_info": {
   "codemirror_mode": {
    "name": "ipython",
    "version": 3
   },
   "file_extension": ".py",
   "mimetype": "text/x-python",
   "name": "python",
   "nbconvert_exporter": "python",
   "pygments_lexer": "ipython3",
   "version": "3.8.5"
  }
 },
 "nbformat": 4,
 "nbformat_minor": 5
}
