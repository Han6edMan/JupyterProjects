{
 "cells": [
  {
   "cell_type": "markdown",
   "id": "ad9a478a",
   "metadata": {},
   "source": [
    "\n",
    "# 远程仓库的使用\n",
    "\n",
    "远程仓库的管理包括推送、拉取数据，查看、添加远程仓库，移除失效仓库，管理远程分支，以及定义是否追踪这些分支等等。\n",
    "\n",
    "\n",
    "## 1. 查看远程仓库\n",
    "\n",
    "运行`git remote`命令可以查看本地配置的远程服务器，返回结果包含你为每个远程服务器指定的简写。如果该仓库是自己的仓库，那么返回结果会至少含有`origin`项——这是用 Git 克隆仓库时默认的名称。此外，传递参数`-v`还可以查看每个简写名称所对应的 URL。"
   ]
  },
  {
   "cell_type": "code",
   "execution_count": 1,
   "id": "6c0a68cf",
   "metadata": {},
   "outputs": [
    {
     "name": "stdout",
     "output_type": "stream",
     "text": [
      "origin\n",
      "origin\tgit@github.com:Han6edMan/JupyterProjects.git (fetch)\n",
      "origin\tgit@github.com:Han6edMan/JupyterProjects.git (push)\n"
     ]
    }
   ],
   "source": [
    "! git remote\n",
    "! git remote -v"
   ]
  },
  {
   "cell_type": "markdown",
   "id": "59c5af5f",
   "metadata": {},
   "source": [
    "对于远程仓库不止一个的情况，例如多个合作者共同参与协作的仓库，运行该命令会显示像下面这样的结果：\n",
    "```bash\n",
    "bakkdoor  https://github.com/bakkdoor/grit (fetch)\n",
    "bakkdoor  https://github.com/bakkdoor/grit (push)\n",
    "cho45     https://github.com/cho45/grit (fetch)\n",
    "cho45     https://github.com/cho45/grit (push)\n",
    "defunkt   https://github.com/defunkt/grit (fetch)\n",
    "defunkt   https://github.com/defunkt/grit (push)\n",
    "koke      git://github.com/koke/grit.git (fetch)\n",
    "koke      git://github.com/koke/grit.git (push)\n",
    "origin    git@github.com:mojombo/grit.git (fetch)\n",
    "origin    git@github.com:mojombo/grit.git (push)\n",
    "```\n",
    "\n",
    "这意味着我们可以随时拉取其它用户所提交的结果，同时也拥有向他们推送的权限，有关这部分可参见下一章 [06_Git_Branching](./06_Git_Branching.ipynb)\n",
    "\n",
    "需要注意的是，这些远程仓库使用了不同的协议（protocols），更多相关信息可以参见 ProGit 的 [Getting Git on a Server](https://git-scm.com/book/en/v2/ch00/_getting_git_on_a_server)\n",
    "\n",
    "利用`git remote show <remote>`可以查看更多有关远程仓库的信息，例如"
   ]
  },
  {
   "cell_type": "code",
   "execution_count": 2,
   "id": "870a82f1",
   "metadata": {
    "collapsed": true
   },
   "outputs": [
    {
     "name": "stdout",
     "output_type": "stream",
     "text": [
      "* remote origin\n",
      "  Fetch URL: git@github.com:Han6edMan/JupyterProjects.git\n",
      "  Push  URL: git@github.com:Han6edMan/JupyterProjects.git\n",
      "  HEAD branch: master\n",
      "  Remote branch:\n",
      "    master tracked\n",
      "  Local ref configured for 'git push':\n",
      "    master pushes to master (up to date)\n"
     ]
    }
   ],
   "source": [
    "! git remote show origin"
   ]
  },
  {
   "cell_type": "markdown",
   "id": "d20b9882",
   "metadata": {},
   "source": [
    "可以看出，输出包括了远程仓库的 URL 与跟踪分支的信息，这些信息表明当前处于 master 分支，并且运行`git pull`可以抓取所有的远程引用，并将远程`master`分支合并到本地`master`分支。\n",
    "\n",
    "如果你是 Git 的重度使用者，那么通过`git remote show`可以看到更多的信息：\n",
    "```bash\n",
    "git remote show origin\n",
    "* remote origin\n",
    "  URL: https://github.com/my-org/complex-project\n",
    "  Fetch URL: https://github.com/my-org/complex-project\n",
    "  Push  URL: https://github.com/my-org/complex-project\n",
    "  HEAD branch: master\n",
    "  Remote branches:\n",
    "    master                tracked\n",
    "    dev-branch            tracked\n",
    "    markdown-strip        tracked\n",
    "    issue-43              new (next fetch will store in remotes/origin)\n",
    "    issue-45              new (next fetch will store in remotes/origin)\n",
    "    refs/remotes/origin/issue-11    stale (use 'git remote prune' to remove)\n",
    "  Local branches configured for 'git pull':\n",
    "    dev-branch merges with remote dev-branch\n",
    "    master     merges with remote master\n",
    "  Local refs configured for 'git push':\n",
    "    dev-branch            pushes to dev-branch       (up to date)\n",
    "    markdown-strip        pushes to markdown-strip   (up to date)\n",
    "    master                pushes to master           (up to date)\n",
    "```\n",
    "该命令列出了当你在特定的分支上执行`git push`时会自动地推送到哪一个远程分支，以及哪些远程分支不在本地，哪些远程分支已经从服务器上移除了，还有执行`git pull`时哪些本地分支可以与它跟踪的远程分支自动合并"
   ]
  },
  {
   "cell_type": "markdown",
   "id": "265b0f50",
   "metadata": {},
   "source": [
    "## 2. 添加远程仓库\n",
    "\n",
    "第二节曾展示了如何利用`git clone`来隐式地添加`origin`仓库，这里将再介绍一种显式的方法，运行`git remote add <shortname> <url>`即可添加一个简写名为`<shortname>`的远程仓库：\n",
    "```bash\n",
    "$ git remote add pb https://github.com/paulboone/ticgit\n",
    "$ git remote -v\n",
    "origin\thttps://github.com/schacon/ticgit (fetch)\n",
    "origin\thttps://github.com/schacon/ticgit (push)\n",
    "pb\thttps://github.com/paulboone/ticgit (fetch)\n",
    "pb\thttps://github.com/paulboone/ticgit (push)\n",
    "```\n",
    "\n",
    "现在你可以在命令行中用字符串`pb`来代替 URL，例如命令`git fetch pb`会从 Paul 的仓库拉取数据，运行结果为：\n",
    "```bash\n",
    "remote: Counting objects: 43, done.\n",
    "remote: Compressing objects: 100% (36/36), done.\n",
    "remote: Total 43 (delta 10), reused 31 (delta 5)\n",
    "Unpacking objects: 100% (43/43), done.\n",
    "From https://github.com/paulboone/ticgit\n",
    " * [new branch]      master     -> pb/master\n",
    " * [new branch]      ticgit     -> pb/ticgit\n",
    "```\n",
    "\n",
    "这样一来，你便可以通过本地的`pb/master`访问到 Paul 的`master`分支，并根据需要将其合并到自己的某个分支中，或是 check out 出一个向该点的本地分支来对其进行查看。更多有关分支的内容可以参见下一章 [06_Git_Branching](./06_Git_Branching.ipynb)"
   ]
  },
  {
   "cell_type": "markdown",
   "id": "d97ebc8c",
   "metadata": {},
   "source": [
    "\n",
    "## 3. 抓取和拉取\n",
    "\n",
    "`git fetch <remote>`可以从远程仓库抓取本地仓库所不包含的数据，但该命令不会自动合并或修改当前的工作，因此需要用户自己合并，合并方式与合并本地分支相同，例如`git merge origin/master`、`git rebase origin/master`、`git cherry-pick origin/master`等等。\n",
    "\n",
    "如果当前分支设置了追踪某一远程分支（即当前所处分支是追踪分支，参见下一章 [06_Git_Branching](./06_Git_Branching.ipynb)），此时可以用`git pull`来对其进行抓取（fetch）并合并到当前分支——`git pull`通常的含义是`git fetch`+`git merge`。默认情况下，`git clone`命令会自动设置本地`master`分支去追踪远程仓库的`master`分支，此时直接运行`git pull`就可以从最初克隆的服务器上抓取数据并自动尝试合并到当前所在的分支。然而由于`git pull`运行结果经常不尽人意，因此建议单独调用`fetch`和`merge`会更好一些。\n",
    "\n",
    "此外，从 Git 2.27 版本开始，在没有设置`pull.rebase`变量的情况下执行`git pull`命令发出警告。如果需要 git 每次执行默认操作，即如果可能的话使用 fast-forward 的合并机制（参见下一章 [06_Git_Branching](./06_Git_Branching.ipynb)），否则创建一个合并提交，可以运行`git config --global pull.rebase \"false\"`；如果需要在拉取时进行变基，可以执行`git config --global pull.rebase \"true\"`\n"
   ]
  },
  {
   "cell_type": "markdown",
   "id": "ccd3f359",
   "metadata": {},
   "source": [
    "## 4. 推送\n",
    "\n",
    "执行`git push <remote> <branch>`便可以将项目推送至远程仓库，这里`<remote>`指推送到的**远程服务器的名称**，`<branch>`指本地要被推送的**分支的名称**，最初克隆时 Git 默认设置好这两个名字。下面是将`master`分支推送到`origin`服务器上的示例：\n",
    "\n",
    "\n",
    "<img src=\"./img/git_push.png\" width=400>\n",
    "\n",
    "\n",
    "需要说明的是，如果你和其他人共同编辑一个项目，而在你推送之前他们已经进行过一次推送，你需要先将他们推送的内容合并到你自己的工作，才能进行你自己的推送操作。\n",
    "\n",
    "更多有关推送到远程仓库服务器的详细信息可参见下一章 [06_Git Branching](./06_Git_Branching.ipynb)"
   ]
  },
  {
   "cell_type": "markdown",
   "id": "28778508",
   "metadata": {},
   "source": [
    "## 5. 远程仓库的重命名与移除\n",
    "运行`git remote rename`可以修改远程仓库的简写名，例如将`pb`重命名为`paul`：\n",
    "```bash\n",
    "git remote rename pb paul\n",
    "git remote\n",
    "origin\n",
    "paul\n",
    "```\n",
    "需要注意的是，这同样会修改你所有远程跟踪的分支名字，那些过去引用`pb/master`的分支现在会引用`paul/master`；\n",
    "\n",
    "如果因为一些原因想要移除一个远程仓库——例如你从服务器上搬走了，或不再使用某个镜像了，又或某合作者推出了，运行`git remote remove`或`git remote rm`即可。请注意，这种方式删除远程仓库会使得所有和这个远程仓库相关的远程跟踪分支以及配置信息也会一起被删除。\n",
    "```bash\n",
    "git remote remove paul\n",
    "```"
   ]
  }
 ],
 "metadata": {
  "kernelspec": {
   "display_name": "Python 3",
   "language": "python",
   "name": "python3"
  },
  "language_info": {
   "codemirror_mode": {
    "name": "ipython",
    "version": 3
   },
   "file_extension": ".py",
   "mimetype": "text/x-python",
   "name": "python",
   "nbconvert_exporter": "python",
   "pygments_lexer": "ipython3",
   "version": "3.8.5"
  }
 },
 "nbformat": 4,
 "nbformat_minor": 5
}
