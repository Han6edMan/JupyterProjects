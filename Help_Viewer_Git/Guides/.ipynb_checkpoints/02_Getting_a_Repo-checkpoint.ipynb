{
 "cells": [
  {
   "cell_type": "markdown",
   "id": "93b254fc",
   "metadata": {},
   "source": [
    "# 获取仓库及数据\n",
    "\n",
    "新建本地仓库的方式有初始化和克隆\n",
    "\n",
    "## 1. 初始化仓库\n",
    "如果你有一个尚未进行版本控制的项目，可以执行`git init`来对其进行版本控制。"
   ]
  },
  {
   "cell_type": "code",
   "execution_count": null,
   "id": "9d38c835",
   "metadata": {
    "scrolled": false
   },
   "outputs": [],
   "source": [
    "! git init"
   ]
  },
  {
   "cell_type": "markdown",
   "id": "9682fb7a",
   "metadata": {},
   "source": [
    "运行该命令会在当前目录下创建一个名为`.git`的隐藏文件，该文件含有初始化的 Git 仓库中所有必须文件，这些文件是 Git 仓库的骨干；关于这些文件所包含信息的更详细介绍请参见 [Git Internals](https://git-scm.com/book/en/v2/ch00/ch10-git-internals)"
   ]
  },
  {
   "cell_type": "markdown",
   "id": "a5250093",
   "metadata": {},
   "source": [
    "## 2. 克隆现有的仓库\n",
    "如果希望将已创建的 Git 仓库复制到本地，可以通过`git clone <url>`命令实现\n",
    "```bash\n",
    "git clone https://github.com/libgit2/libgit2\n",
    "```\n",
    "该命令会在当前文件夹目录下创建一个名为`libgit2`的目录，并在这个目录下创建`.git`文件夹，从远程仓库拉取下所有数据都会先放入`.git`文件夹内，然后再从中读取最新版文件的拷贝。\n",
    "\n",
    "如果希望自定义本地仓库的名称（即上面的`libgit2`），可以通过额外的参数进行指定，例如：\n",
    "```bash\n",
    "git clone https://github.com/libgit2/libgit2 mylibgit\n",
    "```\n",
    "Git 支持多种数据传输协议，除了上面所使用的`https://`协议外，也可以使用`git://`协议或者使用 SSH 传输协议，比如`user@server:path/to/repo.git`；关于这些协议在服务器端如何配置使用，以及各种方式之间的利弊，可参见[Getting Git on a Server](https://git-scm.com/book/en/v2/ch00/_getting_git_on_a_server)\n",
    "\n",
    "与其他版本控制系统 (Version Control Systems, VCS) 不同，Git 的一个重要特性是，其克隆的是仓库中几乎所有的数据，而非单纯的复制所需的文件——执行`git clone`命令时，默认情况下会拉取该项目中每个文件的每一个历史版本，因此即便服务器磁盘损坏，用户通常可以使用任何一个本地用户端来重建服务器上的仓库（虽然可能会丢失某些服务器端的钩子设置，但是所有版本的数据依旧可以获得，详见[Getting Git on a Server](https://git-scm.com/book/en/v2/ch00/_getting_git_on_a_server)）"
   ]
  }
 ],
 "metadata": {
  "kernelspec": {
   "display_name": "Python 3",
   "language": "python",
   "name": "python3"
  },
  "language_info": {
   "codemirror_mode": {
    "name": "ipython",
    "version": 3
   },
   "file_extension": ".py",
   "mimetype": "text/x-python",
   "name": "python",
   "nbconvert_exporter": "python",
   "pygments_lexer": "ipython3",
   "version": "3.8.5"
  }
 },
 "nbformat": 4,
 "nbformat_minor": 5
}
