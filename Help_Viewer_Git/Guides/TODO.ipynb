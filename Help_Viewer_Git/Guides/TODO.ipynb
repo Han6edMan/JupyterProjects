{
 "cells": [
  {
   "cell_type": "markdown",
   "id": "b7ddc98d",
   "metadata": {},
   "source": [
    "# [标注](https://git-scm.com/book/en/v2/Git-Basics-Tagging)\n",
    "# [给命令定义别名](https://git-scm.com/book/en/v2/Git-Basics-Git-Aliases)"
   ]
  },
  {
   "cell_type": "markdown",
   "id": "bc17256b",
   "metadata": {},
   "source": [
    "## 生成 SSH 公钥\n",
    "\n",
    "git 在使用 https 协议时，每次 pull, push 都要输入账号密码，而使用 ssh 秘钥便可以省去这一过程。\n",
    "\n",
    "需要说明的是，一台设备对应一个公钥，所以 git 服务器上可以同时添加多个公钥；而如果一台设备重新设置了公钥，需要将github和码云上的公钥一并更新。\n",
    "\n",
    "下面以 win10 系统为例进行演示：\n",
    "1. 利用`ssh-keygen -t rsa`设置，期间可能会提示输入密码等，直接键入`Enter`键不设置也可以；创建后出现下述图片便表示已经生成了\n",
    "![](https://upload-images.jianshu.io/upload_images/15918425-d64b99c8f7e2e688.png?imageMogr2/auto-orient/strip|imageView2/2/w/550/format/webp)\n",
    "2. 找到上面方框里的文件并打开，复制里面的全部内容\n",
    "3. 进入 github 的设置页面，点击 SSH and GPG keys 一栏\n",
    "4. 点击 New SSH key 创建新的 ssh 公钥，其中 Title 根据个人需求设置即可，在 Key 一栏中粘贴刚才复制到公钥，再点击添加即可，添加公钥可能需要重新输入账号的密码\n",
    "\n",
    "\n",
    "\n"
   ]
  }
 ],
 "metadata": {
  "kernelspec": {
   "display_name": "Python 3",
   "language": "python",
   "name": "python3"
  },
  "language_info": {
   "codemirror_mode": {
    "name": "ipython",
    "version": 3
   },
   "file_extension": ".py",
   "mimetype": "text/x-python",
   "name": "python",
   "nbconvert_exporter": "python",
   "pygments_lexer": "ipython3",
   "version": "3.8.5"
  }
 },
 "nbformat": 4,
 "nbformat_minor": 5
}
