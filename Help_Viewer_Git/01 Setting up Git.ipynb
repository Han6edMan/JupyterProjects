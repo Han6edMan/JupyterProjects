{
 "cells": [
  {
   "cell_type": "markdown",
   "id": "add0b5a7",
   "metadata": {},
   "source": [
    "# Git 配置\n",
    "Git 的`git config`命令可以用来设置那些定义了 Git 外观和行为的变量。这些变量通常会存储在电脑中的 3 个位置：\n",
    "\n",
    "- Git 的安装目录下的`./etc/gitconfig` 文件: 该文件包含系统上每一个用户及他们仓库的通用配置。执行`git config --system`时会读写该文件中的配置变量；由于它是系统配置文件，因此需要管理员或超级用户权限才能对其进行修改；\n",
    "- `C:/Users/<USER_NAME>/.gitconfig` 或 `C:/Users/<USER_NAME>/.config/git/config` 文件：这些文件里的配置只对当前用户有效；在终端里执行 `git config --global` 时会读写此文件，且所定义的配置对系统上所有仓库生效；\n",
    "- 当前仓库的`./.git/config`文件：该文件里的变量值只对该仓库有效；在终端里执行 `git config --local`来读写此文件，此外，`--local` 也是默认参数；\n",
    "\n",
    "Windows 系统中，Git 会查找`C:/Users/<USER_NAME>/.gitconfig`文件；Git 会寻找 `/etc/gitconfig` 文件，但只限于 MSys 的根目录下，即安装 Git 时所选的目标位置；如果所使用 Git 是 2.x 及以上的版本，那么在`C:/ProgramData/Git/config`中还有一个系统级的配置文件，此文件只能以管理员权限通过`git config -f <file>`来修改。"
   ]
  },
  {
   "cell_type": "markdown",
   "id": "4ddeda24",
   "metadata": {
    "raw_mimetype": "text/markdown",
    "slideshow": {
     "slide_type": "fragment"
    }
   },
   "source": [
    "## 1 设置用户名\n",
    "\n",
    "  Git 通过用户名将每次的提交与提交者身份进行关联。Git 用户名可以与 GitHub 用户名不同，使用`git config`命令便可以更改与 Git 提交相关联的名称，通过传递`--global`或`--local`参数可以控制所设置内容的生效范围。\n",
    "\n",
    "修改用户名只对之后的提交生效，不会更改之前提交时所使用的用户名。\n",
    "\n",
    "下面是一个设置局部用户名的示例："
   ]
  },
  {
   "cell_type": "code",
   "execution_count": null,
   "id": "4bbba685",
   "metadata": {},
   "outputs": [],
   "source": [
    "# It is recommended not to run this code,\n",
    "# bcz you have run it every time you reacquainted yourself with Git,\n",
    "# which means that this config has been set several times.\n",
    "! git config --local user.name \"TheHan6edMan\""
   ]
  },
  {
   "cell_type": "markdown",
   "id": "4bfff2d9",
   "metadata": {},
   "source": [
    "通过传递`--local user.name`参数，可以查看当前已设定的用户名"
   ]
  },
  {
   "cell_type": "code",
   "execution_count": null,
   "id": "cf4e12f4",
   "metadata": {},
   "outputs": [],
   "source": [
    "! git config --local user.name"
   ]
  },
  {
   "cell_type": "markdown",
   "id": "4dbffa43",
   "metadata": {},
   "source": [
    "## 2 设置关联邮箱（TODO！）\n",
    "- GitHub 通过提交邮箱将提交与 GitHub 帐户关联，以确保每个提交归因于相应账户，并且相应账户出现在贡献者名单中。用户可以选择与从命令行推送时相关联的邮箱地址，也可以选择基于 web 的 Git 操作相关联的邮箱地址，这两个可以分别在 Git 和 Github 中设置。在更改提交电子邮件地址之前进行的提交仍与之前的电子邮件地址关联。\n",
    "- 设置全局 email 地址\n",
    "```bash\n",
    "$ git config --global user.email \"email@example.com\"\n",
    "# check if is changed\n",
    "$ git config --global user.email\n",
    "email@example.com\n",
    "```\n",
    "- 为某个仓库设置 email 地址\n",
    "```bash\n",
    "$ git config user.email \"email@example.com\"\n",
    "# check if is changed\n",
    "$ git config user.email\n",
    "email@example.com\n",
    "```\n",
    "\n",
    "如果希望对个人电子邮件地址保密，请参阅[Blocking command line pushes that expose your personal email](https://docs.github.com/en/articles/blocking-command-line-pushes-that-expose-your-personal-email-address)"
   ]
  },
  {
   "cell_type": "markdown",
   "id": "3aa870c4",
   "metadata": {},
   "source": [
    "## 3 设置文本编辑器（TODO）\n",
    "当 Git 需要输入信息时会调用文本编辑器，默认情况下 Git 使用操作系统默认的文本编辑器；在 Windows 系统上，如果想要使用别的文本编辑器，那么必须指定可执行文件的完整路径，它可能随编辑器的打包方式而不同。\n",
    "\n",
    "对于 Notepad++，则需要使用 32 位的版本，因为在本书编写时 64 位的版本尚不支持所有的插件；如果你在使用 32 位的 Windows 系统，或在 64 位系统上使用 64 位的编辑器，那么你需要输入如下命令：\n",
    "\n",
    "```bash\n",
    "git config --global core.editor \"'C:/Program Files/Notepad++/notepad++.exe' -multiInst -notabbar -nosession -noPlugin\"\n",
    "```\n",
    "\n",
    "需要注意的是，通常程序员们会在 Linux 和 macOS 这类基于 Unix 的系统或 Windows 系统上使用 Vim、Emacs 和 Notepad++ 等文本编辑器，如果使用其他的或 32 位版本的编辑器，请输入`git config core.editor`中查看具体步骤；\n",
    "\n",
    "\n",
    "## 4 设置默认分支名称（TODO）\n",
    "\n",
    "默认情况下在使用`git init`命令创建新仓库时，Git 会创建一个名为`master`的分支，从 Git 2.28 版本之后，可以对初始化分支设置不同的名称，例如设为`main`\n",
    "```bash\n",
    "$ git config --global init.defaultBranch main\n",
    "```\n",
    "\n"
   ]
  },
  {
   "cell_type": "markdown",
   "id": "052d586d",
   "metadata": {},
   "source": [
    "## 5 检查配置信息\n",
    "\n",
    "可以通过传递`--list`参数来列出所有 Git 能找到的配置，或传递`--list --show-origin`查看所有的配置以及它们所在的文件。例如下面的示例："
   ]
  },
  {
   "cell_type": "code",
   "execution_count": null,
   "id": "f8691ea0",
   "metadata": {
    "scrolled": true
   },
   "outputs": [],
   "source": [
    "! git config --list --show-origin"
   ]
  },
  {
   "cell_type": "markdown",
   "id": "5505169d",
   "metadata": {},
   "source": [
    "在运行结果中可能会出现重复的变量名，因为 Git 会从不同的文件中读取同一个配置，比如 /etc/gitconfig 与 ~/.gitconfig，这种情况下 Git 会使用它找到的每一个变量的最后一个配置；因此，如果你发现某个变量和预期设置的不同，可以通过传递参数`--show-origin <PARAM>`来查询哪个文件最后设定了所显示的值："
   ]
  },
  {
   "cell_type": "code",
   "execution_count": null,
   "id": "e0675a2c",
   "metadata": {},
   "outputs": [],
   "source": [
    "! git config --show-origin user.name"
   ]
  }
 ],
 "metadata": {
  "celltoolbar": "原始单元格格式",
  "kernelspec": {
   "display_name": "Python 3",
   "language": "python",
   "name": "python3"
  },
  "language_info": {
   "codemirror_mode": {
    "name": "ipython",
    "version": 3
   },
   "file_extension": ".py",
   "mimetype": "text/x-python",
   "name": "python",
   "nbconvert_exporter": "python",
   "pygments_lexer": "ipython3",
   "version": "3.8.5"
  }
 },
 "nbformat": 4,
 "nbformat_minor": 5
}
