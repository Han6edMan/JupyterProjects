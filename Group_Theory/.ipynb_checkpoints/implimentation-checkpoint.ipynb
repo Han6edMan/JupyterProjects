{
 "cells": [
  {
   "cell_type": "code",
   "execution_count": 1,
   "id": "first-invite",
   "metadata": {},
   "outputs": [],
   "source": [
    "import math"
   ]
  },
  {
   "cell_type": "code",
   "execution_count": null,
   "id": "outstanding-benjamin",
   "metadata": {},
   "outputs": [],
   "source": [
    "def cyclic_group(op, generator, **kwargs):\n",
    "    g = [generator]\n",
    "    elem = generator\n",
    "    while True:\n",
    "        elem = op(elem, generator, **kwargs)\n",
    "        if elem not in g:\n",
    "            g += [elem]\n",
    "        else:\n",
    "            break\n",
    "    return g\n",
    "\n",
    "def mul_mod(a, b, n):\n",
    "    return (a * b) % n\n",
    "\n",
    "def add_mod(a, b, n):\n",
    "    return (a + b) % n\n",
    "\n",
    "def u_n(n):\n",
    "    g = []\n",
    "    for i in range(1, n):\n",
    "        if math.gcd(n, i) == 1:\n",
    "            g += [i]\n",
    "    return g"
   ]
  },
  {
   "cell_type": "code",
   "execution_count": 27,
   "id": "utility-court",
   "metadata": {},
   "outputs": [
    {
     "data": {
      "text/plain": [
       "{'<1>': [1],\n",
       " '<2>': [2, 4, 8, 16, 32, 19, 38, 31, 17, 34, 23, 1],\n",
       " '<4>': [4, 16, 19, 31, 34, 1],\n",
       " '<7>': [7, 4, 28, 16, 22, 19, 43, 31, 37, 34, 13, 1],\n",
       " '<8>': [8, 19, 17, 1],\n",
       " '<11>': [11, 31, 26, 16, 41, 1],\n",
       " '<13>': [13, 34, 37, 31, 43, 19, 22, 16, 28, 4, 7, 1],\n",
       " '<14>': [14, 16, 44, 31, 29, 1],\n",
       " '<16>': [16, 31, 1],\n",
       " '<17>': [17, 19, 8, 1],\n",
       " '<19>': [19, 1],\n",
       " '<22>': [22, 34, 28, 31, 7, 19, 13, 16, 37, 4, 43, 1],\n",
       " '<23>': [23, 34, 17, 31, 38, 19, 32, 16, 8, 4, 2, 1],\n",
       " '<26>': [26, 1],\n",
       " '<28>': [28, 19, 37, 1],\n",
       " '<29>': [29, 31, 44, 16, 14, 1],\n",
       " '<31>': [31, 16, 1],\n",
       " '<32>': [32, 34, 8, 31, 2, 19, 23, 16, 17, 4, 38, 1],\n",
       " '<34>': [34, 31, 19, 16, 4, 1],\n",
       " '<37>': [37, 19, 28, 1],\n",
       " '<38>': [38, 4, 17, 16, 23, 19, 2, 31, 8, 34, 32, 1],\n",
       " '<41>': [41, 16, 26, 31, 11, 1],\n",
       " '<43>': [43, 4, 37, 16, 13, 19, 7, 31, 28, 34, 22, 1],\n",
       " '<44>': [44, 1]}"
      ]
     },
     "execution_count": 27,
     "metadata": {},
     "output_type": "execute_result"
    }
   ],
   "source": [
    "n = 45\n",
    "un = u_n(45)\n",
    "groups = dict()\n",
    "for i in un:\n",
    "    groups[f\"<{i}>\"] = cyclic_group(mul_mod, i, n=45)\n",
    "groups"
   ]
  },
  {
   "cell_type": "code",
   "execution_count": 26,
   "id": "operating-funeral",
   "metadata": {},
   "outputs": [
    {
     "data": {
      "text/plain": [
       "{'<1>': [1],\n",
       " '<7>': [7, 13, 19, 25, 31, 1],\n",
       " '<11>': [11, 13, 35, 25, 23, 1],\n",
       " '<13>': [13, 25, 1],\n",
       " '<17>': [17, 1],\n",
       " '<19>': [19, 1],\n",
       " '<23>': [23, 25, 35, 13, 11, 1],\n",
       " '<29>': [29, 13, 17, 25, 5, 1]}"
      ]
     },
     "execution_count": 26,
     "metadata": {},
     "output_type": "execute_result"
    }
   ],
   "source": [
    "n = 30\n",
    "un = u_n(n)\n",
    "groups = dict()\n",
    "for i in un:\n",
    "    groups[f\"<{i}>\"] = cyclic_group(mul_mod, i, n=36)\n",
    "groups"
   ]
  },
  {
   "cell_type": "code",
   "execution_count": null,
   "id": "level-scene",
   "metadata": {},
   "outputs": [],
   "source": []
  }
 ],
 "metadata": {
  "kernelspec": {
   "display_name": "Python 3",
   "language": "python",
   "name": "python3"
  },
  "language_info": {
   "codemirror_mode": {
    "name": "ipython",
    "version": 3
   },
   "file_extension": ".py",
   "mimetype": "text/x-python",
   "name": "python",
   "nbconvert_exporter": "python",
   "pygments_lexer": "ipython3",
   "version": "3.8.5"
  }
 },
 "nbformat": 4,
 "nbformat_minor": 5
}
