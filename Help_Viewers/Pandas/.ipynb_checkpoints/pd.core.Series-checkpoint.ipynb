{
 "cells": [
  {
   "cell_type": "markdown",
   "metadata": {},
   "source": [
    "# pd.Series\n",
    "```python\n",
    "pd.Series(\n",
    "    data=None,\n",
    "    index=None,\n",
    "    dtype=None,\n",
    "    name=None,\n",
    "    copy=False,\n",
    "    fastpath=False,\n",
    ")\n",
    "```\n",
    "\n",
    "**Docstring**\n",
    "\n",
    "带轴标签的一维ndarray(含时间序列)\n",
    "\n",
    "Labels need not be unique but must be a hashable type. The object supports both integer- and label-based indexing and provides a host of methods for performing operations involving the index. Statistical methods from ndarray have been overridden to automatically exclude missing data (currently represented as NaN).\n",
    "\n",
    "Operations between Series (`+, -, /, *, **`) align values based on their associated index values-- they need not be the same length. The result index will be the sorted union of the two indexes.\n",
    "\n",
    "**Args**\n",
    "\n",
    "- data: array-like, Iterable, dict, or scalar value\n",
    "\n",
    "- index: array-like or Index (1d). Values must be hashable and have the same length as `data`. Non-unique index values are allowed. Will default to RangeIndex (0, 1, 2, ..., n) if not provided. If both a dict and index sequence are used, the index will override the keys found in the dict.\n",
    "\n",
    "- dtype : str, numpy.dtype, or ExtensionDtype, optional Data type for the output Series. If not specified, this will be inferred from `data`. See the :ref:`user guide <basics.dtypes>` for more usages.\n",
    "\n",
    "- name: Series'\n",
    "\n",
    "- copy: 是否拷贝数据\n",
    "\n",
    "**Type**\n",
    "\n",
    "type"
   ]
  },
  {
   "cell_type": "code",
   "execution_count": null,
   "metadata": {},
   "outputs": [],
   "source": [
    "x = pd.Series([3, 23, 5, 38, 4], index=list(\"abcde\"))\n",
    "print(x)\n",
    "print(type(x))\n",
    "print(x[1])\n",
    "print(x[x > 3])\n",
    "print(x.where(x > 3))"
   ]
  },
  {
   "cell_type": "code",
   "execution_count": null,
   "metadata": {},
   "outputs": [],
   "source": [
    "x = {\"name\": \"Xaniel W\", \"age\": 21, \"gender\": \"male\"}\n",
    "x = pd.Series(x)\n",
    "print(x)\n",
    "print(x[[\"gender\", \"name\"]])\n",
    "print(x[[1, 0]])"
   ]
  },
  {
   "cell_type": "code",
   "execution_count": null,
   "metadata": {},
   "outputs": [],
   "source": [
    "print(x.index)\n",
    "print(x.values)"
   ]
  }
 ],
 "metadata": {
  "kernelspec": {
   "display_name": "Python 3",
   "language": "python",
   "name": "python3"
  },
  "language_info": {
   "codemirror_mode": {
    "name": "ipython",
    "version": 3
   },
   "file_extension": ".py",
   "mimetype": "text/x-python",
   "name": "python",
   "nbconvert_exporter": "python",
   "pygments_lexer": "ipython3",
   "version": "3.7.7"
  }
 },
 "nbformat": 4,
 "nbformat_minor": 4
}
