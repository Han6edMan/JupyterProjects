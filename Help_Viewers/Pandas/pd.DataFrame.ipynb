{
 "cells": [
  {
   "cell_type": "code",
   "execution_count": 6,
   "metadata": {},
   "outputs": [],
   "source": [
    "import pandas as pd\n",
    "import numpy as np"
   ]
  },
  {
   "cell_type": "markdown",
   "metadata": {},
   "source": [
    "# pd.DataFrame()\n",
    "```python\n",
    "pd.DataFrame(\n",
    "    data=None,\n",
    "    index=None,\n",
    "    columns=None,\n",
    "    dtype=None,\n",
    "    copy=False,\n",
    ")\n",
    "```\n",
    "**Docstring**\n",
    "\n",
    "创建一个二维、大小可变、可能异构的表格数据。\n",
    "\n",
    "Data structure also contains labeled axes (rows and columns).\n",
    "Arithmetic operations align on both row and column labels. Can be\n",
    "thought of as a dict-like container for Series objects. The primary\n",
    "pandas data structure.\n",
    "\n",
    "**Args**\n",
    "\n",
    "- data: 可以是 ndarray、Iterable、字典、或 DataFrame，字典可以包含 Series、数组、常数、或类列表对象，如果数据是一个dict，则在Python 3.6及之后版本中，列顺序遵循插入顺序；若数据是由字典组成的列表，则在Python 3.6及之后版本中，列顺序遵循插入顺序\n",
    "\n",
    "- index: 可以是索引或类数组对象，用于生成 Frame 的行标签；若输入数据没有索引信息，且 index 没有传值，则默认使用`RangeIndex`\n",
    "    \n",
    "- columns: 可以是索引或类数组对象，用于生成 Frame 的行标签；默认为`RangeIndex`\n",
    "\n",
    "- dtype: 略\n",
    "\n",
    "- copy: 是否从输入复制数据。只影响DataFrame / 2d ndarray输入。Copy data from inputs. Only affects DataFrame / 2d ndarray input.\n",
    "\n",
    "**See Also**\n",
    "\n",
    "- DataFrame.from_records : Constructor from tuples, also record arrays.\n",
    "- DataFrame.from_dict : From dicts of Series, arrays, or dicts.\n",
    "- read_csv\n",
    "- read_table\n",
    "- read_clipboard\n",
    "\n",
    "**Type**\n",
    "\n",
    "type"
   ]
  },
  {
   "cell_type": "code",
   "execution_count": null,
   "metadata": {
    "scrolled": true
   },
   "outputs": [],
   "source": [
    "x = {'col1': [1, 2, 3], 'col2': [3, 4, 5], \"col3\": list(\"abc\")}\n",
    "x = pd.DataFrame(data=x)\n",
    "print(x, end=\"\\n\\n\")\n",
    "print(x.dtypes, end=\"\\n\\n\")  # ! dtypes\n",
    "print(type(x))"
   ]
  },
  {
   "cell_type": "code",
   "execution_count": null,
   "metadata": {
    "scrolled": true
   },
   "outputs": [],
   "source": [
    "x = [[1, 2, 3], [True, False, True], list(\"abc\")]\n",
    "x = pd.DataFrame(data=x, columns=[\"c1\", \"c2\", \"c3\"], dtype=float)\n",
    "print(x, end=\"\\n\\n\")\n",
    "print(x.dtypes, end=\"\\n\\n\")"
   ]
  },
  {
   "cell_type": "code",
   "execution_count": null,
   "metadata": {
    "scrolled": true
   },
   "outputs": [],
   "source": [
    "x = pd.DataFrame(np.random.rand(4, 6), columns=list(\"abcdef\"), index=list(\"ABCD\"))\n",
    "print(x.index, end=\"\\n\\n\")\n",
    "print(x.columns[2:], end=\"\\n\\n\")\n",
    "print(x.values, end=\"\\n\\n\")\n",
    "print(x.shape, end=\"\\n\\n\")\n",
    "print(x.ndim, end=\"\\n\\n\")\n",
    "print(x.head(2), end=\"\\n\\n\")\n",
    "print(x.tail(2), end=\"\\n\\n\")\n",
    "print(x.info(), end=\"\\n\\n\")\n",
    "print(x.describe(), end=\"\\n\\n\")"
   ]
  },
  {
   "cell_type": "code",
   "execution_count": null,
   "metadata": {},
   "outputs": [],
   "source": [
    "x = [{\"name\": \"Lara\", \"gender\": \"female\"}, {\"name\": \"Peter\", \"age\": 18, \"gender\": \"male\"}, {\"name\": \"Harry\", \"age\": 24}]\n",
    "x = pd.DataFrame(x)\n",
    "print(x, end=\"\\n\\n\")\n",
    "print(x.dtypes, end=\"\\n\\n\")\n",
    "print(x[:2])  # 行索引只能是代表切片的形式\n",
    "print(type(x[:2][\"age\"]))"
   ]
  },
  {
   "cell_type": "markdown",
   "metadata": {},
   "source": [
    "#  "
   ]
  },
  {
   "cell_type": "markdown",
   "metadata": {},
   "source": [
    "# pd.DataFrame.sample()\n",
    "```python\n",
    "<DataFrame>.sample(\n",
    "    n=None,\n",
    "    frac=None,\n",
    "    replace=False,\n",
    "    weights=None,\n",
    "    random_state=None,\n",
    "    axis=None,\n",
    ") -> ~FrameOrSeries\n",
    "```\n",
    "\n",
    "**Docstring**\n",
    "\n",
    "在对象的`axis`中进行随机采样并返回，可通过指明`random_state`来确保可复现性reproducibility.\n",
    "\n",
    "**Args**\n",
    "\n",
    "- n: 返回的采样个数，不能与`frac`同时使用，若`frac= None`则默认为 1\n",
    "\n",
    "- frac: 返回采样的比例\n",
    "\n",
    "- replace: 是否允许对一个行采样多次，若`frac> 1`，则该参数应为 True\n",
    "\n",
    "- weights: 可以是字符串类型或 ndarray，默认 None 时以等概率采样；<font color=\"red\">**出现在权重中而没有出现在采样对象中的索引值会被忽略，出现在采样对象中却未出现在索引值中的权重将置为 0；对于`DataFrame`对象而言，当`axis = 0`时该参数可接受列的名称；若权重不是`Series`类型，则其长度必须与采样所在索引相等；(???)**</font> 若权重加和不为 1，则其会预先归一化；weights 列中丢失的值被视为 0；不接收`inf`值\n",
    "\n",
    "- random_state: 可以是整型、类数组、`BitGenerator`、`np.random.RandomState`；整型时种子为随机数生成器；后三者时使用 Numpy 的`RandomState`对象\n",
    "\n",
    "- axis: 0、`'index` 或 1、`'columns'`，默认为 None；默认为给定数据类型的 stat axis，对于`DataFrame`和`Series`默认为 0\n",
    "    \n",
    "**Type**:      function\n",
    "\n",
    "\n",
    "### Examples"
   ]
  },
  {
   "cell_type": "code",
   "execution_count": null,
   "metadata": {},
   "outputs": [],
   "source": [
    "x = pd.DataFrame({'num_legs': [2, 4, 8, 0], 'num_wings': [2, 0, 0, 0], 'num_specimen_seen': [10, 2, 1, 8]},\n",
    "                  index=['falcon', 'dog', 'spider', 'fish']).sample()\n",
    "x"
   ]
  },
  {
   "cell_type": "code",
   "execution_count": null,
   "metadata": {
    "scrolled": false
   },
   "outputs": [],
   "source": [
    "x.sample(n=2, weights='num_specimen_seen', random_state=1)"
   ]
  },
  {
   "cell_type": "code",
   "execution_count": 63,
   "metadata": {
    "scrolled": true
   },
   "outputs": [
    {
     "name": "stdout",
     "output_type": "stream",
     "text": [
      "        num_legs  num_wings  num_specimen_seen\n",
      "spider         8          0                  1\n",
      "dog            4          0                  2\n"
     ]
    }
   ],
   "source": [
    "x = x.sample(frac=1, replace=False, random_state=1)\n",
    "print(x[:2])"
   ]
  },
  {
   "cell_type": "markdown",
   "metadata": {},
   "source": [
    "#  "
   ]
  },
  {
   "cell_type": "markdown",
   "metadata": {},
   "source": [
    "## pd.DataFrame.sort_values\n",
    "\n",
    "```python\n",
    "<dataframe>.sort_values(\n",
    "    by,\n",
    "    axis=0,\n",
    "    ascending=True,\n",
    "    inplace=False,\n",
    "    kind='quicksort',\n",
    "    na_position='last',\n",
    "    ignore_index=False,\n",
    ")\n",
    "```\n",
    "\n",
    "**Docstri**\n",
    "\n",
    "沿任一轴按值排序\n",
    "\n",
    "**Args**\n",
    "\n",
    "- by: 字符串或字符串列表，要排序的名称或名称列表\n",
    "            Name or list of names to sort by.\n",
    "\n",
    "            - if `axis` is 0 or `'index'` then `by` may contain index\n",
    "              levels and/or column labels.\n",
    "            - if `axis` is 1 or `'columns'` then `by` may contain column\n",
    "              levels and/or index labels.\n",
    "\n",
    "            .. versionchanged:: 0.23.0\n",
    "\n",
    "               Allow specifying index or column level names.\n",
    "axis : {0 or 'index', 1 or 'columns'}, default 0\n",
    "     Axis to be sorted.\n",
    "ascending : bool or list of bool, default True\n",
    "     Sort ascending vs. descending. Specify list for multiple sort\n",
    "     orders.  If this is a list of bools, must match the length of\n",
    "     the by.\n",
    "inplace : bool, default False\n",
    "     If True, perform operation in-place.\n",
    "kind : {'quicksort', 'mergesort', 'heapsort'}, default 'quicksort'\n",
    "     Choice of sorting algorithm. See also ndarray.np.sort for more\n",
    "     information.  `mergesort` is the only stable algorithm. For\n",
    "     DataFrames, this option is only applied when sorting on a single\n",
    "     column or label.\n",
    "na_position : {'first', 'last'}, default 'last'\n",
    "     Puts NaNs at the beginning if `first`; `last` puts NaNs at the\n",
    "     end.\n",
    "ignore_index : bool, default False\n",
    "     If True, the resulting axis will be labeled 0, 1, …, n - 1.\n",
    "\n",
    "     .. versionadded:: 1.0.0\n",
    "\n",
    "Returns\n",
    "\n",
    "sorted_obj : DataFrame or None\n",
    "    DataFrame with sorted values if inplace=False, None otherwise.\n",
    "\n",
    "Examples\n",
    "\n",
    ">>> df = pd.DataFrame({\n",
    "...     'col1': ['A', 'A', 'B', np.nan, 'D', 'C'],\n",
    "...     'col2': [2, 1, 9, 8, 7, 4],\n",
    "...     'col3': [0, 1, 9, 4, 2, 3],\n",
    "... })\n",
    ">>> df\n",
    "    col1 col2 col3\n",
    "0   A    2    0\n",
    "1   A    1    1\n",
    "2   B    9    9\n",
    "3   NaN  8    4\n",
    "4   D    7    2\n",
    "5   C    4    3\n",
    "\n",
    "Sort by col1\n",
    "\n",
    ">>> df.sort_values(by=['col1'])\n",
    "    col1 col2 col3\n",
    "0   A    2    0\n",
    "1   A    1    1\n",
    "2   B    9    9\n",
    "5   C    4    3\n",
    "4   D    7    2\n",
    "3   NaN  8    4\n",
    "\n",
    "Sort by multiple columns\n",
    "\n",
    ">>> df.sort_values(by=['col1', 'col2'])\n",
    "    col1 col2 col3\n",
    "1   A    1    1\n",
    "0   A    2    0\n",
    "2   B    9    9\n",
    "5   C    4    3\n",
    "4   D    7    2\n",
    "3   NaN  8    4\n",
    "\n",
    "Sort Descending\n",
    "\n",
    ">>> df.sort_values(by='col1', ascending=False)\n",
    "    col1 col2 col3\n",
    "4   D    7    2\n",
    "5   C    4    3\n",
    "2   B    9    9\n",
    "0   A    2    0\n",
    "1   A    1    1\n",
    "3   NaN  8    4\n",
    "\n",
    "Putting NAs first\n",
    "\n",
    ">>> df.sort_values(by='col1', ascending=False, na_position='first')\n",
    "    col1 col2 col3\n",
    "3   NaN  8    4\n",
    "4   D    7    2\n",
    "5   C    4    3\n",
    "2   B    9    9\n",
    "0   A    2    0\n",
    "1   A    1    1\n",
    "File:      d:\\programmefiles\\python\\anaconda3\\envs\\tensorflow\\lib\\site-packages\\pandas\\core\\frame.py\n",
    "Type:      method"
   ]
  },
  {
   "cell_type": "code",
   "execution_count": null,
   "metadata": {},
   "outputs": [],
   "source": []
  },
  {
   "cell_type": "markdown",
   "metadata": {},
   "source": [
    "#  "
   ]
  },
  {
   "cell_type": "markdown",
   "metadata": {},
   "source": [
    "#  "
   ]
  },
  {
   "cell_type": "markdown",
   "metadata": {},
   "source": [
    "## pd.DataFrame.loc()\n",
    "`x.loc[]`\n",
    "\n",
    "**Docstring**\n",
    "\n",
    "通过标签或布尔数组访问一组行和列，``.loc[]``主要基于标签，但也可以使用布尔数组，允许的输入有：\n",
    "\n",
    "- 一个标签，如``5``或``\"a\"``，需要注意的是这里``5``应被理解为`index`所取的值，而非`index`的索引值\n",
    "- 标签的列表或数组，如``['a', 'b', 'c']``\n",
    "- 带有标签的表示切片的字符，如``'a':'f'``，这里返回结果包括起始行和终止行\n",
    "- 与被切片的维度长度相同的布尔数组，如``[True, False, True]``.\n",
    "- 一个可调用的函数，只有一个参数(调用 Series 或 DataFrame)，它返回索引的有效输出(以上的一中情况)\n",
    "\n",
    "如果没有找到任何项目，则会抛出异常。更多信息详见`Selection by Label <indexing.label>`\n",
    "\n",
    "**Type**\n",
    "\n",
    "property\n",
    "\n",
    "\n",
    "**See Also**\n",
    "\n",
    "- DataFrame.at : Access a single value for a row/column label pair.\n",
    "- DataFrame.iloc : Access group of rows and columns by integer position(s).\n",
    "- DataFrame.xs : Returns a cross-section (row(s) or column(s)) from the Series/DataFrame.\n",
    "- Series.loc : Access group of values using labels."
   ]
  },
  {
   "cell_type": "code",
   "execution_count": null,
   "metadata": {
    "scrolled": true
   },
   "outputs": [],
   "source": [
    "x = pd.DataFrame(np.random.rand(6, 4),\n",
    "                 index=list(\"abcdef\"),\n",
    "                 columns=list(\"ABCD\"))\n",
    "print(x)"
   ]
  },
  {
   "cell_type": "code",
   "execution_count": null,
   "metadata": {
    "scrolled": true
   },
   "outputs": [],
   "source": [
    "print(x.loc[[\"b\", \"e\"], \"D\":\"B\":-1], end=\"\\n\\n\")"
   ]
  },
  {
   "cell_type": "code",
   "execution_count": null,
   "metadata": {},
   "outputs": [],
   "source": [
    "# 布尔索引，对应行列长度应与原 DataFrame 行列长度相同\n",
    "print(x.loc[[False, False, True, False, True, True], [True, False, False, True]], end=\"\\n\\n\")\n",
    "\n",
    "# 利用条件产生布尔索引\n",
    "print(x[\"A\"] > 0.5, end=\"\\n\\n\")\n",
    "print(x.loc[x['A'] > 0.5], end=\"\\n\\n\")  # 返回的是 x[\"A\"] > 0.5 的一整行\n",
    "print(x[x['A'] > 0.5], end=\"\\n\\n\")  # 布尔索引可以不用.loc[]\n",
    "\n",
    "# 利用可调用的函数返回布尔索引\n",
    "print(x.loc[x['A'] > 0.5].loc[lambda f: f[\"C\"] > 0.5], end=\"\\n\\n\")"
   ]
  },
  {
   "cell_type": "markdown",
   "metadata": {},
   "source": [
    "还可以利用以上检索方式修改 DataFrame 元素"
   ]
  },
  {
   "cell_type": "code",
   "execution_count": null,
   "metadata": {
    "scrolled": false
   },
   "outputs": [],
   "source": [
    "x.loc[\"a\":\"b\", \"A\":\"B\"] = 0.72\n",
    "x.loc[\"z\"] = 0.32  # 若之前不存在某列或某行，则直接 append 上去\n",
    "x.loc[:, \"Z\"] = 0.64\n",
    "x.loc[x[\"D\"] > 0.9] = 0\n",
    "print(x)"
   ]
  },
  {
   "cell_type": "markdown",
   "metadata": {},
   "source": [
    "复合索引"
   ]
  },
  {
   "cell_type": "code",
   "execution_count": 2,
   "metadata": {
    "scrolled": true
   },
   "outputs": [
    {
     "name": "stdout",
     "output_type": "stream",
     "text": [
      "                     max_speed  shield\n",
      "cobra      mark i           12       2\n",
      "           mark ii           0       4\n",
      "sidewinder mark i           10      20\n",
      "           mark ii           1       4\n",
      "viper      mark ii           7       1\n",
      "           mark iii         16      36\n"
     ]
    }
   ],
   "source": [
    "tuples = [('cobra', 'mark i'), ('cobra', 'mark ii'), ('sidewinder', 'mark i'), ('sidewinder', 'mark ii'), ('viper', 'mark ii'), ('viper', 'mark iii')]\n",
    "index = pd.MultiIndex.from_tuples(tuples)\n",
    "values = [[12, 2], [0, 4], [10, 20],\n",
    "          [1, 4], [7, 1], [16, 36]]\n",
    "x = pd.DataFrame(values, columns=['max_speed', 'shield'], index=index)\n",
    "print(x)"
   ]
  },
  {
   "cell_type": "code",
   "execution_count": null,
   "metadata": {
    "scrolled": true
   },
   "outputs": [],
   "source": [
    "print(x.loc[\"cobra\"], end=\"\\n\\n\")\n",
    "print(x.loc[(\"cobra\", \"mark i\"), \"shield\"], end=\"\\n\\n\")\n",
    "print(x.loc[\"cobra\", \"mark i\"], end=\"\\n\\n\")  # return Series\n",
    "print(x.loc[[(\"cobra\", \"mark i\")]], end=\"\\n\\n\")  # return DataFrame\n",
    "print(x.loc[(\"cobra\", \"mark ii\"):(\"viper\", \"mark ii\"), \"max_speed\"], end=\"\\n\\n\")"
   ]
  },
  {
   "cell_type": "markdown",
   "metadata": {},
   "source": [
    "#  "
   ]
  },
  {
   "cell_type": "markdown",
   "metadata": {},
   "source": [
    "#  "
   ]
  },
  {
   "cell_type": "markdown",
   "metadata": {},
   "source": [
    "## pd.DataFrame.iloc()\n",
    "`x.iloc[]`\n",
    "\n",
    "Type:        property\n",
    "\n",
    "**Docstring**\n",
    "\n",
    "``.iloc[]``主要用于基于位置的索引，也可以利用布尔索引，索引超出返回会抛``IndexError``异常；支持的输入有\n",
    "\n",
    "- 代表行标的整数、整数列表、整数数组，如``5``、``[4, 3, 0]``\n",
    "\n",
    "- 表示切片的字符，如``1:7``，注意此处不包含`7`所指代的行/列\n",
    "\n",
    "- 布尔型数组\n",
    "\n",
    "- 一个调用 Series 或 DataFrame 的带有一个参数的可调用函数，其须满足返回用于索引的有效输出(上述之一)；对于在函数链中没有对调用对象的引用，但希望基于某个值进行选择时，这种方法可以提供很大帮助\n",
    "\n",
    "更多信息参见`Selection by Position <indexing.integer>`.\n",
    "\n",
    "**See Also**\n",
    "\n",
    "- DataFrame.iat : Fast integer location scalar accessor.\n",
    "\n",
    "- Series.iloc : Purely integer-location based indexing for selection by position."
   ]
  },
  {
   "cell_type": "code",
   "execution_count": 4,
   "metadata": {
    "scrolled": true
   },
   "outputs": [
    {
     "name": "stdout",
     "output_type": "stream",
     "text": [
      "O\n",
      "I\n",
      "II\n",
      "III\n"
     ]
    }
   ],
   "source": [
    "x = pd.DataFrame([range(1, 5), range(100, 500, 100), range(1000, 5000, 1000)], \n",
    "                 columns=[\"O\", \"I\", \"II\", \"III\"],\n",
    "                index=list(\"ABC\"))\n",
    "\n",
    "for i in x:\n",
    "    print(i)"
   ]
  },
  {
   "cell_type": "code",
   "execution_count": null,
   "metadata": {
    "scrolled": false
   },
   "outputs": [],
   "source": [
    "print(x.iloc[[1, 0], ::-1], end=\"\\n\\n\")\n",
    "print(x.loc[[True, False, True], [True, False, True, False]], end=\"\\n\\n\")\n",
    "# 使用可调用的有效函数链\n",
    "print(x.iloc[lambda f: f.index % 2 == 0, lambda f: [2, 0, 1]], end=\"\\n\\n\")"
   ]
  },
  {
   "cell_type": "markdown",
   "metadata": {},
   "source": [
    "#  "
   ]
  },
  {
   "cell_type": "markdown",
   "metadata": {},
   "source": [
    "#  "
   ]
  },
  {
   "cell_type": "markdown",
   "metadata": {},
   "source": [
    "## pd.DataFrame.drop()\n",
    "```python\n",
    "x.drop(\n",
    "    labels=None,\n",
    "    axis=0,\n",
    "    index=None,\n",
    "    columns=None,\n",
    "    level=None,\n",
    "    inplace=False,\n",
    "    errors='raise',\n",
    ")\n",
    "```\n",
    "\n",
    "**Docstring**\n",
    "\n",
    "通过指定标签(label)名称和对应的轴、或直接指定索引或列名来删除行或列；当使用复合索引时，可以通过指定级别来删除不同级别上的标签，并返回剩余数据组成的`DataFrame`对象，若在指定的轴上没有找到对应标签，则会抛出异常\n",
    "\n",
    "**Args**\n",
    "\n",
    "- labels: 单一标签或类列表形式的标签，即要删除的索引或列标签\n",
    "\n",
    "- axis: 可以是0或'index'、1或'columns'，从索引(0或'index')还是列(1或'columns')中删除标签\n",
    "\n",
    "- index: 单一标签或类列表形式的标签，``labels, axis=0``等价于``index=labels``\n",
    "\n",
    "- columns: 单一标签或类列表形式的标签，``labels, axis=1``等价于``columns=labels``\n",
    "\n",
    "- level: int or level name，指删除复合索引中的哪一层级\n",
    "\n",
    "- inplace: bool，If True, do operation inplace and return None.\n",
    "\n",
    "- errors: {'ignore', 'raise'}，若为'ignore'，则忽略错误，并且只删除现有的标签。\n",
    "\n",
    "**See Also**\n",
    "\n",
    "- DataFrame.dropna : Return DataFrame with labels on given axis omitted where (all or any) data are missing.\n",
    "\n",
    "- DataFrame.drop_duplicates : Return DataFrame with duplicate rows removed, optionally only considering certain columns.\n",
    "\n",
    "- Series.drop : Return Series with specified index labels removed.\n",
    "\n",
    "**Type**\n",
    "\n",
    "function"
   ]
  },
  {
   "cell_type": "code",
   "execution_count": null,
   "metadata": {
    "scrolled": true
   },
   "outputs": [],
   "source": [
    "x = pd.DataFrame(np.arange(36).reshape(6, 6), columns=list(\"ABCDEF\"))\n",
    "y = x.drop(['B', 'C'], axis=1)  # == x.drop(columns=['B', 'C'])\n",
    "print(y)\n",
    "y = x.drop([2, 4])  # == x.drop(index=[2, 4]), 以 index 指明删除对象时可不指明axis\n",
    "print(y)\n",
    "y = x.drop(index=[2, 4], columns=[\"B\", \"C\"])\n",
    "print(y)"
   ]
  },
  {
   "cell_type": "code",
   "execution_count": null,
   "metadata": {
    "scrolled": false
   },
   "outputs": [],
   "source": [
    "# Drop columns and/or rows of MultiIndex DataFrame\n",
    "m_idx = pd.MultiIndex(levels=[['lama', 'cow', 'falcon'],\n",
    "                              ['speed', 'weight', 'length']],\n",
    "                      codes=[[0, 0, 0, 1, 1, 1, 2, 2, 2],\n",
    "                             [0, 1, 2, 0, 1, 2, 0, 1, 2]])\n",
    "x = pd.DataFrame(index=m_idx, columns=['big', 'small'],\n",
    "                 data=[[45, 30], [200, 100], [1.5, 1],\n",
    "                       [30, 20], [250, 150], [1.5, 0.8],\n",
    "                       [320, 250], [1, 0.8], [0.3, 0.2]])\n",
    "print(x)"
   ]
  },
  {
   "cell_type": "code",
   "execution_count": null,
   "metadata": {
    "scrolled": true
   },
   "outputs": [],
   "source": [
    "y = x.drop(index='length', level=1)\n",
    "print(y)"
   ]
  },
  {
   "cell_type": "markdown",
   "metadata": {},
   "source": [
    "#  "
   ]
  },
  {
   "cell_type": "markdown",
   "metadata": {},
   "source": [
    "#  "
   ]
  },
  {
   "cell_type": "markdown",
   "metadata": {},
   "source": [
    "## pd.DataFrame.rename()\n",
    "```python\n",
    "pd.DataFrame.rename(\n",
    "    self,\n",
    "    mapper=None,\n",
    "    index=None,\n",
    "    columns=None,\n",
    "    axis=None,\n",
    "    copy=True,\n",
    "    inplace=False,\n",
    "    level=None,\n",
    "    errors='ignore',\n",
    ")\n",
    "```\n",
    "**Docstring**\n",
    "\n",
    "Alter axes labels.\n",
    "\n",
    "Function / dict values must be unique (1-to-1). Labels not contained in\n",
    "a dict / Series will be left as-is. Extra labels listed don't throw an\n",
    "error.\n",
    "\n",
    "See the :ref:`user guide <basics.rename>` for more.\n",
    "\n",
    "Parameters\n",
    "\n",
    "mapper : dict-like or function\n",
    "    Dict-like or functions transformations to apply to\n",
    "    that axis' values. Use either ``mapper`` and ``axis`` to\n",
    "    specify the axis to target with ``mapper``, or ``index`` and\n",
    "    ``columns``.\n",
    "index: 类字典或函数，``mapper, axis=0``等价于``index=mapper``\n",
    "columns : dict-like or function\n",
    "    Alternative to specifying axis (``mapper, axis=1``\n",
    "    is equivalent to ``columns=mapper``).\n",
    "axis : int or str\n",
    "    Axis to target with ``mapper``. Can be either the axis name\n",
    "    ('index', 'columns') or number (0, 1). The default is 'index'.\n",
    "copy : bool, default True\n",
    "    Also copy underlying data.\n",
    "inplace : bool, default False\n",
    "    Whether to return a new DataFrame. If True then value of copy is\n",
    "    ignored.\n",
    "level : int or level name, default None\n",
    "    In case of a MultiIndex, only rename labels in the specified\n",
    "    level.\n",
    "errors : {'ignore', 'raise'}, default 'ignore'\n",
    "    If 'raise', raise a `KeyError` when a dict-like `mapper`, `index`,\n",
    "    or `columns` contains labels that are not present in the Index\n",
    "    being transformed.\n",
    "    If 'ignore', existing keys will be renamed and extra keys will be\n",
    "    ignored.\n",
    "\n",
    "Returns\n",
    "\n",
    "DataFrame\n",
    "    DataFrame with the renamed axis labels.\n",
    "\n",
    "Raises\n",
    "\n",
    "KeyError\n",
    "    If any of the labels is not found in the selected axis and\n",
    "    \"errors='raise'\".\n",
    "\n",
    "See Also\n",
    "\n",
    "DataFrame.rename_axis : Set the name of the axis.\n",
    "\n",
    "\n",
    "``DataFrame.rename`` supports two calling conventions\n",
    "\n",
    "* ``(index=index_mapper, columns=columns_mapper, ...)``\n",
    "* ``(mapper, axis={'index', 'columns'}, ...)``\n",
    "File:      d:\\programmefiles\\python\\anaconda3\\envs\\tensorflow\\lib\\site-packages\\pandas\\core\\frame.py\n",
    "Type:      function"
   ]
  },
  {
   "cell_type": "code",
   "execution_count": null,
   "metadata": {
    "scrolled": true
   },
   "outputs": [],
   "source": [
    "# Rename using a mapping:\n",
    "x = pd.DataFrame(np.arange(24).reshape(4, 6), index=list(\"abcd\"), columns=list(\"ABCDEF\"))\n",
    "y = x.rename(columns={\"A\": \"a\", \"B\": \"b\"})\n",
    "print(y)\n",
    "y = x.rename(index={\"a\": \"x\", \"b\": \"y\", \"c\": \"z\"})\n",
    "print(y)"
   ]
  },
  {
   "cell_type": "code",
   "execution_count": null,
   "metadata": {},
   "outputs": [],
   "source": [
    "y = x.rename(index=str)\n",
    "print(x.index)\n",
    "print(y.index)"
   ]
  },
  {
   "cell_type": "code",
   "execution_count": null,
   "metadata": {},
   "outputs": [],
   "source": [
    "# Using axis-style parameters\n",
    "y = x.rename(str.lower, axis='columns')\n",
    "print(y)\n",
    "y = x.rename({\"a\": \"x\", \"b\": \"y\", \"c\": \"z\"}, axis='index')\n",
    "print(y)"
   ]
  },
  {
   "cell_type": "markdown",
   "metadata": {},
   "source": [
    "#  "
   ]
  },
  {
   "cell_type": "markdown",
   "metadata": {},
   "source": [
    "#  "
   ]
  },
  {
   "cell_type": "markdown",
   "metadata": {},
   "source": [
    "# pd.DataFrame.drop_duplicates()\n",
    "```python\n",
    "x.drop_duplicates(\n",
    "    subset=None,\n",
    "    keep='first',\n",
    "    inplace=False,\n",
    "    ignore_index=False,\n",
    ") -> Union[ForwardRef('DataFrame'), NoneType]\n",
    "```\n",
    "\n",
    "**Docstring**\n",
    "\n",
    "返回删除重复行的 DataFrame，或者``inplace=True``时返回 None，考虑某些列是可选的，index、时间索引的重复内容将被忽略\n",
    "\n",
    "    \n",
    "**Args**\n",
    "\n",
    "- subset: 可以是列标签或标签序列，仅考虑某些用来标识重复项的列，默认情况下使用所有列\n",
    "\n",
    "- keep: {'first', 'last', False}，决定保留哪些重复项\n",
    "    - ``\"first\"``: 保留第一个出现的项\n",
    "    - ``\"last\"``: 保留最后一个出现的项\n",
    "    - `False`: 删除所有重复项\n",
    "\n",
    "- inplace: 是否 in place 地修改对象，False 则返回一个副本\n",
    "\n",
    "- ignore_index: 若为True，返回对象的 axis 将被标为 0, 1, …, n - 1.\n",
    "\n",
    "\n",
    "**Type**\n",
    "\n",
    "function"
   ]
  },
  {
   "cell_type": "code",
   "execution_count": 68,
   "metadata": {},
   "outputs": [
    {
     "data": {
      "text/html": [
       "<div>\n",
       "<style scoped>\n",
       "    .dataframe tbody tr th:only-of-type {\n",
       "        vertical-align: middle;\n",
       "    }\n",
       "\n",
       "    .dataframe tbody tr th {\n",
       "        vertical-align: top;\n",
       "    }\n",
       "\n",
       "    .dataframe thead th {\n",
       "        text-align: right;\n",
       "    }\n",
       "</style>\n",
       "<table border=\"1\" class=\"dataframe\">\n",
       "  <thead>\n",
       "    <tr style=\"text-align: right;\">\n",
       "      <th></th>\n",
       "      <th>A</th>\n",
       "      <th>B</th>\n",
       "      <th>C</th>\n",
       "      <th>D</th>\n",
       "      <th>E</th>\n",
       "      <th>F</th>\n",
       "    </tr>\n",
       "  </thead>\n",
       "  <tbody>\n",
       "    <tr>\n",
       "      <th>0</th>\n",
       "      <td>2</td>\n",
       "      <td>4</td>\n",
       "      <td>1</td>\n",
       "      <td>6</td>\n",
       "      <td>8</td>\n",
       "      <td>6</td>\n",
       "    </tr>\n",
       "    <tr>\n",
       "      <th>1</th>\n",
       "      <td>4</td>\n",
       "      <td>8</td>\n",
       "      <td>0</td>\n",
       "      <td>3</td>\n",
       "      <td>3</td>\n",
       "      <td>4</td>\n",
       "    </tr>\n",
       "    <tr>\n",
       "      <th>2</th>\n",
       "      <td>9</td>\n",
       "      <td>1</td>\n",
       "      <td>8</td>\n",
       "      <td>2</td>\n",
       "      <td>0</td>\n",
       "      <td>8</td>\n",
       "    </tr>\n",
       "    <tr>\n",
       "      <th>3</th>\n",
       "      <td>2</td>\n",
       "      <td>7</td>\n",
       "      <td>3</td>\n",
       "      <td>6</td>\n",
       "      <td>1</td>\n",
       "      <td>3</td>\n",
       "    </tr>\n",
       "    <tr>\n",
       "      <th>4</th>\n",
       "      <td>2</td>\n",
       "      <td>3</td>\n",
       "      <td>6</td>\n",
       "      <td>7</td>\n",
       "      <td>5</td>\n",
       "      <td>3</td>\n",
       "    </tr>\n",
       "    <tr>\n",
       "      <th>5</th>\n",
       "      <td>4</td>\n",
       "      <td>9</td>\n",
       "      <td>8</td>\n",
       "      <td>5</td>\n",
       "      <td>0</td>\n",
       "      <td>8</td>\n",
       "    </tr>\n",
       "  </tbody>\n",
       "</table>\n",
       "</div>"
      ],
      "text/plain": [
       "   A  B  C  D  E  F\n",
       "0  2  4  1  6  8  6\n",
       "1  4  8  0  3  3  4\n",
       "2  9  1  8  2  0  8\n",
       "3  2  7  3  6  1  3\n",
       "4  2  3  6  7  5  3\n",
       "5  4  9  8  5  0  8"
      ]
     },
     "execution_count": 68,
     "metadata": {},
     "output_type": "execute_result"
    }
   ],
   "source": [
    "x = pd.DataFrame(np.random.randint(low=0, high=10, size=[6, 6]), columns=list(\"ABCDEF\"))\n",
    "x"
   ]
  },
  {
   "cell_type": "code",
   "execution_count": null,
   "metadata": {
    "scrolled": true
   },
   "outputs": [],
   "source": [
    "y = x.drop_duplicates()\n",
    "print(y, end=\"\\n\\n\")\n",
    "y = x.drop_duplicates(subset=[\"C\", \"F\"])\n",
    "print(y, end=\"\\n\\n\")\n",
    "y = x.drop_duplicates(subset=\"E\", keep=\"last\")\n",
    "print(y, end=\"\\n\\n\")\n",
    "y = x.drop_duplicates(subset=\"E\", keep=False)\n",
    "print(y, end=\"\\n\\n\")\n",
    "y = x.drop_duplicates(subset=\"E\", ignore_index=True)\n",
    "print(y, end=\"\\n\\n\")\n",
    "print(x)"
   ]
  },
  {
   "cell_type": "code",
   "execution_count": null,
   "metadata": {},
   "outputs": [],
   "source": [
    "y = x.drop_duplicates(subset=\"E\", inplace=True)\n",
    "print(y, end=\"\\n\\n\")  # return None\n",
    "print(x)"
   ]
  },
  {
   "cell_type": "markdown",
   "metadata": {},
   "source": [
    "#  "
   ]
  },
  {
   "cell_type": "markdown",
   "metadata": {},
   "source": [
    "#  "
   ]
  },
  {
   "cell_type": "markdown",
   "metadata": {},
   "source": [
    "pd.DataFrame.reset_index()\n",
    "```python\n",
    "x.reset_index(\n",
    "    level: Union[Hashable, Sequence[Hashable], NoneType] = None,\n",
    "    drop: bool = False,\n",
    "    inplace: bool = False,\n",
    "    col_level: Hashable = 0,\n",
    "    col_fill: Union[Hashable, NoneType] = '',\n",
    ") -> Union[ForwardRef('DataFrame'), NoneType]\n",
    "```\n",
    "**Docstring**\n",
    "\n",
    "重排 index，若 DataFrame 有复合索引，则这个方法可以删除或重排一个或多个 level\n",
    "\n",
    "**Args**\n",
    "\n",
    "- level : int, str, tuple, or list, default None\n",
    "    Only remove the given levels from the index. Removes all levels by\n",
    "    default.\n",
    "drop : bool, default False\n",
    "    Do not try to insert index into dataframe columns. This resets\n",
    "    the index to the default integer index.\n",
    "inplace : bool, default False\n",
    "    Modify the DataFrame in place (do not create a new object).\n",
    "col_level : int or str, default 0\n",
    "    If the columns have multiple levels, determines which level the\n",
    "    labels are inserted into. By default it is inserted into the first\n",
    "    level.\n",
    "col_fill : object, default ''\n",
    "    If the columns have multiple levels, determines how the other\n",
    "    levels are named. If None then the index name is repeated.\n",
    "\n",
    "Returns\n",
    "-------\n",
    "DataFrame or None\n",
    "    DataFrame with the new index or None if ``inplace=True``.\n",
    "\n",
    "See Also\n",
    "--------\n",
    "DataFrame.set_index : Opposite of reset_index.\n",
    "DataFrame.reindex : Change to new indices or expand indices.\n",
    "DataFrame.reindex_like : Change to same indices as other DataFrame.\n",
    "\n",
    "Examples\n",
    "--------\n",
    ">>> df = pd.DataFrame([('bird', 389.0),\n",
    "...                    ('bird', 24.0),\n",
    "...                    ('mammal', 80.5),\n",
    "...                    ('mammal', np.nan)],\n",
    "...                   index=['falcon', 'parrot', 'lion', 'monkey'],\n",
    "...                   columns=('class', 'max_speed'))\n",
    ">>> df\n",
    "         class  max_speed\n",
    "falcon    bird      389.0\n",
    "parrot    bird       24.0\n",
    "lion    mammal       80.5\n",
    "monkey  mammal        NaN\n",
    "\n",
    "When we reset the index, the old index is added as a column, and a\n",
    "new sequential index is used:\n",
    "\n",
    ">>> df.reset_index()\n",
    "    index   class  max_speed\n",
    "0  falcon    bird      389.0\n",
    "1  parrot    bird       24.0\n",
    "2    lion  mammal       80.5\n",
    "3  monkey  mammal        NaN\n",
    "\n",
    "We can use the `drop` parameter to avoid the old index being added as\n",
    "a column:\n",
    "\n",
    ">>> df.reset_index(drop=True)\n",
    "    class  max_speed\n",
    "0    bird      389.0\n",
    "1    bird       24.0\n",
    "2  mammal       80.5\n",
    "3  mammal        NaN\n",
    "\n",
    "You can also use `reset_index` with `MultiIndex`.\n",
    "\n",
    ">>> index = pd.MultiIndex.from_tuples([('bird', 'falcon'),\n",
    "...                                    ('bird', 'parrot'),\n",
    "...                                    ('mammal', 'lion'),\n",
    "...                                    ('mammal', 'monkey')],\n",
    "...                                   names=['class', 'name'])\n",
    ">>> columns = pd.MultiIndex.from_tuples([('speed', 'max'),\n",
    "...                                      ('species', 'type')])\n",
    ">>> df = pd.DataFrame([(389.0, 'fly'),\n",
    "...                    ( 24.0, 'fly'),\n",
    "...                    ( 80.5, 'run'),\n",
    "...                    (np.nan, 'jump')],\n",
    "...                   index=index,\n",
    "...                   columns=columns)\n",
    ">>> df\n",
    "               speed species\n",
    "                 max    type\n",
    "class  name\n",
    "bird   falcon  389.0     fly\n",
    "       parrot   24.0     fly\n",
    "mammal lion     80.5     run\n",
    "       monkey    NaN    jump\n",
    "\n",
    "If the index has multiple levels, we can reset a subset of them:\n",
    "\n",
    ">>> df.reset_index(level='class')\n",
    "         class  speed species\n",
    "                  max    type\n",
    "name\n",
    "falcon    bird  389.0     fly\n",
    "parrot    bird   24.0     fly\n",
    "lion    mammal   80.5     run\n",
    "monkey  mammal    NaN    jump\n",
    "\n",
    "If we are not dropping the index, by default, it is placed in the top\n",
    "level. We can place it in another level:\n",
    "\n",
    ">>> df.reset_index(level='class', col_level=1)\n",
    "                speed species\n",
    "         class    max    type\n",
    "name\n",
    "falcon    bird  389.0     fly\n",
    "parrot    bird   24.0     fly\n",
    "lion    mammal   80.5     run\n",
    "monkey  mammal    NaN    jump\n",
    "\n",
    "When the index is inserted under another level, we can specify under\n",
    "which one with the parameter `col_fill`:\n",
    "\n",
    ">>> df.reset_index(level='class', col_level=1, col_fill='species')\n",
    "              species  speed species\n",
    "                class    max    type\n",
    "name\n",
    "falcon           bird  389.0     fly\n",
    "parrot           bird   24.0     fly\n",
    "lion           mammal   80.5     run\n",
    "monkey         mammal    NaN    jump\n",
    "\n",
    "If we specify a nonexistent level for `col_fill`, it is created:\n",
    "\n",
    ">>> df.reset_index(level='class', col_level=1, col_fill='genus')\n",
    "                genus  speed species\n",
    "                class    max    type\n",
    "name\n",
    "falcon           bird  389.0     fly\n",
    "parrot           bird   24.0     fly\n",
    "lion           mammal   80.5     run\n",
    "monkey         mammal    NaN    jump\n",
    "File:      d:\\programmefiles\\python\\anaconda3\\envs\\tensorflow\\lib\\site-packages\\pandas\\core\\frame.py\n",
    "Type:      function"
   ]
  }
 ],
 "metadata": {
  "kernelspec": {
   "display_name": "Python 3",
   "language": "python",
   "name": "python3"
  },
  "language_info": {
   "codemirror_mode": {
    "name": "ipython",
    "version": 3
   },
   "file_extension": ".py",
   "mimetype": "text/x-python",
   "name": "python",
   "nbconvert_exporter": "python",
   "pygments_lexer": "ipython3",
   "version": "3.7.7"
  },
  "latex_envs": {
   "LaTeX_envs_menu_present": true,
   "autoclose": false,
   "autocomplete": true,
   "bibliofile": "biblio.bib",
   "cite_by": "apalike",
   "current_citInitial": 1,
   "eqLabelWithNumbers": true,
   "eqNumInitial": 1,
   "hotkeys": {
    "equation": "Ctrl-E",
    "itemize": "Ctrl-I"
   },
   "labels_anchors": false,
   "latex_user_defs": false,
   "report_style_numbering": false,
   "user_envs_cfg": false
  }
 },
 "nbformat": 4,
 "nbformat_minor": 4
}
