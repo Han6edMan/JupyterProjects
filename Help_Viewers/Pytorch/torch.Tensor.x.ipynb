{
 "cells": [
  {
   "cell_type": "code",
   "execution_count": 1,
   "metadata": {},
   "outputs": [],
   "source": [
    "import torch"
   ]
  },
  {
   "cell_type": "markdown",
   "metadata": {},
   "source": [
    "## torch.Tensor.item()\n",
    "`<tensor_name>.item()`\n",
    "\n",
    "**Docstring**\n",
    "\n",
    "以标准 Python 值的形式返回该张量的值，其只适用于只有一个元素的张量；其他情况见`torch.Tensor.tolist`，这个操作是不可导的；\n",
    "\n",
    "**Type**:      method_descriptor"
   ]
  },
  {
   "cell_type": "code",
   "execution_count": 3,
   "metadata": {},
   "outputs": [
    {
     "name": "stdout",
     "output_type": "stream",
     "text": [
      "1\n"
     ]
    }
   ],
   "source": [
    "x = torch.tensor([1])\n",
    "print(x.item())"
   ]
  },
  {
   "cell_type": "markdown",
   "metadata": {},
   "source": [
    "## torch.Tensor.transpose()\n",
    "`<tensor_name>.transpose(dim0, dim1)`、`torch.transpose(input, dim0, dim1)`\n",
    "\n",
    "**Docstring**\n",
    "\n",
    "将张量在维度`dim0`和`dim1`上进行转置，输出张量和输入张量共享底层存储空间，即改变一个张量的内容也会改变另一个张量的内容\n",
    "\n",
    "**Type**:      method_descriptor"
   ]
  },
  {
   "cell_type": "code",
   "execution_count": null,
   "metadata": {},
   "outputs": [],
   "source": [
    "x = torch.arange(1, 25).reshape(1, 2, 3, 4)\n",
    "print(x.transpose(1, 2))\n",
    "print(x.transpose(1, 3))\n",
    "print(x.transpose(0, 1))\n",
    "print(x.transpose(0, 2))\n",
    "print(x.transpose(0, 3))"
   ]
  },
  {
   "cell_type": "code",
   "execution_count": null,
   "metadata": {},
   "outputs": [],
   "source": [
    "help(torch.Tensor)"
   ]
  }
 ],
 "metadata": {
  "kernelspec": {
   "display_name": "Python 3",
   "language": "python",
   "name": "python3"
  },
  "language_info": {
   "codemirror_mode": {
    "name": "ipython",
    "version": 3
   },
   "file_extension": ".py",
   "mimetype": "text/x-python",
   "name": "python",
   "nbconvert_exporter": "python",
   "pygments_lexer": "ipython3",
   "version": "3.7.7"
  },
  "latex_envs": {
   "LaTeX_envs_menu_present": true,
   "autoclose": false,
   "autocomplete": true,
   "bibliofile": "biblio.bib",
   "cite_by": "apalike",
   "current_citInitial": 1,
   "eqLabelWithNumbers": true,
   "eqNumInitial": 1,
   "hotkeys": {
    "equation": "Ctrl-E",
    "itemize": "Ctrl-I"
   },
   "labels_anchors": false,
   "latex_user_defs": false,
   "report_style_numbering": false,
   "user_envs_cfg": false
  }
 },
 "nbformat": 4,
 "nbformat_minor": 4
}
