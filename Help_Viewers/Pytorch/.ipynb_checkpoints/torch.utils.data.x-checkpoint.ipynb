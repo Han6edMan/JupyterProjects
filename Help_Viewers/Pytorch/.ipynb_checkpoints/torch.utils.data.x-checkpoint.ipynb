{
 "cells": [
  {
   "cell_type": "code",
   "execution_count": 3,
   "metadata": {},
   "outputs": [],
   "source": [
    "import torch.utils as utils"
   ]
  },
  {
   "cell_type": "markdown",
   "metadata": {},
   "source": [
    "# torch.utils.data.DataLoader()\n",
    "\n",
    "```python\n",
    "torch.utils.data.DataLoader(\n",
    "    dataset,\n",
    "    batch_size=1,\n",
    "    shuffle=False,\n",
    "    sampler=None,\n",
    "    batch_sampler=None,\n",
    "    num_workers=0,\n",
    "    collate_fn=None,\n",
    "    pin_memory=False,\n",
    "    drop_last=False,\n",
    "    timeout=0,\n",
    "    worker_init_fn=None,\n",
    "    multiprocessing_context=None,\n",
    ")\n",
    "```\n",
    "\n",
    "**Docstrings**\n",
    "\n",
    "`DataLoader`集成了数据集和采样器，同时确保了给定数据集的可迭代性，`DataLoader`支持 map-style 和 iterable-style 的数据集，并支持单进程或多进程加载、customizing loading order and optional automatic batching(collation) 和 memory pinning\n",
    "\n",
    "详见`torch.utils.data`模块的说明文档\n",
    "\n",
    "个人解读：如其名称，数据加载器，能够在神经网络模型中各种数据加载的操作\n",
    "\n",
    "**Args**\n",
    "\n",
    "- dataset: 所提供的数据集\n",
    "\n",
    "- batch_size: 每一batch加载的数据量\n",
    "\n",
    "- shuffle: 每一 epoch 是否 shuffle\n",
    "\n",
    "- sampler: 定义从数据集采样的策略，若此参数未指明，则`shuffle`必须为``False``.\n",
    "\n",
    "- batch_sampler: 类似`sampler`，单一次返回一batch的索引，与`batch_size`, `shuffle`, `sampler`, `drop_last`互斥\n",
    "\n",
    "- num_workers: 用于定义数据由多少子进程加载；0表示数据集由主进程加载\n",
    "\n",
    "- collate_fn (callable): 将样本合并形成一个小批tensor，常在使用批处理加载 map-style 的数据集时使用\n",
    "\n",
    "- pin_memory: ``True``时 data loader会将 tensor 复制到 CUDA 的固定内存计算，随后再返回计算值；如果数据元素是自定义类型，或者`collate_fn`返回的批处理是自定义类型，请参见下面的示例（然而说明文档后面没有写示例）\n",
    "\n",
    "- drop_last: ``True``时将最后不完整的 batch 丢掉\n",
    "\n",
    "- timeout: if positive, the timeout value for collecting a batch from workers. Should always be non-negative. (default: ``0``)\n",
    "\n",
    "- worker_init_fn (callable): 若不为``None``，则会在每一个子进程的 seeding 之后、数据加载之前，通过进程的 id 调用该函数\n",
    "\n",
    "- warning: If the ``spawn`` start method is used, `worker_init_fn` cannot be an unpicklable object, e.g., a lambda function. See `multiprocessing-best-practices` on more details related to multiprocessing in PyTorch.\n",
    "\n",
    "- note: ``len(dataloader)`` heuristic is based on the length of the sampler used. When `dataset` is an `~torch.utils.data.IterableDataset`, ``len(dataset)`` (if implemented) is returned instead, regardless of multi-process loading configurations, because PyTorch trust user `dataset` code in correctly handling multi-process loading to avoid duplicate data. See `Dataset Types`_ for more details on these two types of datasets and how `~torch.utils.data.IterableDataset` interacts with `Multi-process data loading`_."
   ]
  },
  {
   "cell_type": "markdown",
   "metadata": {},
   "source": [
    "#  "
   ]
  },
  {
   "cell_type": "markdown",
   "metadata": {},
   "source": [
    "#  "
   ]
  },
  {
   "cell_type": "markdown",
   "metadata": {},
   "source": [
    "# utils.data.Dataset()\n",
    "`utils.data.Dataset()`\n",
    "\n",
    "**Docstring**\n",
    "\n",
    "表示一个`Dataset`的抽象类，所有表示从键到数据的映射的数据集都应继承它；所有子类都应重写`__getitem__`方法以支持根据给定的键来获取数据，并根据需要重写`__len__`方法，该方法常由`torch.utils.data.Sampler`、`torch.utils.data.DataLoader`等实例对象调用以获得数据集的大小；注意，`torch.utils.data.DataLoader`默认构造一个索引采样器用于生成整数型索引，为使该子类能够以映射式数据集的方式工作，需提供自定义采样器\n",
    "\n",
    "**File**:         \\torch\\utils\\data\\dataset.py\n",
    "\n",
    "**Type**:           type\n",
    "\n",
    "**Subclasses**:     IterableDataset, TensorDataset, ConcatDataset, Subset"
   ]
  },
  {
   "cell_type": "code",
   "execution_count": 4,
   "metadata": {},
   "outputs": [
    {
     "name": "stdout",
     "output_type": "stream",
     "text": [
      "Help on package torch.utils.data in torch.utils:\n",
      "\n",
      "NAME\n",
      "    torch.utils.data\n",
      "\n",
      "PACKAGE CONTENTS\n",
      "    _utils (package)\n",
      "    dataloader\n",
      "    dataset\n",
      "    distributed\n",
      "    sampler\n",
      "\n",
      "FILE\n",
      "    d:\\programmefiles\\python\\anaconda3\\envs\\tensorflow2.2\\lib\\site-packages\\torch\\utils\\data\\__init__.py\n",
      "\n",
      "\n"
     ]
    }
   ],
   "source": [
    "utils.data.random_split()"
   ]
  }
 ],
 "metadata": {
  "kernelspec": {
   "display_name": "Python 3",
   "language": "python",
   "name": "python3"
  },
  "language_info": {
   "codemirror_mode": {
    "name": "ipython",
    "version": 3
   },
   "file_extension": ".py",
   "mimetype": "text/x-python",
   "name": "python",
   "nbconvert_exporter": "python",
   "pygments_lexer": "ipython3",
   "version": "3.7.7"
  },
  "latex_envs": {
   "LaTeX_envs_menu_present": true,
   "autoclose": false,
   "autocomplete": true,
   "bibliofile": "biblio.bib",
   "cite_by": "apalike",
   "current_citInitial": 1,
   "eqLabelWithNumbers": true,
   "eqNumInitial": 1,
   "hotkeys": {
    "equation": "Ctrl-E",
    "itemize": "Ctrl-I"
   },
   "labels_anchors": false,
   "latex_user_defs": false,
   "report_style_numbering": false,
   "user_envs_cfg": false
  }
 },
 "nbformat": 4,
 "nbformat_minor": 4
}
