{
 "cells": [
  {
   "cell_type": "code",
   "execution_count": 5,
   "metadata": {},
   "outputs": [],
   "source": [
    "import torch.backends as backends"
   ]
  },
  {
   "cell_type": "markdown",
   "metadata": {},
   "source": [
    "# torch.backends\n",
    "\n",
    "**PACKAGE CONTENTS**\n",
    "- cuda (package)\n",
    "    - rnn.py\n",
    "- cudnn (package)\n",
    "- mkl (package)\n",
    "- mkldnn (package)\n",
    "- openmp (package)\n",
    "- quantized (package)\n",
    "- xnnpack (package)\n",
    "\n",
    "**CLASSES**\n",
    "- PropModule(builtins.module)\n",
    "- ContextProp(builtins.object)\n",
    "    \n",
    "\n",
    "\n",
    "**FUNCTIONS**\n",
    "- disable_global_flags()\n",
    "- flags_frozen()\n",
    "\n",
    "**DATA**\n",
    "- cuda = <torch.backends.cuda.CUDAModule object>\n",
    "\n",
    "**FILE**:  torch\\backends\\\\\\_\\_init__.py"
   ]
  },
  {
   "cell_type": "markdown",
   "metadata": {},
   "source": [
    "#  "
   ]
  },
  {
   "cell_type": "markdown",
   "metadata": {},
   "source": [
    "#  "
   ]
  },
  {
   "cell_type": "markdown",
   "metadata": {},
   "source": [
    "## torch.backends.cudnn.benchmark\n",
    "\n",
    "默认 False，True 时可以对卷积、池化等 DNN 中的运算进行加速"
   ]
  },
  {
   "cell_type": "code",
   "execution_count": null,
   "metadata": {},
   "outputs": [],
   "source": [
    "backends.cudnn.enabled()"
   ]
  }
 ],
 "metadata": {
  "kernelspec": {
   "display_name": "Python 3",
   "language": "python",
   "name": "python3"
  },
  "language_info": {
   "codemirror_mode": {
    "name": "ipython",
    "version": 3
   },
   "file_extension": ".py",
   "mimetype": "text/x-python",
   "name": "python",
   "nbconvert_exporter": "python",
   "pygments_lexer": "ipython3",
   "version": "3.8.6"
  }
 },
 "nbformat": 4,
 "nbformat_minor": 4
}
