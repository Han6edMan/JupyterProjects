{
 "cells": [
  {
   "cell_type": "code",
   "execution_count": 3,
   "metadata": {},
   "outputs": [],
   "source": [
    "import torch\n",
    "import torch.nn as nn\n",
    "import torch.nn.functional as F\n",
    "import torch.optim as optim\n",
    "import enum"
   ]
  },
  {
   "cell_type": "markdown",
   "metadata": {},
   "source": [
    "# <font size=7>神经网络简单实现</font>\n",
    "\n",
    "`torch.nn` 仅支持输入为 mini-batch，即输入变量应比神经网络输入端所要求的维度高一维"
   ]
  },
  {
   "cell_type": "code",
   "execution_count": 3,
   "metadata": {},
   "outputs": [],
   "source": [
    "inputs = torch.randn(1, 1, 32, 32)\n",
    "targets = torch.randn(10)\n",
    "targets = targets.view(1, -1)"
   ]
  },
  {
   "cell_type": "markdown",
   "metadata": {},
   "source": [
    "`nn.Module`包含神经网络的各种 layer 的模型，其通过封装参数的方式处理数据，进而高效地导出、加载数据并将其送至 GPU ；\n",
    "\n",
    "`nn.Paramter` 一个当被指定为`Module`属性时被自动注册为参数的一张量；"
   ]
  },
  {
   "cell_type": "code",
   "execution_count": 4,
   "metadata": {},
   "outputs": [],
   "source": [
    "class Network(nn.Module):\n",
    "    def __init__(self):\n",
    "        super(Network, self).__init__()\n",
    "        self.conv1 = nn.Conv2d(in_channels=1, out_channels=6, kernel_size=3)\n",
    "        self.conv2 = nn.Conv2d(6, 16, 3)\n",
    "        self.fc1 = nn.Linear(16 * 6 * 6, 120)\n",
    "        self.fc2 = nn.Linear(120, 84)\n",
    "        self.fc3 = nn.Linear(84, 10)\n",
    "    \n",
    "    def forward(self, x):\n",
    "        x = F.max_pool2d(F.relu(self.conv1(x)), (2, 2))\n",
    "        # If the size is a square you can only specify a single number\n",
    "        x = F.max_pool2d(F.relu(self.conv2(x)), 2)\n",
    "        x = x.view(-1, self.num_flat_features(x))  # 拉直卷积层输出\n",
    "        x = F.relu(self.fc1(x))\n",
    "        x = F.relu(self.fc2(x))\n",
    "        x = self.fc3(x)\n",
    "        return x\n",
    "    \n",
    "    \n",
    "    def num_flat_features(self, x):\n",
    "        size = x.size()[1:]\n",
    "        num_features = 1\n",
    "        for s in size:\n",
    "            num_features *= s\n",
    "        return num_features\n",
    "\n",
    "\n",
    "network = Network()"
   ]
  },
  {
   "cell_type": "markdown",
   "metadata": {},
   "source": [
    "声明 loss function、优化器，并训练"
   ]
  },
  {
   "cell_type": "code",
   "execution_count": 5,
   "metadata": {
    "scrolled": true
   },
   "outputs": [],
   "source": [
    "loss_func = nn.MSELoss()\n",
    "optimizer = optim.SGD(network.parameters(), lr=0.01)\n",
    "\n",
    "for t in range(3):\n",
    "    optimizer.zero_grad()  # 将上次反向传播时保留的梯度值清零\n",
    "    outputs = network.forward(inputs)\n",
    "    loss = loss_func(outputs, targets)\n",
    "    loss.backward()\n",
    "    optimizer.step()  # Do the update"
   ]
  },
  {
   "cell_type": "code",
   "execution_count": null,
   "metadata": {},
   "outputs": [],
   "source": [
    "network.load_state_dict()"
   ]
  },
  {
   "cell_type": "markdown",
   "metadata": {},
   "source": [
    "#   "
   ]
  },
  {
   "cell_type": "markdown",
   "metadata": {},
   "source": [
    "#   "
   ]
  },
  {
   "cell_type": "markdown",
   "metadata": {},
   "source": [
    "# <font size=7>图像分类的简单实现</font>"
   ]
  },
  {
   "cell_type": "markdown",
   "metadata": {},
   "source": [
    "通常情况下 Python 的数据包有：\n",
    "- 对于图像，扩展包有Pillow, OpenCV\n",
    "\n",
    "- 对于音频，扩展包有scipy, librosa\n",
    "\n",
    "- 对于文本，扩展包有NLTK, SpaCy\n",
    "\n",
    "此外，对于视觉图片，pytorch有一套专门的扩展包 torchvision，其能够加载 ImageNet, CIFAR10, MNIST 等数据集，同时能够处理图像数据转换\n",
    "\n",
    "这里我们使用 CIFAR10 的数据集，其包括 10 个类别，每张图片均为 $3\\times32\\times32$ 大小的 RGB 图片"
   ]
  },
  {
   "cell_type": "markdown",
   "metadata": {},
   "source": [
    "加载数据及预处理"
   ]
  },
  {
   "cell_type": "code",
   "execution_count": 4,
   "metadata": {
    "scrolled": true
   },
   "outputs": [
    {
     "name": "stdout",
     "output_type": "stream",
     "text": [
      "Files already downloaded and verified\n",
      "Files already downloaded and verified\n"
     ]
    }
   ],
   "source": [
    "import torchvision\n",
    "import torchvision.transforms as transforms\n",
    "\n",
    "\n",
    "transform = transforms.Compose(\n",
    "    [\n",
    "        transforms.ToTensor(),\n",
    "        transforms.Normalize((0.5, 0.5, 0.5), (0.5, 0.5, 0.5))\n",
    "    ]\n",
    ")\n",
    "\n",
    "trainset = torchvision.datasets.CIFAR10(\n",
    "    root=\"./data\",\n",
    "    train=True,\n",
    "    download=True,\n",
    "    transform=transform\n",
    ")\n",
    "\n",
    "testset = torchvision.datasets.CIFAR10(\n",
    "    root=\"./data\",\n",
    "    train=False,\n",
    "    download=True,\n",
    "    transform=transform\n",
    ")\n",
    "\n",
    "trainloader = torch.utils.data.DataLoader(\n",
    "    trainset,\n",
    "    batch_size=4,\n",
    "    shuffle=True,\n",
    "    num_workers=0\n",
    ")\n",
    "\n",
    "testloader = torch.utils.data.DataLoader(\n",
    "    testset,\n",
    "    batch_size=4,\n",
    "    shuffle=False,\n",
    "    num_workers=0\n",
    ")\n",
    "classes = ('plane', 'car', 'bird', 'cat', 'deer', 'dog', 'frog', 'horse', 'ship', 'truck')"
   ]
  },
  {
   "cell_type": "markdown",
   "metadata": {},
   "source": [
    "可视化"
   ]
  },
  {
   "cell_type": "code",
   "execution_count": null,
   "metadata": {},
   "outputs": [],
   "source": [
    "import numpy as np\n",
    "import matplotlib.pyplot as plt\n",
    "\n",
    "\n",
    "\n",
    "def imshow(img):\n",
    "    img = img / 2 + 0.5  # unnormalize\n",
    "    np_img = img.numpy()\n",
    "    plt.imshow(np.transpose(np_img, (1, 2, 0)))\n",
    "    plt.show()\n",
    "\n",
    "\n",
    "\n",
    "# get some random training images\n",
    "data_iter = iter(trainloader)\n",
    "images, labels = data_iter.next()\n",
    "\n",
    "# show images\n",
    "imshow(torchvision.utils.make_grid(images))\n",
    "\n",
    "# print labels\n",
    "print(' '.join('%5s' % classes[labels[j]] for j in range(4)))\n"
   ]
  },
  {
   "cell_type": "markdown",
   "metadata": {},
   "source": [
    "搭建神经网络"
   ]
  },
  {
   "cell_type": "code",
   "execution_count": null,
   "metadata": {
    "scrolled": true
   },
   "outputs": [],
   "source": [
    "class Network(nn.Module):\n",
    "    def __init__(self):\n",
    "        super(Network, self).__init__()\n",
    "        self.conv1 = nn.Conv2d(3, 6, 5)\n",
    "        self.conv2 = nn.Conv2d(6, 16, 5)\n",
    "        self.pool = nn.MaxPool2d(2, 2)\n",
    "        self.fc1 = nn.Linear(16 * 5 * 5, 120)\n",
    "        self.fc2 = nn.Linear(120, 84)\n",
    "        self.fc3 = nn.Linear(84, 10)\n",
    "    \n",
    "    \n",
    "    def forward(self, x):\n",
    "        x = self.pool(F.relu(self.conv1(x)))\n",
    "        x = self.pool(F.relu(self.conv2(x)))\n",
    "        x = x.view(-1, 16 * 5 * 5)\n",
    "        x = F.relu(self.fc1(x))\n",
    "        x = F.relu(self.fc2(x))\n",
    "        x = self.fc3(x)\n",
    "        return x\n",
    "    \n",
    "    \n",
    "network = Network()\n",
    "loss_func = nn.CrossEntropyLoss()\n",
    "optimizer = optim.SGD(network.parameters(), lr=0.001, momentum=0.9)\n",
    "\n",
    "for epoch in range(1):\n",
    "    running_loss = 0.\n",
    "    for i, data in enumerate(trainloader):\n",
    "        inputs, labels = data\n",
    "        optimizer.zero_grad()\n",
    "        outputs = network(inputs)\n",
    "        loss = loss_func(outputs, labels)\n",
    "        loss.backward()\n",
    "        running_loss += loss.item()\n",
    "        if i % 2000 == 1999:\n",
    "            print(\"[%d, %5d] loss: %.3f\" % (epoch + 1, i + 1, running_loss/2000))\n",
    "            running_loss = 0.\n",
    "\n",
    "print(\"Finish\")"
   ]
  },
  {
   "cell_type": "code",
   "execution_count": 8,
   "metadata": {},
   "outputs": [
    {
     "name": "stdout",
     "output_type": "stream",
     "text": [
      "<generator object Module.parameters at 0x000001F6A2ED1CC8>\n"
     ]
    },
    {
     "data": {
      "text/plain": [
       "Parameter containing:\n",
       "tensor([[[[ 0.0715, -0.1070,  0.0901, -0.0183, -0.0486],\n",
       "          [-0.0773, -0.0878,  0.0074, -0.0526, -0.0007],\n",
       "          [-0.0693,  0.0135,  0.1086,  0.1140, -0.0793],\n",
       "          [-0.0913,  0.1110,  0.0938, -0.1065, -0.0803],\n",
       "          [-0.0327, -0.0799, -0.0620,  0.0910, -0.0642]],\n",
       "\n",
       "         [[ 0.0032, -0.0902,  0.0187,  0.0273,  0.0013],\n",
       "          [ 0.0168, -0.0550, -0.0617, -0.0363, -0.0891],\n",
       "          [-0.0027,  0.0826, -0.0840,  0.0934, -0.0397],\n",
       "          [-0.0467,  0.0909,  0.0567, -0.0134,  0.0685],\n",
       "          [-0.1014, -0.0683, -0.0512, -0.0349, -0.0873]],\n",
       "\n",
       "         [[-0.1077,  0.0988,  0.0007,  0.0599,  0.0799],\n",
       "          [ 0.0165, -0.0046, -0.0878, -0.0085,  0.0597],\n",
       "          [ 0.0804,  0.0837,  0.1123,  0.0726, -0.0480],\n",
       "          [-0.0641, -0.0087, -0.1038,  0.0646,  0.0476],\n",
       "          [ 0.0406,  0.0855, -0.0562,  0.1107,  0.1144]]],\n",
       "\n",
       "\n",
       "        [[[-0.1002, -0.0992, -0.0734, -0.0603, -0.0066],\n",
       "          [ 0.1109, -0.0654,  0.0482,  0.0818, -0.0292],\n",
       "          [-0.0006, -0.1056, -0.0529, -0.0104, -0.0598],\n",
       "          [-0.0164,  0.0965,  0.0562,  0.0518,  0.0299],\n",
       "          [ 0.1097,  0.0125,  0.0234,  0.0856, -0.1034]],\n",
       "\n",
       "         [[ 0.1017, -0.0154,  0.0923,  0.0066,  0.1008],\n",
       "          [ 0.1106, -0.0218,  0.0656,  0.0463, -0.0140],\n",
       "          [-0.0717, -0.0110,  0.0491, -0.0617,  0.0334],\n",
       "          [-0.0884,  0.0847,  0.0182, -0.0362,  0.0476],\n",
       "          [-0.1076, -0.1141, -0.0929,  0.0534,  0.0550]],\n",
       "\n",
       "         [[ 0.1149, -0.0207,  0.0193,  0.0576, -0.1005],\n",
       "          [ 0.0814, -0.1033,  0.0029,  0.0326,  0.0603],\n",
       "          [ 0.0503, -0.0649,  0.0790,  0.0678, -0.0797],\n",
       "          [-0.0871,  0.0739,  0.1029,  0.0145,  0.0305],\n",
       "          [ 0.0915,  0.0135,  0.0210,  0.0831, -0.0696]]],\n",
       "\n",
       "\n",
       "        [[[ 0.0150,  0.0875, -0.0723,  0.0651, -0.0444],\n",
       "          [-0.0667,  0.0352,  0.0591, -0.0647,  0.0388],\n",
       "          [-0.0875, -0.0763, -0.0006, -0.0452, -0.0414],\n",
       "          [-0.1016, -0.0350,  0.0991, -0.0607,  0.0791],\n",
       "          [ 0.0481,  0.0589,  0.0525,  0.1098, -0.0142]],\n",
       "\n",
       "         [[ 0.0440, -0.0888,  0.0402, -0.0991,  0.0518],\n",
       "          [-0.0586,  0.0171, -0.0807, -0.1140, -0.0151],\n",
       "          [ 0.0644, -0.0170,  0.0741,  0.0594, -0.0636],\n",
       "          [ 0.1145,  0.0189, -0.0618, -0.0711,  0.0647],\n",
       "          [-0.0663,  0.0524,  0.0617, -0.0935,  0.0977]],\n",
       "\n",
       "         [[ 0.0117, -0.0029,  0.0451,  0.1110, -0.1041],\n",
       "          [ 0.0919,  0.1141, -0.0182, -0.0694,  0.0652],\n",
       "          [ 0.1154, -0.0929,  0.0064,  0.0682, -0.0842],\n",
       "          [ 0.0742,  0.0806,  0.1024,  0.0898,  0.0529],\n",
       "          [ 0.0190,  0.0997, -0.0243, -0.0064,  0.0768]]],\n",
       "\n",
       "\n",
       "        [[[ 0.0611,  0.0792,  0.0796, -0.0705,  0.1049],\n",
       "          [-0.0095, -0.0121, -0.0787, -0.0697, -0.0459],\n",
       "          [ 0.0517, -0.0221,  0.0540, -0.0181, -0.0952],\n",
       "          [-0.0582,  0.1130,  0.1087,  0.0616,  0.0918],\n",
       "          [ 0.0212, -0.0881, -0.0165, -0.0509, -0.0942]],\n",
       "\n",
       "         [[-0.0332,  0.1029, -0.1109,  0.1150, -0.0140],\n",
       "          [-0.0730,  0.0331,  0.0083, -0.0865,  0.0271],\n",
       "          [ 0.1142, -0.0522, -0.0100, -0.0751,  0.0655],\n",
       "          [-0.0306, -0.0532,  0.0338,  0.1153, -0.1043],\n",
       "          [-0.1131,  0.1106,  0.0693,  0.0155, -0.0390]],\n",
       "\n",
       "         [[ 0.0390, -0.0560, -0.0376, -0.0575,  0.0826],\n",
       "          [ 0.0987,  0.0082, -0.0264,  0.0770, -0.0135],\n",
       "          [-0.0388,  0.0981,  0.0406,  0.0171,  0.0532],\n",
       "          [ 0.0957,  0.0692, -0.0838,  0.0181,  0.0430],\n",
       "          [-0.1102, -0.0033, -0.0688,  0.0429,  0.0145]]],\n",
       "\n",
       "\n",
       "        [[[ 0.0510, -0.0410, -0.0732,  0.0005,  0.0801],\n",
       "          [ 0.0788,  0.0882,  0.0323, -0.0431,  0.0437],\n",
       "          [ 0.1032, -0.0604,  0.0108, -0.0759,  0.0879],\n",
       "          [ 0.0409,  0.0953,  0.0595,  0.0170, -0.0107],\n",
       "          [ 0.0161,  0.0486, -0.0167, -0.0287,  0.0222]],\n",
       "\n",
       "         [[-0.0698,  0.0746, -0.0288,  0.0212, -0.0144],\n",
       "          [-0.0334, -0.0321, -0.0675,  0.1103, -0.0226],\n",
       "          [ 0.0065, -0.1088,  0.0750,  0.0539, -0.0264],\n",
       "          [-0.1065, -0.0321,  0.0813,  0.0206,  0.0196],\n",
       "          [ 0.0877,  0.0162, -0.0156, -0.0469,  0.0239]],\n",
       "\n",
       "         [[-0.0957, -0.0614, -0.0964,  0.0036,  0.0663],\n",
       "          [-0.0219, -0.0680, -0.0264, -0.1088, -0.0482],\n",
       "          [-0.0496,  0.0950, -0.0144,  0.0529, -0.0006],\n",
       "          [-0.0104, -0.0637, -0.0389, -0.0346,  0.0028],\n",
       "          [ 0.0941, -0.0856, -0.0773, -0.0462,  0.1104]]],\n",
       "\n",
       "\n",
       "        [[[ 0.0257, -0.0004,  0.0854,  0.0152, -0.0615],\n",
       "          [ 0.0489, -0.0944,  0.0782,  0.0853,  0.0876],\n",
       "          [-0.0787,  0.0747, -0.0972,  0.0362,  0.0299],\n",
       "          [-0.0836, -0.0445,  0.0842, -0.0209,  0.0587],\n",
       "          [ 0.0182,  0.0375, -0.0193, -0.0972, -0.0773]],\n",
       "\n",
       "         [[ 0.0646,  0.0280, -0.0433,  0.0968,  0.0130],\n",
       "          [-0.0774, -0.0461, -0.0908, -0.0741, -0.0560],\n",
       "          [-0.0423, -0.0924,  0.0501,  0.0468, -0.1099],\n",
       "          [ 0.0144, -0.0831,  0.0630,  0.0472,  0.0329],\n",
       "          [ 0.0524, -0.0855,  0.0141, -0.0702, -0.0630]],\n",
       "\n",
       "         [[ 0.0560,  0.1127, -0.0543, -0.0534, -0.0698],\n",
       "          [ 0.0592, -0.0904, -0.1022,  0.1028, -0.0370],\n",
       "          [ 0.0881,  0.1053, -0.1059,  0.0100,  0.0893],\n",
       "          [ 0.0557,  0.0294, -0.0011, -0.0522,  0.0976],\n",
       "          [ 0.0485,  0.0155, -0.0619, -0.0016,  0.0250]]]], requires_grad=True)"
      ]
     },
     "execution_count": 8,
     "metadata": {},
     "output_type": "execute_result"
    }
   ],
   "source": []
  },
  {
   "cell_type": "markdown",
   "metadata": {},
   "source": [
    "`optimizer.step(closure=None)`\n",
    "\n",
    "执行一个优化步骤\n",
    "\n",
    "- closure (callable): 一个重新评估模型并返回loss值的 closure"
   ]
  },
  {
   "cell_type": "markdown",
   "metadata": {},
   "source": [
    "### <`model name`>.train()\n",
    "\n",
    "`<model name>.train(mode=True)`\n",
    "\n",
    "将模块设置为训练模式，该语句仅对某些特定模块起作用，对于那些被作用的模块，如`Dropout`类、`BatchNorm`类等，他们在训练/测试模式下行为详见相关的文档\n",
    "\n",
    "**Args**\n",
    "\n",
    "- mode: ``True``指代训练模式，``False``指代测试模式"
   ]
  }
 ],
 "metadata": {
  "kernelspec": {
   "display_name": "Python 3",
   "language": "python",
   "name": "python3"
  },
  "language_info": {
   "codemirror_mode": {
    "name": "ipython",
    "version": 3
   },
   "file_extension": ".py",
   "mimetype": "text/x-python",
   "name": "python",
   "nbconvert_exporter": "python",
   "pygments_lexer": "ipython3",
   "version": "3.7.7"
  },
  "latex_envs": {
   "LaTeX_envs_menu_present": true,
   "autoclose": false,
   "autocomplete": true,
   "bibliofile": "biblio.bib",
   "cite_by": "apalike",
   "current_citInitial": 1,
   "eqLabelWithNumbers": true,
   "eqNumInitial": 1,
   "hotkeys": {
    "equation": "Ctrl-E",
    "itemize": "Ctrl-I"
   },
   "labels_anchors": false,
   "latex_user_defs": false,
   "report_style_numbering": false,
   "user_envs_cfg": false
  }
 },
 "nbformat": 4,
 "nbformat_minor": 4
}
