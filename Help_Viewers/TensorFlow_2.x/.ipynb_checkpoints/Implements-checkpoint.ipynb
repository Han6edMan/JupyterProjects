{
 "cells": [
  {
   "cell_type": "code",
   "execution_count": 1,
   "metadata": {},
   "outputs": [],
   "source": [
    "import tensorflow as tf"
   ]
  },
  {
   "cell_type": "code",
   "execution_count": 21,
   "metadata": {},
   "outputs": [],
   "source": [
    "import sklearn.datasets as datasets\n",
    "import numpy as np\n",
    "from tensorflow.data import Dataset\n",
    "import matplotlib.pyplot as plt"
   ]
  },
  {
   "cell_type": "markdown",
   "metadata": {},
   "source": [
    "# 手工实现"
   ]
  },
  {
   "cell_type": "code",
   "execution_count": 30,
   "metadata": {},
   "outputs": [],
   "source": [
    "inputs = datasets.load_iris().data\n",
    "targets = datasets.load_iris().target\n",
    "np.random.seed(116)\n",
    "np.random.shuffle(inputs)\n",
    "np.random.seed(116)\n",
    "np.random.shuffle(targets)\n",
    "training_inputs = tf.cast(inputs[:-30], tf.float32)\n",
    "training_targets = targets[:-30]\n",
    "test_inputs = tf.cast(inputs[-30:], tf.float32)\n",
    "test_targets = targets[-30:]\n",
    "training_set = Dataset.from_tensor_slices((training_inputs, training_targets)).batch(32)\n",
    "test_set = Dataset.from_tensor_slices((test_inputs, test_targets)).batch(32)"
   ]
  },
  {
   "cell_type": "code",
   "execution_count": 28,
   "metadata": {
    "scrolled": false
   },
   "outputs": [
    {
     "name": "stdout",
     "output_type": "stream",
     "text": [
      "tf.Tensor(\n",
      "[1. 1. 1. 0. 0. 2. 2. 2. 1. 0. 0. 2. 0. 1. 0. 1. 0. 1. 2. 2. 1. 0. 0. 0.\n",
      " 0. 1. 1. 1. 0. 2. 0. 2.], shape=(32,), dtype=float32)\n",
      "tf.Tensor(\n",
      "[1. 2. 2. 2. 0. 2. 2. 1. 0. 2. 2. 2. 2. 0. 0. 0. 0. 0. 0. 0. 0. 0. 1. 2.\n",
      " 2. 1. 1. 0. 0. 1. 0. 1.], shape=(32,), dtype=float32)\n",
      "tf.Tensor(\n",
      "[1. 1. 2. 0. 0. 0. 2. 0. 1. 0. 1. 1. 2. 2. 2. 2. 2. 0. 1. 1. 2. 0. 1. 1.\n",
      " 0. 2. 2. 2. 1. 1. 2. 2.], shape=(32,), dtype=float32)\n",
      "tf.Tensor([2. 1. 2. 2. 0. 1. 1. 2. 2. 2. 1. 2. 1. 0. 2. 2. 2. 2. 2. 0. 1. 0. 1. 2.], shape=(24,), dtype=float32)\n"
     ]
    }
   ],
   "source": [
    "for step, (x, y) in enumerate(training_set):\n",
    "    print(y)"
   ]
  },
  {
   "cell_type": "code",
   "execution_count": 36,
   "metadata": {},
   "outputs": [],
   "source": [
    "w1 = tf.Variable(tf.random.truncated_normal([4, 10], stddev=0.1))\n",
    "b1 = tf.Variable(tf.random.truncated_normal([10], stddev=0.1))\n",
    "w2 = tf.Variable(tf.random.truncated_normal([10, 3], stddev=0.1))\n",
    "b2 = tf.Variable(tf.random.truncated_normal([3], stddev=0.1))"
   ]
  },
  {
   "cell_type": "code",
   "execution_count": null,
   "metadata": {},
   "outputs": [],
   "source": [
    "tt_correct = 0\n",
    "tt_num = 0\n",
    "test_acc=[]\n",
    "train_loss = []\n",
    "for epoch in range(500):\n",
    "    loss_epoch = 0\n",
    "    for step, (x, y) in enumerate(training_set):\n",
    "        with tf.GradientTape() as tape:\n",
    "            x = tf.nn.sigmoid(tf.matmul(x, w1) + b1)\n",
    "            y_hat = tf.nn.softmax(tf.matmul(x, w2) + b2)\n",
    "            y = tf.one_hot(y, depth=3)\n",
    "            loss = tf.reduce_mean(tf.square(y_hat - y))\n",
    "            loss_epoch += loss.numpy()\n",
    "        grads = tape.gradient(loss, [[w1, b1], [w2, b2]])\n",
    "        w1.assign_sub(0.5 * grads[0][0])\n",
    "        b1.assign_sub(0.5 * grads[0][1])\n",
    "        w2.assign_sub(0.5 * grads[1][0])\n",
    "        b2.assign_sub(0.5 * grads[1][1])\n",
    "    train_loss.append(loss_epoch)\n",
    "    print(\"Epoch: {}, loss: {}\".format(epoch, loss / 4))\n",
    "    for x, y in test_set:\n",
    "        x = tf.nn.sigmoid(tf.matmul(x, w1) + b1)\n",
    "        y_hat = tf.nn.softmax(tf.matmul(x, w2) + b2)\n",
    "        y_hat = tf.argmax(y_hat, axis=1)  # 返回 top1 预测\n",
    "        y_hat = tf.cast(y_hat, dtype=y.dtype)  # 使数据类型一致\n",
    "        correct = tf.cast(tf.equal(y_hat, y), dtype=tf.int32)\n",
    "        correct = tf.reduce_sum(correct)  # 每个batch中预测正确的个数\n",
    "        tt_correct += int(correct)\n",
    "        tt_num += x.shape[0]\n",
    "    acc_epoch = tt_correct / tt_num\n",
    "    test_acc.append(acc_epoch)\n",
    "    print(\"Epoch: {}, Test accuracy:{}\".format(epoch, acc_epoch))"
   ]
  },
  {
   "cell_type": "code",
   "execution_count": null,
   "metadata": {},
   "outputs": [],
   "source": [
    "plt.xlabel(\"Epoch\")\n",
    "plt.ylabel(\"Loss\")\n",
    "plt.plot(train_loss, label=\"$Loss$\")\n",
    "plt.legend()\n",
    "plt.show()\n",
    "\n",
    "plt.xlabel(\"Epoch\")\n",
    "plt.ylabel(\"Acc\")\n",
    "plt.plot(test_acc, label=\"$Acc$\")\n",
    "plt.legend()\n",
    "plt.show()"
   ]
  },
  {
   "cell_type": "code",
   "execution_count": null,
   "metadata": {},
   "outputs": [],
   "source": []
  }
 ],
 "metadata": {
  "kernelspec": {
   "display_name": "Python 3",
   "language": "python",
   "name": "python3"
  },
  "language_info": {
   "codemirror_mode": {
    "name": "ipython",
    "version": 3
   },
   "file_extension": ".py",
   "mimetype": "text/x-python",
   "name": "python",
   "nbconvert_exporter": "python",
   "pygments_lexer": "ipython3",
   "version": "3.7.7"
  }
 },
 "nbformat": 4,
 "nbformat_minor": 4
}
