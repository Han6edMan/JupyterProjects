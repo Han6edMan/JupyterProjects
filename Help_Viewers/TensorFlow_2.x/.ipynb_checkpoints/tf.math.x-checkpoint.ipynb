{
 "cells": [
  {
   "cell_type": "code",
   "execution_count": 2,
   "metadata": {},
   "outputs": [],
   "source": [
    "import tensorflow as tf"
   ]
  },
  {
   "cell_type": "markdown",
   "metadata": {},
   "source": [
    "# tf.math.tanh()\n",
    "` tf.math.tanh(x, name=None)`\n",
    "\n",
    "**Docstring**:\n",
    "\n",
    "`x`应为`bfloat16`, `half`, `float32`, `float64`, `complex64`, `complex128`类型的`Tensor`；若`x`为`SparseTensor`，则返回`SparseTensor(x.indices, tf.math.tanh(x.values, ...), x.dense_shape)`\n",
    "\n",
    "**File**:   \\tensorflow\\lib\\site-packages\\tensorflow\\python\\ops\\gen_math_ops.py\n",
    "\n",
    "**Type**:      function"
   ]
  }
 ],
 "metadata": {
  "kernelspec": {
   "display_name": "Python 3",
   "language": "python",
   "name": "python3"
  },
  "language_info": {
   "codemirror_mode": {
    "name": "ipython",
    "version": 3
   },
   "file_extension": ".py",
   "mimetype": "text/x-python",
   "name": "python",
   "nbconvert_exporter": "python",
   "pygments_lexer": "ipython3",
   "version": "3.8.6"
  }
 },
 "nbformat": 4,
 "nbformat_minor": 4
}
