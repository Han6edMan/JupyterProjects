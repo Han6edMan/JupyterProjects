{
 "cells": [
  {
   "cell_type": "code",
   "execution_count": 18,
   "metadata": {},
   "outputs": [],
   "source": [
    "import tensorflow as tf\n",
    "import tensorflow.nn as nn"
   ]
  },
  {
   "cell_type": "markdown",
   "metadata": {},
   "source": [
    "<div align=center>\n",
    "\n",
    "# Activation Functions\n",
    "</div>"
   ]
  },
  {
   "cell_type": "markdown",
   "metadata": {},
   "source": [
    "# tf.nn.sigmoid()\n",
    "`tf.nn.sigmoid(x, name=None)`\n",
    "\n",
    "**Docstring**:\n",
    "\n",
    "`x`应为任意形状的`float16`、`float32`、`float64`、`complex64`、`complex128`的`Tensor`；返回值与`x`类型相同；该函数等价于`scipy.special.expit`\n",
    "\n",
    "\n",
    "**File**:    \\tensorflow\\lib\\site-packages\\tensorflow\\python\\ops\\math_ops.py\n",
    "\n",
    "**Type**:      function"
   ]
  },
  {
   "cell_type": "code",
   "execution_count": null,
   "metadata": {},
   "outputs": [],
   "source": [
    "x = tf.constant([[1., 2.], [3., 4.]])\n",
    "print(tf.nn.sigmoid(x))"
   ]
  },
  {
   "cell_type": "markdown",
   "metadata": {},
   "source": [
    "#  "
   ]
  },
  {
   "cell_type": "markdown",
   "metadata": {},
   "source": [
    "# tf.nn.relu()\n",
    "`tf.nn.relu(features, name=None)`\n",
    "\n",
    "**Docstring**:\n",
    "\n",
    "`features`应为任意形状的`float32`, `float64`, `int32`, `uint8`, `int16`, `int8`, `int64`, `bfloat16`, `uint16`, `half`, `uint32`, `uint64`, `qint8`的`Tensor`；返回值与`feature`类型相同；\n",
    "\n",
    "**File**:   \\tensorflow\\lib\\site-packages\\tensorflow\\python\\ops\\gen_nn_ops.py\n",
    "\n",
    "**Type**:      function"
   ]
  },
  {
   "cell_type": "code",
   "execution_count": null,
   "metadata": {
    "scrolled": true
   },
   "outputs": [],
   "source": [
    "x = tf.constant([[-1, 0, 1], [-3, -5, 7]])\n",
    "print(tf.nn.relu(x))"
   ]
  },
  {
   "cell_type": "markdown",
   "metadata": {},
   "source": [
    "#  "
   ]
  },
  {
   "cell_type": "code",
   "execution_count": null,
   "metadata": {},
   "outputs": [],
   "source": [
    "tf.nn.leaky_relu()"
   ]
  }
 ],
 "metadata": {
  "kernelspec": {
   "display_name": "Python 3",
   "language": "python",
   "name": "python3"
  },
  "language_info": {
   "codemirror_mode": {
    "name": "ipython",
    "version": 3
   },
   "file_extension": ".py",
   "mimetype": "text/x-python",
   "name": "python",
   "nbconvert_exporter": "python",
   "pygments_lexer": "ipython3",
   "version": "3.8.6"
  }
 },
 "nbformat": 4,
 "nbformat_minor": 4
}
