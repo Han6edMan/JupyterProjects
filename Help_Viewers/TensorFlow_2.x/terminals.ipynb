{
 "cells": [
  {
   "cell_type": "markdown",
   "metadata": {},
   "source": [
    "## 安装 tensorflow\n",
    "\n",
    "```shell\n",
    "conda create -n tensorflow2.x python=3.7\n",
    "conda activate tensorflow2.x\n",
    "pip install tensorflow==2.x -i <source path>\n",
    "```\n",
    "######  \n",
    "\n",
    "\n",
    "## 在 tensorflow 环境使用 jupyter\n",
    "\n",
    "```shell\n",
    "conda install ipython jupyter -y\n",
    "[ipython kernelspec install-self --user]\n",
    "```\n"
   ]
  }
 ],
 "metadata": {
  "kernelspec": {
   "display_name": "Python 3",
   "language": "python",
   "name": "python3"
  },
  "language_info": {
   "codemirror_mode": {
    "name": "ipython",
    "version": 3
   },
   "file_extension": ".py",
   "mimetype": "text/x-python",
   "name": "python",
   "nbconvert_exporter": "python",
   "pygments_lexer": "ipython3",
   "version": "3.7.7"
  }
 },
 "nbformat": 4,
 "nbformat_minor": 4
}