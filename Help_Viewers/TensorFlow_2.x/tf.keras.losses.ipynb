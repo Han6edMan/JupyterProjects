{
 "cells": [
  {
   "cell_type": "code",
   "execution_count": 1,
   "metadata": {},
   "outputs": [],
   "source": [
    "import tensorflow as tf"
   ]
  },
  {
   "cell_type": "markdown",
   "metadata": {},
   "source": [
    "### `tf.keras.losses`可以直接以`tf.losses`形式调用"
   ]
  },
  {
   "cell_type": "markdown",
   "metadata": {},
   "source": [
    "# tf.keras.losses.categorical_crossentropy()\n",
    "```python\n",
    "tf.keras.losses.categorical_crossentropy(\n",
    "    y_true,\n",
    "    y_pred,\n",
    "    from_logits=False,\n",
    "    label_smoothing=0,\n",
    ")\n",
    "```\n",
    "\n",
    "**Args**:\n",
    "\n",
    "- y_true: 独热码形式的真值\n",
    "- y_pred: 预测值\n",
    "- from_logits: `y_pred`是否为 logits 张量，默认情况下假设`y_pred`各元素服从一个概率分布\n",
    "- label_smoothing: 应为 [0, 1] 区间的浮点数，若大于零则对标签进行平滑处理\n",
    "\n",
    "**File**:   \\tensorflow\\lib\\site-packages\\tensorflow\\python\\keras\\losses.py\n",
    "\n",
    "**Type**:      function"
   ]
  }
 ],
 "metadata": {
  "kernelspec": {
   "display_name": "Python 3",
   "language": "python",
   "name": "python3"
  },
  "language_info": {
   "codemirror_mode": {
    "name": "ipython",
    "version": 3
   },
   "file_extension": ".py",
   "mimetype": "text/x-python",
   "name": "python",
   "nbconvert_exporter": "python",
   "pygments_lexer": "ipython3",
   "version": "3.8.6"
  }
 },
 "nbformat": 4,
 "nbformat_minor": 4
}
