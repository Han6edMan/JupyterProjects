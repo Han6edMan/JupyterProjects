{
 "cells": [
  {
   "cell_type": "code",
   "execution_count": 5,
   "metadata": {},
   "outputs": [],
   "source": [
    "import skimage"
   ]
  },
  {
   "cell_type": "markdown",
   "metadata": {},
   "source": [
    "# skimage.transform.rescale()\n",
    "\n",
    "```python\n",
    "skimage.transform.rescale(\n",
    "    image,\n",
    "    scale,\n",
    "    order=1,\n",
    "    mode='reflect',\n",
    "    cval=0,\n",
    "    clip=True,\n",
    "    preserve_range=False,\n",
    "    multichannel=False,\n",
    "    anti_aliasing=True,\n",
    "    anti_aliasing_sigma=None,\n",
    ")\n",
    "```\n",
    "\n",
    "__Docstring__\n",
    "\n",
    "以差值的方式对n维图像进行放大或缩小，并以 ndarray 的形式返回；需要注意的是，缩小图像时应将`anti_aliasing`设置为真，以避免像素混叠导致图像扭曲；对于带有整数因子的向下采样(down sampling)，请参见`skimage.transform.downscale_local_mean`.\n",
    "\n",
    "**Args**\n",
    "\n",
    "- image: 输入图像\n",
    "\n",
    "- scale: 放缩的比例，可以是浮点数或浮点数构成的元组`(rows, cols[, ...][, dim])`.\n",
    "\n",
    "- order: 样条插值的阶数，必须在 $[0, 5]$ 区间内，详见`skimage.transform.warp`\n",
    "\n",
    "- mode: 输入图像的边界外的点填充的模式，可以为`constant`、`edge`、`symmetric`、`reflect`、`wrap`，模式内容详见`numpy.pad`\n",
    "\n",
    "- cval: `constant`模式下边界外的填充值\n",
    "\n",
    "- clip: 是否将输出图像像素值 clip 到输入图像的像素值取值范围，默认为真\n",
    "    \n",
    "- preserve_range: 是否保持值的原始范围。否则，将根据`img_as_float`的约定转换输入图像，另见 https://scikit-image.org/docs/dev/user_guide/data_types.html\n",
    "\n",
    "multichannel : bool, optional\n",
    "    Whether the last axis of the image is to be interpreted as multiple\n",
    "    channels or another spatial dimension.\n",
    "anti_aliasing : bool, optional\n",
    "    Whether to apply a Gaussian filter to smooth the image prior to\n",
    "    down-scaling. It is crucial to filter when down-sampling the image to\n",
    "    avoid aliasing artifacts.\n",
    "anti_aliasing_sigma : {float, tuple of floats}, optional\n",
    "    Standard deviation for Gaussian filtering to avoid aliasing artifacts.\n",
    "    By default, this value is chosen as (1 - s) / 2 where s is the\n",
    "    down-scaling factor.\n",
    "\n",
    "Notes\n",
    "-----\n",
    "Modes 'reflect' and 'symmetric' are similar, but differ in whether the edge\n",
    "pixels are duplicated during the reflection.  As an example, if an array\n",
    "has values [0, 1, 2] and was padded to the right by four values using\n",
    "symmetric, the result would be [0, 1, 2, 2, 1, 0, 0], while for reflect it\n",
    "would be [0, 1, 2, 1, 0, 1, 2].\n",
    "\n",
    "\n",
    "**Type**\n",
    "\n",
    "function"
   ]
  },
  {
   "cell_type": "code",
   "execution_count": 14,
   "metadata": {},
   "outputs": [
    {
     "name": "stdout",
     "output_type": "stream",
     "text": [
      "(512, 512)\n",
      "(256, 256)\n"
     ]
    }
   ],
   "source": [
    "from skimage import data\n",
    "from skimage.transform import rescale\n",
    "image = data.camera()\n",
    "print(image.shape)\n",
    "rsgd_img = rescale(image, 0.5)\n",
    "print(rsgd_img.shape)"
   ]
  },
  {
   "cell_type": "code",
   "execution_count": null,
   "metadata": {},
   "outputs": [],
   "source": []
  }
 ],
 "metadata": {
  "kernelspec": {
   "display_name": "Python 3",
   "language": "python",
   "name": "python3"
  },
  "language_info": {
   "codemirror_mode": {
    "name": "ipython",
    "version": 3
   },
   "file_extension": ".py",
   "mimetype": "text/x-python",
   "name": "python",
   "nbconvert_exporter": "python",
   "pygments_lexer": "ipython3",
   "version": "3.7.7"
  }
 },
 "nbformat": 4,
 "nbformat_minor": 4
}
