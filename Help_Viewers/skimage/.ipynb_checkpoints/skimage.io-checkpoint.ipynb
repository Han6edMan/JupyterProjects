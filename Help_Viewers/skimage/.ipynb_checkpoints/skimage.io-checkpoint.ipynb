{
 "cells": [
  {
   "cell_type": "code",
   "execution_count": 5,
   "metadata": {},
   "outputs": [],
   "source": [
    "import skimage"
   ]
  },
  {
   "cell_type": "markdown",
   "metadata": {
    "scrolled": true
   },
   "source": [
    "# skimage.io.imread()\n",
    "\n",
    "`skimage.io.imread(fname, as_gray=False, plugin=None, **plugin_args)`\n",
    "\n",
    "__Docstring__\n",
    "\n",
    "从文件中加载图像，并返回 ndarray 数组，其中不同的color bands/channels存储在第三维中，即灰度图像返回 $M \\times N$ 大小的数组，RGB 图像返回 $M \\times N \\times 3$ 大小的数组，RGBA 图像返回 $M \\times N \\times 4$ 大小的数组\n",
    "\n",
    "**Args**\n",
    "\n",
    "- fname: 图像文件名称或 URL\n",
    "\n",
    "- as_gray: 为真时将彩色图片转换为灰度图片(64-bit floats)，而已经是灰度图片的图片并不会发生改动\n",
    "\n",
    "- plugin: 要使用的插件名称，默认从`imageio`开始查找并进行尝试，直至找到一个合适的候选插件；若未指明且`fname`是一个`tiff`文件，则会使用`tifffile`插件\n",
    "\n",
    "- plugin_args: 传递给定的插件\n",
    "\n",
    "__Type__\n",
    "\n",
    "function"
   ]
  },
  {
   "cell_type": "code",
   "execution_count": null,
   "metadata": {},
   "outputs": [],
   "source": []
  }
 ],
 "metadata": {
  "kernelspec": {
   "display_name": "Python 3",
   "language": "python",
   "name": "python3"
  },
  "language_info": {
   "codemirror_mode": {
    "name": "ipython",
    "version": 3
   },
   "file_extension": ".py",
   "mimetype": "text/x-python",
   "name": "python",
   "nbconvert_exporter": "python",
   "pygments_lexer": "ipython3",
   "version": "3.7.7"
  }
 },
 "nbformat": 4,
 "nbformat_minor": 4
}
