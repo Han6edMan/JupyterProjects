{
 "cells": [
  {
   "cell_type": "code",
   "execution_count": null,
   "metadata": {},
   "outputs": [],
   "source": [
    "import random, numpy\n",
    "\n",
    "\n",
    "# 大小写转换:\n",
    "# temp = \"John von Neumann\"\n",
    "# print(temp.title())\n",
    "# print(temp.upper())\n",
    "# print(temp.lower())\n",
    "\n",
    "\n",
    "# 前后空格的去除:\n",
    "# temp = \"        John von Neumann       \"\n",
    "# print(\"rstrip:\", temp.rstrip(), \"End\")\n",
    "# print(\"lstrip:\", temp.lstrip(), \"End\")\n",
    "# print(\"strip:\", temp.rstrip(), \"End\")\n",
    "\n",
    "\n",
    "# 字符串的元素只可读不可写:\n",
    "# print(str[2])\n",
    "\n",
    "\n",
    "# 字符串中元素的查找:\n",
    "# print(str.find(\"s\"), str.find('l'), \"(没有该元素时返回-1)\")\n",
    "\n",
    "\n",
    "# 字符串的提取:\n",
    "# print(str[:10], \"\\n\", str[6:], \"\\n\", str[2:10], \"\\n\", str[2:10:2], \"\\n\", str[::-1])\n",
    "\n",
    "\n",
    "# 字符串的分割:\n",
    "# print(str.split(' '))\n",
    "# print(str.join(['2333333 ','233333']))\n",
    "\n",
    "\n",
    "# 字符串的输出\n",
    "print(\"Marry has {} lambs, which are {n1}, {n2} and \"\n",
    "      \"{}\".format(3, \"Cot\", n2=\"Bill\", n1=\"Lily\"))\n",
    "print(\"Mary has %d lambs\" % (3))\n"
   ]
  }
 ],
 "metadata": {
  "kernelspec": {
   "display_name": "Python 3",
   "language": "python",
   "name": "python3"
  },
  "language_info": {
   "codemirror_mode": {
    "name": "ipython",
    "version": 3
   },
   "file_extension": ".py",
   "mimetype": "text/x-python",
   "name": "python",
   "nbconvert_exporter": "python",
   "pygments_lexer": "ipython3",
   "version": "3.7.7"
  }
 },
 "nbformat": 4,
 "nbformat_minor": 4
}
