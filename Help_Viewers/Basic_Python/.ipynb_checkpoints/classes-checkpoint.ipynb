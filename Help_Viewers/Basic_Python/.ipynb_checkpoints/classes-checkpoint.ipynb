{
 "cells": [
  {
   "cell_type": "code",
   "execution_count": 2,
   "metadata": {},
   "outputs": [],
   "source": [
    "import enum"
   ]
  },
  {
   "cell_type": "markdown",
   "metadata": {},
   "source": [
    "# 简例"
   ]
  },
  {
   "cell_type": "code",
   "execution_count": 22,
   "metadata": {},
   "outputs": [],
   "source": [
    "class Gender(enum.Enum):\n",
    "    male = 0\n",
    "    female = 1\n",
    "\n",
    "\n",
    "class Person():\n",
    "    def __init__(self, name, age):\n",
    "        self.name = name\n",
    "        self.gender = Gender.male\n",
    "        self.age = age\n",
    "        self.weight = 0\n",
    "\n",
    "    def description(self):\n",
    "        assert self.gender in (Gender.male, Gender.female)\n",
    "        s = \"age:\\t\\t{0}\\nName:\\t\\t{1}\\n\".format(self.age, self.name)\n",
    "        t = \"Gender:\\t\\t{0}\\nBodyWeight:\\t{1}\".format(\"Male\" if self.gender==Gender.male else \"Female\", self.weight)\n",
    "        return s+t"
   ]
  },
  {
   "cell_type": "code",
   "execution_count": null,
   "metadata": {
    "scrolled": true
   },
   "outputs": [],
   "source": [
    "xw = Person(\"Xaniel Wang\", \"21\")\n",
    "print(xw.description())"
   ]
  },
  {
   "cell_type": "markdown",
   "metadata": {},
   "source": [
    "#### python可以自动为实例化的对象添加属性(字段)"
   ]
  },
  {
   "cell_type": "code",
   "execution_count": null,
   "metadata": {
    "scrolled": false
   },
   "outputs": [],
   "source": [
    "xw.height = 170\n",
    "for k, v in xw.__dict__.items():\n",
    "    print(\"key:{}\\nvalue:{}\\n\".format(k, v))"
   ]
  },
  {
   "cell_type": "markdown",
   "metadata": {},
   "source": [
    "# 继承"
   ]
  },
  {
   "cell_type": "markdown",
   "metadata": {},
   "source": [
    "#### 子类构造函数调用父类构造函数"
   ]
  },
  {
   "cell_type": "code",
   "execution_count": null,
   "metadata": {
    "scrolled": true
   },
   "outputs": [],
   "source": [
    "class Chinese(Person):\n",
    "    def __init__(self, name, age, province):\n",
    "        \n",
    "        '''\n",
    "        两种继承方法:\n",
    "        <parent's name>.__init__(self, param1, param2, ...)\n",
    "        super(<child's name>, self).__init__(param1, param2, ...)\n",
    "        '''\n",
    "        super(Chinese, self).__init__(name, age)\n",
    "        # or:\n",
    "        # Person.__init__(self, name, age)\n",
    "        \n",
    "        self.province = province\n",
    "        \n",
    "xw = Chinese(\"Xaniel Wang\", 21, \"Hebei\")\n",
    "\n",
    "for k, v in xw.__dict__.items():\n",
    "    print(\"key:{}\\nvalue:{}\\n\".format(k, v))"
   ]
  },
  {
   "cell_type": "markdown",
   "metadata": {},
   "source": [
    "#### 函数重写"
   ]
  },
  {
   "cell_type": "code",
   "execution_count": 40,
   "metadata": {},
   "outputs": [
    {
     "name": "stdout",
     "output_type": "stream",
     "text": [
      "key:state\n",
      "value:New York\n",
      "\n"
     ]
    }
   ],
   "source": [
    "class American(Person):\n",
    "    def __init__(self, name, age, state):\n",
    "        self.state = state\n",
    "    \n",
    "    def description(self):\n",
    "        script = \"name: {}\\nage: {}\\ngender: {}\\nweight: {}\\nprovince: {}\".format\\\n",
    "        (self.name, self.age, self.gender, self.weight, self.province)\n",
    "        return script\n",
    "        # American类的description函数运行会报错\n",
    "\n",
    "PP = American(\"Peter Porker\", 18, \"New York\")\n",
    "\n",
    "for k, v in PP.__dict__.items():\n",
    "    print(\"key:{}\\nvalue:{}\\n\".format(k, v))"
   ]
  },
  {
   "cell_type": "code",
   "execution_count": null,
   "metadata": {},
   "outputs": [],
   "source": []
  }
 ],
 "metadata": {
  "kernelspec": {
   "display_name": "Python 3",
   "language": "python",
   "name": "python3"
  },
  "language_info": {
   "codemirror_mode": {
    "name": "ipython",
    "version": 3
   },
   "file_extension": ".py",
   "mimetype": "text/x-python",
   "name": "python",
   "nbconvert_exporter": "python",
   "pygments_lexer": "ipython3",
   "version": "3.7.7"
  }
 },
 "nbformat": 4,
 "nbformat_minor": 4
}
