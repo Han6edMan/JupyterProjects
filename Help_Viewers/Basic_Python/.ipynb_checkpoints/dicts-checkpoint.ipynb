{
 "cells": [
  {
   "cell_type": "code",
   "execution_count": null,
   "metadata": {},
   "outputs": [],
   "source": [
    "import os  # Operating System\n",
    "\n",
    "# 字典的一种使用方法\n",
    "# dora = {\"id\": \"10003\", \"name\": \"Dora Chen\", \"gender\": \"female\",\n",
    "#         \"age\": 12, \"title\": \"Sales\"}\n",
    "# sHtml = \"\"\"\n",
    "# <html>\n",
    "# <head>\n",
    "#     <title>Employee {name}'s information</title>\n",
    "# </head>\n",
    "# <body>\n",
    "#     <h1>Employee {name}'s information</h1>\n",
    "#     <hr>\n",
    "#     <table border=1 width=\"100%\">\n",
    "#         <tr>\n",
    "#             <td>ID:</td>\n",
    "#             <td>{id}</td>\n",
    "#             <td>Name:</td>\n",
    "#             <td>{name}</td>\n",
    "#             <td>Age</td>\n",
    "#             <td>{age}</td>\n",
    "#         </tr>\n",
    "#         <tr>\n",
    "#             <td>Gender:</td>\n",
    "#             <td>{gender}</td>\n",
    "#             <td>Title:</td>\n",
    "#             <td colspan=3>{title}</td>\n",
    "#         </tr>\n",
    "#     </table>\n",
    "# </body>\n",
    "# </html>\n",
    "# \"\"\"\n",
    "# f = open(\"dora.htm\", \"w\")\n",
    "# f.write(sHtml.format_map(dora))\n",
    "# f.close()\n",
    "#\n",
    "# os.system(\"explorer dora.htm\")\n",
    "\n",
    "\n",
    "# 初始化字典时设置unknown为默认值\n",
    "# d = dict.fromkeys([\"id\", \"name\", \"age\"], \"unknown\")\n",
    "# d1 = {}.fromkeys([\"id\", \"name\", \"age\"], \"unknown\")\n",
    "# print(d, \"\\n\", d1)\n",
    "\n",
    "\n",
    "# 字典的更新\n",
    "# dora = {\"id\": \"10003\", \"gender\": \"female\", \"title\": \"Sales\",\n",
    "#         \"age\": 32}\n",
    "# doraUpdate = {\"id\": \"10003\", \"name\": \"Dora Chen\", \"gender\": \"female\",\n",
    "#               \"age\": 33, \"title\": \"CEO\"}\n",
    "# dora.update(doraUpdate)\n",
    "# print(dora)\n",
    "\n",
    "\n",
    "# 字典的遍历\n",
    "# dora = {\"id\": \"10003\", \"name\": \"Dora Chen\", \"gender\": \"female\",\n",
    "#         \"age\": 33, \"title\": \"CEO\"}\n",
    "# for i in dora:\n",
    "#     print(i, end=\",\")\n",
    "# print(\"-\"*70)\n",
    "# for i in dora.keys():\n",
    "#     print(i, end=\",\")\n",
    "# print(\"-\"*70)\n",
    "# for i in dora.values():\n",
    "#     print(i, end=\",\")\n",
    "# print(\"-\"*70)\n",
    "# for key, value in dora.items():\n",
    "#     print(key,\"-\", value)"
   ]
  },
  {
   "cell_type": "markdown",
   "metadata": {},
   "source": [
    "## 基本说明"
   ]
  },
  {
   "cell_type": "markdown",
   "metadata": {},
   "source": [
    "- 字典储存的是键值对 (Key-Value Pair) : {\"key\": value, ... }\n",
    "- 对字典内部的查找依靠 Hash 算法实现映射，故 Key 必须是可 Hash类型，如整形、浮点型、字符串、元组，而 value 可以是任意类型"
   ]
  },
  {
   "cell_type": "markdown",
   "metadata": {},
   "source": [
    "## 常见操作"
   ]
  },
  {
   "cell_type": "markdown",
   "metadata": {},
   "source": [
    "#### 字典的创建"
   ]
  },
  {
   "cell_type": "code",
   "execution_count": 4,
   "metadata": {
    "scrolled": true
   },
   "outputs": [
    {
     "name": "stdout",
     "output_type": "stream",
     "text": [
      "{'string': 'Value can be any value type', 'float': 2.3, 'list': range(0, 10), 'tuple': ('Python', 2.4), 'key': 'value', 'dict': {'bool': True}}\n",
      "dict_items([('string', 'Value can be any value type'), ('float', 2.3), ('list', range(0, 10)), ('tuple', ('Python', 2.4)), ('key', 'value'), ('dict', {'bool': True})])\n",
      "dict_keys(['string', 'float', 'list', 'tuple', 'key', 'dict'])\n",
      "dict_values(['Value can be any value type', 2.3, range(0, 10), ('Python', 2.4), 'value', {'bool': True}])\n"
     ]
    }
   ],
   "source": [
    "dicts = {'string': \"Value can be any value type\",\n",
    "         \"float\": 2.3,\n",
    "         \"list\": range(10),\n",
    "         \"tuple\": (\"Python\", 2.4),\n",
    "         \"key\": \"value\",\n",
    "         \"dict\": {\"bool\": True}}\n",
    "# 输出所有键值对\n",
    "\n",
    "print(dicts.items())\n",
    "# 输出键\n",
    "print(dicts.keys())\n",
    "# 输出值\n",
    "print(dicts.values())\n",
    "# adict[3] = \"int\"\n",
    "# del adict[\"float\"]\n",
    "# print(adict, \"\\ntype:\", type(adict))\n",
    "# print(adict.get(\"newKey\",1))  # 当该键不存在时返回后面的数值\n",
    "\n",
    "# items = [(\"name\", \"Dorothy\"), (\"id\", \"10003\"), (\"age\", 26),\n",
    "#          (\"location\", (12, 23)), (\"list\", [2, 3, 4, 6])]\n",
    "# adict = dict(items)  # 将元组转换为列表时，元组只能为二元元组\n",
    "# print(adict)"
   ]
  },
  {
   "cell_type": "markdown",
   "metadata": {},
   "source": [
    "#### 输出所有键值对"
   ]
  },
  {
   "cell_type": "code",
   "execution_count": null,
   "metadata": {},
   "outputs": [],
   "source": [
    "print(dicts)"
   ]
  },
  {
   "cell_type": "markdown",
   "metadata": {},
   "source": [
    "#### 输出值"
   ]
  },
  {
   "cell_type": "code",
   "execution_count": null,
   "metadata": {},
   "outputs": [],
   "source": []
  }
 ],
 "metadata": {
  "kernelspec": {
   "display_name": "Python 3",
   "language": "python",
   "name": "python3"
  },
  "language_info": {
   "codemirror_mode": {
    "name": "ipython",
    "version": 3
   },
   "file_extension": ".py",
   "mimetype": "text/x-python",
   "name": "python",
   "nbconvert_exporter": "python",
   "pygments_lexer": "ipython3",
   "version": "3.7.7"
  }
 },
 "nbformat": 4,
 "nbformat_minor": 4
}
