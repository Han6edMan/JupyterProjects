{
 "cells": [
  {
   "cell_type": "code",
   "execution_count": 6,
   "metadata": {},
   "outputs": [
    {
     "name": "stdout",
     "output_type": "stream",
     "text": [
      "True False True\n"
     ]
    }
   ],
   "source": [
    "import pprint\n",
    "\n",
    "\n",
    "# help(\"assert\")\n",
    "\n",
    "def initPerson(person, ID, name, age, gender, title):\n",
    "    assert type(person) == dict\n",
    "    person[\"ID\"] = ID\n",
    "    person[\"name\"] = name\n",
    "    person[\"gender\"] = gender\n",
    "    person[\"age\"] = age\n",
    "    person[\"title\"] = title\n",
    "    person[\"salaries\"] = []\n",
    "\n",
    "\n",
    "# 任意数量参数，*表示接受之后所有参数，并以tuple的形式储存；*contents后如果要继续加参数，在使用方法时应以参数指派的形式调用\n",
    "def myprint(title, *contents, another):\n",
    "    print(title, \":\")\n",
    "    for content in contents:\n",
    "        print(\"\\t\", content)\n",
    "    print(another)\n",
    "\n",
    "\n",
    "# myprint(\"Read-only data types\", \"int\", \"float\", \"string\", \"tuple\", \"bytes\", another=3)\n",
    "\n",
    "\n",
    "def myprint(title, **content):  # python没有函数多态，命名相同会导致函数被重写\n",
    "    print(title, \":\")\n",
    "    for key, value in content.items():\n",
    "        print(\"{:>10}\".format(key), \"\\t\", value)\n",
    "\n",
    "\n",
    "# myprint(\"Dora's information:\", name=\"dora chen\", age=26, salary=10000)\n",
    "\n",
    "\n",
    "def myPrint(title, name, gender, age, salary):\n",
    "    print(title, \":\")\n",
    "    print(\"name:\\t\", name)\n",
    "    print(\"gender:\\t\", gender)\n",
    "    print(\"age:\\t\", age)\n",
    "    print(\"salary\\t:\", salary)\n",
    "    print(\"name:\\t\", name)\n",
    "\n",
    "\n",
    "# dora = (\"Dora's Info\", \"Dora Chen\", \"female\", 26, 10000)\n",
    "# myPrint(*dora)\n",
    "# print(*dora)\n",
    "# dora = dict(name=\"Dora Chen\", gender=\"female\", age=26, salary=10000)\n",
    "# myPrint(\"Dora's Info\", **dora)\n",
    "\n",
    "\n",
    "#\n",
    "\n",
    "\n",
    "# 作用域\n",
    "def funcScope():\n",
    "    x = dict(name=\"x\", value=13)\n",
    "    pprint.pprint(vars())\n",
    "    print(\"local x:\",x)\n",
    "    print(\"global x:\",globals()[\"x\"])\n",
    "\n",
    "\n",
    "\n",
    "print(callable(funcScope), callable(temp), callable(sqrt))\n",
    "\n",
    "\n",
    "# x = 2\n",
    "# funcScope()\n",
    "# scope = vars()\n",
    "# pprint.pprint(scope)\n",
    "# print(\"&\"*80)\n",
    "# help(vars())"
   ]
  },
  {
   "cell_type": "code",
   "execution_count": null,
   "metadata": {},
   "outputs": [],
   "source": []
  }
 ],
 "metadata": {
  "kernelspec": {
   "display_name": "Python 3",
   "language": "python",
   "name": "python3"
  },
  "language_info": {
   "codemirror_mode": {
    "name": "ipython",
    "version": 3
   },
   "file_extension": ".py",
   "mimetype": "text/x-python",
   "name": "python",
   "nbconvert_exporter": "python",
   "pygments_lexer": "ipython3",
   "version": "3.7.7"
  }
 },
 "nbformat": 4,
 "nbformat_minor": 4
}
