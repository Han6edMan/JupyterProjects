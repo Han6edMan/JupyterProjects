{
 "cells": [
  {
   "cell_type": "code",
   "execution_count": 3,
   "metadata": {},
   "outputs": [],
   "source": [
    "import sklearn"
   ]
  },
  {
   "cell_type": "markdown",
   "metadata": {},
   "source": [
    "# - sklearn.model_selection\n",
    "\n",
    "**PACKAGE**\n",
    "\n",
    "- \\_search\n",
    "- \\_split\n",
    "- \\_validation\n",
    "- tests (package)\n",
    "\n",
    "**CLASSES**\n",
    "- builtins.object\n",
    "    - sklearn.model_selection.\\_search.ParameterGrid\n",
    "    - sklearn.model_selection.\\_search.ParameterSampler\n",
    "    - sklearn.model_selection.\\_split.BaseCrossValidator\n",
    "        - sklearn.model_selection.\\_split.LeaveOneGroupOut\n",
    "        - sklearn.model_selection.\\_split.LeaveOneOut\n",
    "        - sklearn.model_selection.\\_split.LeavePGroupsOut\n",
    "        - sklearn.model_selection.\\_split.LeavePOut\n",
    "        - sklearn.model_selection.\\_split.PredefinedSplit\n",
    "- sklearn.model_selection._search.BaseSearchCV(sklearn.base.MetaEstimatorMixin, sklearn.base.BaseEstimator)\n",
    "    - sklearn.model_selection._search.GridSearchCV\n",
    "    - sklearn.model_selection._search.RandomizedSearchCV\n",
    "- sklearn.model_selection.\\_split.BaseShuffleSplit(builtins.object)\n",
    "    - sklearn.model_selection.\\_split.ShuffleSplit\n",
    "        - sklearn.model_selection.\\_split.GroupShuffleSplit\n",
    "    - sklearn.model_selection.\\_split.StratifiedShuffleSplit\n",
    "- sklearn.model_selection.\\_split._BaseKFold(sklearn.model_selection.\\_split.BaseCrossValidator)\n",
    "    - sklearn.model_selection.\\_split.GroupKFold\n",
    "    - sklearn.model_selection.\\_split.KFold\n",
    "    - sklearn.model_selection.\\_split.StratifiedKFold\n",
    "    - sklearn.model_selection.\\_split.TimeSeriesSplit\n",
    "- sklearn.model_selection.\\_split._RepeatedSplits(builtins.object)\n",
    "    - sklearn.model_selection.\\_split.RepeatedKFold\n",
    "    - sklearn.model_selection.\\_split.RepeatedStratifiedKFold\n",
    "    \n",
    "**FUNCTIONS**\n",
    "\n",
    "- check_cv\n",
    "\n",
    "- cross_val_predict\n",
    "\n",
    "- cross_val_score\n",
    "\n",
    "- cross_validate\n",
    "\n",
    "- fit_grid_point\n",
    "\n",
    "- learning_curve\n",
    "\n",
    "- permutation_test_score\n",
    "\n",
    "- train_test_split\n",
    "\n",
    "- validation_curve\n",
    "    "
   ]
  },
  {
   "cell_type": "markdown",
   "metadata": {},
   "source": [
    "#  "
   ]
  },
  {
   "cell_type": "markdown",
   "metadata": {},
   "source": [
    "# sklearn.model_selection.\\_split\n",
    "\n",
    "**DESCRIPTION**\n",
    "\n",
    "The `sklearn.model_selection._split` module includes classes and\n",
    "functions to split the data based on a preset strategy.\n",
    "\n",
    "**CLASSES**\n",
    "\n",
    "- BaseCrossValidator(builtins.object)\n",
    "    - LeaveOneGroupOut\n",
    "    - LeaveOneOut\n",
    "    - LeavePGroupsOut\n",
    "    - LeavePOut\n",
    "    - PredefinedSplit\n",
    "    - \\_BaseKFold\n",
    "        - GroupKFold\n",
    "        - KFold\n",
    "        - StratifiedKFold\n",
    "- BaseShuffleSplit(builtins.object)\n",
    "    - ShuffleSplit\n",
    "        - GroupShuffleSplit\n",
    "    - StratifiedShuffleSplit\n",
    "\n",
    "- \\_RepeatedSplits(builtins.object)\n",
    "    - RepeatedKFold\n",
    "    - RepeatedStratifiedKFold\n",
    "    \n",
    "**FUNCTIONS**\n",
    "\n",
    "- check_cv(cv=5, y=None, \\*, classifier=False)\n",
    "\n",
    "- train_test_split(\\*arrays, \\*\\*options)"
   ]
  },
  {
   "cell_type": "code",
   "execution_count": 11,
   "metadata": {},
   "outputs": [
    {
     "data": {
      "text/plain": [
       "ShuffleSplit(n_splits=10, random_state=None, test_size=None, train_size=None)"
      ]
     },
     "execution_count": 11,
     "metadata": {},
     "output_type": "execute_result"
    }
   ],
   "source": [
    "sklearn.model_selection._split.KFold()"
   ]
  }
 ],
 "metadata": {
  "kernelspec": {
   "display_name": "Python 3",
   "language": "python",
   "name": "python3"
  },
  "language_info": {
   "codemirror_mode": {
    "name": "ipython",
    "version": 3
   },
   "file_extension": ".py",
   "mimetype": "text/x-python",
   "name": "python",
   "nbconvert_exporter": "python",
   "pygments_lexer": "ipython3",
   "version": "3.7.7"
  }
 },
 "nbformat": 4,
 "nbformat_minor": 4
}
