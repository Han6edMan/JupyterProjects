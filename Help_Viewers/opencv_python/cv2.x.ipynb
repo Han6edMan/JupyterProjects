{
 "cells": [
  {
   "cell_type": "code",
   "execution_count": 1,
   "metadata": {},
   "outputs": [],
   "source": [
    "import cv2"
   ]
  },
  {
   "cell_type": "markdown",
   "metadata": {},
   "source": [
    "# cv2.imread()\n",
    "`imread(filename, flags=None, /) -> retval`\n",
    "\n",
    "**Docstring**\n",
    "\n",
    "从指定的文件中加载一个图片并将其返回；若由于文件丢失、不正确的访问权限、不支持或无效的格式等原因导致该图片无法读取，该函数会返回一个空矩阵；目前支持的文件格式有\n",
    "\n",
    " \n",
    " -   Windows bitmaps - \\*.bmp, \\*.dib (always supported)\n",
    " -   JPEG files - \\*.jpeg, \\*.jpg, \\*.jpe (see the *Note* section)\n",
    " -   JPEG 2000 files - \\*.jp2 (see the *Note* section)\n",
    " -   Portable Network Graphics - \\*.png (see the *Note* section)\n",
    " -   WebP - \\*.webp (see the *Note* section)\n",
    " -   Portable image format - \\*.pbm, \\*.pgm, \\*.ppm \\*.pxm, \\*.pnm (always supported)\n",
    " -   PFM files - \\*.pfm (see the *Note* section)\n",
    " -   Sun rasters - \\*.sr, \\*.ras (always supported)\n",
    " -   TIFF files - \\*.tiff, \\*.tif (see the *Note* section)\n",
    " -   OpenEXR Image files - \\*.exr (see the *Note* section)\n",
    " -   Radiance HDR - \\*.hdr, \\*.pic (always supported)\n",
    " -   Raster and Vector geospatial data supported by GDAL (see the *Note* section)\n",
    " \n",
    " @note\n",
    " -   The function determines the type of an image by the content, not by the file extension.\n",
    " -   In the case of color images, the decoded images will have the channels stored in **B G R** order.\n",
    " -   When using IMREAD_GRAYSCALE, the codec's internal grayscale conversion will be used, if available. Results may differ to the output of cvtColor()\n",
    " -   On Microsoft Windows\\* OS and MacOSX\\*, the codecs shipped with an OpenCV image (libjpeg, libpng, libtiff, and libjasper) are used by default. So, OpenCV can always read JPEGs, PNGs, and TIFFs. On MacOSX, there is also an option to use native MacOSX image readers. But beware that currently these native image loaders give images with different pixel values because of the color management embedded into MacOSX.\n",
    " -   On Linux\\*, BSD flavors and other Unix-like open-source operating systems, OpenCV looks for codecs supplied with an OS image. Install the relevant packages (do not forget the development files, for example, \"libjpeg-dev\", in Debian\\* and Ubuntu\\*) to get the codec support or turn on the OPENCV_BUILD_3RDPARTY_LIBS flag in CMake.\n",
    " -   In the case you set *WITH_GDAL* flag to true in CMake and @ref IMREAD_LOAD_GDAL to load the image, then the [GDAL](http://www.gdal.org) driver will be used in order to decode the image, supporting the following formats: [Raster](http://www.gdal.org/formats_list.html), [Vector](http://www.gdal.org/ogr_formats.html).\n",
    " -   If EXIF information is embedded in the image file, the EXIF orientation will be taken into account and thus the image will be rotated accordingly except if the flags @ref IMREAD_IGNORE_ORIENTATION or @ref IMREAD_UNCHANGED are passed.\n",
    " -   Use the IMREAD_UNCHANGED flag to keep the floating point values from PFM image.\n",
    " -   By default number of pixels must be less than 2^30. Limit can be set using system variable OPENCV_IO_MAX_IMAGE_PIXELS\n",
    " \n",
    "**Args：**\n",
    "\n",
    "- filename: 要加载的图片\n",
    "\n",
    "- flags：可以接受`ImreadModes`值的标记\n",
    "\n",
    "**Type**:      builtin_function_or_method"
   ]
  },
  {
   "cell_type": "markdown",
   "metadata": {},
   "source": [
    "#  "
   ]
  },
  {
   "cell_type": "markdown",
   "metadata": {},
   "source": [
    "#  "
   ]
  },
  {
   "cell_type": "markdown",
   "metadata": {},
   "source": [
    "cv2.namedWindow()\n",
    "Docstring:\n",
    "namedWindow(winname[, flags]) -> None\n",
    ".   @brief Creates a window.\n",
    ".   \n",
    ".   The function namedWindow creates a window that can be used as a placeholder for images and\n",
    ".   trackbars. Created windows are referred to by their names.\n",
    ".   \n",
    ".   If a window with the same name already exists, the function does nothing.\n",
    ".   \n",
    ".   You can call cv::destroyWindow or cv::destroyAllWindows to close the window and de-allocate any associated\n",
    ".   memory usage. For a simple program, you do not really have to call these functions because all the\n",
    ".   resources and windows of the application are closed automatically by the operating system upon exit.\n",
    ".   \n",
    ".   @note\n",
    ".   \n",
    ".   Qt backend supports additional flags:\n",
    ".    -   **WINDOW_NORMAL or WINDOW_AUTOSIZE:** WINDOW_NORMAL enables you to resize the\n",
    ".        window, whereas WINDOW_AUTOSIZE adjusts automatically the window size to fit the\n",
    ".        displayed image (see imshow ), and you cannot change the window size manually.\n",
    ".    -   **WINDOW_FREERATIO or WINDOW_KEEPRATIO:** WINDOW_FREERATIO adjusts the image\n",
    ".        with no respect to its ratio, whereas WINDOW_KEEPRATIO keeps the image ratio.\n",
    ".    -   **WINDOW_GUI_NORMAL or WINDOW_GUI_EXPANDED:** WINDOW_GUI_NORMAL is the old way to draw the window\n",
    ".        without statusbar and toolbar, whereas WINDOW_GUI_EXPANDED is a new enhanced GUI.\n",
    ".   By default, flags == WINDOW_AUTOSIZE | WINDOW_KEEPRATIO | WINDOW_GUI_EXPANDED\n",
    ".   \n",
    ".   @param winname Name of the window in the window caption that may be used as a window identifier.\n",
    ".   @param flags Flags of the window. The supported flags are: (cv::WindowFlags)\n",
    "Type:      builtin_function_or_method"
   ]
  },
  {
   "cell_type": "markdown",
   "metadata": {},
   "source": [
    "#  "
   ]
  },
  {
   "cell_type": "markdown",
   "metadata": {},
   "source": [
    "#  "
   ]
  },
  {
   "cell_type": "markdown",
   "metadata": {},
   "source": [
    "# cv2.imshow()\n",
    "\n",
    "`imshow(winname, mat) -> None`\n",
    "\n",
    "**Docstring**:\n",
    "\n",
    "在指定的窗口中显示图片，若该窗口创建时声明了标记为`WINDOW_AUTOSIZE`，则图像会以其原尺寸的形式进行显示，然而这种方式也会受到屏幕分辨率的限制；其他情况则会将图片进行放缩以适应窗口；该函数可以根据图像的深度对其进行放缩：\n",
    "- 若图片是由无符号的 8 比特像素点构成的，则会以原样进行展示If the image is 8-bit unsigned, it is displayed as is.\n",
    " -   If the image is 16-bit unsigned or 32-bit integer, the pixels are divided by 256. That is, the\n",
    "     value range [0,255\\*256] is mapped to [0,255].\n",
    " -   If the image is 32-bit or 64-bit floating-point, the pixel values are multiplied by 255. That is, the\n",
    "     value range [0,1] is mapped to [0,255].\n",
    " \n",
    " If window was created with OpenGL support, cv::imshow also support ogl::Buffer , ogl::Texture2D and\n",
    " cuda::GpuMat as input.\n",
    "\n",
    "若调用该函数之前没有创建窗口，则\n",
    " If the window was not created before this function, it is assumed creating a window with WINDOW_AUTOSIZE.\n",
    " \n",
    " If you need to show an image that is bigger than the screen resolution, you will need to call namedWindow(\"\", WINDOW_NORMAL) before the imshow.\n",
    " \n",
    " @note This function should be followed by cv::waitKey function which displays the image for specified\n",
    " milliseconds. Otherwise, it won't display the image. For example, **waitKey(0)** will display the window\n",
    " infinitely until any keypress (it is suitable for image display). **waitKey(25)** will display a frame\n",
    " for 25 ms, after which display will be automatically closed. (If you put it in a loop to read\n",
    " videos, it will display the video frame-by-frame)\n",
    " \n",
    " @note\n",
    " \n",
    " [__Windows Backend Only__] Pressing Ctrl+C will copy the image to the clipboard.\n",
    " \n",
    " [__Windows Backend Only__] Pressing Ctrl+S will show a dialog to save the image.\n",
    "\n",
    "**Args**\n",
    "\n",
    "- winname：窗口的名字\n",
    "- mat：要展示的图片\n",
    "\n",
    "**Type**:      builtin_function_or_method"
   ]
  }
 ],
 "metadata": {
  "kernelspec": {
   "display_name": "Python 3",
   "language": "python",
   "name": "python3"
  },
  "language_info": {
   "codemirror_mode": {
    "name": "ipython",
    "version": 3
   },
   "file_extension": ".py",
   "mimetype": "text/x-python",
   "name": "python",
   "nbconvert_exporter": "python",
   "pygments_lexer": "ipython3",
   "version": "3.8.6"
  }
 },
 "nbformat": 4,
 "nbformat_minor": 4
}
