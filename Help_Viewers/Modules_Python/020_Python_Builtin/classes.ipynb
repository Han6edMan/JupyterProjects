{
 "cells": [
  {
   "cell_type": "code",
   "execution_count": 3,
   "metadata": {},
   "outputs": [],
   "source": [
    "import enum"
   ]
  },
  {
   "cell_type": "markdown",
   "metadata": {},
   "source": [
    "# 简例"
   ]
  },
  {
   "cell_type": "code",
   "execution_count": 4,
   "metadata": {},
   "outputs": [],
   "source": [
    "class Gender(enum.Enum):\n",
    "    male = 0\n",
    "    female = 1\n",
    "\n",
    "\n",
    "class Person():\n",
    "    def __init__(self, name, age):\n",
    "        self.name = name\n",
    "        self.gender = Gender.male\n",
    "        self.age = age\n",
    "        self.weight = 0\n",
    "\n",
    "    def description(self):\n",
    "        assert self.gender in (Gender.male, Gender.female)\n",
    "        s = \"age:\\t\\t{0}\\nName:\\t\\t{1}\\n\".format(self.age, self.name)\n",
    "        t = \"Gender:\\t\\t{0}\\nBodyWeight:\\t{1}\".format(\"Male\" if self.gender==Gender.male else \"Female\", self.weight)\n",
    "        return s+t"
   ]
  },
  {
   "cell_type": "code",
   "execution_count": null,
   "metadata": {
    "scrolled": true
   },
   "outputs": [],
   "source": [
    "xw = Person(\"Xaniel Wang\", \"21\")\n",
    "print(xw.description())"
   ]
  },
  {
   "cell_type": "markdown",
   "metadata": {},
   "source": [
    "## 子类构造函数调用父类构造函数"
   ]
  },
  {
   "cell_type": "code",
   "execution_count": null,
   "metadata": {
    "scrolled": true
   },
   "outputs": [],
   "source": [
    "class Chinese(Person):\n",
    "    def __init__(self, name, age, province):\n",
    "        \n",
    "        '''\n",
    "        两种继承方法:\n",
    "        <parent's name>.__init__(self, param1, param2, ...)\n",
    "        super(<child's name>, self).__init__(param1, param2, ...)\n",
    "        '''\n",
    "        super(Chinese, self).__init__(name, age)\n",
    "        # or:\n",
    "        # Person.__init__(self, name, age)\n",
    "        \n",
    "        self.province = province\n",
    "        \n",
    "xw = Chinese(\"Xaniel Wang\", 21, \"Hebei\")\n",
    "\n",
    "for k, v in xw.__dict__.items():\n",
    "    print(\"key:{}\\nvalue:{}\\n\".format(k, v))"
   ]
  },
  {
   "cell_type": "markdown",
   "metadata": {},
   "source": [
    "## 函数重写"
   ]
  },
  {
   "cell_type": "code",
   "execution_count": null,
   "metadata": {},
   "outputs": [],
   "source": [
    "class American(Person):\n",
    "    def __init__(self, name, age, state):\n",
    "        self.name = name\n",
    "        self.state = state\n",
    "    \n",
    "    def build(self):\n",
    "        self.language = \"American\"\n",
    "        self.city = \"New York\"\n",
    "    \n",
    "    def description(self):\n",
    "        script = \"name: {}\\nstate: {}\".format\\\n",
    "        (self.name, self.state)\n",
    "        print(script)\n",
    "\n",
    "\n",
    "PP = American(\"Peter Porker\", 18, \"New York\")\n",
    "PP.description()"
   ]
  },
  {
   "cell_type": "markdown",
   "metadata": {},
   "source": [
    "为对象添加属性"
   ]
  },
  {
   "cell_type": "code",
   "execution_count": null,
   "metadata": {},
   "outputs": [],
   "source": [
    "PP.build()\n",
    "PP.height = 170\n",
    "for k, v in PP.__dict__.items():\n",
    "    print(k, v, sep=\"\\n\", end=\"\\n\\n\")"
   ]
  }
 ],
 "metadata": {
  "kernelspec": {
   "display_name": "Python 3",
   "language": "python",
   "name": "python3"
  },
  "language_info": {
   "codemirror_mode": {
    "name": "ipython",
    "version": 3
   },
   "file_extension": ".py",
   "mimetype": "text/x-python",
   "name": "python",
   "nbconvert_exporter": "python",
   "pygments_lexer": "ipython3",
   "version": "3.7.7"
  }
 },
 "nbformat": 4,
 "nbformat_minor": 4
}
