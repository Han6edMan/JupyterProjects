{
 "cells": [
  {
   "cell_type": "code",
   "execution_count": 3,
   "metadata": {},
   "outputs": [],
   "source": [
    "import sys"
   ]
  },
  {
   "cell_type": "markdown",
   "metadata": {},
   "source": [
    "# sys.argv\n",
    "\n",
    "i.e.system argument variable，字符串列表，内容为：\n",
    "```python\n",
    "['D:\\\\ProgrammeFiles\\\\python\\\\Anaconda3\\\\envs\\\\tensorflow\\\\lib\\\\site-packages\\\\ipykernel_launcher.py', \n",
    " '-f',\n",
    " 'C:\\\\Users\\\\王旋烨\\\\AppData\\\\Roaming\\\\jupyter\\\\runtime\\\\kernel-cd0698fa-f6bd-4c03-8457-5b809e96709d.json']\n",
    "```\n",
    "为一内置可变序列，其中第一个元素为\n",
    "\n",
    "如果没有给出参数，构造函数将创建一个新的空列表。如果指定，参数必须是可迭代的（什么意思啊）\n"
   ]
  },
  {
   "cell_type": "code",
   "execution_count": 6,
   "metadata": {},
   "outputs": [
    {
     "name": "stdout",
     "output_type": "stream",
     "text": [
      "D:\\ProgrammeFiles\\python\\Anaconda3\\envs\\tensorflow\\lib\\site-packages\\ipykernel_launcher.py\n",
      "-f\n",
      "C:\\Users\\王旋烨\\AppData\\Roaming\\jupyter\\runtime\\kernel-1a7f9234-1eee-498f-a873-d65bbf0f15af.json\n"
     ]
    }
   ],
   "source": [
    "if len(sys.argv) < 3:\n",
    "    print(sys.argv)\n",
    "else:\n",
    "    for i in sys.argv:\n",
    "        print(i)"
   ]
  },
  {
   "cell_type": "markdown",
   "metadata": {},
   "source": [
    "#  "
   ]
  },
  {
   "cell_type": "markdown",
   "metadata": {},
   "source": [
    "#  "
   ]
  },
  {
   "cell_type": "markdown",
   "metadata": {},
   "source": [
    "# sys.exit()\n",
    "\n",
    "`sys.exit([status])`\n",
    "\n",
    "通过抛出`SystemExit(status)`退出解释器\n",
    "\n",
    "- 若无参或为`None`，则默认为 0，即成功编译\n",
    "\n",
    "- 如果状态是整数，它将被用作系统退出状态\n",
    "\n",
    "- 如果它是另一种类型的对象，它将被打印出来，系统退出状态为 1，即编译失败\n",
    "\n",
    "**Type**\n",
    "\n",
    "builtin_function_or_method"
   ]
  },
  {
   "cell_type": "code",
   "execution_count": null,
   "metadata": {},
   "outputs": [],
   "source": [
    "sys.exit(1)"
   ]
  }
 ],
 "metadata": {
  "kernelspec": {
   "display_name": "Python 3",
   "language": "python",
   "name": "python3"
  },
  "language_info": {
   "codemirror_mode": {
    "name": "ipython",
    "version": 3
   },
   "file_extension": ".py",
   "mimetype": "text/x-python",
   "name": "python",
   "nbconvert_exporter": "python",
   "pygments_lexer": "ipython3",
   "version": "3.7.7"
  }
 },
 "nbformat": 4,
 "nbformat_minor": 4
}
