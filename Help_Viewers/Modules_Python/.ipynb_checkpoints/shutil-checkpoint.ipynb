{
 "cells": [
  {
   "cell_type": "code",
   "execution_count": 1,
   "metadata": {},
   "outputs": [],
   "source": [
    "import shutil"
   ]
  },
  {
   "cell_type": "markdown",
   "metadata": {},
   "source": [
    "# shutil\n",
    "\n",
    "**DESCRIPTION**\n",
    "\n",
    "此模块内定义了许多用于对文件及目录进行复制和存档的函数，这些函数无法复制资源分支（resource fork）及 Mac 上的元数据。\n",
    "[官方参考文档](https://docs.python.org/3.7/library/shutil)\n",
    "\n",
    "**CLASSES**\n",
    "\n",
    "- builtins.OSError(builtins.Exception)\n",
    "    - Error\n",
    "        - SameFileError\n",
    "    - ExecError\n",
    "    - SpecialFileError\n",
    "\n",
    "\n",
    "**FUNCTIONS**\n",
    "- chown(path, user=None, group=None)\n",
    "\n",
    "- copy(src, dst, \\*, follow_symlinks=True)\n",
    "\n",
    "- copy2(src, dst, \\*, follow_symlinks=True)\n",
    "\n",
    "- copyfile(src, dst, \\*, follow_symlinks=True)\n",
    "\n",
    "- copyfileobj(fsrc, fdst, length=16384)\n",
    "\n",
    "- copymode(src, dst, \\*, follow_symlinks=True)\n",
    "\n",
    "- copystat(src, dst, \\*, follow_symlinks=True)\n",
    "\n",
    "- copytree(src, dst, symlinks=False, ignore=None, copy_function=<function copy2 at 0x000001C41501CF78>, ignore_dangling_symlinks=False)\n",
    "\n",
    "- disk_usage(path)\n",
    "\n",
    "- get_archive_formats()\n",
    "\n",
    "- get_terminal_size(fallback=(80, 24))\n",
    "\n",
    "- get_unpack_formats()\n",
    "\n",
    "- ignore_patterns(\\*patterns)\n",
    "\n",
    "- make_archive(base_name, format, root_dir=None, base_dir=None, verbose=0, dry_run=0, owner=None, group=None, logger=None)\n",
    "\n",
    "- move(src, dst, copy_function=<function copy2 at 0x000001C41501CF78>)\n",
    "\n",
    "- register_archive_format(name, function, extra_args=None, description='')\n",
    "\n",
    "- register_unpack_format(name, extensions, function, extra_args=None, description='')\n",
    "\n",
    "- rmtree(path, ignore_errors=False, onerror=None)\n",
    "\n",
    "- unpack_archive(filename, extract_dir=None, format=None)\n",
    "\n",
    "- unregister_archive_format(name)\n",
    "\n",
    "- unregister_unpack_format(name)\n",
    "\n",
    "- which(cmd, mode=1, path=None)\n",
    "\n",
    "**FILE**: \\lib\\shutil.py"
   ]
  },
  {
   "cell_type": "code",
   "execution_count": null,
   "metadata": {},
   "outputs": [],
   "source": []
  }
 ],
 "metadata": {
  "kernelspec": {
   "display_name": "Python 3",
   "language": "python",
   "name": "python3"
  },
  "language_info": {
   "codemirror_mode": {
    "name": "ipython",
    "version": 3
   },
   "file_extension": ".py",
   "mimetype": "text/x-python",
   "name": "python",
   "nbconvert_exporter": "python",
   "pygments_lexer": "ipython3",
   "version": "3.7.7"
  }
 },
 "nbformat": 4,
 "nbformat_minor": 4
}
