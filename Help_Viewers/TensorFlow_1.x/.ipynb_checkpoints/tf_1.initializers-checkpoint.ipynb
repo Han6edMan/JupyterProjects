{
 "cells": [
  {
   "cell_type": "code",
   "execution_count": null,
   "metadata": {
    "scrolled": true
   },
   "outputs": [],
   "source": [
    "import tensorflow.compat.v1 as tf\n",
    "tf.disable_v2_behavior()"
   ]
  },
  {
   "cell_type": "markdown",
   "metadata": {},
   "source": [
    "## tf.global_variables_initializer()\n",
    "`tf.global_variables_initializer()`\n",
    "\n",
    "**Docstring**\n",
    "\n",
    "返回初始化全局变量的操作，是`variables_initializer(global_variables())`的简便操作\n",
    "\n",
    "**File**      \\tensorflow\\lib\\site-packages\\tensorflow\\python\\ops\\variables.py\n",
    "\n",
    "**Type**:      function"
   ]
  }
 ],
 "metadata": {
  "kernelspec": {
   "display_name": "Python 3",
   "language": "python",
   "name": "python3"
  },
  "language_info": {
   "codemirror_mode": {
    "name": "ipython",
    "version": 3
   },
   "file_extension": ".py",
   "mimetype": "text/x-python",
   "name": "python",
   "nbconvert_exporter": "python",
   "pygments_lexer": "ipython3",
   "version": "3.7.7"
  }
 },
 "nbformat": 4,
 "nbformat_minor": 4
}
