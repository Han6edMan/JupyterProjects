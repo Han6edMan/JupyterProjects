{
 "cells": [
  {
   "cell_type": "code",
   "execution_count": 2,
   "metadata": {
    "scrolled": true
   },
   "outputs": [
    {
     "name": "stdout",
     "output_type": "stream",
     "text": [
      "WARNING:tensorflow:From D:\\ProgrammeFiles\\python\\Anaconda3\\envs\\tensorflow2.2\\lib\\site-packages\\tensorflow\\python\\compat\\v2_compat.py:96: disable_resource_variables (from tensorflow.python.ops.variable_scope) is deprecated and will be removed in a future version.\n",
      "Instructions for updating:\n",
      "non-resource variables are not supported in the long term\n"
     ]
    }
   ],
   "source": [
    "import tensorflow.compat.v1 as tf\n",
    "tf.disable_v2_behavior()"
   ]
  },
  {
   "cell_type": "markdown",
   "metadata": {},
   "source": [
    "# tf.Tensor()\n",
    "\n",
    "`tf.Tensor(op, value_index, dtype)`\n",
    "\n",
    "**Docstring**\n",
    "\n",
    "\n",
    "TensorFlow 程序运行时操作和传递的主要对象是`tf.Tensor`，`tf.Tensor`对象可以代表一任意维数的矩形数组；TensorFlow 可以在不立即执行的情况下定义计算，最常见的是在`tf.function`及计算图模式中，在这些情况下，张量的秩和每个维度的大小可能只是部分已知的；如果操作输入的形状是已知的，则大多操作会产生形状已知的张量，但在某些情况下，只能在计算图执行时确定一个张量的具体形状。\n",
    "\n",
    "有一些专用的张量，参见`tf.Variable`, `tf.constant`, `tf.placeholder`, `tf.SparseTensor`, `tf.RaggedTensor`；更多有关`Tensor`信息参见[guide](https://tensorflow.org/guide/tensor) 及 [here](https://www.tensorflow.org/versions/r1.15/api_docs/python/tf/Tensor)\n",
    "\n",
    "**Args**\n",
    "\n",
    "- op: 一个计算此张量的`Operation`对象，不为`Operation`对象时会抛出 TypeError 异常\n",
    "\n",
    "- value_index: `int`. Index of the operation's endpoint that produces this tensor\n",
    "\n",
    "- dtype: 略\n",
    "\n",
    "**Type**\n",
    "\n",
    "type"
   ]
  },
  {
   "cell_type": "code",
   "execution_count": null,
   "metadata": {},
   "outputs": [],
   "source": [
    "tf.reset_default_graph()\n",
    "const = tf.constant(2, shape=[1], name=\"const\")\n",
    "plhd = tf.placeholder(tf.float32, [1], name=\"placeholder\")\n",
    "print(const)\n",
    "print(plhd)"
   ]
  },
  {
   "cell_type": "markdown",
   "metadata": {},
   "source": [
    "## tf.Tensor.eval()\n",
    "`<Tensor>.eval(feed_dict=None, session=None)`\n",
    "\n",
    "**Docstring**\n",
    "\n",
    "在`Session`中计算这个张量并以 Numpy 数组的形式返回计算结果；调用这个方法将执行产生这个张量所需的之前所有操作，在调用`Tensor.eval()`之前，默认会话必须可用，且有计算图在会话中启动；或必须显式指定`session`；即时执行模式下不需要调用`eval`\n",
    "\n",
    "**Args**\n",
    "\n",
    "- feed_dict: 参见`tf.Session.run`\n",
    "\n",
    "- session: (Optional.) The `Session` to be used to evaluate this tensor. If\n",
    "    none, the default session will be used.\n",
    "\n",
    "**File**: \\envs\\tensorflow\\lib\\site-packages\\tensorflow\\python\\framework\\ops.py\n",
    "\n",
    "**Type**:      function"
   ]
  },
  {
   "cell_type": "markdown",
   "metadata": {},
   "source": [
    "#### x.shape or x.get_shape()"
   ]
  },
  {
   "cell_type": "code",
   "execution_count": null,
   "metadata": {},
   "outputs": [],
   "source": [
    "x = tf.placeholder(tf.float32, shape=[None, 224, 224, 3])\n",
    "print(x.shape)\n",
    "print(x.get_shape())"
   ]
  },
  {
   "cell_type": "markdown",
   "metadata": {},
   "source": [
    "**`x.shape.as_list()`**\n",
    "\n",
    "__Docstring__: 返回由整数或`None`构成的列表，若`self`的形状未知且秩也未知则会报错\n",
    "\n",
    "__Type__:      method"
   ]
  },
  {
   "cell_type": "code",
   "execution_count": null,
   "metadata": {},
   "outputs": [],
   "source": [
    "print(x.shape.as_list())"
   ]
  },
  {
   "cell_type": "markdown",
   "metadata": {},
   "source": [
    "#  "
   ]
  },
  {
   "cell_type": "markdown",
   "metadata": {},
   "source": [
    "#  "
   ]
  },
  {
   "cell_type": "markdown",
   "metadata": {},
   "source": [
    "# tf.constant()\n",
    "```python\n",
    "tf.constant(\n",
    "    value,\n",
    "    dtype=None,\n",
    "    shape=None,\n",
    "    name='Const',\n",
    "    verify_shape=False,\n",
    ")\n",
    "```\n",
    "\n",
    "返回一个常量`Tensor`对象，如果形状指定不正确或不被支持，则抛出`TypeError`\n",
    "\n",
    "**Args**\n",
    "\n",
    "- value: 具有输出类型`dtype`的常数值或列表，`value`是列表时，其长度须小于或等于`shape`所隐含的元素数量(如果指定了的话)，列表长度小于`shape`指定元素数量时，列表中的最后一个元素将用于填充其余空位\n",
    "\n",
    "- dtype, name: 略\n",
    "\n",
    "- shape: 指明时会将`value` reshape 成指明形状；否则使用`value`形状\n",
    "\n",
    "- verify_shape: 常量的形状是否可以被更改，默认不可更改\n",
    "\n",
    "\n",
    "`tf.constant`与`tf.fill`在某些方面是不同的：\n",
    "\n",
    "- `tf.constant`支持任意常数，而不像`tf.fill`仅支持 uniform scalar Tensors\n",
    "\n",
    "- `tf.constant`会在计算图中创建一个`Const`节点，该节点在图构建时便具有确切的值；而`tf.fill` 在计算图中创建一个操作，这个操作在运行时会展开\n",
    "\n",
    "- 由于`tf.constant`只在计算图中嵌入了常量值，进而它不支持 dynamic shapes based on other runtime Tensors，而`tf.fill`是支持的\n",
    "\n",
    "\n",
    "**Type**\n",
    "\n",
    "function\n",
    "\n",
    "**Example**\n",
    "\n",
    "由`tf.constant`创建的常量返回类型为`tf.Tensor`"
   ]
  },
  {
   "cell_type": "code",
   "execution_count": 6,
   "metadata": {},
   "outputs": [
    {
     "name": "stdout",
     "output_type": "stream",
     "text": [
      "Tensor(\"x0:0\", shape=(2, 3), dtype=float32)\n",
      "[[ 1. -1. -1.]\n",
      " [-1. -1. -1.]]\n",
      "<class 'tensorflow.python.framework.ops.Tensor'>\n"
     ]
    }
   ],
   "source": [
    "tf.reset_default_graph()\n",
    "x0 = tf.constant([1.0, -1.0], shape=[2, 3], name=\"x0\")\n",
    "x1 = tf.constant([1.0, 2., 3., 4., 5., 6.], shape=[2, 3], name=\"x1\")\n",
    "print(x0)\n",
    "# add = tf.add(x0, x1, name=\"my_add\")\n",
    "with tf.Session() as sess:\n",
    "    # sess.run(add)\n",
    "    print(sess.run(x0))\n",
    "    print(type(x0))"
   ]
  },
  {
   "cell_type": "markdown",
   "metadata": {},
   "source": [
    "`tf.constant`也处理为`tf.Operation`"
   ]
  },
  {
   "cell_type": "code",
   "execution_count": null,
   "metadata": {},
   "outputs": [],
   "source": [
    "dft_g = tf.get_default_graph()\n",
    "operation = dft_g.get_operations()\n",
    "print(operation)\n",
    "print(operation[0])"
   ]
  },
  {
   "cell_type": "markdown",
   "metadata": {},
   "source": [
    "常见的`constant`如`tf.zeros`, `tf.zeros_like`, `tf.ones`, `tf.ones_like`, `tf.fill`, `tf.lin_space`, ``tf.range``, `tf.random_x`等"
   ]
  },
  {
   "cell_type": "markdown",
   "metadata": {},
   "source": [
    "#  "
   ]
  },
  {
   "cell_type": "markdown",
   "metadata": {},
   "source": [
    "#  "
   ]
  },
  {
   "cell_type": "markdown",
   "metadata": {},
   "source": [
    "# tf.ones()"
   ]
  },
  {
   "cell_type": "code",
   "execution_count": null,
   "metadata": {},
   "outputs": [],
   "source": [
    "tf.reset_default_graph()\n",
    "lin_sp = tf.lin_space(start=0., stop=1., num=10, name=\"line_space\")\n",
    "rang = tf.range(start=0, limit=1, delta=0.1, name=\"range\")\n",
    "zeros = tf.zeros([6], name=\"zeros\")  # => [0. 0. 0. 0. 0. 0.], [6] can also be 6\n",
    "z_like = tf.zeros_like(lin_sp)\n",
    "x = tf.random_normal([2, 3])\n",
    "print(x)\n",
    "with tf.Session() as sess:\n",
    "    print(sess.run(x))"
   ]
  },
  {
   "cell_type": "markdown",
   "metadata": {},
   "source": [
    "#  "
   ]
  }
 ],
 "metadata": {
  "kernelspec": {
   "display_name": "Python 3",
   "language": "python",
   "name": "python3"
  },
  "language_info": {
   "codemirror_mode": {
    "name": "ipython",
    "version": 3
   },
   "file_extension": ".py",
   "mimetype": "text/x-python",
   "name": "python",
   "nbconvert_exporter": "python",
   "pygments_lexer": "ipython3",
   "version": "3.7.7"
  }
 },
 "nbformat": 4,
 "nbformat_minor": 4
}
