{
 "cells": [
  {
   "cell_type": "code",
   "execution_count": 13,
   "metadata": {
    "scrolled": false
   },
   "outputs": [],
   "source": [
    "import tensorflow.compat.v1 as tf\n",
    "tf.disable_v2_behavior()"
   ]
  },
  {
   "cell_type": "markdown",
   "metadata": {},
   "source": [
    "# tf.summary.scalar()\n",
    "`tf.summary.scalar(name, tensor, collections=None, family=None)`\n",
    "\n",
    "**Docstring**\n",
    "\n",
    "返回一个带有`Summary`协议缓冲区的字符串类型的标量`Tensor`，该协议缓冲区包含输入的标量构成的张量，一般在画 loss、accuary 时会用到这个函数\n",
    "\n",
    "**Args**\n",
    "\n",
    "- name: 生成的节点的名称，也将作为 TensorBoard 中的 series name\n",
    "\n",
    "- tensor:只包含一个值的实数值张量\n",
    "\n",
    "- collections: 计算图集合的键的列表，新的 summary 操作也会加到这个集合中，默认`[GraphKeys.SUMMARIES]`.\n",
    "\n",
    "- family: 用于 summary 的 tag name 的前缀，该 tag name 决定着 Tensorboard 中所展示的 tab name\n",
    "\n",
    "**Type**：function"
   ]
  },
  {
   "cell_type": "code",
   "execution_count": null,
   "metadata": {},
   "outputs": [],
   "source": [
    "tf.reset_default_graph()\n",
    "a = tf.constant(1, name=\"a\")\n",
    "summary_a = tf.summary.scalar(\"a\", a)\n",
    "print(summary_a)\n",
    "with tf.Session() as sess:\n",
    "    print(sess.run(summary_a))"
   ]
  },
  {
   "cell_type": "code",
   "execution_count": 12,
   "metadata": {},
   "outputs": [],
   "source": [
    "tf.reset_default_graph()\n",
    "a = tf.placeholder(tf.float32, shape=[])\n",
    "b = tf.constant(1, dtype=tf.int32)\n",
    " \n",
    "tf.summary.scalar(\"a\", a)\n",
    "tf.summary.scalar(\"b\", b)\n",
    "merged_summaries = tf.summary.merge_all()\n",
    "\n",
    "\n",
    "with tf.Session() as sess:\n",
    "    tf.global_variables_initializer().run()\n",
    "    writer = tf.summary.FileWriter(\"../009_TensorBoard/graphs/test1\", tf.get_default_graph())\n",
    "    for step in range(6):\n",
    "        summary = sess.run(merged_summaries, feed_dict={a: step})\n",
    "        writer.add_summary(summary=summary, global_step=step)\n",
    "writer.close()"
   ]
  },
  {
   "cell_type": "markdown",
   "metadata": {},
   "source": [
    "tensorboard 展示结果：\n",
    "<img src=\"./imgs/summary.scalar.png\">"
   ]
  },
  {
   "cell_type": "markdown",
   "metadata": {},
   "source": [
    "#  "
   ]
  },
  {
   "cell_type": "markdown",
   "metadata": {},
   "source": [
    "#  "
   ]
  },
  {
   "cell_type": "markdown",
   "metadata": {},
   "source": [
    "# tf.summary.merge_all()\n",
    "`tf.summary.merge_all(key='summaries', scope=None, name=None)`\n",
    "\n",
    "**Docstring**\n",
    "\n",
    "\n",
    "合并默认计算图中所有的 summaries，并返回一个类型为`string`的标量`Tensor`，其包含合并后序列化的`Summary`协议缓冲区；如果没有收集到 summaries 则返回 None；在即使执行模式下调用此函数会报错，若想即使执行模式下写入 Tensorboard，可使用`tf.contrib.summary`\n",
    "\n",
    "**Args**\n",
    "\n",
    "- key: 用于收集 summaries 的`GraphKey`，默认`GraphKeys.SUMMARIES`\n",
    "\n",
    "- scope: 用于筛选 summary 操作的作用域，筛选的过程使用`re.match`\n",
    "\n",
    "**Type**: function"
   ]
  },
  {
   "cell_type": "markdown",
   "metadata": {},
   "source": [
    "#  "
   ]
  },
  {
   "cell_type": "markdown",
   "metadata": {},
   "source": [
    "#  "
   ]
  },
  {
   "cell_type": "markdown",
   "metadata": {},
   "source": [
    "# tf.summary.FileWriter()\n",
    "```python\n",
    "tf.summary.FileWriter(\n",
    "    logdir,\n",
    "    graph=None,\n",
    "    max_queue=10,\n",
    "    flush_secs=120,\n",
    "    graph_def=None,\n",
    "    filename_suffix=None,\n",
    "    session=None,\n",
    ")\n",
    "```\n",
    "**Docstring**\n",
    "\n",
    "`FileWriter`类提供了在给定目录中创建事件文件 (event file) 并向其添加摘要和事件的机制；它能够异步地更新文件内容，这允许一个正在训练的程序能够在循环中直接调用方法向文件中添加数据，同时不会减慢训练速度\n",
    "\n",
    "当使用`tf.Session`参数构造实例化对象时，`FileWriter`会在基于计算图的`tf.contrib.summary`处形成一个兼容层，以便于使用新的 summary 去编写那些需要`FileWriter`实例化对象的代码\n",
    "\n",
    "这个类不是线程安全的\n",
    "\n",
    "\n",
    "\n",
    "Init docstring:\n",
    "Creates a `FileWriter`, optionally shared within the given session.\n",
    "\n",
    "构造一个`FileWriter`通常会在`logdir`中创建一个新的事件文件，该事件文件包含了`Event`协议缓冲区，该协议缓冲区通常在调用`add_summary()`、`add_session_log()`、`add_event()`、`add_graph()`时构建\n",
    "\n",
    "TensorBoard将从文件中获取计算图并以图形方式显示它，以便于交互地浏览所构建的图形；计算图通常会由所启动的会话传递\n",
    "\n",
    "`FileWriter`不与即时执行兼容，在即使执行模式下应使用`tf.contrib.summary`写入 TensorBoard\n",
    "\n",
    "`session`参数使返回的`FileWriter`在新的基于图形的摘要`tf.contrib.summary`上形成一个兼容层，至关重要的是，这意味着底层的 writer 资源和事件文件将被那些使用相同的`session` 、`logdir`、在这个会话中任何使用了相同的共享资源名称（默认作用域为logdir）的`tf.contrib.summary.SummaryWriter`共享。如果创建实例化对象时不存在这样的资源，就使用构造函数的其余参数创建一个；已经存在则忽略这些参数。无论哪种情况，ops都将被添加到`session.graph`以控制底层文件 writer 资源，更多细节参见`tf.contrib.summary`\n",
    "\n",
    "**Args**\n",
    "\n",
    "- logdir: 将写入的事件文件的目录\n",
    "\n",
    "- graph: 会被添加到事件文件中的`Graph`对象，这相当于之后调用`add_graph()`\n",
    "\n",
    "- max_queue: 要 pend 的事件和摘要的队列的大小\n",
    "\n",
    "- flush_secs: 要 pend 的事件和摘要刷新到磁盘的频率，以秒为单位\n",
    "\n",
    "- graph_def: 已被弃用，目前使用`graph`参数\n",
    "\n",
    "- filename_suffix: 事件文件的名称的后缀\n",
    "\n",
    "- session: `tf.Session`对象\n",
    "\n",
    "**File**：tensorflow\\lib\\site-packages\\tensorflow\\python\\summary\\writer\\writer.py\n",
    "\n",
    "**Type**:           type"
   ]
  },
  {
   "cell_type": "markdown",
   "metadata": {},
   "source": [
    "## tf.summary.FileWriter.add_summary()\n",
    "`writer.add_summary(summary, global_step=None)`\n",
    "\n",
    "**Docstring**\n",
    "\n",
    "该方法将提供的`Summary`包装在一个`Event`协议缓冲区中，并将其添加到事件文件中\n",
    "\n",
    "**Args**\n",
    "\n",
    "- summary: `Summary`协议缓冲区，可以将其序列化为字符串或不序列化；其可以是任何由`tf.Session.run`或`tf.Tensor.eval`得的 summary 操作计算结果，或是一个使用用户自己的数据所填充的`tf.compat.v1.Summary`协议缓冲区，The latter is commonly done to report evaluation results in event files.\n",
    "\n",
    "- global_step: 用于记录摘要的 global step 的数值\n",
    "\n",
    "**File**: \\tensorflow\\lib\\site-packages\\tensorflow\\python\\summary\\writer\\writer.py\n",
    "\n",
    "**Type**:      function"
   ]
  },
  {
   "cell_type": "code",
   "execution_count": 17,
   "metadata": {},
   "outputs": [
    {
     "name": "stdout",
     "output_type": "stream",
     "text": [
      "if part\n",
      " -1\n"
     ]
    }
   ],
   "source": [
    "p = -1\n",
    "if p:\n",
    "    print(\"if part\\n\", p)\n",
    "else:\n",
    "    print(\"else part\\n\", p)"
   ]
  }
 ],
 "metadata": {
  "kernelspec": {
   "display_name": "Python 3",
   "language": "python",
   "name": "python3"
  },
  "language_info": {
   "codemirror_mode": {
    "name": "ipython",
    "version": 3
   },
   "file_extension": ".py",
   "mimetype": "text/x-python",
   "name": "python",
   "nbconvert_exporter": "python",
   "pygments_lexer": "ipython3",
   "version": "3.7.7"
  },
  "latex_envs": {
   "LaTeX_envs_menu_present": true,
   "autoclose": false,
   "autocomplete": true,
   "bibliofile": "biblio.bib",
   "cite_by": "apalike",
   "current_citInitial": 1,
   "eqLabelWithNumbers": true,
   "eqNumInitial": 1,
   "hotkeys": {
    "equation": "Ctrl-E",
    "itemize": "Ctrl-I"
   },
   "labels_anchors": false,
   "latex_user_defs": false,
   "report_style_numbering": false,
   "user_envs_cfg": false
  }
 },
 "nbformat": 4,
 "nbformat_minor": 4
}
