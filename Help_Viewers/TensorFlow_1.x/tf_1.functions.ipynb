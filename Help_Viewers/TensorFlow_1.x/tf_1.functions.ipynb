{
 "cells": [
  {
   "cell_type": "code",
   "execution_count": 2,
   "metadata": {
    "scrolled": true
   },
   "outputs": [],
   "source": [
    "import tensorflow.compat.v1 as tf\n",
    "tf.disable_v2_behavior()"
   ]
  },
  {
   "cell_type": "code",
   "execution_count": 2,
   "metadata": {},
   "outputs": [],
   "source": [
    "import numpy as np"
   ]
  },
  {
   "cell_type": "markdown",
   "metadata": {},
   "source": [
    "# tf.split()\n",
    "\n",
    "`tf.split(value, num_or_size_splits, axis=0, num=None, name='split')`\n",
    "\n",
    "__Docstring__\n",
    "\n",
    "将张量`value`分解成子张量列表，另见`tf.unstack`.\n",
    "\n",
    "若`num_or_size_splits`为一整数，则`value`沿维度`axis`分解成`num_split`个小张量，这需要`value.shape[axis]`可被`num_split`整除；若`num_or_size_splits`是一个 1 维的张量或列表，我们称之为`size_splits`，这种情况下`value`被分解为`len(size_splits)`个元素，其中第 i 个元素在第`axis`维度上的形状为`size_splits[i]`，其余维度形状与`value`相同\n",
    "\n",
    "__Args__\n",
    "\n",
    "- value: 要分解的`Tensor`\n",
    "\n",
    "- num_or_size_splits: \n",
    "\n",
    "    - 被指定为一整数时，`value`沿维度`axis`分解成`num_or_size_splits`个小张量，这需要`value.shape[axis]`可被`num_or_size_splits`整除\n",
    "    \n",
    "    - 被指定为 1 维张量或 Python 列表时，`value`被分解为`len(size_splits)`个元素，其中第 i 个元素在第`axis`维度上的形状为`size_splits[i]`，其余维度形状与`value`相同\n",
    "\n",
    "- axis: 整数或`int32`、`Tensor`的标量，沿其分解的纬度\n",
    "\n",
    "- num: 当输出的数量无法从`size_splits`形状推断出时，用于指明的的参数\n",
    "\n",
    "- name: operation's\n",
    "\n",
    "**Type**:      function"
   ]
  },
  {
   "cell_type": "code",
   "execution_count": null,
   "metadata": {
    "scrolled": true
   },
   "outputs": [],
   "source": [
    "x = tf.Variable(tf.random.uniform([5, 30], -1, 1))\n",
    "s0, s1, s2 = tf.split(x, num_or_size_splits=3, axis=1)\n",
    "print(s0, s1, s2, sep=\"\\n\", end=\"\\n\\n\")\n",
    "s0, s1, s2 = tf.split(x, [7, 17, 6], 1)\n",
    "print(s0, s1, s2, sep=\"\\n\", end=\"\\n\\n\")"
   ]
  },
  {
   "cell_type": "code",
   "execution_count": 47,
   "metadata": {},
   "outputs": [
    {
     "name": "stdout",
     "output_type": "stream",
     "text": [
      "[None, 224, 224, 1]\n"
     ]
    }
   ],
   "source": [
    "rgb = tf.placeholder(\"float\", [None, 224, 224, 3])\n",
    "red, green, blue = tf.split(value=rgb, num_or_size_splits=[1, 1, 1], axis=-1)\n",
    "print(red.get_shape().as_list())"
   ]
  },
  {
   "cell_type": "markdown",
   "metadata": {},
   "source": [
    "#  "
   ]
  },
  {
   "cell_type": "markdown",
   "metadata": {},
   "source": [
    "#  "
   ]
  },
  {
   "cell_type": "markdown",
   "metadata": {},
   "source": [
    "# tf.concat()\n",
    "`tf.concat(values, axis, name='concat')`\n",
    "\n",
    "**Docstring**\n",
    "\n",
    "沿`axis`代表的维度连接由张量组成的列表`values`，若\n",
    "`values[i].shape = [D0, D1, ... D_axis(i), ...Dn]`，则连接后返回值形状为`[D0, D1, ... Raxis, ...Dn]`，其中`Raxis = sum(Daxis(i))`，用于连接的张量除被连接维度外，其他维度应相等；如果要沿着新的`axis`进行连接，请考虑使用`stack`。另见`tf.tile`、`tf.stack`、`tf.repeat`\n",
    "\n",
    "**Args**\n",
    "\n",
    "- values: 单一`Tensor`或由`Tensor`或 Python 列表，单一的`Tensor`\n",
    "\n",
    "- axis: 0维的`int32`型的`Tensor`\n",
    "\n",
    "- name: operation's\n",
    "\n",
    "**Type**:      function"
   ]
  },
  {
   "cell_type": "code",
   "execution_count": null,
   "metadata": {},
   "outputs": [],
   "source": [
    "x = tf.constant([[[1, 2], [2, 3]], [[4, 4], [5, 3]]])\n",
    "y = tf.constant([[[7, 4], [8, 4]], [[2, 10], [15, 11]]])\n",
    "z0 = tf.concat([y, x], axis=0, name=\"concat\")\n",
    "z1 = tf.concat([y, x], axis=1, name=\"concat\")\n",
    "z2 = tf.concat(y, axis=3, name=\"concat\")\n",
    "with tf.Session() as sess:\n",
    "    print(sess.run(z2))"
   ]
  },
  {
   "cell_type": "code",
   "execution_count": null,
   "metadata": {},
   "outputs": [],
   "source": [
    "VGG_MEAN = [103.939, 116.779, 123.68]\n",
    "bgr = tf.concat(axis = -1, values=[\n",
    "    blue - VGG_MEAN[0],\n",
    "    green - VGG_MEAN[1],\n",
    "    red - VGG_MEAN[2],\n",
    "])\n",
    "print(bgr.shape)"
   ]
  },
  {
   "cell_type": "markdown",
   "metadata": {},
   "source": [
    "#  "
   ]
  },
  {
   "cell_type": "markdown",
   "metadata": {},
   "source": [
    "#  "
   ]
  },
  {
   "cell_type": "markdown",
   "metadata": {},
   "source": [
    "# tf.reduce_sum()\n",
    "```python\n",
    "tf.reduce_sum(\n",
    "    input_tensor,\n",
    "    axis=None,\n",
    "    keepdims=None,\n",
    "    name=None,\n",
    "    reduction_indices=None,\n",
    "    keep_dims=None,\n",
    ")\n",
    "```\n",
    "**Docstring**\n",
    "\n",
    "计算`input_tensor`给定的`axis`元素的和，`keepdims`为 True 时，沿`axis`求和后，该维度保留为 1；False 则该维度变为 0；`axis`为 None 时对所有元素求和并返回一标量；此操作与`np.sum`等价，不过 Numpy将 uint8 和 int32 的数据类型向上转换为 int64，而 TensorFlow 返回与输入相同的 dtype\n",
    "\n",
    "**Args**\n",
    "\n",
    "- input_tensor: 略\n",
    "\n",
    "- axis: 沿其求和的维度\n",
    "\n",
    "- keepdims: `keepdims`为 True 时，沿`axis`求和后，该维度保留为 1；否则该维度变为 0\n",
    "\n",
    "- name: operation's\n",
    "\n",
    "- reduction_indices: 过去用于指代`axis`的参数，已被弃用\n",
    "\n",
    "  keep_dims: 已改为`keepdims`\n",
    "\n",
    "**Type**\n",
    "\n",
    "function\n",
    "\n",
    "### Example"
   ]
  },
  {
   "cell_type": "code",
   "execution_count": null,
   "metadata": {},
   "outputs": [],
   "source": [
    "tf.reset_default_graph()\n",
    "x = tf.constant([[1, 1, 1], [1, 1, 1]])\n",
    "sum_all = tf.reduce_sum(x, name=\"sum_all\")  # 6\n",
    "sum0 = tf.reduce_sum(x, 0, name=\"sum0\")  # [2, 2, 2]\n",
    "sum1 = tf.reduce_sum(x, 1, name=\"sum1\")  # [3, 3]\n",
    "sum1_kpdim = tf.reduce_sum(x, 1, keepdims=True, name=\"sum1_kpdim\")  # [[3], [3]]\n",
    "sum_on_2axis = tf.reduce_sum(x, [0, 1], name=\"sum_on_2axis\")  # 6"
   ]
  },
  {
   "cell_type": "markdown",
   "metadata": {},
   "source": [
    "#  "
   ]
  },
  {
   "cell_type": "markdown",
   "metadata": {},
   "source": [
    "#  "
   ]
  },
  {
   "cell_type": "markdown",
   "metadata": {},
   "source": [
    "# tf.GraphKeys.UPDATE_OPS\n",
    "\n",
    "**Docstring**\n",
    "\n",
    "str(object='') -> str\n",
    "str(bytes_or_buffer[, encoding[, errors]]) -> str\n",
    "\n",
    "即“update_ops”字符串，从给定对象创建一个新的字符串对象；如果编码或错误被指定，则对象必须公开一个数据缓冲区，该缓冲区将使用给定的编码和错误处理程序进行解码；否则，返回`object.str()`(如果定义的话)或`repr(object)`，编码默认为`sys.getdefaultencoding()`，错误默认为`strict`"
   ]
  },
  {
   "cell_type": "markdown",
   "metadata": {},
   "source": [
    "#  "
   ]
  },
  {
   "cell_type": "markdown",
   "metadata": {},
   "source": [
    "#  "
   ]
  },
  {
   "cell_type": "markdown",
   "metadata": {},
   "source": [
    "# tf.reset_default_graph()\n",
    "\n",
    "`tf.reset_default_graph()`\n",
    "\n",
    "**Docstring**\n",
    "\n",
    "清除默认计算图堆栈并重置全局默认计算图。注意，默认计算图是当前线程的属性，此函数仅适用于当前线程，在`tf.compat.v1.Session`或`tf.compat.v1.InteractiveSession`处于激活状态时调用该函数，will result in undefined behavior；在使用该函数后调用任何之前创建的`tf.Operation`或`tf.Tensor`对象也会导致未定义行为的发生。当该函数在一个嵌套的计算图中被调用时会抛出`AssertionError`异常\n",
    "\n",
    "**Type**\n",
    "\n",
    "function"
   ]
  },
  {
   "cell_type": "markdown",
   "metadata": {},
   "source": [
    "#  "
   ]
  },
  {
   "cell_type": "markdown",
   "metadata": {},
   "source": [
    "#  "
   ]
  },
  {
   "cell_type": "code",
   "execution_count": null,
   "metadata": {},
   "outputs": [],
   "source": [
    "tf.global_variables_initializer()"
   ]
  }
 ],
 "metadata": {
  "kernelspec": {
   "display_name": "Python 3",
   "language": "python",
   "name": "python3"
  },
  "language_info": {
   "codemirror_mode": {
    "name": "ipython",
    "version": 3
   },
   "file_extension": ".py",
   "mimetype": "text/x-python",
   "name": "python",
   "nbconvert_exporter": "python",
   "pygments_lexer": "ipython3",
   "version": "3.7.7"
  }
 },
 "nbformat": 4,
 "nbformat_minor": 4
}
