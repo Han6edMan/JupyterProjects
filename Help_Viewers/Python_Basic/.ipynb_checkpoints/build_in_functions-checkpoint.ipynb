{
 "cells": [
  {
   "cell_type": "code",
   "execution_count": 6,
   "metadata": {},
   "outputs": [],
   "source": [
    "import builtins"
   ]
  },
  {
   "cell_type": "markdown",
   "metadata": {},
   "source": [
    "# Module builtins\n"
   ]
  },
  {
   "cell_type": "markdown",
   "metadata": {},
   "source": [
    "# print()\n",
    "`print(value, ..., sep=' ', end='\\n', file=sys.stdout, flush=False)`\n",
    "\n",
    "将`value`打印至输出流，或打印至`sys.stdout`中\n",
    "\n",
    "**params**\n",
    "\n",
    "- file: 一个 file-like object (stream)，默认为当前的`sys.stdout`\n",
    "- sep: 打印不同变量之间插入的字符，默认为空格\n",
    "- end: 打印最后结果后附加的字符串，默认为换行符\n",
    "- flush: whether to forcibly flush the stream."
   ]
  },
  {
   "cell_type": "markdown",
   "metadata": {},
   "source": [
    "#  "
   ]
  },
  {
   "cell_type": "markdown",
   "metadata": {},
   "source": [
    "#  "
   ]
  },
  {
   "cell_type": "markdown",
   "metadata": {},
   "source": [
    "# open()\n",
    "```\n",
    "open(\n",
    "    file,\n",
    "    mode='r',\n",
    "    buffering=-1,\n",
    "    encoding=None,\n",
    "    errors=None,\n",
    "    newline=None,\n",
    "    closefd=True,\n",
    "    opener=None,\n",
    ")\n",
    "```\n",
    "\n",
    "**Docstring**\n",
    "\n",
    "打开文件并返回一个流。执行失败时报`OSError`。\n",
    "\n",
    "**Args**\n",
    "\n",
    "- `file`: 要被打开的、提供了文件名的文本或字节串(byte string)，或是一个要被打包的的整数文件描述符(integer file descriptor)。如果打开的文件不在当前工作目录中，则需要提供文件路径；如果给定了文件描述符，且`closefd=Truee`，则当返回的I/O对象关闭时，该文件也将关闭)\n",
    "\n",
    "- `mode`: 用于指定文件打开的模式，默认以只读的文本模式打开\n",
    "    - 'r': 只读(default)\n",
    "    - 'w': 打开写入，如果文件已经存在，则将先截断该文件(truncating the file first)\n",
    "    - 'x': 创建一个新文件，并将其打开执行写的操作，在某些 Unix 系统上，这意味着所有写的内容都附加到文件的末尾，而不考虑当前查找位置\n",
    "    - 'a': 执行写的操作，若文件存在，则将写的内容附加在文件内容末尾\n",
    "    - 'b': 以二进制模式打开文件，进而数据将以字节码对象形式来读写，该模式可用在所有非文本文件中\n",
    "    - 't': 文本模式(default)，该模式下如果没有指定编码模式，则使用基于平台的编码模式，即将调用`locale.getpreferredencoding(False)`来得到相应编码模式，对于读取和写入原始字节，使用二进制模式并保留未指定的编码\n",
    "    - '+': 打开磁盘文件进行更新(读和写)\n",
    "    - 'U': 通用换行模式(deprecated)\n",
    "\n",
    "\n",
    "The default mode is 'rt' (open for reading text). For binary random\n",
    "access, the mode 'w+b' opens and truncates the file to 0 bytes, while\n",
    "'r+b' opens the file without truncation. The 'x' mode implies 'w' and\n",
    "raises an `FileExistsError` if the file already exists.\n",
    "\n",
    "Python distinguishes between files opened in binary and text modes,\n",
    "even when the underlying operating system doesn't. Files opened in\n",
    "binary mode (appending 'b' to the mode argument) return contents as\n",
    "bytes objects without any decoding. In text mode (the default, or when\n",
    "'t' is appended to the mode argument), the contents of the file are\n",
    "returned as strings, the bytes having been first decoded using a\n",
    "platform-dependent encoding or using the specified encoding if given.\n",
    "\n",
    "'U' mode is deprecated and will raise an exception in future versions\n",
    "of Python.  It has no effect in Python 3.  Use newline to control\n",
    "universal newlines mode.\n",
    "\n",
    "buffering is an optional integer used to set the buffering policy.\n",
    "Pass 0 to switch buffering off (only allowed in binary mode), 1 to select\n",
    "line buffering (only usable in text mode), and an integer > 1 to indicate\n",
    "the size of a fixed-size chunk buffer.  When no buffering argument is\n",
    "given, the default buffering policy works as follows:\n",
    "\n",
    "* Binary files are buffered in fixed-size chunks; the size of the buffer\n",
    "  is chosen using a heuristic trying to determine the underlying device's\n",
    "  \"block size\" and falling back on `io.DEFAULT_BUFFER_SIZE`.\n",
    "  On many systems, the buffer will typically be 4096 or 8192 bytes long.\n",
    "\n",
    "* \"Interactive\" text files (files for which isatty() returns True)\n",
    "  use line buffering.  Other text files use the policy described above\n",
    "  for binary files.\n",
    "\n",
    "\n",
    "- `encoding`: 用于解码或编码文件的编码方式的名称，这只能在文本模式下使用；默认编码依赖于平台，但任何 Python 支持的编码模式都可以传递，Python 所支持的编码模式详见`codecs`模块\n",
    "\n",
    "- `errors`: 指定如何处理编码错误——此参数不应在二进制模式下使用，其所被传递的参数中：\n",
    "    - `None`: 在编码错误时抛出ValueError异常\n",
    "    - `strict`: 同`None`\n",
    "    - `ignore`: 忽略错误(需要注意的是，忽略编码错误可能导致数据丢失，对于允许的编码错误类型的字符串，可参见`codecs.register`或执行`codecs.Codec`\n",
    "\n",
    "- `newline` controls how universal newlines works (it only applies to text\n",
    "mode). It can be None, '', '\\n', '\\r', and '\\r\\n'.  It works as\n",
    "follows:\n",
    "\n",
    "* On input, if newline is None, universal newlines mode is\n",
    "  enabled. Lines in the input can end in '\\n', '\\r', or '\\r\\n', and\n",
    "  these are translated into '\\n' before being returned to the\n",
    "  caller. If it is '', universal newline mode is enabled, but line\n",
    "  endings are returned to the caller untranslated. If it has any of\n",
    "  the other legal values, input lines are only terminated by the given\n",
    "  string, and the line ending is returned to the caller untranslated.\n",
    "\n",
    "* On output, if newline is None, any '\\n' characters written are\n",
    "  translated to the system default line separator, os.linesep. If\n",
    "  newline is '' or '\\n', no translation takes place. If newline is any\n",
    "  of the other legal values, any '\\n' characters written are translated\n",
    "  to the given string.\n",
    "\n",
    "If closefd is False, the underlying file descriptor will be kept open\n",
    "when the file is closed. This does not work when a file name is given\n",
    "and must be True in that case.\n",
    "\n",
    "A custom opener can be used by passing a callable as *opener*. The\n",
    "underlying file descriptor for the file object is then obtained by\n",
    "calling *opener* with (*file*, *flags*). *opener* must return an open\n",
    "file descriptor (passing os.open as *opener* results in functionality\n",
    "similar to passing None).\n",
    "\n",
    "open() returns a file object whose type depends on the mode, and\n",
    "through which the standard file operations such as reading and writing\n",
    "are performed. When open() is used to open a file in a text mode ('w',\n",
    "'r', 'wt', 'rt', etc.), it returns a TextIOWrapper. When used to open\n",
    "a file in a binary mode, the returned class varies: in read binary\n",
    "mode, it returns a BufferedReader; in write binary and append binary\n",
    "modes, it returns a BufferedWriter, and in read/write mode, it returns\n",
    "a BufferedRandom.\n",
    "\n",
    "It is also possible to use a string or bytearray as a file for both\n",
    "reading and writing. For strings StringIO can be used like a file\n",
    "opened in a text mode, and for bytes a BytesIO can be used like a file\n",
    "opened in a binary mode.\n",
    "Type:      builtin_function_or_method"
   ]
  },
  {
   "cell_type": "markdown",
   "metadata": {},
   "source": [
    "#  "
   ]
  },
  {
   "cell_type": "markdown",
   "metadata": {},
   "source": [
    "#  "
   ]
  },
  {
   "cell_type": "markdown",
   "metadata": {},
   "source": [
    "# isinstance()\n",
    "`isinstance(obj, class_or_tuple, /)`\n",
    "\n",
    "**Docstring**\n",
    "\n",
    "返回一个对象是否为一个类或其子类的一个实例，当`class_or_tuple`为`tuple`时，即``isinstance(x, (A, B, ...))``，等价于``isinstance(x, A) or isinstance(x, B) or ...``\n",
    "\n",
    "**Type**\n",
    "\n",
    "builtin_function_or_method"
   ]
  },
  {
   "cell_type": "markdown",
   "metadata": {},
   "source": [
    "#  "
   ]
  },
  {
   "cell_type": "markdown",
   "metadata": {},
   "source": [
    "#  "
   ]
  },
  {
   "cell_type": "code",
   "execution_count": 3,
   "metadata": {
    "scrolled": true
   },
   "outputs": [
    {
     "name": "stdout",
     "output_type": "stream",
     "text": [
      "Help on class zip in module builtins:\n",
      "\n",
      "class zip(object)\n",
      " |  zip(*iterables) --> zip object\n",
      " |  \n",
      " |  Return a zip object whose .__next__() method returns a tuple where\n",
      " |  the i-th element comes from the i-th iterable argument.  The .__next__()\n",
      " |  method continues until the shortest iterable in the argument sequence\n",
      " |  is exhausted and then it raises StopIteration.\n",
      " |  \n",
      " |  Methods defined here:\n",
      " |  \n",
      " |  __getattribute__(self, name, /)\n",
      " |      Return getattr(self, name).\n",
      " |  \n",
      " |  __iter__(self, /)\n",
      " |      Implement iter(self).\n",
      " |  \n",
      " |  __next__(self, /)\n",
      " |      Implement next(self).\n",
      " |  \n",
      " |  __reduce__(...)\n",
      " |      Return state information for pickling.\n",
      " |  \n",
      " |  ----------------------------------------------------------------------\n",
      " |  Static methods defined here:\n",
      " |  \n",
      " |  __new__(*args, **kwargs) from builtins.type\n",
      " |      Create and return a new object.  See help(type) for accurate signature.\n",
      "\n"
     ]
    }
   ],
   "source": [
    "help(\"zip\")"
   ]
  },
  {
   "cell_type": "markdown",
   "metadata": {},
   "source": [
    "#  "
   ]
  },
  {
   "cell_type": "markdown",
   "metadata": {},
   "source": [
    "#  "
   ]
  }
 ],
 "metadata": {
  "kernelspec": {
   "display_name": "Python 3",
   "language": "python",
   "name": "python3"
  },
  "language_info": {
   "codemirror_mode": {
    "name": "ipython",
    "version": 3
   },
   "file_extension": ".py",
   "mimetype": "text/x-python",
   "name": "python",
   "nbconvert_exporter": "python",
   "pygments_lexer": "ipython3",
   "version": "3.7.7"
  }
 },
 "nbformat": 4,
 "nbformat_minor": 4
}
