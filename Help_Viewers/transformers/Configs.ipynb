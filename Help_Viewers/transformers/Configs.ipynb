{
 "cells": [
  {
   "cell_type": "code",
   "execution_count": 1,
   "metadata": {},
   "outputs": [],
   "source": [
    "import transformers"
   ]
  },
  {
   "cell_type": "markdown",
   "metadata": {},
   "source": [
    "# transformers.BertConfig()\n",
    "```python\n",
    "transformers.BertConfig(\n",
    "    vocab_size=30522,\n",
    "    hidden_size=768,\n",
    "    num_hidden_layers=12,\n",
    "    num_attention_heads=12,\n",
    "    intermediate_size=3072,\n",
    "    hidden_act='gelu',\n",
    "    hidden_dropout_prob=0.1,\n",
    "    attention_probs_dropout_prob=0.1,\n",
    "    max_position_embeddings=512,\n",
    "    type_vocab_size=2,\n",
    "    initializer_range=0.02,\n",
    "    layer_norm_eps=1e-12,\n",
    "    pad_token_id=0,\n",
    "    gradient_checkpointing=False,\n",
    "    **kwargs,\n",
    ")\n",
    "```\n",
    "\n",
    "**Docstring**\n",
    "\n",
    "初始化一个继承于`transformers.PretrainedConfig`类的配置对象，其存储着`transformers.BertModel`类的配置信息，并根据指明的参数来定义 BERT 架构以及初始化模型，可用于控制模型的输出；使用默认配置会生成一个类似 BERT [`bert-base-uncased`](https://huggingface.co/bert-base-uncased)架构的配置，更多信息参见`transformers.PretrainedConfig`的帮助文档；\n",
    "\n",
    "**Args**\n",
    "\n",
    "- vocab_size：默认 30522\n",
    "\n",
    "- hidden_size：默认 768\n",
    "\n",
    "- num_hidden_layers：默认 12\n",
    "\n",
    "- num_attention_heads：默认 12\n",
    "\n",
    "- intermediate_size：默认 3072，PFFN 的中间隐层的维度数\n",
    "\n",
    "- hidden_act：字符串类型对象或函数对象，默认`\"gelu\"`；支持`\"gelu\"`, `\"relu\"`, `\"swish\"`, `\"gelu_new\"`\n",
    "\n",
    "- hidden_dropout_prob：默认 0.1，embedding、encoder、pooler 中的全连接层的 dropout 值\n",
    "\n",
    "- attention_probs_dropout_prob：默认 0.1，attention 的 dropout 值\n",
    "\n",
    "- max_position_embeddings：默认 512，模型处理序列的最长长度，一般取 512、1024、2048\n",
    "\n",
    "- type_vocab_size：默认 2，传递给`transformers.BertModel`的`token_type_ids`的 vocabulary 大小\n",
    "\n",
    "- initializer_range：默认 0.02，截断高斯分布初始化权重时使用的标准差值\n",
    "\n",
    "- layer_norm_eps：默认 1e-12\n",
    "\n",
    "- gradient_checkpointing：默认 False；True 时使用梯度的检查点、以减缓反向传播的速度为代价来节省内存占用\n",
    "\n",
    "**File**:    \\transformers\\configuration_bert.py\n",
    "\n",
    "**Type**:           type\n",
    "\n",
    "**Subclasses**:     RobertaConfig, DPRConfig"
   ]
  }
 ],
 "metadata": {
  "kernelspec": {
   "display_name": "Python 3",
   "language": "python",
   "name": "python3"
  },
  "language_info": {
   "codemirror_mode": {
    "name": "ipython",
    "version": 3
   },
   "file_extension": ".py",
   "mimetype": "text/x-python",
   "name": "python",
   "nbconvert_exporter": "python",
   "pygments_lexer": "ipython3",
   "version": "3.7.7"
  },
  "latex_envs": {
   "LaTeX_envs_menu_present": true,
   "autoclose": false,
   "autocomplete": true,
   "bibliofile": "biblio.bib",
   "cite_by": "apalike",
   "current_citInitial": 1,
   "eqLabelWithNumbers": true,
   "eqNumInitial": 1,
   "hotkeys": {
    "equation": "Ctrl-E",
    "itemize": "Ctrl-I"
   },
   "labels_anchors": false,
   "latex_user_defs": false,
   "report_style_numbering": false,
   "user_envs_cfg": false
  }
 },
 "nbformat": 4,
 "nbformat_minor": 4
}
