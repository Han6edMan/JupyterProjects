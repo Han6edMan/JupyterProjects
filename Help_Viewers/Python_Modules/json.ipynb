{
 "cells": [
  {
   "cell_type": "code",
   "execution_count": 1,
   "metadata": {},
   "outputs": [],
   "source": [
    "import json"
   ]
  },
  {
   "cell_type": "markdown",
   "metadata": {},
   "source": [
    "# json.loads()\n",
    "```python\n",
    "json.loads(\n",
    "    s,\n",
    "    *,\n",
    "    encoding=None,\n",
    "    cls=None,\n",
    "    object_hook=None,\n",
    "    parse_float=None,\n",
    "    parse_int=None,\n",
    "    parse_constant=None,\n",
    "    object_pairs_hook=None,\n",
    "    **kw,\n",
    ")\n",
    "```\n",
    "\n",
    "**Docstring**\n",
    "将`s`（包含 JSON 文档的``str``、``bytes``、``bytearray``实例）反序列化为 Python 对象\n",
    "\n",
    "``object_hook`` is an optional function that will be called with the\n",
    "result of any object literal decode (a ``dict``). The return value of\n",
    "``object_hook`` will be used instead of the ``dict``. This feature\n",
    "can be used to implement custom decoders (e.g. JSON-RPC class hinting).\n",
    "\n",
    "``object_pairs_hook`` is an optional function that will be called with the\n",
    "result of any object literal decoded with an ordered list of pairs.  The\n",
    "return value of ``object_pairs_hook`` will be used instead of the ``dict``.\n",
    "This feature can be used to implement custom decoders.  If ``object_hook``\n",
    "is also defined, the ``object_pairs_hook`` takes priority.\n",
    "\n",
    "``parse_float``, if specified, will be called with the string of every JSON float to be decoded. 默认情况下该参数等价于`float(num_str)`. This can be used to use another datatype or parser for JSON floats (e.g. decimal.Decimal).\n",
    "\n",
    "``parse_int``, if specified, will be called with the string\n",
    "of every JSON int to be decoded. By default this is equivalent to\n",
    "int(num_str). This can be used to use another datatype or parser\n",
    "for JSON integers (e.g. float).\n",
    "\n",
    "``parse_constant``, if specified, will be called with one of the\n",
    "following strings: -Infinity, Infinity, NaN.\n",
    "This can be used to raise an exception if invalid JSON numbers\n",
    "are encountered.\n",
    "\n",
    "To use a custom ``JSONDecoder`` subclass, specify it with the ``cls``\n",
    "kwarg; otherwise ``JSONDecoder`` is used.\n",
    "\n",
    "The ``encoding`` argument is ignored and deprecated.\n",
    "File:      d:\\programmefiles\\python\\anaconda3\\envs\\tensorflow2.2\\lib\\json\\__init__.py\n",
    "Type:      function"
   ]
  }
 ],
 "metadata": {
  "kernelspec": {
   "display_name": "Python 3",
   "language": "python",
   "name": "python3"
  },
  "language_info": {
   "codemirror_mode": {
    "name": "ipython",
    "version": 3
   },
   "file_extension": ".py",
   "mimetype": "text/x-python",
   "name": "python",
   "nbconvert_exporter": "python",
   "pygments_lexer": "ipython3",
   "version": "3.7.7"
  },
  "latex_envs": {
   "LaTeX_envs_menu_present": true,
   "autoclose": false,
   "autocomplete": true,
   "bibliofile": "biblio.bib",
   "cite_by": "apalike",
   "current_citInitial": 1,
   "eqLabelWithNumbers": true,
   "eqNumInitial": 1,
   "hotkeys": {
    "equation": "Ctrl-E",
    "itemize": "Ctrl-I"
   },
   "labels_anchors": false,
   "latex_user_defs": false,
   "report_style_numbering": false,
   "user_envs_cfg": false
  }
 },
 "nbformat": 4,
 "nbformat_minor": 4
}
