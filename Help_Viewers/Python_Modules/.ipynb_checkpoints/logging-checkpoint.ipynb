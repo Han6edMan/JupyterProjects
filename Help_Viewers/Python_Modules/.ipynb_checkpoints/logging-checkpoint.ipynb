{
 "cells": [
  {
   "cell_type": "code",
   "execution_count": 1,
   "metadata": {},
   "outputs": [],
   "source": [
    "import logging"
   ]
  },
  {
   "cell_type": "markdown",
   "metadata": {},
   "source": [
    "# logging\n",
    "\n",
    "**[MODULE REFERENCE](https://docs.python.org/3.7/library/logging)**\n",
    "    \n",
    "**DESCRIPTION**\n",
    "\n",
    "用于 Python 日志记录的扩展包\n",
    "    \n",
    "**PACKAGE CONTENTS**\n",
    "\n",
    "- config\n",
    "- handlers\n",
    "\n",
    "**CLASSES**\n",
    "\n",
    "- builtins.object\n",
    "    - BufferingFormatter\n",
    "    - Filter\n",
    "    - Formatter\n",
    "    - LogRecord\n",
    "    - LoggerAdapter\n",
    "- Filterer(builtins.object)\n",
    "    - Handler\n",
    "        - NullHandler\n",
    "        - StreamHandler\n",
    "            - FileHandler\n",
    "    - Logger\n",
    "\n",
    "**FUNCTIONS**\n",
    "\n",
    "- addLevelName(level, levelName)\n",
    "- basicConfig(\\*\\*kwargs)\n",
    "- captureWarnings(capture)\n",
    "- critical(msg, \\*args, \\*\\*kwargs)\n",
    "- debug(msg, \\*args, \\*\\*kwargs)\n",
    "- disable(level=50)\n",
    "- error(msg, \\*args, \\*\\*kwargs)\n",
    "- exception(msg, \\*args, exc_info=True, \\*\\*kwargs)\n",
    "- fatal = critical(msg, \\*args, \\*\\*kwargs)\n",
    "- getLevelName(level)\n",
    "- getLogRecordFactory()\n",
    "- getLogger(name=None)\n",
    "- getLoggerClass()\n",
    "- info(msg, \\*args, \\*\\*kwargs)\n",
    "- log(level, msg, \\*args, \\*\\*kwargs)\n",
    "- makeLogRecord(dict)\n",
    "- setLogRecordFactory(factory)\n",
    "- setLoggerClass(klass)\n",
    "- shutdown(handlerList=[<weakref at 0x000002DA6A5E8098; to '_StderrHandler' at 0x000002DA6A5E11C8>, <weakref at 0x000002DA6CA69728; to 'StreamHandler' at 0x000002DA6CA68388>, <weakref at 0x000002DA6CA7C638; to 'StreamHandler' at 0x000002DA6C100CC8>])\n",
    "- warn(msg, \\*args, \\*\\*kwargs)\n",
    "- warning(msg, \\*args, \\*\\*kwargs)\n",
    "    \n",
    "**DATA**\n",
    "- BASIC_FORMAT = '%(levelname)s:%(name)s:%(message)s'\n",
    "- CRITICAL = 50\n",
    "- DEBUG = 10\n",
    "- ERROR = 40\n",
    "- FATAL = 50\n",
    "- INFO = 20\n",
    "- NOTSET = 0\n",
    "- WARN = 30\n",
    "- WARNING = 30\n",
    "- \\_\\_all__ = ['BASIC_FORMAT', 'BufferingFormatter', 'CRITICAL', 'DEBUG', ...\n",
    "- \\_\\_status__ = 'production'\n",
    "- lastResort = <_StderrHandler stderr (WARNING)>\n",
    "- raiseExceptions = True\n",
    "\n",
    "\n",
    "\n",
    "**FILE**: \\logging\\ \\_\\_init__.py"
   ]
  },
  {
   "cell_type": "markdown",
   "metadata": {},
   "source": [
    "# logging.Logger\n",
    "\n",
    "`logging.Logger(name, level=0)`\n",
    "\n",
    "**Docstring:**\n",
    "\n",
    "初始化一个名称为`name`、层级为`level`的`Logger`类实例，其代表着一个日志通道(logging channel)。“日志通道”表示应用程序的一个区域(area)，具体如何定义“区域”取决于程序开发人员。由于一个应用程序可以有很多区域，故日志通道由一个独特的字符串标识。\n",
    "\n",
    "程序的区域可以被嵌套，如“input processing”区域可能包括\"read CSV files\", \"read XLS files\", \"read Gnumeric files\"子区；为了满足这种自然的嵌套，通道名称被组织到名称空间层次结构中，其中级别由句点分隔，很像 Java 或 Python 包名称空间，进而对于上面的例子，通道名称可以是“input”作为较高层级，\"input.csv\"、\"input.xls\"、\"input.gnu\"作为子层级。此外，嵌套的深度没有任意的限制"
   ]
  },
  {
   "cell_type": "markdown",
   "metadata": {},
   "source": [
    "#  "
   ]
  },
  {
   "cell_type": "markdown",
   "metadata": {},
   "source": [
    "# logging.Formatter\n",
    "\n",
    "`logging.Formatter(fmt=None, datefmt=None, style='%')`\n",
    "\n",
    "**Docstring**\n",
    "\n",
    "使用指定的字符串格式，或默认的字符串格式初始化一个`Formatter`，该格式通常基于`LogRecord`的信息属性，此时`Formatter`用于将`LogRecord`转换为可以由人或外部系统识别的字符串，进而`Formatter`需要知道`LogRecord`是怎样构造的；\n",
    "\n",
    "`Formatter`允许指定的字符串格式，\n",
    "\n",
    "**Args**\n",
    "\n",
    "- fmt: 给`Formatter`指定的字符串格式；若没有提供指定格式，则默认使用基于样式的字符串格式：`\"%(message)s\"`、`\"{message}\"`、`\"${message}\"`；该格式也可以基于`LogRecord`信息的格式，目前可使用的`LogRecord`的信息属性包括：\n",
    "\n",
    "    - %(name): logger 的名字，即 logging channel\n",
    "    - %(levelno)s: 所提供信息的数字形式的 logging level (DEBUG, INFO, WARNING, ERROR, CRITICAL)\n",
    "    - %(levelname)s: 所提供信息的文本日志层级(\"DEBUG\", \"INFO\", \"WARNING\", \"ERROR\", \"CRITICAL\")\n",
    "    - %(pathname)s: 发出日志调用命令的源文件的完整路径名\n",
    "    - %(filename)s: 路径名的文件名部分\n",
    "    - %(module)s: 文件名的模块名部分\n",
    "    - %(lineno)d: 发出日志调用命令的源代码行数\n",
    "    - %(funcName)s: 函数名称\n",
    "    - %(created)f: LogRecord 创建的时间(time.time())\n",
    "    - %(asctime)s: LogRecord 创建的文本格式的时间\n",
    "    - %(msecs)d: 创建时间的毫秒部分\n",
    "    - %(relativeCreated)d: 创建 LogRecord 时的以毫秒为单位的时间值，与加载日志模块(通常在应用程序启动时)的时间有关\n",
    "    - %(thread)d: Thread ID\n",
    "    - %(threadName)s: Thread name\n",
    "    - %(process)d: Process ID\n",
    "    - %(message)s: 在发出结果时计算的`record.getMessage()`的返回值\n",
    "\n",
    "- datefmt: 允许使用专用的日期格式对日期进行格式化，默认会得到类似于 ISO8601 或 RFC 3339 的格式\n",
    "\n",
    "- %: 可以是`'%'`、`{`、`$`，以来明确使用 `%`、`str.format({})`、`string.Template`来作为所使用的字符格式"
   ]
  },
  {
   "cell_type": "code",
   "execution_count": null,
   "metadata": {},
   "outputs": [],
   "source": [
    "logging.Formatter()"
   ]
  },
  {
   "cell_type": "markdown",
   "metadata": {},
   "source": [
    "#  "
   ]
  },
  {
   "cell_type": "markdown",
   "metadata": {},
   "source": [
    "# logging.Handler()\n",
    "`logging.Handler(level=0)`\n",
    "\n",
    "**Docstring**\n",
    "\n",
    "Handler instances dispatch logging events to specific destinations.\n",
    "\n",
    "该类为 handler 的基类，充当定义 Handler 接口的占位符，其用于将 logging 事件分派到特定的 destinations；Handler 可以根据需要使用 Formatter 实例来格式化记录；默认情况下不指明 formatter，此时由`record.message`确定的\"raw\"消息；\n",
    "\n",
    "Init docstring:\n",
    "\n",
    "Initializes the instance - basically setting the formatter to None and the filter list to empty.\n",
    "\n",
    "**Type**:           type\n",
    "\n",
    "**Subclasses**:     StreamHandler, NullHandler, SocketHandler, SysLogHandler, SMTPHandler, NTEventLogHandler, HTTPHandler, BufferingHandler, QueueHandler"
   ]
  },
  {
   "cell_type": "code",
   "execution_count": null,
   "metadata": {},
   "outputs": [],
   "source": [
    "logging.Handler()"
   ]
  },
  {
   "cell_type": "markdown",
   "metadata": {},
   "source": [
    "#  "
   ]
  },
  {
   "cell_type": "markdown",
   "metadata": {},
   "source": [
    "# logging.getLogger()\n",
    "`logging.getLogger(name=None)`\n",
    "\n",
    "**Docstring**\n",
    "\n",
    "返回具有指定名称的 logger，若其不存在则会自动创建；如果未指定`name`，则返回 root logger\n",
    "\n",
    "**Type**:      function"
   ]
  },
  {
   "cell_type": "markdown",
   "metadata": {},
   "source": [
    "#  "
   ]
  },
  {
   "cell_type": "markdown",
   "metadata": {},
   "source": [
    "# logging.basicConfig()\n",
    "`logging.basicConfig(**kwargs)`\n",
    "\n",
    "**Docstring**\n",
    "\n",
    "若 root logger 已经配置了处理程序（handler），则该函数不执行任何操作；该函数旨在通过简单的脚本对 logging 包进行一次性配置；\n",
    "\n",
    "The default behaviour is to create a StreamHandler which writes to sys.stderr, set a formatter using the BASIC_FORMAT format string, and\n",
    "add the handler to the root logger.\n",
    "\n",
    "**kwargs**\n",
    "\n",
    "- filename: 指明要创建的`FileHandler`  Specifies that a FileHandler be created, using the specified filename, rather than a StreamHandler.\n",
    "\n",
    "- filemode: 当指明`filename`时用于明确打开文件的方式，若未指明则默认为`'a'`\n",
    "\n",
    "- format: handler 使用的特定的字符串格式；Use the specified format string for the handler.\n",
    "\n",
    "- datefmt: 所使用的指定的日期/时间格式\n",
    "\n",
    "- style: 字符串格式的种类，可能的取值有`'%'`、`'{'`、`'\\$'`，分别对应 %-格式、\n",
    "`str.format`函数和`string.Template`类，默认`'%'`\n",
    "\n",
    "- level: root logger 的级别\n",
    "\n",
    "- stream: 用于初始化`StreamHandler`的流，该参数与`filename`参数不兼容，若二者均指明了，则忽略`stream`\n",
    "\n",
    "- handlers: 应为一个可枚举的已创建 handler，其会被附加给 root handler，列表中任何没有被分配 formatter 的 handler 均会被分配以此函数创建的 formatter\n",
    "\n",
    "\n",
    "\n",
    "Note that you could specify a stream created using open(filename, mode)\n",
    "rather than passing the filename and mode in. However, it should be\n",
    "remembered that StreamHandler does not close its stream (since it may be\n",
    "using sys.stdout or sys.stderr), whereas FileHandler closes its stream\n",
    "when the handler is closed.\n",
    "\n",
    "\n",
    "\n",
    "**Type**:      function"
   ]
  },
  {
   "cell_type": "markdown",
   "metadata": {},
   "source": [
    "#  "
   ]
  },
  {
   "cell_type": "markdown",
   "metadata": {},
   "source": [
    "# Logging HOWTO\n",
    "\n",
    "[Python 原帮助文档](https://docs.python.org/3.7/howto/logging.html)\n",
    "\n",
    "logging 提供了许多方便的用于日志记录的函数，例如`debug(), info(), warning(), error(), critical()`，其最佳应用场景如下\n",
    "\n",
    "要执行的操作 | 推荐使用的函数\n",
    ":---------  |:-----------\n",
    "在控制台进行输出 | `print()`\n",
    "报告程序正常执行期间发生的事件，例如状态监视或故障调查 | `logging.info()`；若在程序诊断时希望更详细的输出，可用`logging.debug()`\n",
    "发出对特定事件的警告|若该事件是可避免的且应通过调整程序来避免该事件发生，可使用`warnings.warn()` <br> 若无法通过调整程序来避免该事件，但其仍需要引起注意，则使用`logging.warning()`|\n",
    "报告运行时特定事件的错误|抛出异常\n",
    "报告一个对错误的抑制而非抛出异常，如在长时间运行的服务器进程中的错误处理程序|对特定的错误或程序使用`logging.error(), logging.exception(), logging.critical()`\n",
    "\n",
    "日志函数根据其要追踪的事件的级别或严重程度来命名，下表描述了各标准级别及其适用性，其中级别按严重程度递增\n",
    "\n",
    "级别| 使用的场景\n",
    ":---|:----\n",
    "`DEBUG`|诊断程序问题时需要获得详细信息\n",
    "`INFO`|确保程序按照预期方式执行\n",
    "`WARNING`|发生了意外情况，或即将要出现某些问题；程序仍会正常工作。\n",
    "`ERROR`|由于一些严重的问题，程序无法执行某些功能\n",
    "`CRITICAL`|出现一个严重的错误，意味着程序可能无法继续运行\n",
    "\n",
    "默认的级别是`WARNING`，即只有该等级以及高于该等级的事件才会被追踪，除非 logging 包被设置为对级别更低的事件进行追踪；可以通过多种方式处理追踪的事件，一种最简单方法是打印到控制台，另一种方式是将其写入磁盘文件；"
   ]
  },
  {
   "cell_type": "code",
   "execution_count": 6,
   "metadata": {
    "scrolled": true
   },
   "outputs": [
    {
     "name": "stderr",
     "output_type": "stream",
     "text": [
      "WARNING:root:Watch out!\n"
     ]
    }
   ],
   "source": [
    "logging.warning('Watch out!')  # => WARNING:root:Watch out!\n",
    "logging.info('I told you so')  # return nothing"
   ]
  },
  {
   "cell_type": "code",
   "execution_count": 6,
   "metadata": {},
   "outputs": [],
   "source": [
    "logging.basicConfig(filename=\"./test_files/logging_test.log\", filemode=\"w\", level=logging.DEBUG)\n",
    "logging.debug('This message should go to the log file')\n",
    "logging.info('So should this')\n",
    "logging.warning('And this, too')"
   ]
  },
  {
   "cell_type": "markdown",
   "metadata": {},
   "source": [
    "由于`basicConfig()`是一次性的简单配置工具，进而只有第一次调用才会执行实际操作，随后调用不执行操作；"
   ]
  },
  {
   "cell_type": "code",
   "execution_count": null,
   "metadata": {},
   "outputs": [],
   "source": []
  }
 ],
 "metadata": {
  "kernelspec": {
   "display_name": "Python 3",
   "language": "python",
   "name": "python3"
  },
  "language_info": {
   "codemirror_mode": {
    "name": "ipython",
    "version": 3
   },
   "file_extension": ".py",
   "mimetype": "text/x-python",
   "name": "python",
   "nbconvert_exporter": "python",
   "pygments_lexer": "ipython3",
   "version": "3.7.7"
  },
  "latex_envs": {
   "LaTeX_envs_menu_present": true,
   "autoclose": false,
   "autocomplete": true,
   "bibliofile": "biblio.bib",
   "cite_by": "apalike",
   "current_citInitial": 1,
   "eqLabelWithNumbers": true,
   "eqNumInitial": 1,
   "hotkeys": {
    "equation": "Ctrl-E",
    "itemize": "Ctrl-I"
   },
   "labels_anchors": false,
   "latex_user_defs": false,
   "report_style_numbering": false,
   "user_envs_cfg": false
  }
 },
 "nbformat": 4,
 "nbformat_minor": 4
}
