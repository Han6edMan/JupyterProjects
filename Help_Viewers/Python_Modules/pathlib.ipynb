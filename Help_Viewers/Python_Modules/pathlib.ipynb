{
 "cells": [
  {
   "cell_type": "code",
   "execution_count": 6,
   "metadata": {
    "scrolled": true
   },
   "outputs": [],
   "source": [
    "import pathlib"
   ]
  },
  {
   "cell_type": "markdown",
   "metadata": {},
   "source": [
    "# pathlib.PurePath()\n",
    "`pathlib.PurePath(*args)`\n",
    "\n",
    "**Docstring**\n",
    "\n",
    "在没有I/O的情况下操作路径的基类。`PurePath`代表一个文件系统路径，并提供与实际文件系统I/O无关的操作。根据系统不同，实例化一个`Path`对象可能反回一个`PosixPath`或`WindowsPath`对象，也可以直接实例化一个`PosixPath`或`WindowsPath`对象，但不能在`POSIX`系统上实例化一个`WindowsPath`对象，反之亦然。\n",
    "\n",
    "**Subclasses**\n",
    "\n",
    "`PurePosixPath`, `PureWindowsPath`, `Path`"
   ]
  },
  {
   "cell_type": "markdown",
   "metadata": {},
   "source": [
    "# pathlib.Path()\n",
    "\n",
    "`pathlib.Path(*args, **kwargs)`\n",
    "\n",
    "**Docstring**\n",
    "\n",
    "可以进行系统调用的`PurePath`子类。`Path`代表一个文件系统路径，但不同于`PurePath`类，其还提供了对`Path`对象执行系统调用的方法。根据系统不同，实例化一个`Path`对象可能反回一个`PosixPath`或`WindowsPath`对象，也可以直接实例化一个`PosixPath`或`WindowsPath`对象，但不能在`POSIX`系统上实例化一个`WindowsPath`对象，反之亦然。\n",
    "\n",
    "**Subclasses**\n",
    "\n",
    "`PosixPath`, `WindowsPath`"
   ]
  },
  {
   "cell_type": "code",
   "execution_count": 10,
   "metadata": {
    "scrolled": false
   },
   "outputs": [
    {
     "name": "stdout",
     "output_type": "stream",
     "text": [
      "pathlib.Path\\test\n",
      "pathlib.Path\\test\\subdir\n"
     ]
    }
   ],
   "source": [
    "dir1 = pathlib.Path(\"./pathlib.Path/test/\")\n",
    "print(dir1)\n",
    "dir1 = dir1 / \"subdir\"\n",
    "print(dir1)"
   ]
  },
  {
   "cell_type": "code",
   "execution_count": null,
   "metadata": {},
   "outputs": [],
   "source": []
  }
 ],
 "metadata": {
  "kernelspec": {
   "display_name": "Python 3",
   "language": "python",
   "name": "python3"
  },
  "language_info": {
   "codemirror_mode": {
    "name": "ipython",
    "version": 3
   },
   "file_extension": ".py",
   "mimetype": "text/x-python",
   "name": "python",
   "nbconvert_exporter": "python",
   "pygments_lexer": "ipython3",
   "version": "3.7.7"
  }
 },
 "nbformat": 4,
 "nbformat_minor": 4
}
