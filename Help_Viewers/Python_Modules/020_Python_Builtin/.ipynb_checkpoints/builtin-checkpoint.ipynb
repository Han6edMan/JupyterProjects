{
 "cells": [
  {
   "cell_type": "code",
   "execution_count": 6,
   "metadata": {},
   "outputs": [],
   "source": [
    "import builtins\n",
    "import sys"
   ]
  },
  {
   "cell_type": "markdown",
   "metadata": {},
   "source": [
    "# Module builtins -- Oveview\n",
    "\n",
    "**Name**\n",
    "\n",
    "builtins - Built-in functions, exceptions, and other objects.\n",
    "\n",
    "**Classes**\n",
    "\n",
    "见下图\n",
    "\n",
    "<img src=\"./imgs/builtins.png\">\n",
    "\n",
    "**Functions**\n",
    "\n",
    "- \\_\\_build_class__\n",
    "\n",
    "- abs(x, /)\n",
    "\n",
    "- all(iterable, /)\n",
    "\n",
    "- any(iterable, /)\n",
    "\n",
    "- ascii(obj, /)\n",
    "\n",
    "- bin(number, /)\n",
    "\n",
    "- breakpoint(...)\n",
    "\n",
    "- callable(obj, /)\n",
    "\n",
    "- chr(i, /)\n",
    "\n",
    "- compile(source, filename, mode, flags=0, dont_inherit=False, optimize=-1)\n",
    "\n",
    "- delattr(obj, name, /)\n",
    "\n",
    "- dir(...)\n",
    "\n",
    "- divmod(x, y, /)\n",
    "\n",
    "- eval(source, globals=None, locals=None, /)\n",
    "\n",
    "- exec(source, globals=None, locals=None, /)\n",
    "\n",
    "- format(value, format_spec='', /)\n",
    "\n",
    "- getattr(...)\n",
    "\n",
    "- globals()\n",
    "\n",
    "- hasattr(obj, name, /)\n",
    "\n",
    "- hash(obj, /)\n",
    "\n",
    "- hex(number, /)\n",
    "\n",
    "- id(obj, /)\n",
    "\n",
    "- isinstance(obj, class_or_tuple, /)\n",
    "\n",
    "- issubclass(cls, class_or_tuple, /)\n",
    "\n",
    "- iter(...)\n",
    "\n",
    "- len(obj, /)\n",
    "\n",
    "- locals()\n",
    "\n",
    "- max(...)\n",
    "\n",
    "- min(...)\n",
    "\n",
    "- next(...)\n",
    "\n",
    "- oct(number, /)\n",
    "\n",
    "- open(file, mode='r', buffering=-1, encoding=None, errors=None, newline=None, closefd=True, opener=None)\n",
    "\n",
    "- ord(c, /)\n",
    "\n",
    "- pow(x, y, z=None, /)\n",
    "\n",
    "- print(...)\n",
    "\n",
    "- repr(obj, /)\n",
    "\n",
    "- round(number, ndigits=None)\n",
    "\n",
    "- setattr(obj, name, value, /)\n",
    "\n",
    "- sorted(iterable, /, *, key=None, reverse=False)\n",
    "\n",
    "- sum(iterable, start=0, /)\n",
    "\n",
    "- vars(...)"
   ]
  },
  {
   "cell_type": "markdown",
   "metadata": {},
   "source": [
    "# print()\n",
    "`print(value, ..., sep=' ', end='\\n', file=sys.stdout, flush=False)`\n",
    "\n",
    "将`value`打印至输出流，或打印至`sys.stdout`中\n",
    "\n",
    "**params**\n",
    "\n",
    "- file: 一个 file-like object (stream)，默认为当前的`sys.stdout`\n",
    "- sep: 打印不同变量之间插入的字符，默认为空格\n",
    "- end: 打印最后结果后附加的字符串，默认为换行符\n",
    "- flush: whether to forcibly flush the stream."
   ]
  },
  {
   "cell_type": "markdown",
   "metadata": {},
   "source": [
    "#  "
   ]
  },
  {
   "cell_type": "markdown",
   "metadata": {},
   "source": [
    "#  "
   ]
  },
  {
   "cell_type": "markdown",
   "metadata": {},
   "source": [
    "# open()\n",
    "```\n",
    "open(\n",
    "    file,\n",
    "    mode='r',\n",
    "    buffering=-1,\n",
    "    encoding=None,\n",
    "    errors=None,\n",
    "    newline=None,\n",
    "    closefd=True,\n",
    "    opener=None,\n",
    ")\n",
    "```\n",
    "\n",
    "**Docstring**\n",
    "\n",
    "打开文件并返回一个流。执行失败时报`OSError`。\n",
    "\n",
    "**Args**\n",
    "\n",
    "- `file`: 要被打开的、提供了文件名的文本或字节串(byte string)，或是一个要被打包的的整数文件描述符(integer file descriptor)。如果打开的文件不在当前工作目录中，则需要提供文件路径；如果给定了文件描述符，且`closefd=Truee`，则当返回的I/O对象关闭时，该文件也将关闭)\n",
    "\n",
    "- `mode`: 用于指定文件打开的模式，默认以只读的文本模式打开\n",
    "    - 'r': 只读(default)\n",
    "    - 'w': 打开写入，如果文件已经存在，则将先截断该文件(truncating the file first)\n",
    "    - 'x': 创建一个新文件，并将其打开执行写的操作，在某些 Unix 系统上，这意味着所有写的内容都附加到文件的末尾，而不考虑当前查找位置\n",
    "    - 'a': 执行写的操作，若文件存在，则将写的内容附加在文件内容末尾\n",
    "    - 'b': 以二进制模式打开文件，进而数据将以字节码对象形式来读写，该模式可用在所有非文本文件中\n",
    "    - 't': 文本模式(default)，该模式下如果没有指定编码模式，则使用基于平台的编码模式，即将调用`locale.getpreferredencoding(False)`来得到相应编码模式，对于读取和写入原始字节，使用二进制模式并保留未指定的编码\n",
    "    - '+': 打开磁盘文件进行更新(读和写)\n",
    "    - 'U': 通用换行模式(deprecated)\n",
    "\n",
    "\n",
    "The default mode is 'rt' (open for reading text). For binary random\n",
    "access, the mode 'w+b' opens and truncates the file to 0 bytes, while\n",
    "'r+b' opens the file without truncation. The 'x' mode implies 'w' and\n",
    "raises an `FileExistsError` if the file already exists.\n",
    "\n",
    "Python distinguishes between files opened in binary and text modes,\n",
    "even when the underlying operating system doesn't. Files opened in\n",
    "binary mode (appending 'b' to the mode argument) return contents as\n",
    "bytes objects without any decoding. In text mode (the default, or when\n",
    "'t' is appended to the mode argument), the contents of the file are\n",
    "returned as strings, the bytes having been first decoded using a\n",
    "platform-dependent encoding or using the specified encoding if given.\n",
    "\n",
    "'U' mode is deprecated and will raise an exception in future versions\n",
    "of Python.  It has no effect in Python 3.  Use newline to control\n",
    "universal newlines mode.\n",
    "\n",
    "buffering is an optional integer used to set the buffering policy.\n",
    "Pass 0 to switch buffering off (only allowed in binary mode), 1 to select\n",
    "line buffering (only usable in text mode), and an integer > 1 to indicate\n",
    "the size of a fixed-size chunk buffer.  When no buffering argument is\n",
    "given, the default buffering policy works as follows:\n",
    "\n",
    "* Binary files are buffered in fixed-size chunks; the size of the buffer\n",
    "  is chosen using a heuristic trying to determine the underlying device's\n",
    "  \"block size\" and falling back on `io.DEFAULT_BUFFER_SIZE`.\n",
    "  On many systems, the buffer will typically be 4096 or 8192 bytes long.\n",
    "\n",
    "* \"Interactive\" text files (files for which isatty() returns True)\n",
    "  use line buffering.  Other text files use the policy described above\n",
    "  for binary files.\n",
    "\n",
    "\n",
    "- `encoding`: 用于解码或编码文件的编码方式的名称，这只能在文本模式下使用；默认编码依赖于平台，但任何 Python 支持的编码模式都可以传递，Python 所支持的编码模式详见`codecs`模块\n",
    "\n",
    "- `errors`: 指定如何处理编码错误——此参数不应在二进制模式下使用，其所被传递的参数中：\n",
    "    - `None`: 在编码错误时抛出ValueError异常\n",
    "    - `strict`: 同`None`\n",
    "    - `ignore`: 忽略错误(需要注意的是，忽略编码错误可能导致数据丢失，对于允许的编码错误类型的字符串，可参见`codecs.register`或执行`codecs.Codec`\n",
    "\n",
    "- `newline` controls how universal newlines works (it only applies to text\n",
    "mode). It can be None, '', '\\n', '\\r', and '\\r\\n'.  It works as\n",
    "follows:\n",
    "\n",
    "* On input, if newline is None, universal newlines mode is\n",
    "  enabled. Lines in the input can end in '\\n', '\\r', or '\\r\\n', and\n",
    "  these are translated into '\\n' before being returned to the\n",
    "  caller. If it is '', universal newline mode is enabled, but line\n",
    "  endings are returned to the caller untranslated. If it has any of\n",
    "  the other legal values, input lines are only terminated by the given\n",
    "  string, and the line ending is returned to the caller untranslated.\n",
    "\n",
    "* On output, if newline is None, any '\\n' characters written are\n",
    "  translated to the system default line separator, os.linesep. If\n",
    "  newline is '' or '\\n', no translation takes place. If newline is any\n",
    "  of the other legal values, any '\\n' characters written are translated\n",
    "  to the given string.\n",
    "\n",
    "If closefd is False, the underlying file descriptor will be kept open\n",
    "when the file is closed. This does not work when a file name is given\n",
    "and must be True in that case.\n",
    "\n",
    "A custom opener can be used by passing a callable as *opener*. The\n",
    "underlying file descriptor for the file object is then obtained by\n",
    "calling *opener* with (*file*, *flags*). *opener* must return an open\n",
    "file descriptor (passing os.open as *opener* results in functionality\n",
    "similar to passing None).\n",
    "\n",
    "open() returns a file object whose type depends on the mode, and\n",
    "through which the standard file operations such as reading and writing\n",
    "are performed. When open() is used to open a file in a text mode ('w',\n",
    "'r', 'wt', 'rt', etc.), it returns a TextIOWrapper. When used to open\n",
    "a file in a binary mode, the returned class varies: in read binary\n",
    "mode, it returns a BufferedReader; in write binary and append binary\n",
    "modes, it returns a BufferedWriter, and in read/write mode, it returns\n",
    "a BufferedRandom.\n",
    "\n",
    "It is also possible to use a string or bytearray as a file for both\n",
    "reading and writing. For strings StringIO can be used like a file\n",
    "opened in a text mode, and for bytes a BytesIO can be used like a file\n",
    "opened in a binary mode.\n",
    "Type:      builtin_function_or_method"
   ]
  },
  {
   "cell_type": "markdown",
   "metadata": {},
   "source": [
    "#  "
   ]
  },
  {
   "cell_type": "markdown",
   "metadata": {},
   "source": [
    "help(list)\n",
    "\n",
    "Help on class list in module builtins:\n",
    "\n",
    "class list(object)\n",
    "   list(iterable=(), /)\n",
    "   \n",
    "   Built-in mutable sequence.\n",
    "   \n",
    "   If no argument is given, the constructor creates a new empty list.\n",
    "   The argument must be an iterable if specified.\n",
    "   \n",
    "   Methods defined here:\n",
    "   \n",
    "   __add__(self, value, /)\n",
    "       Return self+value.\n",
    "   \n",
    "   __contains__(self, key, /)\n",
    "       Return key in self.\n",
    "   \n",
    "   __delitem__(self, key, /)\n",
    "       Delete self[key].\n",
    "   \n",
    "   __eq__(self, value, /)\n",
    "       Return self==value.\n",
    "   \n",
    "   __ge__(self, value, /)\n",
    "       Return self>=value.\n",
    "   \n",
    "   __getattribute__(self, name, /)\n",
    "       Return getattr(self, name).\n",
    "   \n",
    "   __getitem__(...)\n",
    "       x.__getitem__(y) <==> x[y]\n",
    "   \n",
    "   __gt__(self, value, /)\n",
    "       Return self>value.\n",
    "   \n",
    "   __iadd__(self, value, /)\n",
    "       Implement self+=value.\n",
    "   \n",
    "   __imul__(self, value, /)\n",
    "       Implement self*=value.\n",
    "   \n",
    "   __init__(self, /, *args, **kwargs)\n",
    "       Initialize self.  See help(type(self)) for accurate signature.\n",
    "   \n",
    "   __iter__(self, /)\n",
    "       Implement iter(self).\n",
    "   \n",
    "   __le__(self, value, /)\n",
    "       Return self<=value.\n",
    "   \n",
    "   __len__(self, /)\n",
    "       Return len(self).\n",
    "   \n",
    "   __lt__(self, value, /)\n",
    "       Return self<value.\n",
    "   \n",
    "   __mul__(self, value, /)\n",
    "       Return self*value.\n",
    "   \n",
    "   __ne__(self, value, /)\n",
    "       Return self!=value.\n",
    "   \n",
    "   __repr__(self, /)\n",
    "       Return repr(self).\n",
    "   \n",
    "   __reversed__(self, /)\n",
    "       Return a reverse iterator over the list.\n",
    "   \n",
    "   __rmul__(self, value, /)\n",
    "       Return value*self.\n",
    "   \n",
    "   __setitem__(self, key, value, /)\n",
    "       Set self[key] to value.\n",
    "   \n",
    "   __sizeof__(self, /)\n",
    "       Return the size of the list in memory, in bytes.\n",
    "   \n",
    "   append(self, object, /)\n",
    "       Append object to the end of the list.\n",
    "   \n",
    "   clear(self, /)\n",
    "       Remove all items from list.\n",
    "   \n",
    "   copy(self, /)\n",
    "       Return a shallow copy of the list.\n",
    "   \n",
    "   count(self, value, /)\n",
    "       Return number of occurrences of value.\n",
    "   \n",
    "   extend(self, iterable, /)\n",
    "       Extend list by appending elements from the iterable.\n",
    "   \n",
    "   index(self, value, start=0, stop=9223372036854775807, /)\n",
    "       Return first index of value.\n",
    "       \n",
    "       Raises ValueError if the value is not present.\n",
    "   \n",
    "   insert(self, index, object, /)\n",
    "       Insert object before index.\n",
    "   \n",
    "   pop(self, index=-1, /)\n",
    "       Remove and return item at index (default last).\n",
    "       \n",
    "       Raises IndexError if list is empty or index is out of range.\n",
    "   \n",
    "   remove(self, value, /)\n",
    "       Remove first occurrence of value.\n",
    "       \n",
    "       Raises ValueError if the value is not present.\n",
    "   \n",
    "   reverse(self, /)\n",
    "       Reverse *IN PLACE*.\n",
    "   \n",
    "   sort(self, /, *, key=None, reverse=False)\n",
    "       Sort the list in ascending order and return None.\n",
    "       \n",
    "       The sort is in-place (i.e. the list itself is modified) and stable (i.e. the\n",
    "       order of two equal elements is maintained).\n",
    "       \n",
    "       If a key function is given, apply it once to each list item and sort them,\n",
    "       ascending or descending, according to their function values.\n",
    "       \n",
    "       The reverse flag can be set to sort in descending order.\n",
    "   \n",
    "   ----------------------------------------------------------------------\n",
    "   Static methods defined here:\n",
    "   \n",
    "   __new__(*args, **kwargs) from builtins.type\n",
    "       Create and return a new object.  See help(type) for accurate signature.\n",
    "   \n",
    "   ----------------------------------------------------------------------\n",
    "   Data and other attributes defined here:\n",
    "   \n",
    "   __hash__ = None"
   ]
  },
  {
   "cell_type": "markdown",
   "metadata": {},
   "source": [
    "#  "
   ]
  },
  {
   "cell_type": "markdown",
   "metadata": {},
   "source": [
    "# isinstance()\n",
    "`isinstance(obj, class_or_tuple, /)`\n",
    "\n",
    "**Docstring**\n",
    "\n",
    "返回一个对象是否为一个类或其子类的一个实例，当`class_or_tuple`为`tuple`时，即``isinstance(x, (A, B, ...))``，等价于``isinstance(x, A) or isinstance(x, B) or ...``\n",
    "\n",
    "**Type**\n",
    "\n",
    "builtin_function_or_method"
   ]
  },
  {
   "cell_type": "markdown",
   "metadata": {},
   "source": [
    "#  "
   ]
  },
  {
   "cell_type": "markdown",
   "metadata": {},
   "source": [
    "#  "
   ]
  },
  {
   "cell_type": "markdown",
   "metadata": {
    "scrolled": true
   },
   "source": [
    "# zip(object)\n",
    "`zip(*iterables) --> zip object`\n",
    "\n",
    "**Doctring**\n",
    "\n",
    "返回一个zip对象，该对象的`.__next__()`方法返回一个元组，其中第 i 个元素来自第 i 个可迭代参数`iterable`；`.__next__()`方法一直持续到参数序列中最短的可迭代参数被迭代完，随后它会抛出`StopIteration`\n",
    "  \n",
    "**类内函数**\n",
    "\n",
    "- `__getattribute__(self, name, /)`: 返回`getattr(self, name)`\n",
    "\n",
    "- `__iter__(self, /)`: Implement iter(self).\n",
    "\n",
    "- `__next__(self, /)`: Implement next(self).\n",
    "\n",
    "- `__reduce__(...)`: Return state information for pickling.\n",
    "\n",
    "**静态函数**\n",
    "\n",
    "`__new__(*args, **kwargs)` from builtins.type, Create and return a new object.  See help(type) for accurate signature."
   ]
  },
  {
   "cell_type": "markdown",
   "metadata": {},
   "source": [
    "#  "
   ]
  },
  {
   "cell_type": "markdown",
   "metadata": {},
   "source": [
    "#  "
   ]
  },
  {
   "cell_type": "markdown",
   "metadata": {},
   "source": [
    "# str(self, /, \\*args, \\*\\*kwargs)\n",
    "```python\n",
    "str(object='') -> str\n",
    "str(bytes_or_buffer[, encoding[, errors]]) -> str\n",
    "```\n",
    "\n",
    "从给定的`object`创建字符串对象；若指明了`encoding`和`errors`，则给定的`object`必须公开一个数据缓冲区，该缓冲区通过`encoding`和`errors`处理器来被解码，否则返回`object.__str__()`或`repr(object)`的结果（如果这些函数被定义了的话），其中`encoding`默认为`sys.getdefaultencoding()`，默认为`'strict'`；**str 对象为只读的**\n",
    "\n",
    "**类方法**\n",
    "- \\_\\_add__(self, value, /)\n",
    "- \\_\\_contains__(self, key, /)\n",
    "- \\_\\_eq__(self, value, /)\n",
    "- \\_\\_format__(self, format_spec, /)\n",
    "- \\_\\_ge__(self, value, /)\n",
    "- \\_\\_getattribute__(self, name, /)\n",
    "- \\_\\_getitem__(self, key, /)\n",
    "- \\_\\_getnewargs__(...)\n",
    "- \\_\\_gt__(self, value, /)\n",
    "- \\_\\_hash__(self, /)\n",
    "- \\_\\_iter__(self, /)\n",
    "- \\_\\_le__(self, value, /)\n",
    "- \\_\\_len__(self, /)\n",
    "- \\_\\_lt__(self, value, /)\n",
    "- \\_\\_mod__(self, value, /)\n",
    "- \\_\\_mul__(self, value, /)\n",
    "- \\_\\_ne__(self, value, /)\n",
    "- \\_\\_repr__(self, /)\n",
    "- \\_\\_rmod__(self, value, /)\n",
    "- \\_\\_rmul__(self, value, /)\n",
    "- \\_\\_sizeof__(self, /)\n",
    "- \\_\\_str__(self, /)\n",
    "- capitalize(self, /)\n",
    "- casefold(self, /)\n",
    "- str.count(sub[, start[, end]]) -> int\n",
    "- encode(self, /, encoding='utf-8', errors='strict')\n",
    "- str.endswith(suffix[, start[, end]]) -> bool\n",
    "- expandtabs(self, /, tabsize=8)\n",
    "- str.find(sub[, start[, end]]) -> int\n",
    "- str.format(\\*args, \\*\\*kwargs) -> str\n",
    "- str.format_map(mapping) -> str\n",
    "- str.index(sub[, start[, end]]) -> int\n",
    "- isalnum(self, /)\n",
    "- isalpha(self, /)\n",
    "- isascii(self, /)\n",
    "- isdecimal(self, /)\n",
    "- isdigit(self, /)\n",
    "- isidentifier(self, /)\n",
    "- islower(self, /)\n",
    "- isnumeric(self, /)\n",
    "- isprintable(self, /)\n",
    "- isspace(self, /)\n",
    "- istitle(self, /)\n",
    "- isupper(self, /)\n",
    "- join(self, iterable, /)\n",
    "- ljust(self, width, fillchar=' ', /)\n",
    "- partition(self, sep, /)\n",
    "- replace(self, old, new, count=-1, /)\n",
    "- str.rfind(sub[, start[, end]]) -> int\n",
    "- str.rindex(sub[, start[, end]]) -> int\n",
    "- rjust(self, width, fillchar=' ', /)\n",
    "- rpartition(self, sep, /)\n",
    "- rsplit(self, /, sep=None, maxsplit=-1) \n",
    "- splitlines(self, /, keepends=False)\n",
    "- startswith(...)\n",
    "- swapcase(self, /)\n",
    "\n",
    "- translate(self, table, /)\n",
    "- zfill(self, width, /)\n",
    "\n",
    "**静态方法**\n",
    "- \\_\\_new__(\\*args, \\*\\*kwargs)\n",
    "- maketrans(x, y=None, z=None, /)"
   ]
  },
  {
   "cell_type": "markdown",
   "metadata": {},
   "source": [
    "## str.strip()，str.lstrip()，str.rstrip()\n",
    "`<str>.strip(chars=None, /)`，`str.lstrip(self, chars=None, /)`，`<str>.rstrip()`\n",
    "\n",
    "**Docstring**\n",
    "\n",
    "删除字符串首/尾/首尾的`char`所指明的字符并将其返回；若未指明`char`，则删除首尾的空格\n",
    "\n",
    "**Type**:      method_descriptor"
   ]
  },
  {
   "cell_type": "code",
   "execution_count": null,
   "metadata": {
    "scrolled": false
   },
   "outputs": [],
   "source": [
    "x = \"        stars     \"\n",
    "print(x, \",\")\n",
    "print(x.strip(), \",\")\n",
    "print(x.lstrip(), \",\")\n",
    "print(x.rstrip(), \",\")\n",
    "print(x.strip().strip(\"s\"), \",\")"
   ]
  },
  {
   "cell_type": "markdown",
   "metadata": {},
   "source": [
    "## str.split()，str.rsplit()\n",
    "`<str>.split(/, sep=None, maxsplit=-1)`，`str.rsplit(sep=None, maxsplit=-1)`\n",
    "\n",
    "**Docstring**\n",
    "\n",
    "返回一个由字符串中字符构成的列表，以`sep`作为分隔符字符串标识，\n",
    "\n",
    "**Args**\n",
    "\n",
    "- sep：用来分割字符串的分隔符，默认根据空格进行分割，并去除结果中的空字符串。\n",
    "\n",
    "- maxsplit：最大分割次数，默认为 -1 时分割所有，`rsplit`函数则从右至左计数\n",
    "\n",
    "**Type**:      method_descriptor\n",
    "\n",
    "### Example:\n",
    "```py\n",
    "x = \"This is the help viewer for Python module builtin\"\n",
    "print(x.split(maxsplit=2))  # => ['This', 'is', 'the help viewer for Python module builtin']\n",
    "print(x.rsplit(maxsplit=2)) # => ['This is the help viewer for Python', 'module', 'builtin']\n",
    "print(x.split(\"i\"))  # => ['Th', 's ', 's the help v', 'ewer for Python module bu', 'lt', 'n']\n",
    "```"
   ]
  },
  {
   "cell_type": "markdown",
   "metadata": {},
   "source": [
    "## str.title()，str.upper()，str.lower()\n",
    "### Example:\n",
    "```py\n",
    "x = \"This is the help viewer for Python module builtin\"\n",
    "print(x.title())  # => This Is The Help Viewer For Python Module Builtin\n",
    "print(x.upper())  # => THIS IS THE HELP VIEWER FOR PYTHON MODULE BUILTIN\n",
    "print(x.lower())  # => this is the help viewer for python module builtin\n",
    "```"
   ]
  },
  {
   "cell_type": "markdown",
   "metadata": {},
   "source": [
    "## str.find()\n",
    "`<str>.find(sub, start=0, end=len(<str>)) -> int`\n",
    "\n",
    "返回`<str>[start: end]`中子字符串`sub`在`<str>`中的最小的索引，找不到则返回 -1\n",
    "\n",
    "**Type**:      builtin_function_or_method"
   ]
  },
  {
   "cell_type": "code",
   "execution_count": null,
   "metadata": {},
   "outputs": [],
   "source": [
    "x = \"This is the help viewer for Python module builtin\"\n",
    "print(x.find(\"i\"))\n",
    "print(x.find(\"i\", -5, -1))\n",
    "print(x.find(\"a\"))"
   ]
  },
  {
   "cell_type": "markdown",
   "metadata": {},
   "source": [
    "## str.join()\n",
    "`str.join(self, iterable, /)`\n",
    "\n",
    "将`iterable`中的任意数量字符串进行拼接\n",
    "\n",
    "The string whose method is called is inserted in between each given string.\n",
    "The result is returned as a new string.\n",
    "\n",
    "Type:      method_descriptor\n",
    "\n",
    "#### Example:\n",
    "```python\n",
    "print(','.join(['ab', 'pq', 'rs']))                            # => 'ab,pq,rs'\n",
    "print(\" \".join([\"This\", \"is\", \"a\", \"list\", \"of\", \"strings\"]))  # => 'This is a list of strings'\n",
    "print(str.join(\",\", list(\"这是一个由字符串组成的列表\")))         # => '这,是,一,个,由,字,符,串,组,成,的,列,表'\n",
    "```\n",
    "## str.format()"
   ]
  },
  {
   "cell_type": "code",
   "execution_count": 35,
   "metadata": {},
   "outputs": [
    {
     "name": "stdout",
     "output_type": "stream",
     "text": [
      "Marry has 3 lambs, which are Lily, Bill and Cot\n",
      "Mary has 3 lambs\n"
     ]
    }
   ],
   "source": [
    "# 字符串的输出\n",
    "print(\"Marry has {} lambs, which are {n1}, {n2} and \" \"{}\".format(3, \"Cot\", n2=\"Bill\", n1=\"Lily\"))\n",
    "print(\"Mary has %d lambs\" % (3))"
   ]
  },
  {
   "cell_type": "markdown",
   "metadata": {},
   "source": [
    "## str.replace()\n",
    "`<str>.replace(old, new, count=-1, /)`\n",
    "\n",
    "**Docstring**:\n",
    "\n",
    "返回一个`str`的副本，该副本中所有`old`指代的字符串会以`new`字符串所代替，若指明了`count`，则只有前`count`个出现的`old`字符串会被替代为`new`，默认替换所有\n",
    "\n",
    "**Type**:      method_descriptor"
   ]
  },
  {
   "cell_type": "markdown",
   "metadata": {},
   "source": [
    "#  "
   ]
  },
  {
   "cell_type": "markdown",
   "metadata": {},
   "source": [
    "#  "
   ]
  },
  {
   "cell_type": "markdown",
   "metadata": {},
   "source": [
    "# next()\n",
    "`next(iterator[, default])`\n",
    "\n",
    "从`iterator`中返回下一项内容，若`iterator`迭代完且给定了`default`，则返回`default`；若未指明则抛出`StopIteration`\n",
    "\n",
    "**Type**:      builtin_function_or_method\n",
    "\n",
    "### Example\n",
    "\n",
    "```py\n",
    "x = iter([1, 2, 3])\n",
    "for i in range(5):\n",
    "    print(next(x, 10))  # => 1 2 3 10 10\n",
    "```"
   ]
  },
  {
   "cell_type": "markdown",
   "metadata": {},
   "source": [
    "#  "
   ]
  },
  {
   "cell_type": "markdown",
   "metadata": {},
   "source": [
    "# eval()\n",
    "`eval(source, globals=None, locals=None, /)`\n",
    "\n",
    "**Docstring**:\n",
    "\n",
    "在全局和局部作用域内评估给定的`source`，\n",
    "\n",
    "**Args**\n",
    "\n",
    "- source: 可以是代表着一个Python表达式的字符串，也可以是由`compile()`\n",
    "- globals：必须是字典形式，默认为当前全局作用域，若只给定了`globals`，则`locals`默认为`globals`\n",
    "- locals：可以是任意映射形式，默认为当前局部作用域，若只给定了`globals`，则`locals`默认为`globals`\n",
    "\n",
    "**Type**:      builtin_function_or_method"
   ]
  },
  {
   "cell_type": "code",
   "execution_count": 4,
   "metadata": {},
   "outputs": [
    {
     "name": "stdout",
     "output_type": "stream",
     "text": [
      "testing the `eval` function\n"
     ]
    }
   ],
   "source": [
    "eval(\"print(\\\"testing the `eval` function\\\")\")"
   ]
  },
  {
   "cell_type": "markdown",
   "metadata": {},
   "source": [
    "#  "
   ]
  },
  {
   "cell_type": "markdown",
   "metadata": {},
   "source": [
    "# iter()\n",
    "```py\n",
    "iter(iterable) -> iterator\n",
    "iter(callable, sentinel) -> iterator\n",
    "```\n",
    "\n",
    "生成一个迭代器；第一种声明形式中参数必须能够提供其自己的迭代器，或参数为一序列；第二种声明形式中，将一直调用函数，直至其返回一个标记（sentinel）\n",
    "\n",
    "**Type**:      builtin_function_or_method\n",
    "\n",
    "### Example\n",
    "```python\n",
    "x = iter([1, 2, 3])\n",
    "print(x)  # => <list_iterator object at 0x000002581B2A1488>\n",
    "print(next(x))  # => 1\n",
    "print(next(x))  # => 2\n",
    "print(next(x))  # => 3\n",
    "print(next(x))  # => raise `StopIteration`\n",
    "```"
   ]
  },
  {
   "cell_type": "code",
   "execution_count": 11,
   "metadata": {},
   "outputs": [
    {
     "ename": "TypeError",
     "evalue": "iter(v, w): v must be callable",
     "output_type": "error",
     "traceback": [
      "\u001b[1;31m---------------------------------------------------------------------------\u001b[0m",
      "\u001b[1;31mTypeError\u001b[0m                                 Traceback (most recent call last)",
      "\u001b[1;32m<ipython-input-11-b8b78e9c5687>\u001b[0m in \u001b[0;36m<module>\u001b[1;34m\u001b[0m\n\u001b[1;32m----> 1\u001b[1;33m \u001b[0miter\u001b[0m\u001b[1;33m(\u001b[0m\u001b[1;33m[\u001b[0m\u001b[1;36m1\u001b[0m\u001b[1;33m,\u001b[0m \u001b[1;36m2\u001b[0m\u001b[1;33m,\u001b[0m \u001b[1;36m3\u001b[0m\u001b[1;33m]\u001b[0m\u001b[1;33m,\u001b[0m \u001b[1;36m999\u001b[0m\u001b[1;33m)\u001b[0m\u001b[1;33m\u001b[0m\u001b[1;33m\u001b[0m\u001b[0m\n\u001b[0m",
      "\u001b[1;31mTypeError\u001b[0m: iter(v, w): v must be callable"
     ]
    }
   ],
   "source": [
    "iter([1, 2, 3])"
   ]
  },
  {
   "cell_type": "markdown",
   "metadata": {},
   "source": [
    "#  "
   ]
  },
  {
   "cell_type": "markdown",
   "metadata": {},
   "source": [
    "# isinstance()\n",
    "`isinstance(obj, class_or_tuple, /)`\n",
    "\n",
    "返回一个对象是否是一个类或其父类的实例；``isinstance(x, (A, B, ...))``等价于``isinstance(x, A) or isinstance(x, B)\n",
    "or ...``\n",
    "\n",
    "\n",
    "**Type**:      builtin_function_or_method\n",
    "\n",
    "\n",
    "### Example\n",
    "```py\n",
    "print(isinstance(True, int))  # True\n",
    "print(isinstance(3, bool))  # False\n",
    "print(isinstance(bool, int))  # False\n",
    "```"
   ]
  },
  {
   "cell_type": "markdown",
   "metadata": {},
   "source": [
    "#  "
   ]
  },
  {
   "cell_type": "markdown",
   "metadata": {},
   "source": [
    "# hasattr()\n",
    "`hasattr(obj, name, /)`\n",
    "\n",
    "返回一个对象是否含有`name`指代的属性，该函数通过调用`getattr(obj, name)`方法并捕获`AttributeError`来实现的\n",
    "\n",
    "**Type**:      builtin_function_or_method\n",
    "```py\n",
    "hasattr(builtins, \"hasattr\")\n",
    "```"
   ]
  },
  {
   "cell_type": "markdown",
   "metadata": {},
   "source": [
    "#  "
   ]
  },
  {
   "cell_type": "markdown",
   "metadata": {},
   "source": [
    "# setattr()\n",
    "`setattr(obj, name, value, /)`\n",
    "\n",
    "`setattr(x, 'y', v)`等价于 ``x.y = v``\n",
    "\n",
    "**Type**:      builtin_function_or_method"
   ]
  },
  {
   "cell_type": "markdown",
   "metadata": {},
   "source": [
    "#  "
   ]
  },
  {
   "cell_type": "markdown",
   "metadata": {},
   "source": [
    "# dict()\n",
    "```python\n",
    "dict()\n",
    "dict(mapping)\n",
    "dict(iterable)\n",
    "dict(**kwargs)\n",
    "```\n",
    "\n",
    "第一种方式返回空字典；第二种从一个映射对象中初始化一个字典；第三种以以下方式初始化一个字典：\n",
    "```python\n",
    "d = {}\n",
    "for k, v in iterable:\n",
    "    d[k] = v\n",
    "```\n",
    "第四种使用关键字参数中的`name=value`对初始化字典，如\n",
    "```python\n",
    "dict(one=1, two=2) # => {'one': 1, 'two': 2}\n",
    "```\n",
    "\n",
    "**methods**\n",
    "\n",
    "- \\_\\_contains\\_\\_(self, key, /)\n",
    "\n",
    "- \\_\\_delitem\\_\\_(self, key, /)\n",
    "\n",
    "- \\_\\_eq\\_\\_(self, value, /)\n",
    "\n",
    "- \\_\\_ge\\_\\_(self, value, /)\n",
    "\n",
    "- \\_\\_getattribute\\_\\_(self, name, /)\n",
    "\n",
    "- \\_\\_getitem\\_\\_(...)\n",
    "\n",
    "- \\_\\_gt\\_\\_(self, value, /)\n",
    "\n",
    "- \\_\\_init\\_\\_(self, /, \\*args, \\*\\*kwargs)\n",
    "\n",
    "- \\_\\_iter\\_\\_(self, /)\n",
    "\n",
    "- \\_\\_le\\_\\_(self, value, /)\n",
    "\n",
    "- \\_\\_len\\_\\_(self, /)\n",
    "\n",
    "- \\_\\_lt\\_\\_(self, value, /)\n",
    "\n",
    "- \\_\\_ne\\_\\_(self, value, /)\n",
    "\n",
    "- \\_\\_repr\\_\\_(self, /)\n",
    "   Return repr(self).\n",
    "\n",
    "- \\_\\_setitem\\_\\_(self, key, value, /)\n",
    "\n",
    "- \\_\\_sizeof\\_\\_(...)\n",
    "\n",
    "- D.clear() -> None.\n",
    "\n",
    "- D.copy() ->\n",
    "\n",
    "- get(self, key, default=None, /)\n",
    "\n",
    "- D.items() ->\n",
    "\n",
    "- D.keys() ->\n",
    "\n",
    "- D.pop(k[,d]) -> v\n",
    "\n",
    "- D.popitem() -> (k, v)\n",
    "\n",
    "- setdefault(self, key, default=None, /)\n",
    "\n",
    "- update(...)\n",
    "\n",
    "- values(...)\n",
    "\n",
    "**class methods**\n",
    "\n",
    "- fromkeys(iterable, value=None, /)\n",
    "\n",
    "**Static methods**\n",
    "\n",
    "- \\_\\_new\\_\\_(\\*args, \\*\\*kwargs)\n",
    "\n",
    "**Data and other attributes**\n",
    "\n",
    "- \\_\\_hash\\_\\_ = None\n",
    " \n",
    "**Type**:           type\n",
    "\n",
    "**Subclasses**:     OrderedDict, defaultdict, Counter, \\_EnumDict, Bunch, Config, Struct, ColorSchemeTable, StgDict, \\_CharSizesCache, ...\n",
    "\n",
    "### Example\n",
    "\n",
    "对字典内部元素的索引靠哈希算法实现，故 key 必须为可哈希类型，而 value 可以是任意 python 对象"
   ]
  },
  {
   "cell_type": "code",
   "execution_count": null,
   "metadata": {},
   "outputs": [],
   "source": [
    "dicts = {isinstance: isinstance,\n",
    "         dict: dict,\n",
    "         builtins: builtins,\n",
    "         \"1.3\": help,\n",
    "         1.3: Exception()}\n",
    "print(dicts)"
   ]
  },
  {
   "cell_type": "markdown",
   "metadata": {},
   "source": [
    "## dict().update()\n",
    "`D.update([E, ]**F) -> None.`\n",
    "\n",
    "根据字典或可迭代对象 E 和 F 来更新 D；若提供了 E 且其含有`.keys()`方法，则执行\n",
    "```python\n",
    "    for k in E:\n",
    "        D[k] = E[k]\n",
    "```\n",
    "若提供了 E 但其不含有`.keys()`方法，则执行\n",
    "```python\n",
    "    for k, v in E:\n",
    "        D[k] = v\n",
    "```\n",
    "随后执行\n",
    "```python\n",
    "    for k in F:  \n",
    "        D[k] = F[k]\n",
    "```\n",
    "**Type**:      method_descriptor"
   ]
  },
  {
   "cell_type": "markdown",
   "metadata": {},
   "source": [
    "## dict().get()\n",
    "`dict.get(self, key, default=None, /)`\n",
    "\n",
    "若字典中存在指定的键则返回相应的值，否则返回`default`\n",
    "\n",
    "**Type**:      method_descriptor"
   ]
  },
  {
   "cell_type": "markdown",
   "metadata": {},
   "source": [
    "#  "
   ]
  },
  {
   "cell_type": "markdown",
   "metadata": {},
   "source": [
    "# getattr()\n",
    "\n",
    "`getattr(object, name[, default]) -> value`\n",
    "\n",
    "得到一个对象的某个属性值，`getattr(x, 'y')`等价于`x.y`；当该属性不存在且指明`default`时，则返回`default`，未指明则抛出异常\n",
    "\n",
    "**Type**:      builtin_function_or_method"
   ]
  },
  {
   "cell_type": "markdown",
   "metadata": {},
   "source": [
    "#  "
   ]
  },
  {
   "cell_type": "markdown",
   "metadata": {},
   "source": [
    "# globals()\n",
    "`globals()`\n",
    "\n",
    "返回一个包含了当前作用域变量的字典；需要注意的是，对这个字典的更新将影响当前全局作用域中的名称查找，反之亦然\n",
    "\n",
    "**Type**:      builtin_function_or_method"
   ]
  },
  {
   "cell_type": "markdown",
   "metadata": {},
   "source": [
    "#  "
   ]
  },
  {
   "cell_type": "markdown",
   "metadata": {},
   "source": [
    "# map()\n",
    "`map(func, *iterables) --> map object`\n",
    "\n",
    "**Docstring**:     \n",
    "\n",
    "创建一个迭代器，该迭代器使用来每个`iterables`的参数来计算函数，最短的`iterable`迭代完后停止\n",
    "\n",
    "**Type**:           type"
   ]
  },
  {
   "cell_type": "markdown",
   "metadata": {},
   "source": [
    "#  "
   ]
  },
  {
   "cell_type": "code",
   "execution_count": 8,
   "metadata": {},
   "outputs": [
    {
     "name": "stdout",
     "output_type": "stream",
     "text": [
      "Lambdas\n",
      "*******\n",
      "\n",
      "   lambda_expr        ::= \"lambda\" [parameter_list] \":\" expression\n",
      "   lambda_expr_nocond ::= \"lambda\" [parameter_list] \":\" expression_nocond\n",
      "\n",
      "Lambda expressions (sometimes called lambda forms) are used to create\n",
      "anonymous functions. The expression \"lambda parameters: expression\"\n",
      "yields a function object.  The unnamed object behaves like a function\n",
      "object defined with:\n",
      "\n",
      "   def <lambda>(parameters):\n",
      "       return expression\n",
      "\n",
      "See section Function definitions for the syntax of parameter lists.\n",
      "Note that functions created with lambda expressions cannot contain\n",
      "statements or annotations.\n",
      "\n",
      "Related help topics: FUNCTIONS\n",
      "\n"
     ]
    }
   ],
   "source": [
    "help(\"lambda\")"
   ]
  }
 ],
 "metadata": {
  "kernelspec": {
   "display_name": "Python 3",
   "language": "python",
   "name": "python3"
  },
  "language_info": {
   "codemirror_mode": {
    "name": "ipython",
    "version": 3
   },
   "file_extension": ".py",
   "mimetype": "text/x-python",
   "name": "python",
   "nbconvert_exporter": "python",
   "pygments_lexer": "ipython3",
   "version": "3.8.6"
  },
  "latex_envs": {
   "LaTeX_envs_menu_present": true,
   "autoclose": false,
   "autocomplete": true,
   "bibliofile": "biblio.bib",
   "cite_by": "apalike",
   "current_citInitial": 1,
   "eqLabelWithNumbers": true,
   "eqNumInitial": 1,
   "hotkeys": {
    "equation": "Ctrl-E",
    "itemize": "Ctrl-I"
   },
   "labels_anchors": false,
   "latex_user_defs": false,
   "report_style_numbering": false,
   "user_envs_cfg": false
  }
 },
 "nbformat": 4,
 "nbformat_minor": 4
}
