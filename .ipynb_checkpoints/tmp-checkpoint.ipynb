{
 "cells": [
  {
   "cell_type": "code",
   "execution_count": 16,
   "metadata": {},
   "outputs": [],
   "source": [
    "import numpy as np\n",
    "import sys"
   ]
  },
  {
   "cell_type": "code",
   "execution_count": 28,
   "metadata": {},
   "outputs": [
    {
     "name": "stdout",
     "output_type": "stream",
     "text": [
      "[0 1 4]\n",
      "[0 0 1 4]\n",
      "[2 2 3 4 5]\n",
      "[2 3 4 5]\n",
      "[2 2 3 4 5]\n",
      "[0 1 1 2 4 5]\n",
      "[0 0 1]\n",
      "[0 1 3 4 4 5 5 5]\n",
      "[1 2 3 3]\n",
      "[0 1 2 3 3 5]\n"
     ]
    }
   ],
   "source": [
    "unik_clabels = np.unique(clabels)\n",
    "for m, unik_clab in enumerate(unik_clabels):\n",
    "    crows = np.where(clabels == unik_clab)[0]\n",
    "    print(crows)"
   ]
  },
  {
   "cell_type": "code",
   "execution_count": 91,
   "metadata": {},
   "outputs": [],
   "source": [
    "def entropy(portion):\n",
    "    ent = 0\n",
    "    for n in range(len(portion)):\n",
    "        ent = ent - portion[n] * np.log(portion[n])\n",
    "    return ent\n",
    "def cpart(partition):\n",
    "    counts = np.zeros(len(partition))\n",
    "    for n in range(len(partition)):\n",
    "        counts[n] = len(partition[n])\n",
    "        if counts[n] == 0:\n",
    "            counts[n] = 1e-7\n",
    "    return counts / np.sum(counts)"
   ]
  },
  {
   "cell_type": "code",
   "execution_count": 92,
   "metadata": {},
   "outputs": [
    {
     "name": "stdout",
     "output_type": "stream",
     "text": [
      "(5, 0)\n"
     ]
    },
    {
     "ename": "SystemExit",
     "evalue": "",
     "output_type": "error",
     "traceback": [
      "An exception has occurred, use %tb to see the full traceback.\n",
      "\u001b[1;31mSystemExit\u001b[0m\n"
     ]
    }
   ],
   "source": [
    "partition = list(np.zeros((5, 1)))\n",
    "for k in range(5):\n",
    "    partition[k] = np.array([], dtype=np.uint16)\n",
    "for m, clabel in enumerate(unik_clabel):\n",
    "    crows = np.where(clabels == clabel)[0]\n",
    "    if m == 0:\n",
    "        partition[0] = np.append(partition[0], crows)\n",
    "    else:\n",
    "        # parmax\n",
    "        _partition = partition.copy()\n",
    "        vals = np.zeros(len(partition))\n",
    "        for n in range(len(partition)):\n",
    "            _partition[n] = np.append(_partition[n], crows)\n",
    "            # epart\n",
    "            entropies = np.zeros(len(_partition))\n",
    "            for i in range(len(_partition)):\n",
    "                ports = portions(_partition[i], labels)\n",
    "                entropies[i] = entropy(ports)\n",
    "            # cpart\n",
    "            counts = np.zeros(len(_partition))\n",
    "            for i in range(len(_partition)):\n",
    "                counts[n] = len(partition[i])\n",
    "                if counts[i] == 0:\n",
    "                    counts[i] == 1e-7\n",
    "            counts = counts / np.sum(counts)\n",
    "            vals[n] = entropies.mean() + entropy(counts) * coeff\n",
    "            _partition = partition.copy()\n",
    "        mpart = np.argmax(vals)\n",
    "        partition[mpart] = np.append(partition[mpart], crows)\n",
    "                "
   ]
  },
  {
   "cell_type": "code",
   "execution_count": 67,
   "metadata": {},
   "outputs": [
    {
     "name": "stdout",
     "output_type": "stream",
     "text": [
      "[[10  4  9 10  1 10  1  6  5  8  5  9]\n",
      " [ 9  3 10  9  7 10  2  6  2  9  2  4]\n",
      " [ 5  5  6  7  5  9  5  1  2  5  3 10]\n",
      " [ 5  1  7  6  7  6  2  2  1  9  7  7]\n",
      " [ 1 10  7  7  6  1  4  5  6  8  2  3]\n",
      " [ 6  9  4  6  2 10  7  3  8  4  3  2]\n",
      " [ 2  1 10  2  4  2  6  9  4  3  8  1]\n",
      " [ 7  8 10  6 10  1  1 10  7  2  9  7]\n",
      " [ 7  6  9  6  7  5  7  2  3  7  6  9]\n",
      " [ 9  7  3  9  7  4 10  1  6  3  4  6]\n",
      " [ 4  1  6  2  8  2  3  2 10  1  6  5]\n",
      " [ 3  1  2  6 10  5  7  7 10  2  5  4]\n",
      " [ 6  2  4  5  4  7  5  4  2  9  1 10]\n",
      " [ 7  3  9  7  2  7  6  1  9  7  4  1]\n",
      " [ 7  3  6  2  1  6  2  8  5  6  3  8]\n",
      " [10 10  5  1  7  4  8  6  5  4  9  6]]\n"
     ]
    }
   ],
   "source": [
    "labels = np.random.randint(1, 11, [16, 12])\n",
    "print(labels)"
   ]
  },
  {
   "cell_type": "code",
   "execution_count": 90,
   "metadata": {
    "scrolled": true
   },
   "outputs": [
    {
     "name": "stdout",
     "output_type": "stream",
     "text": [
      "portion:\n",
      "[6. 6. 6. 5. 7. 8. 8. 2. 6. 6.]\n",
      "portion_standadized:\n",
      "[0.1        0.1        0.1        0.08333333 0.11666667 0.13333333\n",
      " 0.13333333 0.03333333 0.1        0.1       ]\n",
      "entropies[0]\n",
      "2.2596995003821574\n",
      "\n",
      "\n",
      "\n",
      "portion:\n",
      "[1.e-07 1.e-07 1.e-07 1.e-07 1.e-07 1.e-07 1.e-07 1.e-07 1.e-07 1.e-07]\n",
      "portion_standadized:\n",
      "[0.1 0.1 0.1 0.1 0.1 0.1 0.1 0.1 0.1 0.1]\n",
      "entropies[1]\n",
      "2.3025850929940455\n",
      "\n",
      "\n",
      "\n",
      "portion:\n",
      "[1.e-07 1.e-07 1.e-07 1.e-07 1.e-07 1.e-07 1.e-07 1.e-07 1.e-07 1.e-07]\n",
      "portion_standadized:\n",
      "[0.1 0.1 0.1 0.1 0.1 0.1 0.1 0.1 0.1 0.1]\n",
      "entropies[2]\n",
      "2.3025850929940455\n",
      "\n",
      "\n",
      "\n",
      "portion:\n",
      "[ 4.  6.  4.  3.  3.  9. 11.  2.  4.  2.]\n",
      "portion_standadized:\n",
      "[0.08333333 0.125      0.08333333 0.0625     0.0625     0.1875\n",
      " 0.22916667 0.04166667 0.08333333 0.04166667]\n",
      "entropies[3]\n",
      "2.1440714109107346\n",
      "\n",
      "\n",
      "\n",
      "portion:\n",
      "[1.e-07 1.e-07 1.e-07 1.e-07 1.e-07 1.e-07 1.e-07 1.e-07 1.e-07 1.e-07]\n",
      "portion_standadized:\n",
      "[0.1 0.1 0.1 0.1 0.1 0.1 0.1 0.1 0.1 0.1]\n",
      "entropies[4]\n",
      "2.3025850929940455\n",
      "\n",
      "\n",
      "\n"
     ]
    },
    {
     "ename": "SystemExit",
     "evalue": "",
     "output_type": "error",
     "traceback": [
      "An exception has occurred, use %tb to see the full traceback.\n",
      "\u001b[1;31mSystemExit\u001b[0m\n"
     ]
    }
   ],
   "source": [
    "partition = [np.array([1, 2, 4]),\n",
    "             np.array([], dtype=np.uint16),\n",
    "             np.array([], dtype=np.uint16),\n",
    "             np.array([3, 4, 5, 8]),\n",
    "             np.array([], dtype=np.uint16)]\n",
    "crows = np.array([4, 9])\n",
    "_partition = partition.copy()\n",
    "vals = np.zeros(len(partition))\n",
    "\n",
    "# parmax\n",
    "for n in range(len(partition)):\n",
    "    _partition[n] = np.append(_partition[n], crows)\n",
    "    # print(\"_partition:\", _partition, sep=\"\\n\")\n",
    "    # print(\"_partition[{}]:\".format(n), _partition[n], sep=\"\\n\", end=\"\\n\\n\")\n",
    "    # print(\"\\n\")\n",
    "    \n",
    "    # epart\n",
    "    entropies = np.zeros(len(_partition))\n",
    "    for i in range(len(_partition)):\n",
    "        \n",
    "        # portions\n",
    "        unik_labels = np.unique(labels)\n",
    "        portion = np.zeros(len(unik_labels))\n",
    "        for j in range(len(unik_labels)):\n",
    "            # print(\"unik_labels[j]:\", unik_labels[j])\n",
    "            # print(\"labels[_partition[i]]:\", labels[_partition[i]], sep=\"\\n\")\n",
    "            portion[j] = np.sum(labels[_partition[i]] == unik_labels[j])\n",
    "            # print(\"portion[j]:\", portion[j], sep=\"\\n\", end=\"\\n\\n\")\n",
    "            if portion[j] == 0:\n",
    "                portion[j] = 1e-7\n",
    "        print(\"portion:\", portion, sep=\"\\n\")\n",
    "        portion = portion / (np.sum(portion))\n",
    "        print(\"portion_standadized:\", portion, sep=\"\\n\")\n",
    "        # portions end\n",
    "        \n",
    "        entropies[i] = entropy(portion)\n",
    "        print(\"entropies[{}]\".format(i), entropies[i], sep=\"\\n\", end=\"\\n\\n\")\n",
    "        print(\"\\n\")\n",
    "    # epart end\n",
    "    \n",
    "    sys.exit()\n",
    "    counts = cpart(_partition)\n",
    "    vals[n] = entropies.mean() + entropy(counts) * coeff\n",
    "    _partition = partition.copy()\n",
    "mpart = np.argmax(vals)\n",
    "# pargmax end"
   ]
  },
  {
   "cell_type": "code",
   "execution_count": null,
   "metadata": {},
   "outputs": [],
   "source": []
  }
 ],
 "metadata": {
  "kernelspec": {
   "display_name": "Python 3",
   "language": "python",
   "name": "python3"
  },
  "language_info": {
   "codemirror_mode": {
    "name": "ipython",
    "version": 3
   },
   "file_extension": ".py",
   "mimetype": "text/x-python",
   "name": "python",
   "nbconvert_exporter": "python",
   "pygments_lexer": "ipython3",
   "version": "3.7.7"
  }
 },
 "nbformat": 4,
 "nbformat_minor": 4
}
